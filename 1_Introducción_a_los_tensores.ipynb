{
  "nbformat": 4,
  "nbformat_minor": 0,
  "metadata": {
    "colab": {
      "name": "1. Introducción a los tensores.ipynb",
      "provenance": [],
      "collapsed_sections": [],
      "authorship_tag": "ABX9TyPw30LIaGuqWesw1hbjw72O",
      "include_colab_link": true
    },
    "kernelspec": {
      "name": "python3",
      "display_name": "Python 3"
    },
    "language_info": {
      "name": "python"
    }
  },
  "cells": [
    {
      "cell_type": "markdown",
      "metadata": {
        "id": "view-in-github",
        "colab_type": "text"
      },
      "source": [
        "<a href=\"https://colab.research.google.com/github/milioe/Deep-Learning-TF/blob/main/1_Introducci%C3%B3n_a_los_tensores.ipynb\" target=\"_parent\"><img src=\"https://colab.research.google.com/assets/colab-badge.svg\" alt=\"Open In Colab\"/></a>"
      ]
    },
    {
      "cell_type": "markdown",
      "source": [
        "# Deep Learning: Redes Neuronales Artificiales con TensorFlow\n",
        "\n"
      ],
      "metadata": {
        "id": "M1O0D4yn-80Q"
      }
    },
    {
      "cell_type": "markdown",
      "source": [
        "# Introducción a los tensores\n",
        "## Índice:\n",
        "1. Creación de tensores\n",
        "2. Atributos de tensores\n",
        "3. Manipulación de tensores\n",
        "4. Tensores y NumPy\n",
        "5. `@tf.function`\n",
        "6. Uso de GPU con TensorFlow\n",
        "7. Ejercicios"
      ],
      "metadata": {
        "id": "xKc08fMokbhU"
      }
    },
    {
      "cell_type": "markdown",
      "source": [
        "## Creación de tensores"
      ],
      "metadata": {
        "id": "MMDKQjdy_o8G"
      }
    },
    {
      "cell_type": "markdown",
      "source": [
        "Lo primero que tendremos que hacer, es importar la librería de TensorFlow y revisar qué versión tenemos. Google Colab ya lo tiene resuelto para nosotros, incluso con las últimas versiones de cada librería.\n",
        "\n",
        "🔑 **Nota**: La versión de TF 1.x y 2.x son totalmente diferentes.\n"
      ],
      "metadata": {
        "id": "W5oIp2Qgk3bX"
      }
    },
    {
      "cell_type": "code",
      "source": [
        "import tensorflow as tf\n",
        "print(tf.__version__) # conocer la versión"
      ],
      "metadata": {
        "colab": {
          "base_uri": "https://localhost:8080/"
        },
        "id": "OTMsAz9XBB0u",
        "outputId": "a8e5a2c8-1790-4fb5-e39c-e8fdc0085f07"
      },
      "execution_count": 1,
      "outputs": [
        {
          "output_type": "stream",
          "name": "stdout",
          "text": [
            "2.8.2\n"
          ]
        }
      ]
    },
    {
      "cell_type": "markdown",
      "source": [
        "Si alguna vez has usado la librería de NumPy, debes de saber que los tensores son tipos de arrays de NumPy.\n",
        "\n",
        "Como se ha visto en las diapositivas, los tensores se pueden entender como representaciones numéricas multidimensionales (o *n-dimensional* en inglés).\n",
        "\n",
        "Algunos ejemplos de lo que podemos representar como tensores son:\n",
        "* Precios de casas\n",
        "* Pixeles de una imagen\n",
        "* Texto\n",
        "* Otros tipos de datos\n",
        "\n",
        "La **principal** diferencia entre **tensores** de TensorFlow y **arrays** de NumPy es que los tensores pueden ser usados con GPUs (Graphical Processing Units) y TPUs (Tensors Processing Units), lo que significa que tendremos mayor velocidad de computación."
      ],
      "metadata": {
        "id": "z6aO5Q5Ent8R"
      }
    },
    {
      "cell_type": "markdown",
      "source": [
        "## Creación de tensores con `tf.constant`"
      ],
      "metadata": {
        "id": "0sfuc_L2BB6P"
      }
    },
    {
      "cell_type": "markdown",
      "source": [
        "El método `.constant()` es un modulo construido para convertir cualquier dato numérico en tensores y de esta forma, alimentar a nuestra red neuronal. "
      ],
      "metadata": {
        "id": "4amYlWQoou0d"
      }
    },
    {
      "cell_type": "code",
      "source": [
        "# Crear un scalar\n",
        "scalar = tf.constant(7)\n",
        "scalar"
      ],
      "metadata": {
        "colab": {
          "base_uri": "https://localhost:8080/"
        },
        "id": "n81uEIowBB_w",
        "outputId": "46d03c34-975a-4b9f-e747-a8d0368662b2"
      },
      "execution_count": 2,
      "outputs": [
        {
          "output_type": "execute_result",
          "data": {
            "text/plain": [
              "<tf.Tensor: shape=(), dtype=int32, numpy=7>"
            ]
          },
          "metadata": {},
          "execution_count": 2
        }
      ]
    },
    {
      "cell_type": "markdown",
      "source": [
        "Un escalar es un tensor con rank 0, dado que no tiene dimensiones (es sólo un número)."
      ],
      "metadata": {
        "id": "0jDdoB3T_pAv"
      }
    },
    {
      "cell_type": "code",
      "source": [
        "# Revisar el numero de dimensiones con .ndim\n",
        "scalar.ndim"
      ],
      "metadata": {
        "colab": {
          "base_uri": "https://localhost:8080/"
        },
        "id": "Qq8RnSJN_pFA",
        "outputId": "8f049889-c739-41c5-de0f-0d403eeb9f55"
      },
      "execution_count": 3,
      "outputs": [
        {
          "output_type": "execute_result",
          "data": {
            "text/plain": [
              "0"
            ]
          },
          "metadata": {},
          "execution_count": 3
        }
      ]
    },
    {
      "cell_type": "code",
      "source": [
        "# Crear un vector (más de 0 dimensiones)\n",
        "vector = tf.constant([10,10])\n",
        "vector"
      ],
      "metadata": {
        "colab": {
          "base_uri": "https://localhost:8080/"
        },
        "id": "HaHMjhAl_pJb",
        "outputId": "0ed0cfee-c0f4-4f65-fdb4-c5046fbe83b6"
      },
      "execution_count": 4,
      "outputs": [
        {
          "output_type": "execute_result",
          "data": {
            "text/plain": [
              "<tf.Tensor: shape=(2,), dtype=int32, numpy=array([10, 10], dtype=int32)>"
            ]
          },
          "metadata": {},
          "execution_count": 4
        }
      ]
    },
    {
      "cell_type": "code",
      "source": [
        "# Revisar el numero de dimensiones\n",
        "vector.ndim"
      ],
      "metadata": {
        "colab": {
          "base_uri": "https://localhost:8080/"
        },
        "id": "DECHeg3Xqp5u",
        "outputId": "6a1b0f56-b23e-4cf2-fa63-37c349b5f94c"
      },
      "execution_count": 5,
      "outputs": [
        {
          "output_type": "execute_result",
          "data": {
            "text/plain": [
              "1"
            ]
          },
          "metadata": {},
          "execution_count": 5
        }
      ]
    },
    {
      "cell_type": "markdown",
      "source": [
        "Observa cómo, a diferencia de un *scalar*, debemos de poner los valores de un vector entre corchetes, ya que de lo contrario, TF tomará el segundo `10` como un argumento, más no como un valor. Inténtalo en la siguiente celda."
      ],
      "metadata": {
        "id": "d0ixo2k6pN4U"
      }
    },
    {
      "cell_type": "code",
      "source": [
        "vector_2 = tf.constant(10, 10)\n",
        "vector_2"
      ],
      "metadata": {
        "colab": {
          "base_uri": "https://localhost:8080/",
          "height": 336
        },
        "id": "EA3pdj2npN8c",
        "outputId": "d9ae9610-89a5-42bc-b661-4696c9c08a82"
      },
      "execution_count": 6,
      "outputs": [
        {
          "output_type": "error",
          "ename": "TypeError",
          "evalue": "ignored",
          "traceback": [
            "\u001b[0;31m---------------------------------------------------------------------------\u001b[0m",
            "\u001b[0;31mTypeError\u001b[0m                                 Traceback (most recent call last)",
            "\u001b[0;32m<ipython-input-6-96b98d44462c>\u001b[0m in \u001b[0;36m<module>\u001b[0;34m()\u001b[0m\n\u001b[0;32m----> 1\u001b[0;31m \u001b[0mvector_2\u001b[0m \u001b[0;34m=\u001b[0m \u001b[0mtf\u001b[0m\u001b[0;34m.\u001b[0m\u001b[0mconstant\u001b[0m\u001b[0;34m(\u001b[0m\u001b[0;36m10\u001b[0m\u001b[0;34m,\u001b[0m \u001b[0;36m10\u001b[0m\u001b[0;34m)\u001b[0m\u001b[0;34m\u001b[0m\u001b[0;34m\u001b[0m\u001b[0m\n\u001b[0m\u001b[1;32m      2\u001b[0m \u001b[0mvector_2\u001b[0m\u001b[0;34m\u001b[0m\u001b[0;34m\u001b[0m\u001b[0m\n",
            "\u001b[0;32m/usr/local/lib/python3.7/dist-packages/tensorflow/python/framework/constant_op.py\u001b[0m in \u001b[0;36mconstant\u001b[0;34m(value, dtype, shape, name)\u001b[0m\n\u001b[1;32m    266\u001b[0m   \"\"\"\n\u001b[1;32m    267\u001b[0m   return _constant_impl(value, dtype, shape, name, verify_shape=False,\n\u001b[0;32m--> 268\u001b[0;31m                         allow_broadcast=True)\n\u001b[0m\u001b[1;32m    269\u001b[0m \u001b[0;34m\u001b[0m\u001b[0m\n\u001b[1;32m    270\u001b[0m \u001b[0;34m\u001b[0m\u001b[0m\n",
            "\u001b[0;32m/usr/local/lib/python3.7/dist-packages/tensorflow/python/framework/constant_op.py\u001b[0m in \u001b[0;36m_constant_impl\u001b[0;34m(value, dtype, shape, name, verify_shape, allow_broadcast)\u001b[0m\n\u001b[1;32m    277\u001b[0m       \u001b[0;32mwith\u001b[0m \u001b[0mtrace\u001b[0m\u001b[0;34m.\u001b[0m\u001b[0mTrace\u001b[0m\u001b[0;34m(\u001b[0m\u001b[0;34m\"tf.constant\"\u001b[0m\u001b[0;34m)\u001b[0m\u001b[0;34m:\u001b[0m\u001b[0;34m\u001b[0m\u001b[0;34m\u001b[0m\u001b[0m\n\u001b[1;32m    278\u001b[0m         \u001b[0;32mreturn\u001b[0m \u001b[0m_constant_eager_impl\u001b[0m\u001b[0;34m(\u001b[0m\u001b[0mctx\u001b[0m\u001b[0;34m,\u001b[0m \u001b[0mvalue\u001b[0m\u001b[0;34m,\u001b[0m \u001b[0mdtype\u001b[0m\u001b[0;34m,\u001b[0m \u001b[0mshape\u001b[0m\u001b[0;34m,\u001b[0m \u001b[0mverify_shape\u001b[0m\u001b[0;34m)\u001b[0m\u001b[0;34m\u001b[0m\u001b[0;34m\u001b[0m\u001b[0m\n\u001b[0;32m--> 279\u001b[0;31m     \u001b[0;32mreturn\u001b[0m \u001b[0m_constant_eager_impl\u001b[0m\u001b[0;34m(\u001b[0m\u001b[0mctx\u001b[0m\u001b[0;34m,\u001b[0m \u001b[0mvalue\u001b[0m\u001b[0;34m,\u001b[0m \u001b[0mdtype\u001b[0m\u001b[0;34m,\u001b[0m \u001b[0mshape\u001b[0m\u001b[0;34m,\u001b[0m \u001b[0mverify_shape\u001b[0m\u001b[0;34m)\u001b[0m\u001b[0;34m\u001b[0m\u001b[0;34m\u001b[0m\u001b[0m\n\u001b[0m\u001b[1;32m    280\u001b[0m \u001b[0;34m\u001b[0m\u001b[0m\n\u001b[1;32m    281\u001b[0m   \u001b[0mg\u001b[0m \u001b[0;34m=\u001b[0m \u001b[0mops\u001b[0m\u001b[0;34m.\u001b[0m\u001b[0mget_default_graph\u001b[0m\u001b[0;34m(\u001b[0m\u001b[0;34m)\u001b[0m\u001b[0;34m\u001b[0m\u001b[0;34m\u001b[0m\u001b[0m\n",
            "\u001b[0;32m/usr/local/lib/python3.7/dist-packages/tensorflow/python/framework/constant_op.py\u001b[0m in \u001b[0;36m_constant_eager_impl\u001b[0;34m(ctx, value, dtype, shape, verify_shape)\u001b[0m\n\u001b[1;32m    302\u001b[0m \u001b[0;32mdef\u001b[0m \u001b[0m_constant_eager_impl\u001b[0m\u001b[0;34m(\u001b[0m\u001b[0mctx\u001b[0m\u001b[0;34m,\u001b[0m \u001b[0mvalue\u001b[0m\u001b[0;34m,\u001b[0m \u001b[0mdtype\u001b[0m\u001b[0;34m,\u001b[0m \u001b[0mshape\u001b[0m\u001b[0;34m,\u001b[0m \u001b[0mverify_shape\u001b[0m\u001b[0;34m)\u001b[0m\u001b[0;34m:\u001b[0m\u001b[0;34m\u001b[0m\u001b[0;34m\u001b[0m\u001b[0m\n\u001b[1;32m    303\u001b[0m   \u001b[0;34m\"\"\"Creates a constant on the current device.\"\"\"\u001b[0m\u001b[0;34m\u001b[0m\u001b[0;34m\u001b[0m\u001b[0m\n\u001b[0;32m--> 304\u001b[0;31m   \u001b[0mt\u001b[0m \u001b[0;34m=\u001b[0m \u001b[0mconvert_to_eager_tensor\u001b[0m\u001b[0;34m(\u001b[0m\u001b[0mvalue\u001b[0m\u001b[0;34m,\u001b[0m \u001b[0mctx\u001b[0m\u001b[0;34m,\u001b[0m \u001b[0mdtype\u001b[0m\u001b[0;34m)\u001b[0m\u001b[0;34m\u001b[0m\u001b[0;34m\u001b[0m\u001b[0m\n\u001b[0m\u001b[1;32m    305\u001b[0m   \u001b[0;32mif\u001b[0m \u001b[0mshape\u001b[0m \u001b[0;32mis\u001b[0m \u001b[0;32mNone\u001b[0m\u001b[0;34m:\u001b[0m\u001b[0;34m\u001b[0m\u001b[0;34m\u001b[0m\u001b[0m\n\u001b[1;32m    306\u001b[0m     \u001b[0;32mreturn\u001b[0m \u001b[0mt\u001b[0m\u001b[0;34m\u001b[0m\u001b[0;34m\u001b[0m\u001b[0m\n",
            "\u001b[0;32m/usr/local/lib/python3.7/dist-packages/tensorflow/python/framework/constant_op.py\u001b[0m in \u001b[0;36mconvert_to_eager_tensor\u001b[0;34m(value, ctx, dtype)\u001b[0m\n\u001b[1;32m    100\u001b[0m       \u001b[0mdtype\u001b[0m \u001b[0;34m=\u001b[0m \u001b[0mdtypes\u001b[0m\u001b[0;34m.\u001b[0m\u001b[0mas_dtype\u001b[0m\u001b[0;34m(\u001b[0m\u001b[0mdtype\u001b[0m\u001b[0;34m)\u001b[0m\u001b[0;34m.\u001b[0m\u001b[0mas_datatype_enum\u001b[0m\u001b[0;34m\u001b[0m\u001b[0;34m\u001b[0m\u001b[0m\n\u001b[1;32m    101\u001b[0m   \u001b[0mctx\u001b[0m\u001b[0;34m.\u001b[0m\u001b[0mensure_initialized\u001b[0m\u001b[0;34m(\u001b[0m\u001b[0;34m)\u001b[0m\u001b[0;34m\u001b[0m\u001b[0;34m\u001b[0m\u001b[0m\n\u001b[0;32m--> 102\u001b[0;31m   \u001b[0;32mreturn\u001b[0m \u001b[0mops\u001b[0m\u001b[0;34m.\u001b[0m\u001b[0mEagerTensor\u001b[0m\u001b[0;34m(\u001b[0m\u001b[0mvalue\u001b[0m\u001b[0;34m,\u001b[0m \u001b[0mctx\u001b[0m\u001b[0;34m.\u001b[0m\u001b[0mdevice_name\u001b[0m\u001b[0;34m,\u001b[0m \u001b[0mdtype\u001b[0m\u001b[0;34m)\u001b[0m\u001b[0;34m\u001b[0m\u001b[0;34m\u001b[0m\u001b[0m\n\u001b[0m\u001b[1;32m    103\u001b[0m \u001b[0;34m\u001b[0m\u001b[0m\n\u001b[1;32m    104\u001b[0m \u001b[0;34m\u001b[0m\u001b[0m\n",
            "\u001b[0;31mTypeError\u001b[0m: Cannot convert 10 to EagerTensor of dtype bool"
          ]
        }
      ]
    },
    {
      "cell_type": "markdown",
      "source": [
        "Esto se debe a que la [documentación](https://www.tensorflow.org/api_docs/python/tf/constant?authuser=1) de TF en cuanto a `tf.constant()` nos dice que:\n",
        "\n",
        "```\n",
        "tf.constant(\n",
        "    value, dtype=None, shape=None, name='Const'\n",
        ")\n",
        "```\n",
        "\n",
        "por lo que el segundo `10` lo toma como un `dtype`"
      ],
      "metadata": {
        "id": "zRIQItO6pOAF"
      }
    },
    {
      "cell_type": "code",
      "source": [
        "# Crear una matriz (más de 1 dimensión)\n",
        "matrix = tf.constant([[10, 7],\n",
        "                      [7, 10]])\n",
        "matrix"
      ],
      "metadata": {
        "colab": {
          "base_uri": "https://localhost:8080/"
        },
        "id": "O6n8Dczyqb86",
        "outputId": "01d30a02-d3e2-43c0-8b1d-237ae75ff01b"
      },
      "execution_count": 8,
      "outputs": [
        {
          "output_type": "execute_result",
          "data": {
            "text/plain": [
              "<tf.Tensor: shape=(2, 2), dtype=int32, numpy=\n",
              "array([[10,  7],\n",
              "       [ 7, 10]], dtype=int32)>"
            ]
          },
          "metadata": {},
          "execution_count": 8
        }
      ]
    },
    {
      "cell_type": "code",
      "source": [
        "matrix.ndim"
      ],
      "metadata": {
        "colab": {
          "base_uri": "https://localhost:8080/"
        },
        "id": "U2nC83uqqcBU",
        "outputId": "ec321d02-fbb8-4c59-b589-50075e63a6c4"
      },
      "execution_count": 9,
      "outputs": [
        {
          "output_type": "execute_result",
          "data": {
            "text/plain": [
              "2"
            ]
          },
          "metadata": {},
          "execution_count": 9
        }
      ]
    },
    {
      "cell_type": "markdown",
      "source": [
        "Observa que ahora tenemos un `shape` distinto a los dos anteriores objetos.\n",
        "\n",
        "* Scalar -> `shape()`\n",
        "* Vector -> `shape(2,)`\n",
        "* Matrix -> `shape(2,2)`\n",
        "\n",
        "🔑 **Nota:** Por lo tanto, podemos saber que el primer dos (de izquierda a derecha) hace referencia al numero de **filas**, mientras que el segundo al número de **columnas**.\n",
        "\n",
        "Además, tenemos un `dtype=int32` indicando el tipo de dato (entero de 32 bits) del cual se compone el tensor. Eso lo podemos cambiar como se muestra en la siguiente celda:\n",
        "\n"
      ],
      "metadata": {
        "id": "Qa9_EaEnqoNY"
      }
    },
    {
      "cell_type": "code",
      "source": [
        "# Define el tipo de \n",
        "matrix_b = tf.constant([\n",
        "                        [10., 7.],\n",
        "                        [3., 2.],\n",
        "                        [8., 9.]\n",
        "                        ], dtype=tf.float16)\n",
        "\n",
        "matrix_b"
      ],
      "metadata": {
        "colab": {
          "base_uri": "https://localhost:8080/"
        },
        "id": "Xa827RNNqoR6",
        "outputId": "a406a958-a662-4d9d-a5a8-eb63907f73fc"
      },
      "execution_count": 10,
      "outputs": [
        {
          "output_type": "execute_result",
          "data": {
            "text/plain": [
              "<tf.Tensor: shape=(3, 2), dtype=float16, numpy=\n",
              "array([[10.,  7.],\n",
              "       [ 3.,  2.],\n",
              "       [ 8.,  9.]], dtype=float16)>"
            ]
          },
          "metadata": {},
          "execution_count": 10
        }
      ]
    },
    {
      "cell_type": "code",
      "source": [
        "matrix_b.ndim"
      ],
      "metadata": {
        "colab": {
          "base_uri": "https://localhost:8080/"
        },
        "id": "DrhJbNjuuF7I",
        "outputId": "f58827b6-d904-4051-af70-54998f14651b"
      },
      "execution_count": 11,
      "outputs": [
        {
          "output_type": "execute_result",
          "data": {
            "text/plain": [
              "2"
            ]
          },
          "metadata": {},
          "execution_count": 11
        }
      ]
    },
    {
      "cell_type": "markdown",
      "source": [
        "Observa cómo debemos de incluir varios `[]` cada que aumentamos de dimensión. \n",
        "\n",
        "🧠 **Recuerda:** un tensor de dimensión 0 es un escalar, de dimension 1 es un vector y de dimensión 2 es una matriz. Por eso llamábamos a un tensor un arreglo de *n-dimensiones*."
      ],
      "metadata": {
        "id": "D7ovHrIFrpXB"
      }
    },
    {
      "cell_type": "code",
      "source": [
        "# Crear un tensor (más de dos dimensiones, por el momento)\n",
        "tensor = tf.constant([[[1,2,3],\n",
        "                       [4,5,6]],\n",
        "                      [[7,8,9],\n",
        "                       [10,11,12]],\n",
        "                      [[13,14,15],\n",
        "                       [16,17,18]]])\n",
        "tensor"
      ],
      "metadata": {
        "colab": {
          "base_uri": "https://localhost:8080/"
        },
        "id": "gUjJ7nFfrpbY",
        "outputId": "7c40f32b-6b6e-4bf9-ea8e-aeded2b57a87"
      },
      "execution_count": 12,
      "outputs": [
        {
          "output_type": "execute_result",
          "data": {
            "text/plain": [
              "<tf.Tensor: shape=(3, 2, 3), dtype=int32, numpy=\n",
              "array([[[ 1,  2,  3],\n",
              "        [ 4,  5,  6]],\n",
              "\n",
              "       [[ 7,  8,  9],\n",
              "        [10, 11, 12]],\n",
              "\n",
              "       [[13, 14, 15],\n",
              "        [16, 17, 18]]], dtype=int32)>"
            ]
          },
          "metadata": {},
          "execution_count": 12
        }
      ]
    },
    {
      "cell_type": "code",
      "source": [
        "# Revisa la dimension del tensor\n",
        "tensor.ndim"
      ],
      "metadata": {
        "colab": {
          "base_uri": "https://localhost:8080/"
        },
        "id": "AwR1vP2MuNF5",
        "outputId": "8a759762-57e1-4867-d5ae-b8b993503c1c"
      },
      "execution_count": 13,
      "outputs": [
        {
          "output_type": "execute_result",
          "data": {
            "text/plain": [
              "3"
            ]
          },
          "metadata": {},
          "execution_count": 13
        }
      ]
    },
    {
      "cell_type": "markdown",
      "source": [
        "El tensor anterior tiene 3 dimensiones con un `shape` de `(3,2,3)`, es decir, de izquierda a derecha son `3` grupos, con `2 filas` cada uno, y `3` columnas.\n",
        "\n",
        "Observa el siguiente tensor para tener mayor claridad:"
      ],
      "metadata": {
        "id": "NWPs_2pQuZGc"
      }
    },
    {
      "cell_type": "code",
      "source": [
        "# Crear un nuevo tensor con un shape diferente\n",
        "tensor_b = tf.constant([\n",
        "                        [\n",
        "                         [1, 2, 3, 4],\n",
        "                         [5, 6, 7, 8]\n",
        "                         ],\n",
        "                      [\n",
        "                       [9, 10, 11, 12],\n",
        "                       [13, 14, 15, 16]\n",
        "                       ],\n",
        "                      [\n",
        "                       [17, 18, 19, 20],\n",
        "                       [21, 22, 23, 24]\n",
        "                       ]\n",
        "                        ])\n",
        "tensor_b"
      ],
      "metadata": {
        "colab": {
          "base_uri": "https://localhost:8080/"
        },
        "id": "wRIZhg7VuZKk",
        "outputId": "5906ec0c-5849-4702-e782-dbe339bd1c26"
      },
      "execution_count": 14,
      "outputs": [
        {
          "output_type": "execute_result",
          "data": {
            "text/plain": [
              "<tf.Tensor: shape=(3, 2, 4), dtype=int32, numpy=\n",
              "array([[[ 1,  2,  3,  4],\n",
              "        [ 5,  6,  7,  8]],\n",
              "\n",
              "       [[ 9, 10, 11, 12],\n",
              "        [13, 14, 15, 16]],\n",
              "\n",
              "       [[17, 18, 19, 20],\n",
              "        [21, 22, 23, 24]]], dtype=int32)>"
            ]
          },
          "metadata": {},
          "execution_count": 14
        }
      ]
    },
    {
      "cell_type": "markdown",
      "source": [
        "Nuevamente, podemos leer el shape como:\n",
        "`3` grupos, `2` filas en cada grupo, con `3` columnas.\n",
        "\n",
        "Ahora bien, observa qué pasa si copiamos la misma estructura de `tensor_b` y añadimos un 17 en el grupo dos, fila dos\n"
      ],
      "metadata": {
        "id": "CuU0VzLruZNV"
      }
    },
    {
      "cell_type": "code",
      "source": [
        "# Lo siguiente marcará error\n",
        "tensor_c = tf.constant([\n",
        "                        [\n",
        "                         [1, 2, 3, 4],\n",
        "                         [5, 6, 7, 8]\n",
        "                         ],\n",
        "                      [\n",
        "                       [9, 10, 11, 12],\n",
        "                       [13, 14, 15, 16, 17]\n",
        "                       ],\n",
        "                      [\n",
        "                       [18, 19, 20, 21],\n",
        "                       [22, 23, 24, 25]\n",
        "                       ]\n",
        "                        ])\n",
        "tensor_c"
      ],
      "metadata": {
        "colab": {
          "base_uri": "https://localhost:8080/",
          "height": 389
        },
        "id": "m2BxPfmBvqjd",
        "outputId": "a3a73e8a-8d63-4bfe-f48d-78018257d3ce"
      },
      "execution_count": 15,
      "outputs": [
        {
          "output_type": "error",
          "ename": "ValueError",
          "evalue": "ignored",
          "traceback": [
            "\u001b[0;31m---------------------------------------------------------------------------\u001b[0m",
            "\u001b[0;31mValueError\u001b[0m                                Traceback (most recent call last)",
            "\u001b[0;32m<ipython-input-15-6809525eebe8>\u001b[0m in \u001b[0;36m<module>\u001b[0;34m()\u001b[0m\n\u001b[1;32m     11\u001b[0m                       [\n\u001b[1;32m     12\u001b[0m                        \u001b[0;34m[\u001b[0m\u001b[0;36m18\u001b[0m\u001b[0;34m,\u001b[0m \u001b[0;36m19\u001b[0m\u001b[0;34m,\u001b[0m \u001b[0;36m20\u001b[0m\u001b[0;34m,\u001b[0m \u001b[0;36m21\u001b[0m\u001b[0;34m]\u001b[0m\u001b[0;34m,\u001b[0m\u001b[0;34m\u001b[0m\u001b[0;34m\u001b[0m\u001b[0m\n\u001b[0;32m---> 13\u001b[0;31m                        \u001b[0;34m[\u001b[0m\u001b[0;36m22\u001b[0m\u001b[0;34m,\u001b[0m \u001b[0;36m23\u001b[0m\u001b[0;34m,\u001b[0m \u001b[0;36m24\u001b[0m\u001b[0;34m,\u001b[0m \u001b[0;36m25\u001b[0m\u001b[0;34m]\u001b[0m\u001b[0;34m\u001b[0m\u001b[0;34m\u001b[0m\u001b[0m\n\u001b[0m\u001b[1;32m     14\u001b[0m                        ]\n\u001b[1;32m     15\u001b[0m                         ])\n",
            "\u001b[0;32m/usr/local/lib/python3.7/dist-packages/tensorflow/python/framework/constant_op.py\u001b[0m in \u001b[0;36mconstant\u001b[0;34m(value, dtype, shape, name)\u001b[0m\n\u001b[1;32m    266\u001b[0m   \"\"\"\n\u001b[1;32m    267\u001b[0m   return _constant_impl(value, dtype, shape, name, verify_shape=False,\n\u001b[0;32m--> 268\u001b[0;31m                         allow_broadcast=True)\n\u001b[0m\u001b[1;32m    269\u001b[0m \u001b[0;34m\u001b[0m\u001b[0m\n\u001b[1;32m    270\u001b[0m \u001b[0;34m\u001b[0m\u001b[0m\n",
            "\u001b[0;32m/usr/local/lib/python3.7/dist-packages/tensorflow/python/framework/constant_op.py\u001b[0m in \u001b[0;36m_constant_impl\u001b[0;34m(value, dtype, shape, name, verify_shape, allow_broadcast)\u001b[0m\n\u001b[1;32m    277\u001b[0m       \u001b[0;32mwith\u001b[0m \u001b[0mtrace\u001b[0m\u001b[0;34m.\u001b[0m\u001b[0mTrace\u001b[0m\u001b[0;34m(\u001b[0m\u001b[0;34m\"tf.constant\"\u001b[0m\u001b[0;34m)\u001b[0m\u001b[0;34m:\u001b[0m\u001b[0;34m\u001b[0m\u001b[0;34m\u001b[0m\u001b[0m\n\u001b[1;32m    278\u001b[0m         \u001b[0;32mreturn\u001b[0m \u001b[0m_constant_eager_impl\u001b[0m\u001b[0;34m(\u001b[0m\u001b[0mctx\u001b[0m\u001b[0;34m,\u001b[0m \u001b[0mvalue\u001b[0m\u001b[0;34m,\u001b[0m \u001b[0mdtype\u001b[0m\u001b[0;34m,\u001b[0m \u001b[0mshape\u001b[0m\u001b[0;34m,\u001b[0m \u001b[0mverify_shape\u001b[0m\u001b[0;34m)\u001b[0m\u001b[0;34m\u001b[0m\u001b[0;34m\u001b[0m\u001b[0m\n\u001b[0;32m--> 279\u001b[0;31m     \u001b[0;32mreturn\u001b[0m \u001b[0m_constant_eager_impl\u001b[0m\u001b[0;34m(\u001b[0m\u001b[0mctx\u001b[0m\u001b[0;34m,\u001b[0m \u001b[0mvalue\u001b[0m\u001b[0;34m,\u001b[0m \u001b[0mdtype\u001b[0m\u001b[0;34m,\u001b[0m \u001b[0mshape\u001b[0m\u001b[0;34m,\u001b[0m \u001b[0mverify_shape\u001b[0m\u001b[0;34m)\u001b[0m\u001b[0;34m\u001b[0m\u001b[0;34m\u001b[0m\u001b[0m\n\u001b[0m\u001b[1;32m    280\u001b[0m \u001b[0;34m\u001b[0m\u001b[0m\n\u001b[1;32m    281\u001b[0m   \u001b[0mg\u001b[0m \u001b[0;34m=\u001b[0m \u001b[0mops\u001b[0m\u001b[0;34m.\u001b[0m\u001b[0mget_default_graph\u001b[0m\u001b[0;34m(\u001b[0m\u001b[0;34m)\u001b[0m\u001b[0;34m\u001b[0m\u001b[0;34m\u001b[0m\u001b[0m\n",
            "\u001b[0;32m/usr/local/lib/python3.7/dist-packages/tensorflow/python/framework/constant_op.py\u001b[0m in \u001b[0;36m_constant_eager_impl\u001b[0;34m(ctx, value, dtype, shape, verify_shape)\u001b[0m\n\u001b[1;32m    302\u001b[0m \u001b[0;32mdef\u001b[0m \u001b[0m_constant_eager_impl\u001b[0m\u001b[0;34m(\u001b[0m\u001b[0mctx\u001b[0m\u001b[0;34m,\u001b[0m \u001b[0mvalue\u001b[0m\u001b[0;34m,\u001b[0m \u001b[0mdtype\u001b[0m\u001b[0;34m,\u001b[0m \u001b[0mshape\u001b[0m\u001b[0;34m,\u001b[0m \u001b[0mverify_shape\u001b[0m\u001b[0;34m)\u001b[0m\u001b[0;34m:\u001b[0m\u001b[0;34m\u001b[0m\u001b[0;34m\u001b[0m\u001b[0m\n\u001b[1;32m    303\u001b[0m   \u001b[0;34m\"\"\"Creates a constant on the current device.\"\"\"\u001b[0m\u001b[0;34m\u001b[0m\u001b[0;34m\u001b[0m\u001b[0m\n\u001b[0;32m--> 304\u001b[0;31m   \u001b[0mt\u001b[0m \u001b[0;34m=\u001b[0m \u001b[0mconvert_to_eager_tensor\u001b[0m\u001b[0;34m(\u001b[0m\u001b[0mvalue\u001b[0m\u001b[0;34m,\u001b[0m \u001b[0mctx\u001b[0m\u001b[0;34m,\u001b[0m \u001b[0mdtype\u001b[0m\u001b[0;34m)\u001b[0m\u001b[0;34m\u001b[0m\u001b[0;34m\u001b[0m\u001b[0m\n\u001b[0m\u001b[1;32m    305\u001b[0m   \u001b[0;32mif\u001b[0m \u001b[0mshape\u001b[0m \u001b[0;32mis\u001b[0m \u001b[0;32mNone\u001b[0m\u001b[0;34m:\u001b[0m\u001b[0;34m\u001b[0m\u001b[0;34m\u001b[0m\u001b[0m\n\u001b[1;32m    306\u001b[0m     \u001b[0;32mreturn\u001b[0m \u001b[0mt\u001b[0m\u001b[0;34m\u001b[0m\u001b[0;34m\u001b[0m\u001b[0m\n",
            "\u001b[0;32m/usr/local/lib/python3.7/dist-packages/tensorflow/python/framework/constant_op.py\u001b[0m in \u001b[0;36mconvert_to_eager_tensor\u001b[0;34m(value, ctx, dtype)\u001b[0m\n\u001b[1;32m    100\u001b[0m       \u001b[0mdtype\u001b[0m \u001b[0;34m=\u001b[0m \u001b[0mdtypes\u001b[0m\u001b[0;34m.\u001b[0m\u001b[0mas_dtype\u001b[0m\u001b[0;34m(\u001b[0m\u001b[0mdtype\u001b[0m\u001b[0;34m)\u001b[0m\u001b[0;34m.\u001b[0m\u001b[0mas_datatype_enum\u001b[0m\u001b[0;34m\u001b[0m\u001b[0;34m\u001b[0m\u001b[0m\n\u001b[1;32m    101\u001b[0m   \u001b[0mctx\u001b[0m\u001b[0;34m.\u001b[0m\u001b[0mensure_initialized\u001b[0m\u001b[0;34m(\u001b[0m\u001b[0;34m)\u001b[0m\u001b[0;34m\u001b[0m\u001b[0;34m\u001b[0m\u001b[0m\n\u001b[0;32m--> 102\u001b[0;31m   \u001b[0;32mreturn\u001b[0m \u001b[0mops\u001b[0m\u001b[0;34m.\u001b[0m\u001b[0mEagerTensor\u001b[0m\u001b[0;34m(\u001b[0m\u001b[0mvalue\u001b[0m\u001b[0;34m,\u001b[0m \u001b[0mctx\u001b[0m\u001b[0;34m.\u001b[0m\u001b[0mdevice_name\u001b[0m\u001b[0;34m,\u001b[0m \u001b[0mdtype\u001b[0m\u001b[0;34m)\u001b[0m\u001b[0;34m\u001b[0m\u001b[0;34m\u001b[0m\u001b[0m\n\u001b[0m\u001b[1;32m    103\u001b[0m \u001b[0;34m\u001b[0m\u001b[0m\n\u001b[1;32m    104\u001b[0m \u001b[0;34m\u001b[0m\u001b[0m\n",
            "\u001b[0;31mValueError\u001b[0m: Can't convert non-rectangular Python sequence to Tensor."
          ]
        }
      ]
    },
    {
      "cell_type": "markdown",
      "source": [
        "Ocurre un `ValueError`, dado que TensorFlow reconoce al tensor como un arreglo no rectangular, es decir, debe de empatar el número de columnas y filas en todo el tensor.\n",
        "\n",
        "Ahora bien, si quisieramos conocer la cantidad de elementos en un tensor, basta con aplicar un `tf.size()` (si aplicamos un `len()` nos devolverá el número de dimensiones)."
      ],
      "metadata": {
        "id": "H6dATyfvvqoB"
      }
    },
    {
      "cell_type": "code",
      "source": [
        "# Numero de elementos en un tensor\n",
        "tf.size(tensor)"
      ],
      "metadata": {
        "colab": {
          "base_uri": "https://localhost:8080/"
        },
        "id": "bbd8IwfLuNKA",
        "outputId": "17e6bbf5-6073-4be1-b211-59ac53bf1893"
      },
      "execution_count": 16,
      "outputs": [
        {
          "output_type": "execute_result",
          "data": {
            "text/plain": [
              "<tf.Tensor: shape=(), dtype=int32, numpy=18>"
            ]
          },
          "metadata": {},
          "execution_count": 16
        }
      ]
    },
    {
      "cell_type": "code",
      "source": [
        "# Imprimir únicamente el número\n",
        "tf.size(tensor).numpy()"
      ],
      "metadata": {
        "colab": {
          "base_uri": "https://localhost:8080/"
        },
        "id": "94PKE5Gkyvlx",
        "outputId": "516ae899-ec91-48f0-bbb5-f136a4555eae"
      },
      "execution_count": 17,
      "outputs": [
        {
          "output_type": "execute_result",
          "data": {
            "text/plain": [
              "18"
            ]
          },
          "metadata": {},
          "execution_count": 17
        }
      ]
    },
    {
      "cell_type": "markdown",
      "source": [
        "Peron observemos algo intereante, si multiplicamos los elementos en el shape de un tensor, obtenemos la cantididad $n$ de elementos en el mismo"
      ],
      "metadata": {
        "id": "-niWnZCFy4yk"
      }
    },
    {
      "cell_type": "code",
      "source": [
        "# Conocer el shape de un tensor\n",
        "tensor.shape"
      ],
      "metadata": {
        "colab": {
          "base_uri": "https://localhost:8080/"
        },
        "id": "A1CmIVAqzIzR",
        "outputId": "bd88db16-2feb-4f28-9258-9a53b97f1e12"
      },
      "execution_count": 18,
      "outputs": [
        {
          "output_type": "execute_result",
          "data": {
            "text/plain": [
              "TensorShape([3, 2, 3])"
            ]
          },
          "metadata": {},
          "execution_count": 18
        }
      ]
    },
    {
      "cell_type": "code",
      "source": [
        "3*2*3"
      ],
      "metadata": {
        "colab": {
          "base_uri": "https://localhost:8080/"
        },
        "id": "68rJAJjjzK9-",
        "outputId": "df84caba-e1bf-45de-d1d5-482dde8530b8"
      },
      "execution_count": 19,
      "outputs": [
        {
          "output_type": "execute_result",
          "data": {
            "text/plain": [
              "18"
            ]
          },
          "metadata": {},
          "execution_count": 19
        }
      ]
    },
    {
      "cell_type": "code",
      "source": [
        "3*2*3 == tf.size(tensor).numpy()"
      ],
      "metadata": {
        "colab": {
          "base_uri": "https://localhost:8080/"
        },
        "id": "3L5DHlJrzbHh",
        "outputId": "f873830b-932c-478b-cc21-606c6b34e96c"
      },
      "execution_count": 20,
      "outputs": [
        {
          "output_type": "execute_result",
          "data": {
            "text/plain": [
              "True"
            ]
          },
          "metadata": {},
          "execution_count": 20
        }
      ]
    },
    {
      "cell_type": "markdown",
      "source": [
        "La aplicación más usual de un tensor, es cuando tenemos una imagen, de `224 x 224` pixeles con tres colores `RGB` (Red, Green, Blue) el cual podemos representar con un shape de `(224,224,3)`. \n",
        "\n",
        "Sabiendo eso, tendriamos `150528` pixeles en cada imagen."
      ],
      "metadata": {
        "id": "SKhsIxiJzbgv"
      }
    },
    {
      "cell_type": "markdown",
      "source": [
        "# Creando tensores con `tf.Variable()`"
      ],
      "metadata": {
        "id": "4q-86eQezboT"
      }
    },
    {
      "cell_type": "markdown",
      "source": [
        "Similar a los objetos mutables e inmutables de Python (listas y tuplas, por ejemplo) tenemos un método previamente construido llamado `tf.Variable()`.\n",
        "\n",
        "La diferente entre `tf.Variable` y `tf.constant()` es que los últimos son inmutables (no pueden ser cambiados una vez dedclarados) mientras que aquellos con `tf.Variable()` sí pueden ser modificados."
      ],
      "metadata": {
        "id": "MTrHSrHI0hE9"
      }
    },
    {
      "cell_type": "code",
      "source": [
        "# Crear el mismo tensor con tf.Variable() y tf.constant()\n",
        "variable_tensor = tf.Variable([10, 7])\n",
        "constant_tensor = tf.constant([10, 7])"
      ],
      "metadata": {
        "id": "0unX3UwS0hIX"
      },
      "execution_count": 21,
      "outputs": []
    },
    {
      "cell_type": "code",
      "source": [
        "# Imprime el tensor mutable\n",
        "variable_tensor"
      ],
      "metadata": {
        "colab": {
          "base_uri": "https://localhost:8080/"
        },
        "id": "mm0B7B4K0hK-",
        "outputId": "a89d9bd3-4f31-47fe-83ab-503c4fc30b0b"
      },
      "execution_count": 22,
      "outputs": [
        {
          "output_type": "execute_result",
          "data": {
            "text/plain": [
              "<tf.Variable 'Variable:0' shape=(2,) dtype=int32, numpy=array([10,  7], dtype=int32)>"
            ]
          },
          "metadata": {},
          "execution_count": 22
        }
      ]
    },
    {
      "cell_type": "code",
      "source": [
        "# Imprime el tensor inmutable\n",
        "constant_tensor"
      ],
      "metadata": {
        "colab": {
          "base_uri": "https://localhost:8080/"
        },
        "id": "YtKsTZJC1YoY",
        "outputId": "c8739be3-5ca3-44e5-f5be-86128ac950d4"
      },
      "execution_count": 23,
      "outputs": [
        {
          "output_type": "execute_result",
          "data": {
            "text/plain": [
              "<tf.Tensor: shape=(2,), dtype=int32, numpy=array([10,  7], dtype=int32)>"
            ]
          },
          "metadata": {},
          "execution_count": 23
        }
      ]
    },
    {
      "cell_type": "code",
      "source": [
        "# La primer posición del tensor mutable\n",
        "variable_tensor[0]"
      ],
      "metadata": {
        "colab": {
          "base_uri": "https://localhost:8080/"
        },
        "id": "Tih2jRWz4pFU",
        "outputId": "f2632814-88b4-4873-b538-8af25b58f826"
      },
      "execution_count": 24,
      "outputs": [
        {
          "output_type": "execute_result",
          "data": {
            "text/plain": [
              "<tf.Tensor: shape=(), dtype=int32, numpy=10>"
            ]
          },
          "metadata": {},
          "execution_count": 24
        }
      ]
    },
    {
      "cell_type": "code",
      "source": [
        "# Cambia esa primer posición por un 7\n",
        "variable_tensor[0].assign(7)\n",
        "variable_tensor"
      ],
      "metadata": {
        "colab": {
          "base_uri": "https://localhost:8080/"
        },
        "id": "0RPRm34t1Ysv",
        "outputId": "25398e96-3044-4d95-eea6-073477c2e774"
      },
      "execution_count": 25,
      "outputs": [
        {
          "output_type": "execute_result",
          "data": {
            "text/plain": [
              "<tf.Variable 'Variable:0' shape=(2,) dtype=int32, numpy=array([7, 7], dtype=int32)>"
            ]
          },
          "metadata": {},
          "execution_count": 25
        }
      ]
    },
    {
      "cell_type": "markdown",
      "source": [
        "Observa que no podemos asginar elementos como si fueran una lista. Ejemplo:\n",
        "\n",
        "``` \n",
        "x = [1,2,3,4]\n",
        "x [0] = 0\n",
        "```\n",
        "esto eventualmente imprimiría `x = [0,2,3,4]`.\n",
        "\n",
        "Si nosotros hacemos lo mismo con un tensor, produciría un error, por lo que tenemos que ocupar el método `assign()`"
      ],
      "metadata": {
        "id": "J4QkD3tv1cby"
      }
    },
    {
      "cell_type": "code",
      "source": [
        "# Ahora intenta cambiar un valor del tensor inmutable\n",
        "constant_tensor[0].assign(7)\n",
        "constant_tensor"
      ],
      "metadata": {
        "colab": {
          "base_uri": "https://localhost:8080/",
          "height": 329
        },
        "id": "pf2kT0321cfP",
        "outputId": "603f6a29-aea1-417a-c736-c3589e67c9a0"
      },
      "execution_count": 26,
      "outputs": [
        {
          "output_type": "error",
          "ename": "AttributeError",
          "evalue": "ignored",
          "traceback": [
            "\u001b[0;31m---------------------------------------------------------------------------\u001b[0m",
            "\u001b[0;31mAttributeError\u001b[0m                            Traceback (most recent call last)",
            "\u001b[0;32m<ipython-input-26-d1100161fa25>\u001b[0m in \u001b[0;36m<module>\u001b[0;34m()\u001b[0m\n\u001b[1;32m      1\u001b[0m \u001b[0;31m# Ahora intenta cambiar un valor del tensor inmutable\u001b[0m\u001b[0;34m\u001b[0m\u001b[0;34m\u001b[0m\u001b[0;34m\u001b[0m\u001b[0m\n\u001b[0;32m----> 2\u001b[0;31m \u001b[0mconstant_tensor\u001b[0m\u001b[0;34m[\u001b[0m\u001b[0;36m0\u001b[0m\u001b[0;34m]\u001b[0m\u001b[0;34m.\u001b[0m\u001b[0massign\u001b[0m\u001b[0;34m(\u001b[0m\u001b[0;36m7\u001b[0m\u001b[0;34m)\u001b[0m\u001b[0;34m\u001b[0m\u001b[0;34m\u001b[0m\u001b[0m\n\u001b[0m\u001b[1;32m      3\u001b[0m \u001b[0mconstant_tensor\u001b[0m\u001b[0;34m\u001b[0m\u001b[0;34m\u001b[0m\u001b[0m\n",
            "\u001b[0;32m/usr/local/lib/python3.7/dist-packages/tensorflow/python/framework/ops.py\u001b[0m in \u001b[0;36m__getattr__\u001b[0;34m(self, name)\u001b[0m\n\u001b[1;32m    511\u001b[0m         \u001b[0;32mfrom\u001b[0m \u001b[0mtensorflow\u001b[0m\u001b[0;34m.\u001b[0m\u001b[0mpython\u001b[0m\u001b[0;34m.\u001b[0m\u001b[0mops\u001b[0m\u001b[0;34m.\u001b[0m\u001b[0mnumpy_ops\u001b[0m \u001b[0;32mimport\u001b[0m \u001b[0mnp_config\u001b[0m\u001b[0;34m\u001b[0m\u001b[0;34m\u001b[0m\u001b[0m\n\u001b[1;32m    512\u001b[0m         np_config.enable_numpy_behavior()\"\"\".format(type(self).__name__, name))\n\u001b[0;32m--> 513\u001b[0;31m     \u001b[0mself\u001b[0m\u001b[0;34m.\u001b[0m\u001b[0m__getattribute__\u001b[0m\u001b[0;34m(\u001b[0m\u001b[0mname\u001b[0m\u001b[0;34m)\u001b[0m\u001b[0;34m\u001b[0m\u001b[0;34m\u001b[0m\u001b[0m\n\u001b[0m\u001b[1;32m    514\u001b[0m \u001b[0;34m\u001b[0m\u001b[0m\n\u001b[1;32m    515\u001b[0m   \u001b[0;34m@\u001b[0m\u001b[0mstaticmethod\u001b[0m\u001b[0;34m\u001b[0m\u001b[0;34m\u001b[0m\u001b[0m\n",
            "\u001b[0;31mAttributeError\u001b[0m: 'tensorflow.python.framework.ops.EagerTensor' object has no attribute 'assign'"
          ]
        }
      ]
    },
    {
      "cell_type": "markdown",
      "source": [
        "Por lo tanto, ¿Cuál deberia de usar? ¿`tf.constant()` o `tf.Variable`?\n",
        "\n",
        "Depende del problema a tratar, aunque la mayoría de las veces TensorFlow lo hará por nosotros de forma automática"
      ],
      "metadata": {
        "id": "QFKxGpDK4YCY"
      }
    },
    {
      "cell_type": "markdown",
      "source": [
        "## Creando tensores aleatorios"
      ],
      "metadata": {
        "id": "vDRydw4e4YGj"
      }
    },
    {
      "cell_type": "markdown",
      "source": [
        "Los tensores aleatorios son arreglos con tamaños arbitrarios que contienen número aleatorios. ¿Por qué usar numeros aleatorios? Esto se debe a que para inicializar los pesos (*weights*) de una red neuronal, tendremos que partir de números aleatorios que durante el entrenamiento se irán ajustando. \n",
        "\n",
        "Podrías pensar en que los números aleatorios como ruido o como estática que poco a poco se convierte en una imagen. "
      ],
      "metadata": {
        "id": "5_x1Mc5-1YwA"
      }
    },
    {
      "cell_type": "code",
      "source": [
        "# Crear dos tensores aleatorios\n",
        "random_1 = tf.random.Generator.from_seed(42)\n",
        "random_1 = random_1.normal(shape=(3,2))\n",
        "random_1"
      ],
      "metadata": {
        "colab": {
          "base_uri": "https://localhost:8080/"
        },
        "id": "qkA4LGgHVVzm",
        "outputId": "71a3ab8a-a8d7-4bb5-8d04-7da9f5679d94"
      },
      "execution_count": 27,
      "outputs": [
        {
          "output_type": "execute_result",
          "data": {
            "text/plain": [
              "<tf.Tensor: shape=(3, 2), dtype=float32, numpy=\n",
              "array([[-0.7565803 , -0.06854702],\n",
              "       [ 0.07595026, -1.2573844 ],\n",
              "       [-0.23193763, -1.8107855 ]], dtype=float32)>"
            ]
          },
          "metadata": {},
          "execution_count": 27
        }
      ]
    },
    {
      "cell_type": "code",
      "source": [
        "# Crear dos tensores aleatorios\n",
        "random_2 = tf.random.Generator.from_seed(42)\n",
        "random_2 = random_2.normal(shape=(3,2))\n",
        "random_2"
      ],
      "metadata": {
        "colab": {
          "base_uri": "https://localhost:8080/"
        },
        "id": "aEJE6pEVVV3p",
        "outputId": "1156eb2e-9c09-48a5-ebac-aad86e092ed4"
      },
      "execution_count": 28,
      "outputs": [
        {
          "output_type": "execute_result",
          "data": {
            "text/plain": [
              "<tf.Tensor: shape=(3, 2), dtype=float32, numpy=\n",
              "array([[-0.7565803 , -0.06854702],\n",
              "       [ 0.07595026, -1.2573844 ],\n",
              "       [-0.23193763, -1.8107855 ]], dtype=float32)>"
            ]
          },
          "metadata": {},
          "execution_count": 28
        }
      ]
    },
    {
      "cell_type": "markdown",
      "source": [
        "Observa como creamos dos tensores aleatorios que contienen los mismos números. Esto se debe a que pusimos una semilla aleatoria. En computación, es imposible generar números aleatorios, ya que sólo los proveen la naturaleza. Es por ello que a este tipo de aleatoriedad en los tensores se le conoce como **pseudoaleatorio** o **pseudorandom**.\n",
        "\n",
        "La semilla que acabamos de colocar sirve para poder replicar los mismos tensores aquí y en cualquier parte y momento. Eso no significa que los números no sean aleatorios, pues se comportan como una distribución normal, sólo que son reproducibles. Ellos nos ayudará a poder replicar con exactitud las mismas arquitecturas entre todos, o por ejemplo, a hacer las mismas particiones aleatorias."
      ],
      "metadata": {
        "id": "vX36lackVW6_"
      }
    },
    {
      "cell_type": "code",
      "source": [
        "random_1 == random_2"
      ],
      "metadata": {
        "colab": {
          "base_uri": "https://localhost:8080/"
        },
        "id": "gmeN_47DWOem",
        "outputId": "2e7455ec-3b90-4245-f840-a11a9c6dcfcf"
      },
      "execution_count": 29,
      "outputs": [
        {
          "output_type": "execute_result",
          "data": {
            "text/plain": [
              "<tf.Tensor: shape=(3, 2), dtype=bool, numpy=\n",
              "array([[ True,  True],\n",
              "       [ True,  True],\n",
              "       [ True,  True]])>"
            ]
          },
          "metadata": {},
          "execution_count": 29
        }
      ]
    },
    {
      "cell_type": "code",
      "source": [
        "# Crear dos tensores aleatorios diferentes\n",
        "random_3 = tf.random.Generator.from_seed(42)\n",
        "random_3 = random_3.normal(shape=(3, 2))\n",
        "random_3"
      ],
      "metadata": {
        "colab": {
          "base_uri": "https://localhost:8080/"
        },
        "id": "dRruxcKIWOj3",
        "outputId": "64dc4c72-2021-4c6c-9d11-06575097bd79"
      },
      "execution_count": 30,
      "outputs": [
        {
          "output_type": "execute_result",
          "data": {
            "text/plain": [
              "<tf.Tensor: shape=(3, 2), dtype=float32, numpy=\n",
              "array([[-0.7565803 , -0.06854702],\n",
              "       [ 0.07595026, -1.2573844 ],\n",
              "       [-0.23193763, -1.8107855 ]], dtype=float32)>"
            ]
          },
          "metadata": {},
          "execution_count": 30
        }
      ]
    },
    {
      "cell_type": "code",
      "source": [
        "random_4 = tf.random.Generator.from_seed(11)\n",
        "random_4 = random_4.normal(shape=(3, 2))\n",
        "random_4"
      ],
      "metadata": {
        "colab": {
          "base_uri": "https://localhost:8080/"
        },
        "id": "v7YDA6NVWOo2",
        "outputId": "ddfecb1c-4c45-49d9-fd3a-0f1197cf4309"
      },
      "execution_count": 31,
      "outputs": [
        {
          "output_type": "execute_result",
          "data": {
            "text/plain": [
              "<tf.Tensor: shape=(3, 2), dtype=float32, numpy=\n",
              "array([[ 0.27305737, -0.29925638],\n",
              "       [-0.3652325 ,  0.61883307],\n",
              "       [-1.0130816 ,  0.28291714]], dtype=float32)>"
            ]
          },
          "metadata": {},
          "execution_count": 31
        }
      ]
    },
    {
      "cell_type": "code",
      "source": [
        "# El tensor 1 y 3 son identicos dada su semilla de 42\n",
        "random_1 == random_3"
      ],
      "metadata": {
        "colab": {
          "base_uri": "https://localhost:8080/"
        },
        "id": "SnmAiANWVW_I",
        "outputId": "79c9260f-1e62-4519-bb0e-2a0ce460c0cf"
      },
      "execution_count": 32,
      "outputs": [
        {
          "output_type": "execute_result",
          "data": {
            "text/plain": [
              "<tf.Tensor: shape=(3, 2), dtype=bool, numpy=\n",
              "array([[ True,  True],\n",
              "       [ True,  True],\n",
              "       [ True,  True]])>"
            ]
          },
          "metadata": {},
          "execution_count": 32
        }
      ]
    },
    {
      "cell_type": "code",
      "source": [
        "# Mientras que el tensor 3 y 4 no, ya que tienen 42 y 11 como semilla respectivamente\n",
        "random_3 == random_4"
      ],
      "metadata": {
        "colab": {
          "base_uri": "https://localhost:8080/"
        },
        "id": "78e2KFwEVXDx",
        "outputId": "1614e7e6-d48a-4bbd-91bb-8453988a744a"
      },
      "execution_count": 33,
      "outputs": [
        {
          "output_type": "execute_result",
          "data": {
            "text/plain": [
              "<tf.Tensor: shape=(3, 2), dtype=bool, numpy=\n",
              "array([[False, False],\n",
              "       [False, False],\n",
              "       [False, False]])>"
            ]
          },
          "metadata": {},
          "execution_count": 33
        }
      ]
    },
    {
      "cell_type": "markdown",
      "source": [
        "## Barajeo de tensores "
      ],
      "metadata": {
        "id": "mANdQ6h1YTqp"
      }
    },
    {
      "cell_type": "markdown",
      "source": [
        "El barajeo o *shuffle*, será una de las pocas pero esenciales transformaciones que se deben de hacer en los datos. Imagina que queremos entrenar una red neuronal para que logre predecir si la foto que metemos es de un perro o un gato. Si tenemos 10,000 imágenes, y las primeras 5,000 son de gato y el resto de perro, la red neuronal se sesgará y le dará más peso a las de gato, ya que fueron esas con las que se entrenó incialmente. \n",
        "\n",
        "Por eso es importante barajear nuetro dataset antes de pasarlo como input de una red neuronal.\n"
      ],
      "metadata": {
        "id": "qCupVFwLY5uf"
      }
    },
    {
      "cell_type": "markdown",
      "source": [
        "Ejectua la siguiente celda cuantas veces necesites para observar cómo cambia."
      ],
      "metadata": {
        "id": "CCGzinCqcl-_"
      }
    },
    {
      "cell_type": "code",
      "source": [
        "# Crear un tensor que quieras barajear\n",
        "not_shuffled = tf.constant([[10,7],\n",
        "                            [3,4],\n",
        "                            [2,5]])\n",
        "\n",
        "tf.random.shuffle(not_shuffled)"
      ],
      "metadata": {
        "colab": {
          "base_uri": "https://localhost:8080/"
        },
        "id": "DCBoGwuLY50A",
        "outputId": "55696c95-d283-420a-8f0c-4cc16c6727ce"
      },
      "execution_count": 34,
      "outputs": [
        {
          "output_type": "execute_result",
          "data": {
            "text/plain": [
              "<tf.Tensor: shape=(3, 2), dtype=int32, numpy=\n",
              "array([[ 3,  4],\n",
              "       [10,  7],\n",
              "       [ 2,  5]], dtype=int32)>"
            ]
          },
          "metadata": {},
          "execution_count": 34
        }
      ]
    },
    {
      "cell_type": "markdown",
      "source": [
        "Ahora bien, ejecuta la siguiente celda que contiene un `seed=42`. Cambiará, pero lo hará en el mismo orden."
      ],
      "metadata": {
        "id": "9jLlWla6Y543"
      }
    },
    {
      "cell_type": "code",
      "source": [
        "# Barajeo en el mismo orden \n",
        "tf.random.shuffle(not_shuffled, seed=42)"
      ],
      "metadata": {
        "colab": {
          "base_uri": "https://localhost:8080/"
        },
        "id": "QDdnT25fYTvE",
        "outputId": "35f9ba7a-ec9c-4954-95f7-0d828a949e2b"
      },
      "execution_count": 35,
      "outputs": [
        {
          "output_type": "execute_result",
          "data": {
            "text/plain": [
              "<tf.Tensor: shape=(3, 2), dtype=int32, numpy=\n",
              "array([[ 2,  5],\n",
              "       [ 3,  4],\n",
              "       [10,  7]], dtype=int32)>"
            ]
          },
          "metadata": {},
          "execution_count": 35
        }
      ]
    },
    {
      "cell_type": "markdown",
      "source": [
        "La razón de que los números cambien a pesar de que ponemos un `seed` es dada la regla #4 de la documentación de [`tf.random.set_seed()`](https://www.tensorflow.org/api_docs/python/tf/random/set_seed)\n",
        "\n",
        "> 4. If both the global and the operation seed are set: Both seeds are used in conjunction to determine the random sequence.\n",
        "\n",
        "`tf.random.set_seed(42)` establece la semilla global y el parámetro `seed` en `tf.random.shuffle(seed=42)` establece la semilla de operación.\n",
        "\n",
        "\n"
      ],
      "metadata": {
        "id": "Lfq29VYeYTy4"
      }
    },
    {
      "cell_type": "code",
      "source": [
        "# Barajear en el mismo orden\n",
        "\n",
        "# Establece la semilla global\n",
        "tf.random.set_seed(42)\n",
        "\n",
        "# Establece la semilla de operación\n",
        "tf.random.shuffle(not_shuffled, seed=42)"
      ],
      "metadata": {
        "colab": {
          "base_uri": "https://localhost:8080/"
        },
        "id": "nEIFn2oTc61k",
        "outputId": "dc0047d4-97f7-4e63-b5ee-9beafaad3247"
      },
      "execution_count": 36,
      "outputs": [
        {
          "output_type": "execute_result",
          "data": {
            "text/plain": [
              "<tf.Tensor: shape=(3, 2), dtype=int32, numpy=\n",
              "array([[10,  7],\n",
              "       [ 3,  4],\n",
              "       [ 2,  5]], dtype=int32)>"
            ]
          },
          "metadata": {},
          "execution_count": 36
        }
      ]
    },
    {
      "cell_type": "markdown",
      "source": [
        "Observa cómo no cambia los valores del tensor"
      ],
      "metadata": {
        "id": "JODOfHaVc66p"
      }
    },
    {
      "cell_type": "code",
      "source": [
        "# Establece semilla\n",
        "tf.random.set_seed(42) # Intenta correr la celda comentando esta linea\n",
        "\n",
        "# Establece la semilla de operación\n",
        "tf.random.shuffle(not_shuffled)"
      ],
      "metadata": {
        "colab": {
          "base_uri": "https://localhost:8080/"
        },
        "id": "Ut-LcOTcc6-8",
        "outputId": "b56ddd88-985c-440f-9bd5-5cda61f115c8"
      },
      "execution_count": 37,
      "outputs": [
        {
          "output_type": "execute_result",
          "data": {
            "text/plain": [
              "<tf.Tensor: shape=(3, 2), dtype=int32, numpy=\n",
              "array([[ 3,  4],\n",
              "       [ 2,  5],\n",
              "       [10,  7]], dtype=int32)>"
            ]
          },
          "metadata": {},
          "execution_count": 37
        }
      ]
    },
    {
      "cell_type": "markdown",
      "source": [
        "## Tensores de unos y ceros"
      ],
      "metadata": {
        "id": "r6o4hscfc6Mx"
      }
    },
    {
      "cell_type": "code",
      "source": [
        "# Crear un tensor de unos\n",
        "tf.ones(shape=(3,2))"
      ],
      "metadata": {
        "colab": {
          "base_uri": "https://localhost:8080/"
        },
        "id": "UnZ-VppbfzyI",
        "outputId": "edf14c5d-9595-4e5b-abf1-81db93907d28"
      },
      "execution_count": 38,
      "outputs": [
        {
          "output_type": "execute_result",
          "data": {
            "text/plain": [
              "<tf.Tensor: shape=(3, 2), dtype=float32, numpy=\n",
              "array([[1., 1.],\n",
              "       [1., 1.],\n",
              "       [1., 1.]], dtype=float32)>"
            ]
          },
          "metadata": {},
          "execution_count": 38
        }
      ]
    },
    {
      "cell_type": "code",
      "source": [
        "# Cambia el shape\n",
        "tf.ones(shape=(5,6,3))"
      ],
      "metadata": {
        "colab": {
          "base_uri": "https://localhost:8080/"
        },
        "id": "Bve5AvBrfz2V",
        "outputId": "8da838c9-9982-4299-bb7c-63a817fec3c3"
      },
      "execution_count": 39,
      "outputs": [
        {
          "output_type": "execute_result",
          "data": {
            "text/plain": [
              "<tf.Tensor: shape=(5, 6, 3), dtype=float32, numpy=\n",
              "array([[[1., 1., 1.],\n",
              "        [1., 1., 1.],\n",
              "        [1., 1., 1.],\n",
              "        [1., 1., 1.],\n",
              "        [1., 1., 1.],\n",
              "        [1., 1., 1.]],\n",
              "\n",
              "       [[1., 1., 1.],\n",
              "        [1., 1., 1.],\n",
              "        [1., 1., 1.],\n",
              "        [1., 1., 1.],\n",
              "        [1., 1., 1.],\n",
              "        [1., 1., 1.]],\n",
              "\n",
              "       [[1., 1., 1.],\n",
              "        [1., 1., 1.],\n",
              "        [1., 1., 1.],\n",
              "        [1., 1., 1.],\n",
              "        [1., 1., 1.],\n",
              "        [1., 1., 1.]],\n",
              "\n",
              "       [[1., 1., 1.],\n",
              "        [1., 1., 1.],\n",
              "        [1., 1., 1.],\n",
              "        [1., 1., 1.],\n",
              "        [1., 1., 1.],\n",
              "        [1., 1., 1.]],\n",
              "\n",
              "       [[1., 1., 1.],\n",
              "        [1., 1., 1.],\n",
              "        [1., 1., 1.],\n",
              "        [1., 1., 1.],\n",
              "        [1., 1., 1.],\n",
              "        [1., 1., 1.]]], dtype=float32)>"
            ]
          },
          "metadata": {},
          "execution_count": 39
        }
      ]
    },
    {
      "cell_type": "code",
      "source": [
        "# Crea tensor de ceros\n",
        "tf.zeros(shape=(4, 5))"
      ],
      "metadata": {
        "colab": {
          "base_uri": "https://localhost:8080/"
        },
        "id": "10aDeuoXfz66",
        "outputId": "354804df-aaf1-4bf2-c1be-58d8a1e318c4"
      },
      "execution_count": 40,
      "outputs": [
        {
          "output_type": "execute_result",
          "data": {
            "text/plain": [
              "<tf.Tensor: shape=(4, 5), dtype=float32, numpy=\n",
              "array([[0., 0., 0., 0., 0.],\n",
              "       [0., 0., 0., 0., 0.],\n",
              "       [0., 0., 0., 0., 0.],\n",
              "       [0., 0., 0., 0., 0.]], dtype=float32)>"
            ]
          },
          "metadata": {},
          "execution_count": 40
        }
      ]
    },
    {
      "cell_type": "markdown",
      "source": [
        "## NumPy y TensorFlow"
      ],
      "metadata": {
        "id": "xg2xxUlGfz_F"
      }
    },
    {
      "cell_type": "markdown",
      "source": [
        "También puede convertir arreglos de NumPy en tensores.\n",
        "\n",
        "Recuerda que la principal diferencia es que los tensores pueden ser utilizados con un GPUs\n",
        "\n",
        "🔑 **Nota:** una matriz o un tensor son usualmente representados por letras mayúsculas: `X` o `A`; mientras que los vectores son representados por letras minúsculas `y` o `b`"
      ],
      "metadata": {
        "id": "WoT-V2UQgviP"
      }
    },
    {
      "cell_type": "code",
      "source": [
        "import numpy as np\n",
        "numpy_A = np.arange(1, 25, dtype=np.int32)\n",
        "numpy_A"
      ],
      "metadata": {
        "colab": {
          "base_uri": "https://localhost:8080/"
        },
        "id": "B6DmK4_6gvmh",
        "outputId": "23e8076e-ece9-41a3-ad8f-1b4443e754c2"
      },
      "execution_count": 41,
      "outputs": [
        {
          "output_type": "execute_result",
          "data": {
            "text/plain": [
              "array([ 1,  2,  3,  4,  5,  6,  7,  8,  9, 10, 11, 12, 13, 14, 15, 16, 17,\n",
              "       18, 19, 20, 21, 22, 23, 24], dtype=int32)"
            ]
          },
          "metadata": {},
          "execution_count": 41
        }
      ]
    },
    {
      "cell_type": "code",
      "source": [
        "# Conviertelo en un tensor\n",
        "A = tf.constant(numpy_A, shape=[2,4,3])\n",
        "A"
      ],
      "metadata": {
        "colab": {
          "base_uri": "https://localhost:8080/"
        },
        "id": "zIuH8ubcgvqy",
        "outputId": "e9486419-54c7-469d-8ddc-364590096b44"
      },
      "execution_count": 42,
      "outputs": [
        {
          "output_type": "execute_result",
          "data": {
            "text/plain": [
              "<tf.Tensor: shape=(2, 4, 3), dtype=int32, numpy=\n",
              "array([[[ 1,  2,  3],\n",
              "        [ 4,  5,  6],\n",
              "        [ 7,  8,  9],\n",
              "        [10, 11, 12]],\n",
              "\n",
              "       [[13, 14, 15],\n",
              "        [16, 17, 18],\n",
              "        [19, 20, 21],\n",
              "        [22, 23, 24]]], dtype=int32)>"
            ]
          },
          "metadata": {},
          "execution_count": 42
        }
      ]
    },
    {
      "cell_type": "markdown",
      "source": [
        "Recuerda que el size debe de empatar con el shape, intenta correr la siguiente celda"
      ],
      "metadata": {
        "id": "T2nZIDdDgvud"
      }
    },
    {
      "cell_type": "code",
      "source": [
        "B = tf.constant(numpy_A, shape=[2,4,5])\n",
        "B"
      ],
      "metadata": {
        "colab": {
          "base_uri": "https://localhost:8080/",
          "height": 353
        },
        "id": "_GDZ1jOtf0CG",
        "outputId": "8bbee1d5-7dcb-4a91-c6ac-a89f145b750a"
      },
      "execution_count": 43,
      "outputs": [
        {
          "output_type": "error",
          "ename": "TypeError",
          "evalue": "ignored",
          "traceback": [
            "\u001b[0;31m---------------------------------------------------------------------------\u001b[0m",
            "\u001b[0;31mTypeError\u001b[0m                                 Traceback (most recent call last)",
            "\u001b[0;32m<ipython-input-43-8d0ed0b4812f>\u001b[0m in \u001b[0;36m<module>\u001b[0;34m()\u001b[0m\n\u001b[0;32m----> 1\u001b[0;31m \u001b[0mB\u001b[0m \u001b[0;34m=\u001b[0m \u001b[0mtf\u001b[0m\u001b[0;34m.\u001b[0m\u001b[0mconstant\u001b[0m\u001b[0;34m(\u001b[0m\u001b[0mnumpy_A\u001b[0m\u001b[0;34m,\u001b[0m \u001b[0mshape\u001b[0m\u001b[0;34m=\u001b[0m\u001b[0;34m[\u001b[0m\u001b[0;36m2\u001b[0m\u001b[0;34m,\u001b[0m\u001b[0;36m4\u001b[0m\u001b[0;34m,\u001b[0m\u001b[0;36m5\u001b[0m\u001b[0;34m]\u001b[0m\u001b[0;34m)\u001b[0m\u001b[0;34m\u001b[0m\u001b[0;34m\u001b[0m\u001b[0m\n\u001b[0m\u001b[1;32m      2\u001b[0m \u001b[0mB\u001b[0m\u001b[0;34m\u001b[0m\u001b[0;34m\u001b[0m\u001b[0m\n",
            "\u001b[0;32m/usr/local/lib/python3.7/dist-packages/tensorflow/python/framework/constant_op.py\u001b[0m in \u001b[0;36mconstant\u001b[0;34m(value, dtype, shape, name)\u001b[0m\n\u001b[1;32m    266\u001b[0m   \"\"\"\n\u001b[1;32m    267\u001b[0m   return _constant_impl(value, dtype, shape, name, verify_shape=False,\n\u001b[0;32m--> 268\u001b[0;31m                         allow_broadcast=True)\n\u001b[0m\u001b[1;32m    269\u001b[0m \u001b[0;34m\u001b[0m\u001b[0m\n\u001b[1;32m    270\u001b[0m \u001b[0;34m\u001b[0m\u001b[0m\n",
            "\u001b[0;32m/usr/local/lib/python3.7/dist-packages/tensorflow/python/framework/constant_op.py\u001b[0m in \u001b[0;36m_constant_impl\u001b[0;34m(value, dtype, shape, name, verify_shape, allow_broadcast)\u001b[0m\n\u001b[1;32m    277\u001b[0m       \u001b[0;32mwith\u001b[0m \u001b[0mtrace\u001b[0m\u001b[0;34m.\u001b[0m\u001b[0mTrace\u001b[0m\u001b[0;34m(\u001b[0m\u001b[0;34m\"tf.constant\"\u001b[0m\u001b[0;34m)\u001b[0m\u001b[0;34m:\u001b[0m\u001b[0;34m\u001b[0m\u001b[0;34m\u001b[0m\u001b[0m\n\u001b[1;32m    278\u001b[0m         \u001b[0;32mreturn\u001b[0m \u001b[0m_constant_eager_impl\u001b[0m\u001b[0;34m(\u001b[0m\u001b[0mctx\u001b[0m\u001b[0;34m,\u001b[0m \u001b[0mvalue\u001b[0m\u001b[0;34m,\u001b[0m \u001b[0mdtype\u001b[0m\u001b[0;34m,\u001b[0m \u001b[0mshape\u001b[0m\u001b[0;34m,\u001b[0m \u001b[0mverify_shape\u001b[0m\u001b[0;34m)\u001b[0m\u001b[0;34m\u001b[0m\u001b[0;34m\u001b[0m\u001b[0m\n\u001b[0;32m--> 279\u001b[0;31m     \u001b[0;32mreturn\u001b[0m \u001b[0m_constant_eager_impl\u001b[0m\u001b[0;34m(\u001b[0m\u001b[0mctx\u001b[0m\u001b[0;34m,\u001b[0m \u001b[0mvalue\u001b[0m\u001b[0;34m,\u001b[0m \u001b[0mdtype\u001b[0m\u001b[0;34m,\u001b[0m \u001b[0mshape\u001b[0m\u001b[0;34m,\u001b[0m \u001b[0mverify_shape\u001b[0m\u001b[0;34m)\u001b[0m\u001b[0;34m\u001b[0m\u001b[0;34m\u001b[0m\u001b[0m\n\u001b[0m\u001b[1;32m    280\u001b[0m \u001b[0;34m\u001b[0m\u001b[0m\n\u001b[1;32m    281\u001b[0m   \u001b[0mg\u001b[0m \u001b[0;34m=\u001b[0m \u001b[0mops\u001b[0m\u001b[0;34m.\u001b[0m\u001b[0mget_default_graph\u001b[0m\u001b[0;34m(\u001b[0m\u001b[0;34m)\u001b[0m\u001b[0;34m\u001b[0m\u001b[0;34m\u001b[0m\u001b[0m\n",
            "\u001b[0;32m/usr/local/lib/python3.7/dist-packages/tensorflow/python/framework/constant_op.py\u001b[0m in \u001b[0;36m_constant_eager_impl\u001b[0;34m(ctx, value, dtype, shape, verify_shape)\u001b[0m\n\u001b[1;32m    324\u001b[0m     \u001b[0;32melse\u001b[0m\u001b[0;34m:\u001b[0m\u001b[0;34m\u001b[0m\u001b[0;34m\u001b[0m\u001b[0m\n\u001b[1;32m    325\u001b[0m       \u001b[0;32mreturn\u001b[0m \u001b[0m_eager_fill\u001b[0m\u001b[0;34m(\u001b[0m\u001b[0mshape\u001b[0m\u001b[0;34m.\u001b[0m\u001b[0mas_list\u001b[0m\u001b[0;34m(\u001b[0m\u001b[0;34m)\u001b[0m\u001b[0;34m,\u001b[0m \u001b[0mt\u001b[0m\u001b[0;34m,\u001b[0m \u001b[0mctx\u001b[0m\u001b[0;34m)\u001b[0m\u001b[0;34m\u001b[0m\u001b[0;34m\u001b[0m\u001b[0m\n\u001b[0;32m--> 326\u001b[0;31m   raise TypeError(\"Eager execution of tf.constant with unsupported shape. \"\n\u001b[0m\u001b[1;32m    327\u001b[0m                   \u001b[0;34mf\"Tensor {t} (converted from {value}) has {num_t:d} \"\u001b[0m\u001b[0;34m\u001b[0m\u001b[0;34m\u001b[0m\u001b[0m\n\u001b[1;32m    328\u001b[0m                   \u001b[0;34mf\"elements, but got `shape` {shape} with \"\u001b[0m\u001b[0;34m\u001b[0m\u001b[0;34m\u001b[0m\u001b[0m\n",
            "\u001b[0;31mTypeError\u001b[0m: Eager execution of tf.constant with unsupported shape. Tensor [ 1  2  3  4  5  6  7  8  9 10 11 12 13 14 15 16 17 18 19 20 21 22 23 24] (converted from [ 1  2  3  4  5  6  7  8  9 10 11 12 13 14 15 16 17 18 19 20 21 22 23 24]) has 24 elements, but got `shape` (2, 4, 5) with 40 elements)."
          ]
        }
      ]
    },
    {
      "cell_type": "markdown",
      "source": [
        "El error es bastante implícito, tratamos de meter en un tensor de `40` elementos un arreglo de `24`."
      ],
      "metadata": {
        "id": "IE7gbOXOhsE-"
      }
    },
    {
      "cell_type": "markdown",
      "source": [
        "## Obtener información de tensored (shape, rank, size)\n",
        "\n",
        "\n",
        "* **Shape**: La longitud (número de elementos) de cada dimensión en un tensor\n",
        "* **Rank**: El número de dimensiones del tensor. Un escalar tiene rank 0, un vector tiene rank 1, una matriz tiene rank 2 y un tensor tiene rank *n*.\n",
        "* **Axis** O **dimension**: una dimensión particular del tensor\n",
        "* **Size**: El número total de elementos en el tensor\n",
        "\n",
        "\n",
        "Además, tenemos algunos atributos adicionales, como `ndim`.\n",
        "\n",
        "\n"
      ],
      "metadata": {
        "id": "20yucT7Ec6QP"
      }
    },
    {
      "cell_type": "code",
      "source": [
        "# Crear un tensor con rank 4\n",
        "rank_4_tensor = tf.zeros([2,3,4,5])\n",
        "rank_4_tensor"
      ],
      "metadata": {
        "colab": {
          "base_uri": "https://localhost:8080/"
        },
        "id": "YZT4TyrSiNsy",
        "outputId": "ea135c29-8411-4aeb-c1a7-81bc946d3b1f"
      },
      "execution_count": 44,
      "outputs": [
        {
          "output_type": "execute_result",
          "data": {
            "text/plain": [
              "<tf.Tensor: shape=(2, 3, 4, 5), dtype=float32, numpy=\n",
              "array([[[[0., 0., 0., 0., 0.],\n",
              "         [0., 0., 0., 0., 0.],\n",
              "         [0., 0., 0., 0., 0.],\n",
              "         [0., 0., 0., 0., 0.]],\n",
              "\n",
              "        [[0., 0., 0., 0., 0.],\n",
              "         [0., 0., 0., 0., 0.],\n",
              "         [0., 0., 0., 0., 0.],\n",
              "         [0., 0., 0., 0., 0.]],\n",
              "\n",
              "        [[0., 0., 0., 0., 0.],\n",
              "         [0., 0., 0., 0., 0.],\n",
              "         [0., 0., 0., 0., 0.],\n",
              "         [0., 0., 0., 0., 0.]]],\n",
              "\n",
              "\n",
              "       [[[0., 0., 0., 0., 0.],\n",
              "         [0., 0., 0., 0., 0.],\n",
              "         [0., 0., 0., 0., 0.],\n",
              "         [0., 0., 0., 0., 0.]],\n",
              "\n",
              "        [[0., 0., 0., 0., 0.],\n",
              "         [0., 0., 0., 0., 0.],\n",
              "         [0., 0., 0., 0., 0.],\n",
              "         [0., 0., 0., 0., 0.]],\n",
              "\n",
              "        [[0., 0., 0., 0., 0.],\n",
              "         [0., 0., 0., 0., 0.],\n",
              "         [0., 0., 0., 0., 0.],\n",
              "         [0., 0., 0., 0., 0.]]]], dtype=float32)>"
            ]
          },
          "metadata": {},
          "execution_count": 44
        }
      ]
    },
    {
      "cell_type": "code",
      "source": [
        "# Get various attributes of tensor\n",
        "print(f\"Datatype de cada elemento: {rank_4_tensor.dtype}\")\n",
        "print(f\"Número de dimensiones (rank): {rank_4_tensor.ndim}\")\n",
        "print(f\"Shape del tensor: {rank_4_tensor.shape}\")\n",
        "print(f\"Número total de elementos (2*3*4*5): {tf.size(rank_4_tensor).numpy()}\") # .numpy() converts to NumPy array"
      ],
      "metadata": {
        "colab": {
          "base_uri": "https://localhost:8080/"
        },
        "id": "iW05XDp5jTiK",
        "outputId": "02e59f97-3c80-4ca6-ef85-1f13a52986c9"
      },
      "execution_count": 45,
      "outputs": [
        {
          "output_type": "stream",
          "name": "stdout",
          "text": [
            "Datatype de cada elemento: <dtype: 'float32'>\n",
            "Número de dimensiones (rank): 4\n",
            "Shape del tensor: (2, 3, 4, 5)\n",
            "Número total de elementos (2*3*4*5): 120\n"
          ]
        }
      ]
    },
    {
      "cell_type": "markdown",
      "source": [
        "## Indexing"
      ],
      "metadata": {
        "id": "xvwvC-NSjT_M"
      }
    },
    {
      "cell_type": "code",
      "source": [
        "# Crear un arreglo de números aleatorios con size=(5,5)\n",
        "nump_E = np.arange(1, 61)\n",
        "nump_E"
      ],
      "metadata": {
        "colab": {
          "base_uri": "https://localhost:8080/"
        },
        "id": "vCiNKAggjUDI",
        "outputId": "a1324af2-c2a9-4478-c8d0-7734cbe71b13"
      },
      "execution_count": 46,
      "outputs": [
        {
          "output_type": "execute_result",
          "data": {
            "text/plain": [
              "array([ 1,  2,  3,  4,  5,  6,  7,  8,  9, 10, 11, 12, 13, 14, 15, 16, 17,\n",
              "       18, 19, 20, 21, 22, 23, 24, 25, 26, 27, 28, 29, 30, 31, 32, 33, 34,\n",
              "       35, 36, 37, 38, 39, 40, 41, 42, 43, 44, 45, 46, 47, 48, 49, 50, 51,\n",
              "       52, 53, 54, 55, 56, 57, 58, 59, 60])"
            ]
          },
          "metadata": {},
          "execution_count": 46
        }
      ]
    },
    {
      "cell_type": "code",
      "source": [
        "E = tf.constant(nump_E, shape=(3,4,5))\n",
        "E"
      ],
      "metadata": {
        "colab": {
          "base_uri": "https://localhost:8080/"
        },
        "id": "3yg9z5BSqnM-",
        "outputId": "fd4dbfcc-135d-41f1-ffcc-08f774be15fe"
      },
      "execution_count": 47,
      "outputs": [
        {
          "output_type": "execute_result",
          "data": {
            "text/plain": [
              "<tf.Tensor: shape=(3, 4, 5), dtype=int64, numpy=\n",
              "array([[[ 1,  2,  3,  4,  5],\n",
              "        [ 6,  7,  8,  9, 10],\n",
              "        [11, 12, 13, 14, 15],\n",
              "        [16, 17, 18, 19, 20]],\n",
              "\n",
              "       [[21, 22, 23, 24, 25],\n",
              "        [26, 27, 28, 29, 30],\n",
              "        [31, 32, 33, 34, 35],\n",
              "        [36, 37, 38, 39, 40]],\n",
              "\n",
              "       [[41, 42, 43, 44, 45],\n",
              "        [46, 47, 48, 49, 50],\n",
              "        [51, 52, 53, 54, 55],\n",
              "        [56, 57, 58, 59, 60]]])>"
            ]
          },
          "metadata": {},
          "execution_count": 47
        }
      ]
    },
    {
      "cell_type": "markdown",
      "source": [
        "Recuerda que para obtener un número, debemos de declarar el índice. Toda indexación comienza en `0`, y para obtener el último elemento se utiliza el `-1`"
      ],
      "metadata": {
        "id": "umf0mGDZkPoB"
      }
    },
    {
      "cell_type": "markdown",
      "source": [
        "El shape del tensor `E` se puede leer como `3` grandes grupos, `4` filas cada uno y `5` columnas"
      ],
      "metadata": {
        "id": "UPEB2LHyrBLv"
      }
    },
    {
      "cell_type": "code",
      "source": [
        "# Obtener los primeros dos grupos completos\n",
        "E[:2]"
      ],
      "metadata": {
        "colab": {
          "base_uri": "https://localhost:8080/"
        },
        "id": "vQT5qM5_kPr3",
        "outputId": "76588539-5397-4e65-fe36-26ad51fd58c1"
      },
      "execution_count": 48,
      "outputs": [
        {
          "output_type": "execute_result",
          "data": {
            "text/plain": [
              "<tf.Tensor: shape=(2, 4, 5), dtype=int64, numpy=\n",
              "array([[[ 1,  2,  3,  4,  5],\n",
              "        [ 6,  7,  8,  9, 10],\n",
              "        [11, 12, 13, 14, 15],\n",
              "        [16, 17, 18, 19, 20]],\n",
              "\n",
              "       [[21, 22, 23, 24, 25],\n",
              "        [26, 27, 28, 29, 30],\n",
              "        [31, 32, 33, 34, 35],\n",
              "        [36, 37, 38, 39, 40]]])>"
            ]
          },
          "metadata": {},
          "execution_count": 48
        }
      ]
    },
    {
      "cell_type": "code",
      "source": [
        "# Ahora obtener las primeras dos filas \n",
        "E[:2, :2]"
      ],
      "metadata": {
        "colab": {
          "base_uri": "https://localhost:8080/"
        },
        "id": "LHELRC2vkPup",
        "outputId": "f8c29980-80de-447c-f5b3-372f1312cfb9"
      },
      "execution_count": 49,
      "outputs": [
        {
          "output_type": "execute_result",
          "data": {
            "text/plain": [
              "<tf.Tensor: shape=(2, 2, 5), dtype=int64, numpy=\n",
              "array([[[ 1,  2,  3,  4,  5],\n",
              "        [ 6,  7,  8,  9, 10]],\n",
              "\n",
              "       [[21, 22, 23, 24, 25],\n",
              "        [26, 27, 28, 29, 30]]])>"
            ]
          },
          "metadata": {},
          "execution_count": 49
        }
      ]
    },
    {
      "cell_type": "code",
      "source": [
        "# Obtenemos las primeras dos columnas\n",
        "E[:2, :2, :2]"
      ],
      "metadata": {
        "colab": {
          "base_uri": "https://localhost:8080/"
        },
        "id": "PIe9HaVTjUHE",
        "outputId": "2b0a2c6b-6f43-4726-932d-52459503ba51"
      },
      "execution_count": 50,
      "outputs": [
        {
          "output_type": "execute_result",
          "data": {
            "text/plain": [
              "<tf.Tensor: shape=(2, 2, 2), dtype=int64, numpy=\n",
              "array([[[ 1,  2],\n",
              "        [ 6,  7]],\n",
              "\n",
              "       [[21, 22],\n",
              "        [26, 27]]])>"
            ]
          },
          "metadata": {},
          "execution_count": 50
        }
      ]
    },
    {
      "cell_type": "code",
      "source": [
        "# La siguiente celda dará un error\n",
        "E[:2, :2, :2, :2]"
      ],
      "metadata": {
        "colab": {
          "base_uri": "https://localhost:8080/",
          "height": 336
        },
        "id": "HDsleIziu4UR",
        "outputId": "838b667f-a3e4-4e84-d399-4322c6b6aca4"
      },
      "execution_count": 51,
      "outputs": [
        {
          "output_type": "error",
          "ename": "InvalidArgumentError",
          "evalue": "ignored",
          "traceback": [
            "\u001b[0;31m---------------------------------------------------------------------------\u001b[0m",
            "\u001b[0;31mInvalidArgumentError\u001b[0m                      Traceback (most recent call last)",
            "\u001b[0;32m<ipython-input-51-3083ad342314>\u001b[0m in \u001b[0;36m<module>\u001b[0;34m()\u001b[0m\n\u001b[1;32m      1\u001b[0m \u001b[0;31m# La siguiente celda dará un error\u001b[0m\u001b[0;34m\u001b[0m\u001b[0;34m\u001b[0m\u001b[0;34m\u001b[0m\u001b[0m\n\u001b[0;32m----> 2\u001b[0;31m \u001b[0mE\u001b[0m\u001b[0;34m[\u001b[0m\u001b[0;34m:\u001b[0m\u001b[0;36m2\u001b[0m\u001b[0;34m,\u001b[0m \u001b[0;34m:\u001b[0m\u001b[0;36m2\u001b[0m\u001b[0;34m,\u001b[0m \u001b[0;34m:\u001b[0m\u001b[0;36m2\u001b[0m\u001b[0;34m,\u001b[0m \u001b[0;34m:\u001b[0m\u001b[0;36m2\u001b[0m\u001b[0;34m]\u001b[0m\u001b[0;34m\u001b[0m\u001b[0;34m\u001b[0m\u001b[0m\n\u001b[0m",
            "\u001b[0;32m/usr/local/lib/python3.7/dist-packages/tensorflow/python/util/traceback_utils.py\u001b[0m in \u001b[0;36merror_handler\u001b[0;34m(*args, **kwargs)\u001b[0m\n\u001b[1;32m    151\u001b[0m     \u001b[0;32mexcept\u001b[0m \u001b[0mException\u001b[0m \u001b[0;32mas\u001b[0m \u001b[0me\u001b[0m\u001b[0;34m:\u001b[0m\u001b[0;34m\u001b[0m\u001b[0;34m\u001b[0m\u001b[0m\n\u001b[1;32m    152\u001b[0m       \u001b[0mfiltered_tb\u001b[0m \u001b[0;34m=\u001b[0m \u001b[0m_process_traceback_frames\u001b[0m\u001b[0;34m(\u001b[0m\u001b[0me\u001b[0m\u001b[0;34m.\u001b[0m\u001b[0m__traceback__\u001b[0m\u001b[0;34m)\u001b[0m\u001b[0;34m\u001b[0m\u001b[0;34m\u001b[0m\u001b[0m\n\u001b[0;32m--> 153\u001b[0;31m       \u001b[0;32mraise\u001b[0m \u001b[0me\u001b[0m\u001b[0;34m.\u001b[0m\u001b[0mwith_traceback\u001b[0m\u001b[0;34m(\u001b[0m\u001b[0mfiltered_tb\u001b[0m\u001b[0;34m)\u001b[0m \u001b[0;32mfrom\u001b[0m \u001b[0;32mNone\u001b[0m\u001b[0;34m\u001b[0m\u001b[0;34m\u001b[0m\u001b[0m\n\u001b[0m\u001b[1;32m    154\u001b[0m     \u001b[0;32mfinally\u001b[0m\u001b[0;34m:\u001b[0m\u001b[0;34m\u001b[0m\u001b[0;34m\u001b[0m\u001b[0m\n\u001b[1;32m    155\u001b[0m       \u001b[0;32mdel\u001b[0m \u001b[0mfiltered_tb\u001b[0m\u001b[0;34m\u001b[0m\u001b[0;34m\u001b[0m\u001b[0m\n",
            "\u001b[0;32m/usr/local/lib/python3.7/dist-packages/tensorflow/python/framework/ops.py\u001b[0m in \u001b[0;36mraise_from_not_ok_status\u001b[0;34m(e, name)\u001b[0m\n\u001b[1;32m   7184\u001b[0m \u001b[0;32mdef\u001b[0m \u001b[0mraise_from_not_ok_status\u001b[0m\u001b[0;34m(\u001b[0m\u001b[0me\u001b[0m\u001b[0;34m,\u001b[0m \u001b[0mname\u001b[0m\u001b[0;34m)\u001b[0m\u001b[0;34m:\u001b[0m\u001b[0;34m\u001b[0m\u001b[0;34m\u001b[0m\u001b[0m\n\u001b[1;32m   7185\u001b[0m   \u001b[0me\u001b[0m\u001b[0;34m.\u001b[0m\u001b[0mmessage\u001b[0m \u001b[0;34m+=\u001b[0m \u001b[0;34m(\u001b[0m\u001b[0;34m\" name: \"\u001b[0m \u001b[0;34m+\u001b[0m \u001b[0mname\u001b[0m \u001b[0;32mif\u001b[0m \u001b[0mname\u001b[0m \u001b[0;32mis\u001b[0m \u001b[0;32mnot\u001b[0m \u001b[0;32mNone\u001b[0m \u001b[0;32melse\u001b[0m \u001b[0;34m\"\"\u001b[0m\u001b[0;34m)\u001b[0m\u001b[0;34m\u001b[0m\u001b[0;34m\u001b[0m\u001b[0m\n\u001b[0;32m-> 7186\u001b[0;31m   \u001b[0;32mraise\u001b[0m \u001b[0mcore\u001b[0m\u001b[0;34m.\u001b[0m\u001b[0m_status_to_exception\u001b[0m\u001b[0;34m(\u001b[0m\u001b[0me\u001b[0m\u001b[0;34m)\u001b[0m \u001b[0;32mfrom\u001b[0m \u001b[0;32mNone\u001b[0m  \u001b[0;31m# pylint: disable=protected-access\u001b[0m\u001b[0;34m\u001b[0m\u001b[0;34m\u001b[0m\u001b[0m\n\u001b[0m\u001b[1;32m   7187\u001b[0m \u001b[0;34m\u001b[0m\u001b[0m\n\u001b[1;32m   7188\u001b[0m \u001b[0;34m\u001b[0m\u001b[0m\n",
            "\u001b[0;31mInvalidArgumentError\u001b[0m: Index out of range using input dim 3; input has only 3 dims [Op:StridedSlice] name: strided_slice/"
          ]
        }
      ]
    },
    {
      "cell_type": "markdown",
      "source": [
        "Esto se debe a que sólo tenemos 3 números en el shape, por lo que solo podemos indexar 3 veces. \n",
        "\n",
        "Por lo tanto el primer índice es de **grupos**, el segundo es de **filas** y el tercero es de **columnas**.\n",
        "\n",
        "Observa los siguientes ejemplos:"
      ],
      "metadata": {
        "id": "Gde3KWfVvaXO"
      }
    },
    {
      "cell_type": "code",
      "source": [
        "E"
      ],
      "metadata": {
        "colab": {
          "base_uri": "https://localhost:8080/"
        },
        "id": "BuI8K-Dju43h",
        "outputId": "9a6ec598-f620-4ba4-a4f5-4a470e095f0d"
      },
      "execution_count": 52,
      "outputs": [
        {
          "output_type": "execute_result",
          "data": {
            "text/plain": [
              "<tf.Tensor: shape=(3, 4, 5), dtype=int64, numpy=\n",
              "array([[[ 1,  2,  3,  4,  5],\n",
              "        [ 6,  7,  8,  9, 10],\n",
              "        [11, 12, 13, 14, 15],\n",
              "        [16, 17, 18, 19, 20]],\n",
              "\n",
              "       [[21, 22, 23, 24, 25],\n",
              "        [26, 27, 28, 29, 30],\n",
              "        [31, 32, 33, 34, 35],\n",
              "        [36, 37, 38, 39, 40]],\n",
              "\n",
              "       [[41, 42, 43, 44, 45],\n",
              "        [46, 47, 48, 49, 50],\n",
              "        [51, 52, 53, 54, 55],\n",
              "        [56, 57, 58, 59, 60]]])>"
            ]
          },
          "metadata": {},
          "execution_count": 52
        }
      ]
    },
    {
      "cell_type": "markdown",
      "source": [
        "✏️ **Ejercicio:** Intenta imprimir el número 50"
      ],
      "metadata": {
        "id": "KtZ3g7A6yf1X"
      }
    },
    {
      "cell_type": "code",
      "source": [
        "# El 50 está en el grupo 3, pero como comenzamos en 0, lo declaramos como 2\n",
        "E[2]"
      ],
      "metadata": {
        "colab": {
          "base_uri": "https://localhost:8080/"
        },
        "id": "aMW_RdC-u48I",
        "outputId": "60bfe30b-ea44-414a-b0d5-9729390b623f"
      },
      "execution_count": 53,
      "outputs": [
        {
          "output_type": "execute_result",
          "data": {
            "text/plain": [
              "<tf.Tensor: shape=(4, 5), dtype=int64, numpy=\n",
              "array([[41, 42, 43, 44, 45],\n",
              "       [46, 47, 48, 49, 50],\n",
              "       [51, 52, 53, 54, 55],\n",
              "       [56, 57, 58, 59, 60]])>"
            ]
          },
          "metadata": {},
          "execution_count": 53
        }
      ]
    },
    {
      "cell_type": "code",
      "source": [
        "# Se encuentra en la fila 2, la cual declaramos como 1\n",
        "E[2, 1]"
      ],
      "metadata": {
        "colab": {
          "base_uri": "https://localhost:8080/"
        },
        "id": "2fywd-Ezu5Ay",
        "outputId": "5baf68fe-73f5-401d-ba20-3b9ec7e65e88"
      },
      "execution_count": 54,
      "outputs": [
        {
          "output_type": "execute_result",
          "data": {
            "text/plain": [
              "<tf.Tensor: shape=(5,), dtype=int64, numpy=array([46, 47, 48, 49, 50])>"
            ]
          },
          "metadata": {},
          "execution_count": 54
        }
      ]
    },
    {
      "cell_type": "code",
      "source": [
        "# Finalmente, está en la última columna, la cual podemos declarar como -1\n",
        "E[2,1,-1]"
      ],
      "metadata": {
        "colab": {
          "base_uri": "https://localhost:8080/"
        },
        "id": "PCGLSP3Fu5F8",
        "outputId": "9fd595d9-88d0-4e44-e537-826d338b0dee"
      },
      "execution_count": 55,
      "outputs": [
        {
          "output_type": "execute_result",
          "data": {
            "text/plain": [
              "<tf.Tensor: shape=(), dtype=int64, numpy=50>"
            ]
          },
          "metadata": {},
          "execution_count": 55
        }
      ]
    },
    {
      "cell_type": "markdown",
      "source": [
        "Además, podemos traer más de un número, por ejemplo, por fila:"
      ],
      "metadata": {
        "id": "cNHPgNpNznaj"
      }
    },
    {
      "cell_type": "code",
      "source": [
        "# Obtener el último elemento de cada fila\n",
        "E[:, :, -1]"
      ],
      "metadata": {
        "colab": {
          "base_uri": "https://localhost:8080/"
        },
        "id": "fegKa4htzHl3",
        "outputId": "1c78b460-ab76-4bb2-a56a-c8808a8b53bf"
      },
      "execution_count": 56,
      "outputs": [
        {
          "output_type": "execute_result",
          "data": {
            "text/plain": [
              "<tf.Tensor: shape=(3, 4), dtype=int64, numpy=\n",
              "array([[ 5, 10, 15, 20],\n",
              "       [25, 30, 35, 40],\n",
              "       [45, 50, 55, 60]])>"
            ]
          },
          "metadata": {},
          "execution_count": 56
        }
      ]
    },
    {
      "cell_type": "markdown",
      "source": [
        "En la mayoría de las ocasiones tendremos que adecuar los tensores para poder tener dimensiones extras, pero sin modificar los valores que en él existen; similar a si metieramos dimensones sintéticas.\n",
        "\n",
        "El hecho de aumentar dimensiones o quitar, será recurrente, ya que no sólo será una cuestión técnica, sino de la teoría de las redes neuronales"
      ],
      "metadata": {
        "id": "guUzDpy-0s8n"
      }
    },
    {
      "cell_type": "code",
      "source": [
        "# Crear un tensor de rank 2 (2 dimensiones)\n",
        "rank_2_tensor = tf.constant([[10,7],\n",
        "                             [3,4]])\n",
        "\n",
        "rank_2_tensor"
      ],
      "metadata": {
        "colab": {
          "base_uri": "https://localhost:8080/"
        },
        "id": "qMt5NDGjaPkA",
        "outputId": "b141c55a-5d62-478e-fb7e-2085a24956e0"
      },
      "execution_count": 57,
      "outputs": [
        {
          "output_type": "execute_result",
          "data": {
            "text/plain": [
              "<tf.Tensor: shape=(2, 2), dtype=int32, numpy=\n",
              "array([[10,  7],\n",
              "       [ 3,  4]], dtype=int32)>"
            ]
          },
          "metadata": {},
          "execution_count": 57
        }
      ]
    },
    {
      "cell_type": "code",
      "source": [
        "# Añadir una dimensión extra al tensor de rank 2 con ...\n",
        "rank_3_tensor = rank_2_tensor[..., tf.newaxis] # en python ... signfiica \"todas las dimensiones previas\"\n",
        "rank_3_tensor"
      ],
      "metadata": {
        "colab": {
          "base_uri": "https://localhost:8080/"
        },
        "id": "FlaQzMXwzZJc",
        "outputId": "3ccc9d47-bdde-4f1e-c767-2105f399b56d"
      },
      "execution_count": 58,
      "outputs": [
        {
          "output_type": "execute_result",
          "data": {
            "text/plain": [
              "<tf.Tensor: shape=(2, 2, 1), dtype=int32, numpy=\n",
              "array([[[10],\n",
              "        [ 7]],\n",
              "\n",
              "       [[ 3],\n",
              "        [ 4]]], dtype=int32)>"
            ]
          },
          "metadata": {},
          "execution_count": 58
        }
      ]
    },
    {
      "cell_type": "markdown",
      "source": [
        "Observa cómo añadimos una dimensión como columna en el `shape` sin afectar a nuestros valores.\n",
        "\n",
        "Ahora bien, también podemos utilizar `tf.expand_dims()` para aumentar dimensiones"
      ],
      "metadata": {
        "id": "-6wFXMLoZOP_"
      }
    },
    {
      "cell_type": "code",
      "source": [
        "tf.expand_dims(rank_2_tensor, axis=-1) # \"-1\" significa el último eje"
      ],
      "metadata": {
        "colab": {
          "base_uri": "https://localhost:8080/"
        },
        "id": "C5g7PtuUZOT7",
        "outputId": "4d277b85-9679-47ab-fdf6-417802fcafa7"
      },
      "execution_count": 59,
      "outputs": [
        {
          "output_type": "execute_result",
          "data": {
            "text/plain": [
              "<tf.Tensor: shape=(2, 2, 1), dtype=int32, numpy=\n",
              "array([[[10],\n",
              "        [ 7]],\n",
              "\n",
              "       [[ 3],\n",
              "        [ 4]]], dtype=int32)>"
            ]
          },
          "metadata": {},
          "execution_count": 59
        }
      ]
    },
    {
      "cell_type": "markdown",
      "source": [
        "# Manipulación de tensores (operaciones)"
      ],
      "metadata": {
        "id": "bG7s69GEZOXZ"
      }
    },
    {
      "cell_type": "markdown",
      "source": [
        "Ahora que sabemos cómo crear tensores, comenzaremos a modificarlos a través de operaciones y técnicas que nos serán útiles cuando hagamos nuestras redes neuronales"
      ],
      "metadata": {
        "id": "C1QLwaZdZOai"
      }
    },
    {
      "cell_type": "markdown",
      "source": [
        "## Operaciones básicas\n",
        "\n",
        "Podemos realizar operaciones tales como `+`, `-` o `*`\n"
      ],
      "metadata": {
        "id": "1XdeME6tZOdG"
      }
    },
    {
      "cell_type": "code",
      "source": [
        "# Podemos añadir valores a los tensores\n",
        "tensor = tf.constant([[10, 7], [3,4]])\n",
        "tensor + 10"
      ],
      "metadata": {
        "colab": {
          "base_uri": "https://localhost:8080/"
        },
        "id": "XecqHjqSzHqT",
        "outputId": "b722e83d-75cb-49e8-fd1f-e4fa3740e25d"
      },
      "execution_count": 60,
      "outputs": [
        {
          "output_type": "execute_result",
          "data": {
            "text/plain": [
              "<tf.Tensor: shape=(2, 2), dtype=int32, numpy=\n",
              "array([[20, 17],\n",
              "       [13, 14]], dtype=int32)>"
            ]
          },
          "metadata": {},
          "execution_count": 60
        }
      ]
    },
    {
      "cell_type": "code",
      "source": [
        "# Igualmente multiplicar\n",
        "tensor * 10"
      ],
      "metadata": {
        "colab": {
          "base_uri": "https://localhost:8080/"
        },
        "id": "BToOz1QxzHuH",
        "outputId": "55a454bc-f3bf-4bc5-8b6e-9db4bfaff8b6"
      },
      "execution_count": 61,
      "outputs": [
        {
          "output_type": "execute_result",
          "data": {
            "text/plain": [
              "<tf.Tensor: shape=(2, 2), dtype=int32, numpy=\n",
              "array([[100,  70],\n",
              "       [ 30,  40]], dtype=int32)>"
            ]
          },
          "metadata": {},
          "execution_count": 61
        }
      ]
    },
    {
      "cell_type": "code",
      "source": [
        "# Así como resta\n",
        "tensor - 10"
      ],
      "metadata": {
        "colab": {
          "base_uri": "https://localhost:8080/"
        },
        "id": "LdCe5cyMuwoi",
        "outputId": "246be055-9be7-475b-da30-f04f9b61e7b6"
      },
      "execution_count": 62,
      "outputs": [
        {
          "output_type": "execute_result",
          "data": {
            "text/plain": [
              "<tf.Tensor: shape=(2, 2), dtype=int32, numpy=\n",
              "array([[ 0, -3],\n",
              "       [-7, -6]], dtype=int32)>"
            ]
          },
          "metadata": {},
          "execution_count": 62
        }
      ]
    },
    {
      "cell_type": "markdown",
      "source": [
        "Además, podemos utilizar funciones de TensorFlow integradas, las cuales tienen una ventaja dado que logran una computación más rápida. Por ejemplo, podemos multiplicar cada uno de los valores por `10`"
      ],
      "metadata": {
        "id": "1C1EyH4ruwsi"
      }
    },
    {
      "cell_type": "code",
      "source": [
        "# Usa multiply como equivalente de '*'\n",
        "tf.multiply(tensor, 10)"
      ],
      "metadata": {
        "colab": {
          "base_uri": "https://localhost:8080/"
        },
        "id": "crsHhxW7F_XS",
        "outputId": "9e77b8a0-846f-4e96-ac57-2dbcbadf4784"
      },
      "execution_count": 63,
      "outputs": [
        {
          "output_type": "execute_result",
          "data": {
            "text/plain": [
              "<tf.Tensor: shape=(2, 2), dtype=int32, numpy=\n",
              "array([[100,  70],\n",
              "       [ 30,  40]], dtype=int32)>"
            ]
          },
          "metadata": {},
          "execution_count": 63
        }
      ]
    },
    {
      "cell_type": "code",
      "source": [
        "# Tensor original\n",
        "tensor"
      ],
      "metadata": {
        "colab": {
          "base_uri": "https://localhost:8080/"
        },
        "id": "5k4y7nyHF_cj",
        "outputId": "351655dc-28dd-4840-8ffc-b862ad330a9a"
      },
      "execution_count": 64,
      "outputs": [
        {
          "output_type": "execute_result",
          "data": {
            "text/plain": [
              "<tf.Tensor: shape=(2, 2), dtype=int32, numpy=\n",
              "array([[10,  7],\n",
              "       [ 3,  4]], dtype=int32)>"
            ]
          },
          "metadata": {},
          "execution_count": 64
        }
      ]
    },
    {
      "cell_type": "markdown",
      "source": [
        "Observa cómo cada valor es multiplicado por diez, lo cual es diferente a una multiplicación de matriz por escalar."
      ],
      "metadata": {
        "id": "jtY6eZuEF_hh"
      }
    },
    {
      "cell_type": "markdown",
      "source": [
        "## Multiplicación de matrices"
      ],
      "metadata": {
        "id": "6WMkwO7zF_lK"
      }
    },
    {
      "cell_type": "markdown",
      "source": [
        "Siendo una de las operaciones más comunes en Machine Learning, la multiplicación de matrices se puede llevar a cabo de dos formas\n",
        "\n",
        "* De forma nativa a python con operador `@`\n",
        "* Con la función integrada de TF `tf.matmul()`\n",
        "\n",
        "Existen dos reglas indispensables en la multiplicación de matrices:\n",
        "\n",
        "1. Las dimensiones internas deben de ser iguales:\n",
        "  * `(4,5) @ (5, 4)`\n",
        "\n",
        "2. La matríz resultante tiene `shape` de las dimensiones exteriores\n",
        "  * `(4,5) @ (5,4)` -> `(4,4)`"
      ],
      "metadata": {
        "id": "6RGHJbREG9j9"
      }
    },
    {
      "cell_type": "code",
      "source": [
        "# Recuerda el tensor previo\n",
        "tensor"
      ],
      "metadata": {
        "colab": {
          "base_uri": "https://localhost:8080/"
        },
        "id": "c1E0OB6uIL6R",
        "outputId": "ce31ad6b-e4d2-4fc3-e428-f994503cc5d3"
      },
      "execution_count": 65,
      "outputs": [
        {
          "output_type": "execute_result",
          "data": {
            "text/plain": [
              "<tf.Tensor: shape=(2, 2), dtype=int32, numpy=\n",
              "array([[10,  7],\n",
              "       [ 3,  4]], dtype=int32)>"
            ]
          },
          "metadata": {},
          "execution_count": 65
        }
      ]
    },
    {
      "cell_type": "code",
      "source": [
        "# Multiplicación de matrices con @\n",
        "tensor @ tensor"
      ],
      "metadata": {
        "colab": {
          "base_uri": "https://localhost:8080/"
        },
        "id": "M9oZHOtBHAy2",
        "outputId": "327b4017-a16d-49e8-ecd6-12b30be3dde3"
      },
      "execution_count": 66,
      "outputs": [
        {
          "output_type": "execute_result",
          "data": {
            "text/plain": [
              "<tf.Tensor: shape=(2, 2), dtype=int32, numpy=\n",
              "array([[121,  98],\n",
              "       [ 42,  37]], dtype=int32)>"
            ]
          },
          "metadata": {},
          "execution_count": 66
        }
      ]
    },
    {
      "cell_type": "code",
      "source": [
        "# Multiplicación de matrices en TensorFlow\n",
        "tf.matmul(tensor, tensor)"
      ],
      "metadata": {
        "colab": {
          "base_uri": "https://localhost:8080/"
        },
        "id": "iyNBfeNxF_ni",
        "outputId": "4326e123-d750-47c5-ae87-1dda8e8a8437"
      },
      "execution_count": 67,
      "outputs": [
        {
          "output_type": "execute_result",
          "data": {
            "text/plain": [
              "<tf.Tensor: shape=(2, 2), dtype=int32, numpy=\n",
              "array([[121,  98],\n",
              "       [ 42,  37]], dtype=int32)>"
            ]
          },
          "metadata": {},
          "execution_count": 67
        }
      ]
    },
    {
      "cell_type": "markdown",
      "source": [
        "Ambas multiplicaciones resultaron en un tensor con `shape(2,2)`. Ahora bien, intentemos multiplicar dos matrices que rompan con la regla numero 1 establecida anteriormente."
      ],
      "metadata": {
        "id": "RkR4Kkz3G9cn"
      }
    },
    {
      "cell_type": "code",
      "source": [
        "# Tensor de (3,2) \n",
        "X = tf.constant([[1,2],\n",
        "                 [3,4],\n",
        "                 [5,6]])\n",
        "\n",
        "# Tensor de (3,2)\n",
        "Y = tf.constant([[7,8],\n",
        "                 [9,10],\n",
        "                 [11,12]])\n",
        "\n",
        "X, Y"
      ],
      "metadata": {
        "colab": {
          "base_uri": "https://localhost:8080/"
        },
        "id": "mo3OjTKSIWsH",
        "outputId": "d918425e-bdfd-4308-bfdb-431131dc0126"
      },
      "execution_count": 68,
      "outputs": [
        {
          "output_type": "execute_result",
          "data": {
            "text/plain": [
              "(<tf.Tensor: shape=(3, 2), dtype=int32, numpy=\n",
              " array([[1, 2],\n",
              "        [3, 4],\n",
              "        [5, 6]], dtype=int32)>, <tf.Tensor: shape=(3, 2), dtype=int32, numpy=\n",
              " array([[ 7,  8],\n",
              "        [ 9, 10],\n",
              "        [11, 12]], dtype=int32)>)"
            ]
          },
          "metadata": {},
          "execution_count": 68
        }
      ]
    },
    {
      "cell_type": "code",
      "source": [
        "# Intenta multiplicar ambos tensores con @\n",
        "X @ Y"
      ],
      "metadata": {
        "colab": {
          "base_uri": "https://localhost:8080/",
          "height": 336
        },
        "id": "VpaLhFLRIWwM",
        "outputId": "db417a31-f2d0-4853-8a00-16378508653f"
      },
      "execution_count": 69,
      "outputs": [
        {
          "output_type": "error",
          "ename": "InvalidArgumentError",
          "evalue": "ignored",
          "traceback": [
            "\u001b[0;31m---------------------------------------------------------------------------\u001b[0m",
            "\u001b[0;31mInvalidArgumentError\u001b[0m                      Traceback (most recent call last)",
            "\u001b[0;32m<ipython-input-69-4f7319af9c22>\u001b[0m in \u001b[0;36m<module>\u001b[0;34m()\u001b[0m\n\u001b[1;32m      1\u001b[0m \u001b[0;31m# Intenta multiplicar ambos tensores con @\u001b[0m\u001b[0;34m\u001b[0m\u001b[0;34m\u001b[0m\u001b[0;34m\u001b[0m\u001b[0m\n\u001b[0;32m----> 2\u001b[0;31m \u001b[0mX\u001b[0m \u001b[0;34m@\u001b[0m \u001b[0mY\u001b[0m\u001b[0;34m\u001b[0m\u001b[0;34m\u001b[0m\u001b[0m\n\u001b[0m",
            "\u001b[0;32m/usr/local/lib/python3.7/dist-packages/tensorflow/python/util/traceback_utils.py\u001b[0m in \u001b[0;36merror_handler\u001b[0;34m(*args, **kwargs)\u001b[0m\n\u001b[1;32m    151\u001b[0m     \u001b[0;32mexcept\u001b[0m \u001b[0mException\u001b[0m \u001b[0;32mas\u001b[0m \u001b[0me\u001b[0m\u001b[0;34m:\u001b[0m\u001b[0;34m\u001b[0m\u001b[0;34m\u001b[0m\u001b[0m\n\u001b[1;32m    152\u001b[0m       \u001b[0mfiltered_tb\u001b[0m \u001b[0;34m=\u001b[0m \u001b[0m_process_traceback_frames\u001b[0m\u001b[0;34m(\u001b[0m\u001b[0me\u001b[0m\u001b[0;34m.\u001b[0m\u001b[0m__traceback__\u001b[0m\u001b[0;34m)\u001b[0m\u001b[0;34m\u001b[0m\u001b[0;34m\u001b[0m\u001b[0m\n\u001b[0;32m--> 153\u001b[0;31m       \u001b[0;32mraise\u001b[0m \u001b[0me\u001b[0m\u001b[0;34m.\u001b[0m\u001b[0mwith_traceback\u001b[0m\u001b[0;34m(\u001b[0m\u001b[0mfiltered_tb\u001b[0m\u001b[0;34m)\u001b[0m \u001b[0;32mfrom\u001b[0m \u001b[0;32mNone\u001b[0m\u001b[0;34m\u001b[0m\u001b[0;34m\u001b[0m\u001b[0m\n\u001b[0m\u001b[1;32m    154\u001b[0m     \u001b[0;32mfinally\u001b[0m\u001b[0;34m:\u001b[0m\u001b[0;34m\u001b[0m\u001b[0;34m\u001b[0m\u001b[0m\n\u001b[1;32m    155\u001b[0m       \u001b[0;32mdel\u001b[0m \u001b[0mfiltered_tb\u001b[0m\u001b[0;34m\u001b[0m\u001b[0;34m\u001b[0m\u001b[0m\n",
            "\u001b[0;32m/usr/local/lib/python3.7/dist-packages/tensorflow/python/framework/ops.py\u001b[0m in \u001b[0;36mraise_from_not_ok_status\u001b[0;34m(e, name)\u001b[0m\n\u001b[1;32m   7184\u001b[0m \u001b[0;32mdef\u001b[0m \u001b[0mraise_from_not_ok_status\u001b[0m\u001b[0;34m(\u001b[0m\u001b[0me\u001b[0m\u001b[0;34m,\u001b[0m \u001b[0mname\u001b[0m\u001b[0;34m)\u001b[0m\u001b[0;34m:\u001b[0m\u001b[0;34m\u001b[0m\u001b[0;34m\u001b[0m\u001b[0m\n\u001b[1;32m   7185\u001b[0m   \u001b[0me\u001b[0m\u001b[0;34m.\u001b[0m\u001b[0mmessage\u001b[0m \u001b[0;34m+=\u001b[0m \u001b[0;34m(\u001b[0m\u001b[0;34m\" name: \"\u001b[0m \u001b[0;34m+\u001b[0m \u001b[0mname\u001b[0m \u001b[0;32mif\u001b[0m \u001b[0mname\u001b[0m \u001b[0;32mis\u001b[0m \u001b[0;32mnot\u001b[0m \u001b[0;32mNone\u001b[0m \u001b[0;32melse\u001b[0m \u001b[0;34m\"\"\u001b[0m\u001b[0;34m)\u001b[0m\u001b[0;34m\u001b[0m\u001b[0;34m\u001b[0m\u001b[0m\n\u001b[0;32m-> 7186\u001b[0;31m   \u001b[0;32mraise\u001b[0m \u001b[0mcore\u001b[0m\u001b[0;34m.\u001b[0m\u001b[0m_status_to_exception\u001b[0m\u001b[0;34m(\u001b[0m\u001b[0me\u001b[0m\u001b[0;34m)\u001b[0m \u001b[0;32mfrom\u001b[0m \u001b[0;32mNone\u001b[0m  \u001b[0;31m# pylint: disable=protected-access\u001b[0m\u001b[0;34m\u001b[0m\u001b[0;34m\u001b[0m\u001b[0m\n\u001b[0m\u001b[1;32m   7187\u001b[0m \u001b[0;34m\u001b[0m\u001b[0m\n\u001b[1;32m   7188\u001b[0m \u001b[0;34m\u001b[0m\u001b[0m\n",
            "\u001b[0;31mInvalidArgumentError\u001b[0m: Matrix size-incompatible: In[0]: [3,2], In[1]: [3,2] [Op:MatMul]"
          ]
        }
      ]
    },
    {
      "cell_type": "markdown",
      "source": [
        "Esto se debe a que las dimensiones internas son diferentes.\n",
        "\n",
        "Tenemos dos opciones:\n",
        "  * Hacer un reshape de X a `(2,3)`\n",
        "  * Hacer un reshape de Y a `(3,2)`\n",
        "\n",
        "Esto se puede hacer, a su vez, de dos formas:\n",
        "  * `tf.reshape()`\n",
        "  * `tf.transpose()`"
      ],
      "metadata": {
        "id": "jMLYoWJpIWzC"
      }
    },
    {
      "cell_type": "code",
      "source": [
        "# Ejemplo de reshape (3,2) -> (2,3)\n",
        "tf.reshape(Y, shape=(2,3))"
      ],
      "metadata": {
        "colab": {
          "base_uri": "https://localhost:8080/"
        },
        "id": "HLHFQA2fMnkY",
        "outputId": "9abdfaa1-8287-4ffd-c5ec-1a2de4dad197"
      },
      "execution_count": 70,
      "outputs": [
        {
          "output_type": "execute_result",
          "data": {
            "text/plain": [
              "<tf.Tensor: shape=(2, 3), dtype=int32, numpy=\n",
              "array([[ 7,  8,  9],\n",
              "       [10, 11, 12]], dtype=int32)>"
            ]
          },
          "metadata": {},
          "execution_count": 70
        }
      ]
    },
    {
      "cell_type": "code",
      "source": [
        "# Transpuesta de (3,2) -> (2,3)\n",
        "tf.transpose(X)"
      ],
      "metadata": {
        "colab": {
          "base_uri": "https://localhost:8080/"
        },
        "id": "3neUarUFMnq3",
        "outputId": "50b07538-7571-49df-dad9-9f225495c367"
      },
      "execution_count": 72,
      "outputs": [
        {
          "output_type": "execute_result",
          "data": {
            "text/plain": [
              "<tf.Tensor: shape=(2, 3), dtype=int32, numpy=\n",
              "array([[1, 3, 5],\n",
              "       [2, 4, 6]], dtype=int32)>"
            ]
          },
          "metadata": {},
          "execution_count": 72
        }
      ]
    },
    {
      "cell_type": "code",
      "source": [
        "# Multiplicación con parámetros usando tf.matmul\n",
        "tf.matmul(a=X, b=Y, transpose_a=True, transpose_b=False)"
      ],
      "metadata": {
        "colab": {
          "base_uri": "https://localhost:8080/"
        },
        "id": "8G2rZ8Y6NyZq",
        "outputId": "5e37a51d-3bec-417b-fcb3-f26db584b231"
      },
      "execution_count": 74,
      "outputs": [
        {
          "output_type": "execute_result",
          "data": {
            "text/plain": [
              "<tf.Tensor: shape=(2, 2), dtype=int32, numpy=\n",
              "array([[ 89,  98],\n",
              "       [116, 128]], dtype=int32)>"
            ]
          },
          "metadata": {},
          "execution_count": 74
        }
      ]
    },
    {
      "cell_type": "markdown",
      "source": [
        "Observa como existe una diferencia en shapes cuanto hacemos transpuesta de `X` o un reshape de `Y`.\n",
        "\n",
        "Esto se debe a la segunda regla, la cual dice que:\n",
        "\n",
        " * `(3, 2) @ (2, 3)` -> `(3, 3)` resulta de `X @ tf.reshape(Y, shape=(2, 3))` \n",
        " * `(2, 3) @ (3, 2)` -> `(2, 2)` resulta de `tf.matmul(tf.transpose(X), Y)`\n",
        "\n",
        "Ahora bien, observa el siguiente ejemplo y nota las diferencias:"
      ],
      "metadata": {
        "id": "uM7ucDG0NydO"
      }
    },
    {
      "cell_type": "code",
      "source": [
        "# Multiplicación con Y transpuesta\n",
        "tf.matmul(X, tf.transpose(Y))"
      ],
      "metadata": {
        "colab": {
          "base_uri": "https://localhost:8080/"
        },
        "id": "xhwzWCxHPdqO",
        "outputId": "3513bf3b-3354-469e-a683-455b6ab17343"
      },
      "execution_count": 76,
      "outputs": [
        {
          "output_type": "execute_result",
          "data": {
            "text/plain": [
              "<tf.Tensor: shape=(3, 3), dtype=int32, numpy=\n",
              "array([[ 23,  29,  35],\n",
              "       [ 53,  67,  81],\n",
              "       [ 83, 105, 127]], dtype=int32)>"
            ]
          },
          "metadata": {},
          "execution_count": 76
        }
      ]
    },
    {
      "cell_type": "code",
      "source": [
        "# Multiplicación con Y reshaped\n",
        "tf.matmul(X, tf.reshape(Y, (2, 3)))"
      ],
      "metadata": {
        "colab": {
          "base_uri": "https://localhost:8080/"
        },
        "id": "SC6KDknSyLRK",
        "outputId": "4ca4e686-0146-4608-f9f3-fa8ccc4dddd3"
      },
      "execution_count": 77,
      "outputs": [
        {
          "output_type": "execute_result",
          "data": {
            "text/plain": [
              "<tf.Tensor: shape=(3, 3), dtype=int32, numpy=\n",
              "array([[ 27,  30,  33],\n",
              "       [ 61,  68,  75],\n",
              "       [ 95, 106, 117]], dtype=int32)>"
            ]
          },
          "metadata": {},
          "execution_count": 77
        }
      ]
    },
    {
      "cell_type": "code",
      "source": [
        "# Y inicial\n",
        "Y"
      ],
      "metadata": {
        "colab": {
          "base_uri": "https://localhost:8080/"
        },
        "id": "0gcMlafO0oPU",
        "outputId": "1532f491-e0c9-46ac-a4d1-37c2c1dd4cb3"
      },
      "execution_count": 83,
      "outputs": [
        {
          "output_type": "execute_result",
          "data": {
            "text/plain": [
              "<tf.Tensor: shape=(3, 2), dtype=int32, numpy=\n",
              "array([[ 7,  8],\n",
              "       [ 9, 10],\n",
              "       [11, 12]], dtype=int32)>"
            ]
          },
          "metadata": {},
          "execution_count": 83
        }
      ]
    },
    {
      "cell_type": "code",
      "source": [
        "tf.transpose(Y), tf.reshape(Y, (2, 3))"
      ],
      "metadata": {
        "colab": {
          "base_uri": "https://localhost:8080/"
        },
        "id": "58Ddd64Z0FBV",
        "outputId": "23d2794d-d22d-4489-a5b3-37b6f9ab2897"
      },
      "execution_count": 81,
      "outputs": [
        {
          "output_type": "execute_result",
          "data": {
            "text/plain": [
              "(<tf.Tensor: shape=(2, 3), dtype=int32, numpy=\n",
              " array([[ 7,  9, 11],\n",
              "        [ 8, 10, 12]], dtype=int32)>,\n",
              " <tf.Tensor: shape=(2, 3), dtype=int32, numpy=\n",
              " array([[ 7,  8,  9],\n",
              "        [10, 11, 12]], dtype=int32)>)"
            ]
          },
          "metadata": {},
          "execution_count": 81
        }
      ]
    },
    {
      "cell_type": "markdown",
      "source": [
        "La tranpuesta simplemente es una *rotación* de filas a columnas, mientras que el `reshape` ajusta los datos a las columnas y filas señaladas"
      ],
      "metadata": {
        "id": "tj75xm9T0qze"
      }
    },
    {
      "cell_type": "markdown",
      "source": [
        "## Producto punto (dot product)"
      ],
      "metadata": {
        "id": "4KQ2WdO4G9gt"
      }
    },
    {
      "cell_type": "markdown",
      "source": [
        "A la multiplicación **entre** matrices se suele denominar como **producto punto** o ***dot product***. Esta operación tan recurrente en *deep learning* y *machine learning* se realiza con `tf.tensordot`."
      ],
      "metadata": {
        "id": "EXzC11Y8Pdcx"
      }
    },
    {
      "cell_type": "code",
      "source": [
        "# Producto punto de X y Y\n",
        "tf.tensordot(tf.transpose(X), Y, axes=1)"
      ],
      "metadata": {
        "colab": {
          "base_uri": "https://localhost:8080/"
        },
        "id": "IJWAXOK9y_lG",
        "outputId": "f719cbe8-7683-4cee-e632-26db9adc6adb"
      },
      "execution_count": 78,
      "outputs": [
        {
          "output_type": "execute_result",
          "data": {
            "text/plain": [
              "<tf.Tensor: shape=(2, 2), dtype=int32, numpy=\n",
              "array([[ 89,  98],\n",
              "       [116, 128]], dtype=int32)>"
            ]
          },
          "metadata": {},
          "execution_count": 78
        }
      ]
    },
    {
      "cell_type": "markdown",
      "source": [
        "Esto nos dió de resultado una multipliación igual a \n",
        "```\n",
        "tf.matmul(a=X, b=Y, transpose_a=True, transpose_b=False)\n",
        "```\n",
        "\n",
        "Ya que establecimos `axes=1`, y como se menciona en la [documentación](https://www.tensorflow.org/api_docs/python/tf/tensordot?authuser=1) de TF\n",
        "\n",
        "> When `a` and `b` are matrices (order 2), the case `axes=1` is equivalent to matrix multiplication.\n",
        "\n"
      ],
      "metadata": {
        "id": "jczT2HQUzlFB"
      }
    },
    {
      "cell_type": "markdown",
      "source": [
        "## Cambiar el `datatype` de un tensor (`tf.cast`)"
      ],
      "metadata": {
        "id": "pvtVnZl5xoom"
      }
    },
    {
      "cell_type": "markdown",
      "source": [
        "Dependiendo de la precisión que uno desee tener en los datos, se puede cambiar arbitrariamente el tipo de dato. Si se quiere tener poca precisión, se puede usar un `16 bit` de punto flotante frente uno de `32 bit`.\n",
        "\n",
        "Cambiar el tipo de dato se lleva a cabo con `tf.cast()`"
      ],
      "metadata": {
        "id": "qFIXCafWxot1"
      }
    },
    {
      "cell_type": "code",
      "source": [
        "# Crear un nuevo tensor con float32 por default\n",
        "C = tf.constant([1.7, 7.4])\n",
        "C"
      ],
      "metadata": {
        "colab": {
          "base_uri": "https://localhost:8080/"
        },
        "id": "FEbnE5ZVxoyo",
        "outputId": "64ec6924-4996-4324-9692-d2786630e6f2"
      },
      "execution_count": 87,
      "outputs": [
        {
          "output_type": "execute_result",
          "data": {
            "text/plain": [
              "<tf.Tensor: shape=(2,), dtype=float32, numpy=array([1.7, 7.4], dtype=float32)>"
            ]
          },
          "metadata": {},
          "execution_count": 87
        }
      ]
    },
    {
      "cell_type": "code",
      "source": [
        "# Crear un nuevo tensor con int32 por default\n",
        "D = tf.constant([1,7])\n",
        "D"
      ],
      "metadata": {
        "colab": {
          "base_uri": "https://localhost:8080/"
        },
        "id": "9POq2IExxo21",
        "outputId": "0178b065-f211-48b8-a9fa-fa327f9c70f4"
      },
      "execution_count": 88,
      "outputs": [
        {
          "output_type": "execute_result",
          "data": {
            "text/plain": [
              "<tf.Tensor: shape=(2,), dtype=int32, numpy=array([1, 7], dtype=int32)>"
            ]
          },
          "metadata": {},
          "execution_count": 88
        }
      ]
    },
    {
      "cell_type": "code",
      "source": [
        "# Cambiar de float32 a float16\n",
        "C = tf.cast(C, dtype=tf.float16)\n",
        "C"
      ],
      "metadata": {
        "colab": {
          "base_uri": "https://localhost:8080/"
        },
        "id": "9AQMGQbn40UJ",
        "outputId": "a2b21e0c-1293-4a0d-b3b0-67ff2db2988b"
      },
      "execution_count": 90,
      "outputs": [
        {
          "output_type": "execute_result",
          "data": {
            "text/plain": [
              "<tf.Tensor: shape=(2,), dtype=float16, numpy=array([1.7, 7.4], dtype=float16)>"
            ]
          },
          "metadata": {},
          "execution_count": 90
        }
      ]
    },
    {
      "cell_type": "code",
      "source": [
        "# Cambiar de int32 a float32\n",
        "D = tf.cast(D, dtype=tf.float32)\n",
        "D"
      ],
      "metadata": {
        "colab": {
          "base_uri": "https://localhost:8080/"
        },
        "id": "fQ_woTiX40YN",
        "outputId": "096cd76f-5ed7-4dbb-cd5b-2b77dcbb36e9"
      },
      "execution_count": 91,
      "outputs": [
        {
          "output_type": "execute_result",
          "data": {
            "text/plain": [
              "<tf.Tensor: shape=(2,), dtype=float32, numpy=array([1., 7.], dtype=float32)>"
            ]
          },
          "metadata": {},
          "execution_count": 91
        }
      ]
    },
    {
      "cell_type": "markdown",
      "source": [
        "## Obtener valor absoluto\n",
        "\n",
        "La operación de obtener valor absoluto es con `tf.abs()`"
      ],
      "metadata": {
        "id": "oPtDG_tI40cP"
      }
    },
    {
      "cell_type": "code",
      "source": [
        "# Crear un tensor con valores negativos\n",
        "F = tf.constant([-7, -10])\n",
        "F"
      ],
      "metadata": {
        "colab": {
          "base_uri": "https://localhost:8080/"
        },
        "id": "clnvltYr5KmS",
        "outputId": "dfb13414-7a24-435f-b02e-dc099ea08324"
      },
      "execution_count": 92,
      "outputs": [
        {
          "output_type": "execute_result",
          "data": {
            "text/plain": [
              "<tf.Tensor: shape=(2,), dtype=int32, numpy=array([ -7, -10], dtype=int32)>"
            ]
          },
          "metadata": {},
          "execution_count": 92
        }
      ]
    },
    {
      "cell_type": "code",
      "source": [
        "# Obtener el valor absoluto\n",
        "tf.abs(F)"
      ],
      "metadata": {
        "colab": {
          "base_uri": "https://localhost:8080/"
        },
        "id": "muZFf82K5Kpp",
        "outputId": "83b63e36-0c8a-4b32-f00e-4449c6bd2d34"
      },
      "execution_count": 93,
      "outputs": [
        {
          "output_type": "execute_result",
          "data": {
            "text/plain": [
              "<tf.Tensor: shape=(2,), dtype=int32, numpy=array([ 7, 10], dtype=int32)>"
            ]
          },
          "metadata": {},
          "execution_count": 93
        }
      ]
    },
    {
      "cell_type": "markdown",
      "source": [
        "## Encontrar Mínimo, Máximo, Promedio y Sum"
      ],
      "metadata": {
        "id": "d2E8OqpD40f8"
      }
    },
    {
      "cell_type": "markdown",
      "source": [
        "Las cuatro funciones de esta subsección nos serán de gran utilidad cuando obtengamos las probabilidades de una predicción, así como las propias predicciones. \n",
        "\n",
        "En una red neuronal, se obtiene inicialmente una probabilidad, que despúes se transforma a una etiqueta `0` o `1` en el caso binario, dado un umbral de decisión, por ejemplo. Esto es algo que veremos en futuros notebooks, por el momento, es útil saber para qué se utiliza cada funcionalidad.\n",
        "\n",
        "Por lo tanto, tenemos que:\n",
        "* `tf.reduce_max()`- encuentra el mínimo valor de un tensor\n",
        "* `tf.reduce_min()`- encuentra el máximo valor de un tensor\n",
        "* `tf.reduce_mean()`- obtiene el promedio de todos los elementos en un tensor\n",
        "* `tf.reduce_sum()`- obtiene la suma de todos los elementos en un tensor\n",
        "\n",
        "🚨 **Atención:** en algunos casos, se tendrá que utilizar ``tf.math` para invocar cada uno de los métodos anteriores."
      ],
      "metadata": {
        "id": "JGY5G9FY5yZC"
      }
    },
    {
      "cell_type": "code",
      "source": [
        "# Crear un tensor con 50 valores aleatorios entre 0 y 100\n",
        "G = tf.constant(np.random.randint(low=0, high=100, size=50))\n",
        "G"
      ],
      "metadata": {
        "colab": {
          "base_uri": "https://localhost:8080/"
        },
        "id": "GaroBYuM5ydI",
        "outputId": "11cd80fe-9325-4d0d-f73a-8ade214cf8b6"
      },
      "execution_count": 96,
      "outputs": [
        {
          "output_type": "execute_result",
          "data": {
            "text/plain": [
              "<tf.Tensor: shape=(50,), dtype=int64, numpy=\n",
              "array([64, 77,  7, 46, 47, 94, 31, 50, 64, 61, 56, 94, 82, 38, 43, 28, 98,\n",
              "       45, 66, 93, 30, 23, 27, 95, 89, 85, 38, 69, 69, 96,  1, 11, 17,  9,\n",
              "       76, 10, 61, 56, 85, 65, 85, 95,  9, 88, 12, 24, 84, 16, 69, 65])>"
            ]
          },
          "metadata": {},
          "execution_count": 96
        }
      ]
    },
    {
      "cell_type": "code",
      "source": [
        "# Encuentra el mínimo\n",
        "tf.reduce_min(G)"
      ],
      "metadata": {
        "colab": {
          "base_uri": "https://localhost:8080/"
        },
        "id": "9dd93Ugb5ygX",
        "outputId": "cbbd67f5-24c7-4d3a-c03c-bcbdfe95d1be"
      },
      "execution_count": 97,
      "outputs": [
        {
          "output_type": "execute_result",
          "data": {
            "text/plain": [
              "<tf.Tensor: shape=(), dtype=int64, numpy=1>"
            ]
          },
          "metadata": {},
          "execution_count": 97
        }
      ]
    },
    {
      "cell_type": "code",
      "source": [
        "# Encuentra el máximo\n",
        "tf.reduce_max(G)"
      ],
      "metadata": {
        "colab": {
          "base_uri": "https://localhost:8080/"
        },
        "id": "x7BHF6998V-d",
        "outputId": "c09245f6-5712-4709-cf83-6f271d94abdc"
      },
      "execution_count": 98,
      "outputs": [
        {
          "output_type": "execute_result",
          "data": {
            "text/plain": [
              "<tf.Tensor: shape=(), dtype=int64, numpy=98>"
            ]
          },
          "metadata": {},
          "execution_count": 98
        }
      ]
    },
    {
      "cell_type": "code",
      "source": [
        "# Promedio del tensor\n",
        "tf.reduce_mean(G)"
      ],
      "metadata": {
        "colab": {
          "base_uri": "https://localhost:8080/"
        },
        "id": "PpDMfGit8WDj",
        "outputId": "de7adabc-b0ec-4796-e39c-76f1faa7d388"
      },
      "execution_count": 102,
      "outputs": [
        {
          "output_type": "execute_result",
          "data": {
            "text/plain": [
              "<tf.Tensor: shape=(), dtype=int64, numpy=54>"
            ]
          },
          "metadata": {},
          "execution_count": 102
        }
      ]
    },
    {
      "cell_type": "code",
      "source": [
        "# Suma de todos los elementos\n",
        "tf.reduce_sum(G)"
      ],
      "metadata": {
        "colab": {
          "base_uri": "https://localhost:8080/"
        },
        "id": "ckxZXE4-8WId",
        "outputId": "92d2dd29-3bec-4929-b89b-11155f277742"
      },
      "execution_count": 101,
      "outputs": [
        {
          "output_type": "execute_result",
          "data": {
            "text/plain": [
              "<tf.Tensor: shape=(), dtype=int64, numpy=2743>"
            ]
          },
          "metadata": {},
          "execution_count": 101
        }
      ]
    },
    {
      "cell_type": "markdown",
      "source": [
        "🔑 **Nota:** Cuando ocupamos cualquiera de las funciones de arriba, no regresa un número exactamente, sino una *lista* con características. Para obtener únicamente el número, se ocupa el `.numpy()` como en el siguiente ejemplo:"
      ],
      "metadata": {
        "id": "S6muEEcO8WNh"
      }
    },
    {
      "cell_type": "code",
      "source": [
        "# Obtener únicamente el valor numerico\n",
        "tf.reduce_sum(G).numpy()"
      ],
      "metadata": {
        "colab": {
          "base_uri": "https://localhost:8080/"
        },
        "id": "IXNkWYhs8WTC",
        "outputId": "f86744d0-ab55-4eab-c754-8b4b7b8b66df"
      },
      "execution_count": 104,
      "outputs": [
        {
          "output_type": "execute_result",
          "data": {
            "text/plain": [
              "2743"
            ]
          },
          "metadata": {},
          "execution_count": 104
        }
      ]
    },
    {
      "cell_type": "markdown",
      "source": [
        "## Encontrar las posiciones de máximo y mínimo"
      ],
      "metadata": {
        "id": "dEsEQJpx8WYn"
      }
    },
    {
      "cell_type": "markdown",
      "source": [
        "A diferencia de obtener los valores mínimos y máximos, ahora queremos saber en qué posición se encuentran esos mínimos y máximos. Esto nos será útil para obtener las predicciones finales de un modelo. Imagina lo siguiente:\n",
        "\n",
        "> Estamos entrenando una red neuronal para que coches con conducción automática detecten cuando la luz en el semáforo es verde, amarilla o roja, por lo que tenemos una lista `[verde, amarillo, rojo]`. Una vez entrenada, le pasamos una foto a nuestra red neuronal de un semaforo en rojo, lo que arroja es lo siguiente:\n",
        "```\n",
        "pred = [0.87, 0.04, 0.09]\n",
        "```\n",
        "el modelo indíca a través de una lista, la probabilidad de que sea una u otra clase o color del semáforo. Observa que todas suman `1`, y que no hay un *es verde* absoluto por parte del modelo. La forma de interpretar ese resultado es decir:\n",
        "* El modelo está seguro en un 87% de que el semáforo de la foto está en verde\n",
        "* El modelo está seguro en un 4% de que el semáforo de la foto está en amarillo\n",
        "* El modelo está seguro en un 9% de que el semáforo de la foto está en rojo\n",
        "Por lo tanto, necesitamos obtener la posición de la probabilidad más alta (`0`, `1` o `2`) lo cual se traduce en `[verde, amarillo, rojo]`\n",
        "\n",
        "No te preocupes si suele ser confuso este primer ejemplo, cuando lleguemos a hacer redes neuronales quedará más claro. Por el momento, es importante saber que con\n",
        "* `tf.argmax()` - se obtiene la posición con el valor más alto\n",
        "* `tf.argmin()` - se obtiene la posición con el valor más pequeño\n"
      ],
      "metadata": {
        "id": "Xl5ZUTqg40jK"
      }
    },
    {
      "cell_type": "code",
      "source": [
        "# Crear un tendor con valores aleatorios entre 0 y 1\n",
        "H = tf.constant(np.random.random(50))\n",
        "H"
      ],
      "metadata": {
        "colab": {
          "base_uri": "https://localhost:8080/"
        },
        "id": "6j5l18gaAYPP",
        "outputId": "4a861964-d8b1-4673-9054-826e8467a7ca"
      },
      "execution_count": 107,
      "outputs": [
        {
          "output_type": "execute_result",
          "data": {
            "text/plain": [
              "<tf.Tensor: shape=(50,), dtype=float64, numpy=\n",
              "array([0.4559796 , 0.39877653, 0.19095139, 0.79184619, 0.29877809,\n",
              "       0.16454654, 0.50702635, 0.50919125, 0.76706146, 0.16509764,\n",
              "       0.01867618, 0.46026949, 0.15588765, 0.20361913, 0.95811798,\n",
              "       0.01681733, 0.53484964, 0.57428497, 0.46173532, 0.73242567,\n",
              "       0.50448838, 0.17274805, 0.20875544, 0.29778227, 0.03858807,\n",
              "       0.40665142, 0.91112438, 0.88226389, 0.16732068, 0.34821828,\n",
              "       0.34684253, 0.36936566, 0.59094775, 0.8496591 , 0.18373233,\n",
              "       0.37006957, 0.03506266, 0.19949871, 0.7077283 , 0.25048435,\n",
              "       0.73985053, 0.71407248, 0.45390092, 0.29336926, 0.82156016,\n",
              "       0.77278949, 0.34424807, 0.40211557, 0.48694739, 0.04772041])>"
            ]
          },
          "metadata": {},
          "execution_count": 107
        }
      ]
    },
    {
      "cell_type": "code",
      "source": [
        "# Posición con el valor más alto\n",
        "tf.argmax(H)"
      ],
      "metadata": {
        "colab": {
          "base_uri": "https://localhost:8080/"
        },
        "id": "xu8u02dwAYS7",
        "outputId": "406f5f16-8b6b-4a3b-ccce-c6afeb85321e"
      },
      "execution_count": 108,
      "outputs": [
        {
          "output_type": "execute_result",
          "data": {
            "text/plain": [
              "<tf.Tensor: shape=(), dtype=int64, numpy=14>"
            ]
          },
          "metadata": {},
          "execution_count": 108
        }
      ]
    },
    {
      "cell_type": "code",
      "source": [
        "# Posición con el valor más bajo\n",
        "tf.argmin(H)"
      ],
      "metadata": {
        "colab": {
          "base_uri": "https://localhost:8080/"
        },
        "id": "O_PctqsmAYWf",
        "outputId": "77672dfd-8e76-41f2-eea4-8d0f225155ca"
      },
      "execution_count": 109,
      "outputs": [
        {
          "output_type": "execute_result",
          "data": {
            "text/plain": [
              "<tf.Tensor: shape=(), dtype=int64, numpy=15>"
            ]
          },
          "metadata": {},
          "execution_count": 109
        }
      ]
    },
    {
      "cell_type": "code",
      "source": [
        "# Obtener valor más alto (similar a tf.reduce_max())\n",
        "H[tf.argmax(H)].numpy()"
      ],
      "metadata": {
        "colab": {
          "base_uri": "https://localhost:8080/"
        },
        "id": "JOwQUun-AYaP",
        "outputId": "ca2a0c7b-6370-48c0-93b9-b46eb1420b3a"
      },
      "execution_count": 111,
      "outputs": [
        {
          "output_type": "execute_result",
          "data": {
            "text/plain": [
              "0.9581179765070275"
            ]
          },
          "metadata": {},
          "execution_count": 111
        }
      ]
    },
    {
      "cell_type": "code",
      "source": [
        "# Obtener valor más bajo (similar a tf.reduce_min())\n",
        "H[tf.argmin(H)].numpy()"
      ],
      "metadata": {
        "colab": {
          "base_uri": "https://localhost:8080/"
        },
        "id": "b3QmiTU440l2",
        "outputId": "138437f2-6cfc-4a85-8bc1-e8ec7ad82b15"
      },
      "execution_count": 112,
      "outputs": [
        {
          "output_type": "execute_result",
          "data": {
            "text/plain": [
              "0.016817334875473433"
            ]
          },
          "metadata": {},
          "execution_count": 112
        }
      ]
    },
    {
      "cell_type": "markdown",
      "source": [
        "## Squeezing (remover dimensiones de un tensor)\n"
      ],
      "metadata": {
        "id": "vL7OqFZxGbdR"
      }
    },
    {
      "cell_type": "markdown",
      "source": [
        "Un par de líneas arriba veiamos que podíamos añadir dimension con `tf.expand_dims()` sin modificar el propio contenido de un tensor. Ahora bien, imagina que tenemos:\n",
        "\n",
        "```\n",
        "x = [[0.9, 0.8, 0.5]]\n",
        "```\n",
        "\n",
        "Si nosotros quisieramos acceder al valor `0.9`, no bastaría con indexar una vez, sino dos\n",
        "```\n",
        "x[0][0]\n",
        "```\n",
        "\n",
        "ya que tenemos una lista dentro de otra lista. Para quitar esa dimensión extra, o encapsulado *extra* que tenemos de la lista más incrustada, ocupamos `tf.squeeze()`. \n",
        "\n",
        "Teóricamente, en Deep Learning veremos que añadir dimensiones será útil cuando nuestro clasificador no es tan bueno (por ejemplo [**the kernel trick**](https://medium.com/@zxr.nju/what-is-the-kernel-trick-why-is-it-important-98a98db0961d)), y en otras ocasiones, estará tan saturado de dimensiones que lo mejor será ayudarlo quitando un poco de peso."
      ],
      "metadata": {
        "id": "lAUvLQw1GbiQ"
      }
    },
    {
      "cell_type": "code",
      "source": [
        "# Crea un tensor de rank 5 con numeros entre 0 y 100\n",
        "I = tf.constant(np.random.randint(0, 100, 50), shape=(1, 1, 1, 1, 50))\n",
        "I"
      ],
      "metadata": {
        "colab": {
          "base_uri": "https://localhost:8080/"
        },
        "id": "vg3rH9MqGbm7",
        "outputId": "45dc2e1b-9e5b-477d-b399-b1ccd0e661b9"
      },
      "execution_count": 114,
      "outputs": [
        {
          "output_type": "execute_result",
          "data": {
            "text/plain": [
              "<tf.Tensor: shape=(1, 1, 1, 1, 50), dtype=int64, numpy=\n",
              "array([[[[[51, 32, 64, 51, 39, 10, 34, 40, 26, 94, 16, 13, 58, 43, 77,\n",
              "           84, 38, 37, 49, 35,  0, 22, 69, 22, 69, 15, 47,  6, 99, 45,\n",
              "           80, 17, 17, 12, 83, 38, 76, 91, 59, 96, 34, 90, 27, 33, 33,\n",
              "           71, 96, 61, 30, 91]]]]])>"
            ]
          },
          "metadata": {},
          "execution_count": 114
        }
      ]
    },
    {
      "cell_type": "code",
      "source": [
        "# Obten shape y numero de dimensionses\n",
        "I.shape, I.ndim"
      ],
      "metadata": {
        "colab": {
          "base_uri": "https://localhost:8080/"
        },
        "id": "BFWk_2mDGbq0",
        "outputId": "ccc4f711-ccc8-4075-f304-6bc27df285b4"
      },
      "execution_count": 115,
      "outputs": [
        {
          "output_type": "execute_result",
          "data": {
            "text/plain": [
              "(TensorShape([1, 1, 1, 1, 50]), 5)"
            ]
          },
          "metadata": {},
          "execution_count": 115
        }
      ]
    },
    {
      "cell_type": "markdown",
      "source": [
        "Tenemos varias dimensiones extra, o lo que es igual a tener una lista, dentro de otra lista, dentro de otra lista, dentro de otra lista, dentro de toda una lista final."
      ],
      "metadata": {
        "id": "boeu43yaICAj"
      }
    },
    {
      "cell_type": "code",
      "source": [
        "# Aplica squeeze y observa cómo ha cambiado el shape\n",
        "I_sq = tf.squeeze(I)\n",
        "I_sq"
      ],
      "metadata": {
        "colab": {
          "base_uri": "https://localhost:8080/"
        },
        "id": "AMEOTigmICEj",
        "outputId": "abf30545-f8d9-4db0-99a3-c35ee852b185"
      },
      "execution_count": 118,
      "outputs": [
        {
          "output_type": "execute_result",
          "data": {
            "text/plain": [
              "<tf.Tensor: shape=(50,), dtype=int64, numpy=\n",
              "array([51, 32, 64, 51, 39, 10, 34, 40, 26, 94, 16, 13, 58, 43, 77, 84, 38,\n",
              "       37, 49, 35,  0, 22, 69, 22, 69, 15, 47,  6, 99, 45, 80, 17, 17, 12,\n",
              "       83, 38, 76, 91, 59, 96, 34, 90, 27, 33, 33, 71, 96, 61, 30, 91])>"
            ]
          },
          "metadata": {},
          "execution_count": 118
        }
      ]
    },
    {
      "cell_type": "code",
      "source": [
        ""
      ],
      "metadata": {
        "id": "zPV-Cb8uICIL"
      },
      "execution_count": null,
      "outputs": []
    },
    {
      "cell_type": "code",
      "source": [
        ""
      ],
      "metadata": {
        "id": "Xv-ysvHhIsV9"
      },
      "execution_count": null,
      "outputs": []
    },
    {
      "cell_type": "code",
      "source": [
        ""
      ],
      "metadata": {
        "id": "-uqo_LwZIsZy"
      },
      "execution_count": null,
      "outputs": []
    }
  ]
}