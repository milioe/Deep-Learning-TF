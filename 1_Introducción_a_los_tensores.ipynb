{
  "nbformat": 4,
  "nbformat_minor": 0,
  "metadata": {
    "colab": {
      "name": "1. Introducción a los tensores.ipynb",
      "provenance": [],
      "collapsed_sections": [],
      "authorship_tag": "ABX9TyNZw8sSvkLsI6B29kdJohwY",
      "include_colab_link": true
    },
    "kernelspec": {
      "name": "python3",
      "display_name": "Python 3"
    },
    "language_info": {
      "name": "python"
    }
  },
  "cells": [
    {
      "cell_type": "markdown",
      "metadata": {
        "id": "view-in-github",
        "colab_type": "text"
      },
      "source": [
        "<a href=\"https://colab.research.google.com/github/milioe/Deep-Learning-TF/blob/main/1_Introducci%C3%B3n_a_los_tensores.ipynb\" target=\"_parent\"><img src=\"https://colab.research.google.com/assets/colab-badge.svg\" alt=\"Open In Colab\"/></a>"
      ]
    },
    {
      "cell_type": "markdown",
      "source": [
        "# Deep Learning: Redes Neuronales Artificiales con TensorFlow\n",
        "\n"
      ],
      "metadata": {
        "id": "M1O0D4yn-80Q"
      }
    },
    {
      "cell_type": "markdown",
      "source": [
        "# Introducción a los tensores\n",
        "## Índice:\n",
        "1. Creación de tensores\n",
        "2. Atributos de tensores\n",
        "3. Manipulación de tensores\n",
        "4. Tensores y NumPy\n",
        "5. `@tf.function`\n",
        "6. Uso de GPU con TensorFlow\n",
        "7. Ejercicios"
      ],
      "metadata": {
        "id": "xKc08fMokbhU"
      }
    },
    {
      "cell_type": "markdown",
      "source": [
        "## Creación de tensores"
      ],
      "metadata": {
        "id": "MMDKQjdy_o8G"
      }
    },
    {
      "cell_type": "markdown",
      "source": [
        "Lo primero que tendremos que hacer, es importar la librería de TensorFlow y revisar qué versión tenemos. Google Colab ya lo tiene resuelto para nosotros, incluso con las últimas versiones de cada librería.\n",
        "\n",
        "🔑 **Nota**: La versión de TF 1.x y 2.x son totalmente diferentes.\n"
      ],
      "metadata": {
        "id": "W5oIp2Qgk3bX"
      }
    },
    {
      "cell_type": "code",
      "source": [
        "import tensorflow as tf\n",
        "print(tf.__version__) # conocer la versión"
      ],
      "metadata": {
        "colab": {
          "base_uri": "https://localhost:8080/"
        },
        "id": "OTMsAz9XBB0u",
        "outputId": "9182335e-bf07-4bb1-fb0e-423edb87bee4"
      },
      "execution_count": 2,
      "outputs": [
        {
          "output_type": "stream",
          "name": "stdout",
          "text": [
            "2.8.2\n"
          ]
        }
      ]
    },
    {
      "cell_type": "markdown",
      "source": [
        "Si alguna vez has usado la librería de NumPy, debes de saber que los tensores son tipos de arrays de NumPy.\n",
        "\n",
        "Como se ha visto en las diapositivas, los tensores se pueden entender como representaciones numéricas multidimensionales (o *n-dimensional* en inglés).\n",
        "\n",
        "Algunos ejemplos de lo que podemos representar como tensores son:\n",
        "* Precios de casas\n",
        "* Pixeles de una imagen\n",
        "* Texto\n",
        "* Otros tipos de datos\n",
        "\n",
        "La **principal** diferencia entre **tensores** de TensorFlow y **arrays** de NumPy es que los tensores pueden ser usados con GPUs (Graphical Processing Units) y TPUs (Tensors Processing Units), lo que significa que tendremos mayor velocidad de computación."
      ],
      "metadata": {
        "id": "z6aO5Q5Ent8R"
      }
    },
    {
      "cell_type": "markdown",
      "source": [
        "## Creación de tensores con `tf.constant`"
      ],
      "metadata": {
        "id": "0sfuc_L2BB6P"
      }
    },
    {
      "cell_type": "markdown",
      "source": [
        "El método `.constant()` es un modulo construido para convertir cualquier dato numérico en tensores y de esta forma, alimentar a nuestra red neuronal. "
      ],
      "metadata": {
        "id": "4amYlWQoou0d"
      }
    },
    {
      "cell_type": "code",
      "source": [
        "# Crear un scalar\n",
        "scalar = tf.constant(7)\n",
        "scalar"
      ],
      "metadata": {
        "colab": {
          "base_uri": "https://localhost:8080/"
        },
        "id": "n81uEIowBB_w",
        "outputId": "768171f4-e74b-46e2-ae4e-78e42fd3e5f5"
      },
      "execution_count": 3,
      "outputs": [
        {
          "output_type": "execute_result",
          "data": {
            "text/plain": [
              "<tf.Tensor: shape=(), dtype=int32, numpy=7>"
            ]
          },
          "metadata": {},
          "execution_count": 3
        }
      ]
    },
    {
      "cell_type": "markdown",
      "source": [
        "Un escalar es un tensor con rank 0, dado que no tiene dimensiones (es sólo un número)."
      ],
      "metadata": {
        "id": "0jDdoB3T_pAv"
      }
    },
    {
      "cell_type": "code",
      "source": [
        "# Revisar el numero de dimensiones con .ndim\n",
        "scalar.ndim"
      ],
      "metadata": {
        "colab": {
          "base_uri": "https://localhost:8080/"
        },
        "id": "Qq8RnSJN_pFA",
        "outputId": "c96c78f7-cf49-4fd6-faf1-85f5e3b1d937"
      },
      "execution_count": 4,
      "outputs": [
        {
          "output_type": "execute_result",
          "data": {
            "text/plain": [
              "0"
            ]
          },
          "metadata": {},
          "execution_count": 4
        }
      ]
    },
    {
      "cell_type": "code",
      "source": [
        "# Crear un vector (más de 0 dimensiones)\n",
        "vector = tf.constant([10,10])\n",
        "vector"
      ],
      "metadata": {
        "colab": {
          "base_uri": "https://localhost:8080/"
        },
        "id": "HaHMjhAl_pJb",
        "outputId": "167b352b-8e21-4bc7-f52a-9ad80487d7fc"
      },
      "execution_count": 5,
      "outputs": [
        {
          "output_type": "execute_result",
          "data": {
            "text/plain": [
              "<tf.Tensor: shape=(2,), dtype=int32, numpy=array([10, 10], dtype=int32)>"
            ]
          },
          "metadata": {},
          "execution_count": 5
        }
      ]
    },
    {
      "cell_type": "code",
      "source": [
        "# Revisar el numero de dimensiones\n",
        "vector.ndim"
      ],
      "metadata": {
        "colab": {
          "base_uri": "https://localhost:8080/"
        },
        "id": "DECHeg3Xqp5u",
        "outputId": "1f7ba96f-ffba-44cc-8cff-cc9458df0563"
      },
      "execution_count": 6,
      "outputs": [
        {
          "output_type": "execute_result",
          "data": {
            "text/plain": [
              "1"
            ]
          },
          "metadata": {},
          "execution_count": 6
        }
      ]
    },
    {
      "cell_type": "markdown",
      "source": [
        "Observa cómo, a diferencia de un *scalar*, debemos de poner los valores de un vector entre corchetes, ya que de lo contrario, TF tomará el segundo `10` como un argumento, más no como un valor. Inténtalo en la siguiente celda."
      ],
      "metadata": {
        "id": "d0ixo2k6pN4U"
      }
    },
    {
      "cell_type": "code",
      "source": [
        "vector_2 = tf.constant(10, 10)\n",
        "vector_2"
      ],
      "metadata": {
        "colab": {
          "base_uri": "https://localhost:8080/",
          "height": 336
        },
        "id": "EA3pdj2npN8c",
        "outputId": "2242bd30-5d2d-4450-8127-4d651858c8db"
      },
      "execution_count": 7,
      "outputs": [
        {
          "output_type": "error",
          "ename": "TypeError",
          "evalue": "ignored",
          "traceback": [
            "\u001b[0;31m---------------------------------------------------------------------------\u001b[0m",
            "\u001b[0;31mTypeError\u001b[0m                                 Traceback (most recent call last)",
            "\u001b[0;32m<ipython-input-7-96b98d44462c>\u001b[0m in \u001b[0;36m<module>\u001b[0;34m()\u001b[0m\n\u001b[0;32m----> 1\u001b[0;31m \u001b[0mvector_2\u001b[0m \u001b[0;34m=\u001b[0m \u001b[0mtf\u001b[0m\u001b[0;34m.\u001b[0m\u001b[0mconstant\u001b[0m\u001b[0;34m(\u001b[0m\u001b[0;36m10\u001b[0m\u001b[0;34m,\u001b[0m \u001b[0;36m10\u001b[0m\u001b[0;34m)\u001b[0m\u001b[0;34m\u001b[0m\u001b[0;34m\u001b[0m\u001b[0m\n\u001b[0m\u001b[1;32m      2\u001b[0m \u001b[0mvector_2\u001b[0m\u001b[0;34m\u001b[0m\u001b[0;34m\u001b[0m\u001b[0m\n",
            "\u001b[0;32m/usr/local/lib/python3.7/dist-packages/tensorflow/python/framework/constant_op.py\u001b[0m in \u001b[0;36mconstant\u001b[0;34m(value, dtype, shape, name)\u001b[0m\n\u001b[1;32m    266\u001b[0m   \"\"\"\n\u001b[1;32m    267\u001b[0m   return _constant_impl(value, dtype, shape, name, verify_shape=False,\n\u001b[0;32m--> 268\u001b[0;31m                         allow_broadcast=True)\n\u001b[0m\u001b[1;32m    269\u001b[0m \u001b[0;34m\u001b[0m\u001b[0m\n\u001b[1;32m    270\u001b[0m \u001b[0;34m\u001b[0m\u001b[0m\n",
            "\u001b[0;32m/usr/local/lib/python3.7/dist-packages/tensorflow/python/framework/constant_op.py\u001b[0m in \u001b[0;36m_constant_impl\u001b[0;34m(value, dtype, shape, name, verify_shape, allow_broadcast)\u001b[0m\n\u001b[1;32m    277\u001b[0m       \u001b[0;32mwith\u001b[0m \u001b[0mtrace\u001b[0m\u001b[0;34m.\u001b[0m\u001b[0mTrace\u001b[0m\u001b[0;34m(\u001b[0m\u001b[0;34m\"tf.constant\"\u001b[0m\u001b[0;34m)\u001b[0m\u001b[0;34m:\u001b[0m\u001b[0;34m\u001b[0m\u001b[0;34m\u001b[0m\u001b[0m\n\u001b[1;32m    278\u001b[0m         \u001b[0;32mreturn\u001b[0m \u001b[0m_constant_eager_impl\u001b[0m\u001b[0;34m(\u001b[0m\u001b[0mctx\u001b[0m\u001b[0;34m,\u001b[0m \u001b[0mvalue\u001b[0m\u001b[0;34m,\u001b[0m \u001b[0mdtype\u001b[0m\u001b[0;34m,\u001b[0m \u001b[0mshape\u001b[0m\u001b[0;34m,\u001b[0m \u001b[0mverify_shape\u001b[0m\u001b[0;34m)\u001b[0m\u001b[0;34m\u001b[0m\u001b[0;34m\u001b[0m\u001b[0m\n\u001b[0;32m--> 279\u001b[0;31m     \u001b[0;32mreturn\u001b[0m \u001b[0m_constant_eager_impl\u001b[0m\u001b[0;34m(\u001b[0m\u001b[0mctx\u001b[0m\u001b[0;34m,\u001b[0m \u001b[0mvalue\u001b[0m\u001b[0;34m,\u001b[0m \u001b[0mdtype\u001b[0m\u001b[0;34m,\u001b[0m \u001b[0mshape\u001b[0m\u001b[0;34m,\u001b[0m \u001b[0mverify_shape\u001b[0m\u001b[0;34m)\u001b[0m\u001b[0;34m\u001b[0m\u001b[0;34m\u001b[0m\u001b[0m\n\u001b[0m\u001b[1;32m    280\u001b[0m \u001b[0;34m\u001b[0m\u001b[0m\n\u001b[1;32m    281\u001b[0m   \u001b[0mg\u001b[0m \u001b[0;34m=\u001b[0m \u001b[0mops\u001b[0m\u001b[0;34m.\u001b[0m\u001b[0mget_default_graph\u001b[0m\u001b[0;34m(\u001b[0m\u001b[0;34m)\u001b[0m\u001b[0;34m\u001b[0m\u001b[0;34m\u001b[0m\u001b[0m\n",
            "\u001b[0;32m/usr/local/lib/python3.7/dist-packages/tensorflow/python/framework/constant_op.py\u001b[0m in \u001b[0;36m_constant_eager_impl\u001b[0;34m(ctx, value, dtype, shape, verify_shape)\u001b[0m\n\u001b[1;32m    302\u001b[0m \u001b[0;32mdef\u001b[0m \u001b[0m_constant_eager_impl\u001b[0m\u001b[0;34m(\u001b[0m\u001b[0mctx\u001b[0m\u001b[0;34m,\u001b[0m \u001b[0mvalue\u001b[0m\u001b[0;34m,\u001b[0m \u001b[0mdtype\u001b[0m\u001b[0;34m,\u001b[0m \u001b[0mshape\u001b[0m\u001b[0;34m,\u001b[0m \u001b[0mverify_shape\u001b[0m\u001b[0;34m)\u001b[0m\u001b[0;34m:\u001b[0m\u001b[0;34m\u001b[0m\u001b[0;34m\u001b[0m\u001b[0m\n\u001b[1;32m    303\u001b[0m   \u001b[0;34m\"\"\"Creates a constant on the current device.\"\"\"\u001b[0m\u001b[0;34m\u001b[0m\u001b[0;34m\u001b[0m\u001b[0m\n\u001b[0;32m--> 304\u001b[0;31m   \u001b[0mt\u001b[0m \u001b[0;34m=\u001b[0m \u001b[0mconvert_to_eager_tensor\u001b[0m\u001b[0;34m(\u001b[0m\u001b[0mvalue\u001b[0m\u001b[0;34m,\u001b[0m \u001b[0mctx\u001b[0m\u001b[0;34m,\u001b[0m \u001b[0mdtype\u001b[0m\u001b[0;34m)\u001b[0m\u001b[0;34m\u001b[0m\u001b[0;34m\u001b[0m\u001b[0m\n\u001b[0m\u001b[1;32m    305\u001b[0m   \u001b[0;32mif\u001b[0m \u001b[0mshape\u001b[0m \u001b[0;32mis\u001b[0m \u001b[0;32mNone\u001b[0m\u001b[0;34m:\u001b[0m\u001b[0;34m\u001b[0m\u001b[0;34m\u001b[0m\u001b[0m\n\u001b[1;32m    306\u001b[0m     \u001b[0;32mreturn\u001b[0m \u001b[0mt\u001b[0m\u001b[0;34m\u001b[0m\u001b[0;34m\u001b[0m\u001b[0m\n",
            "\u001b[0;32m/usr/local/lib/python3.7/dist-packages/tensorflow/python/framework/constant_op.py\u001b[0m in \u001b[0;36mconvert_to_eager_tensor\u001b[0;34m(value, ctx, dtype)\u001b[0m\n\u001b[1;32m    100\u001b[0m       \u001b[0mdtype\u001b[0m \u001b[0;34m=\u001b[0m \u001b[0mdtypes\u001b[0m\u001b[0;34m.\u001b[0m\u001b[0mas_dtype\u001b[0m\u001b[0;34m(\u001b[0m\u001b[0mdtype\u001b[0m\u001b[0;34m)\u001b[0m\u001b[0;34m.\u001b[0m\u001b[0mas_datatype_enum\u001b[0m\u001b[0;34m\u001b[0m\u001b[0;34m\u001b[0m\u001b[0m\n\u001b[1;32m    101\u001b[0m   \u001b[0mctx\u001b[0m\u001b[0;34m.\u001b[0m\u001b[0mensure_initialized\u001b[0m\u001b[0;34m(\u001b[0m\u001b[0;34m)\u001b[0m\u001b[0;34m\u001b[0m\u001b[0;34m\u001b[0m\u001b[0m\n\u001b[0;32m--> 102\u001b[0;31m   \u001b[0;32mreturn\u001b[0m \u001b[0mops\u001b[0m\u001b[0;34m.\u001b[0m\u001b[0mEagerTensor\u001b[0m\u001b[0;34m(\u001b[0m\u001b[0mvalue\u001b[0m\u001b[0;34m,\u001b[0m \u001b[0mctx\u001b[0m\u001b[0;34m.\u001b[0m\u001b[0mdevice_name\u001b[0m\u001b[0;34m,\u001b[0m \u001b[0mdtype\u001b[0m\u001b[0;34m)\u001b[0m\u001b[0;34m\u001b[0m\u001b[0;34m\u001b[0m\u001b[0m\n\u001b[0m\u001b[1;32m    103\u001b[0m \u001b[0;34m\u001b[0m\u001b[0m\n\u001b[1;32m    104\u001b[0m \u001b[0;34m\u001b[0m\u001b[0m\n",
            "\u001b[0;31mTypeError\u001b[0m: Cannot convert 10 to EagerTensor of dtype bool"
          ]
        }
      ]
    },
    {
      "cell_type": "markdown",
      "source": [
        "Esto se debe a que la [documentación](https://www.tensorflow.org/api_docs/python/tf/constant?authuser=1) de TF en cuanto a `tf.constant()` nos dice que:\n",
        "\n",
        "```\n",
        "tf.constant(\n",
        "    value, dtype=None, shape=None, name='Const'\n",
        ")\n",
        "```\n",
        "\n",
        "por lo que el segundo `10` lo toma como un `dtype`"
      ],
      "metadata": {
        "id": "zRIQItO6pOAF"
      }
    },
    {
      "cell_type": "code",
      "source": [
        "# Crear una matriz (más de 1 dimensión)\n",
        "matrix = tf.constant([[10, 7],\n",
        "                      [7, 10]])\n",
        "matrix"
      ],
      "metadata": {
        "colab": {
          "base_uri": "https://localhost:8080/"
        },
        "id": "O6n8Dczyqb86",
        "outputId": "f90bdf2e-021f-4a1f-ad08-bd863242aee7"
      },
      "execution_count": 8,
      "outputs": [
        {
          "output_type": "execute_result",
          "data": {
            "text/plain": [
              "<tf.Tensor: shape=(2, 2), dtype=int32, numpy=\n",
              "array([[10,  7],\n",
              "       [ 7, 10]], dtype=int32)>"
            ]
          },
          "metadata": {},
          "execution_count": 8
        }
      ]
    },
    {
      "cell_type": "code",
      "source": [
        "matrix.ndim"
      ],
      "metadata": {
        "colab": {
          "base_uri": "https://localhost:8080/"
        },
        "id": "U2nC83uqqcBU",
        "outputId": "7e97eba1-c17e-404b-98eb-d22130565d98"
      },
      "execution_count": 9,
      "outputs": [
        {
          "output_type": "execute_result",
          "data": {
            "text/plain": [
              "2"
            ]
          },
          "metadata": {},
          "execution_count": 9
        }
      ]
    },
    {
      "cell_type": "markdown",
      "source": [
        "Observa que ahora tenemos un `shape` distinto a los dos anteriores objetos.\n",
        "\n",
        "* Scalar -> `shape()`\n",
        "* Vector -> `shape(2,)`\n",
        "* Matrix -> `shape(2,2)`\n",
        "\n",
        "🔑 **Nota:** Por lo tanto, podemos saber que el primer dos (de izquierda a derecha) hace referencia al numero de **filas**, mientras que el segundo al número de **columnas**.\n",
        "\n",
        "Además, tenemos un `dtype=int32` indicando el tipo de dato (entero de 32 bits) del cual se compone el tensor. Eso lo podemos cambiar como se muestra en la siguiente celda:\n",
        "\n"
      ],
      "metadata": {
        "id": "Qa9_EaEnqoNY"
      }
    },
    {
      "cell_type": "code",
      "source": [
        "# Define el tipo de \n",
        "matrix_b = tf.constant([\n",
        "                        [10., 7.],\n",
        "                        [3., 2.],\n",
        "                        [8., 9.]\n",
        "                        ], dtype=tf.float16)\n",
        "\n",
        "matrix_b"
      ],
      "metadata": {
        "colab": {
          "base_uri": "https://localhost:8080/"
        },
        "id": "Xa827RNNqoR6",
        "outputId": "1024dbb3-50db-4c3f-89e8-a2ef10880592"
      },
      "execution_count": 10,
      "outputs": [
        {
          "output_type": "execute_result",
          "data": {
            "text/plain": [
              "<tf.Tensor: shape=(3, 2), dtype=float16, numpy=\n",
              "array([[10.,  7.],\n",
              "       [ 3.,  2.],\n",
              "       [ 8.,  9.]], dtype=float16)>"
            ]
          },
          "metadata": {},
          "execution_count": 10
        }
      ]
    },
    {
      "cell_type": "code",
      "source": [
        "matrix_b.ndim"
      ],
      "metadata": {
        "colab": {
          "base_uri": "https://localhost:8080/"
        },
        "id": "DrhJbNjuuF7I",
        "outputId": "41b802b5-f541-4b04-b002-b5729deef7ca"
      },
      "execution_count": 11,
      "outputs": [
        {
          "output_type": "execute_result",
          "data": {
            "text/plain": [
              "2"
            ]
          },
          "metadata": {},
          "execution_count": 11
        }
      ]
    },
    {
      "cell_type": "markdown",
      "source": [
        "Observa cómo debemos de incluir varios `[]` cada que aumentamos de dimensión. \n",
        "\n",
        "🧠 **Recuerda:** un tensor de dimensión 0 es un escalar, de dimension 1 es un vector y de dimensión 2 es una matriz. Por eso llamábamos a un tensor un arreglo de *n-dimensiones*."
      ],
      "metadata": {
        "id": "D7ovHrIFrpXB"
      }
    },
    {
      "cell_type": "code",
      "source": [
        "# Crear un tensor (más de dos dimensiones, por el momento)\n",
        "tensor = tf.constant([[[1,2,3],\n",
        "                       [4,5,6]],\n",
        "                      [[7,8,9],\n",
        "                       [10,11,12]],\n",
        "                      [[13,14,15],\n",
        "                       [16,17,18]]])\n",
        "tensor"
      ],
      "metadata": {
        "colab": {
          "base_uri": "https://localhost:8080/"
        },
        "id": "gUjJ7nFfrpbY",
        "outputId": "2d635907-46ed-4016-bbfa-21f7810485cf"
      },
      "execution_count": 12,
      "outputs": [
        {
          "output_type": "execute_result",
          "data": {
            "text/plain": [
              "<tf.Tensor: shape=(3, 2, 3), dtype=int32, numpy=\n",
              "array([[[ 1,  2,  3],\n",
              "        [ 4,  5,  6]],\n",
              "\n",
              "       [[ 7,  8,  9],\n",
              "        [10, 11, 12]],\n",
              "\n",
              "       [[13, 14, 15],\n",
              "        [16, 17, 18]]], dtype=int32)>"
            ]
          },
          "metadata": {},
          "execution_count": 12
        }
      ]
    },
    {
      "cell_type": "code",
      "source": [
        "# Revisa la dimension del tensor\n",
        "tensor.ndim"
      ],
      "metadata": {
        "colab": {
          "base_uri": "https://localhost:8080/"
        },
        "id": "AwR1vP2MuNF5",
        "outputId": "3686ba92-5d44-4a83-bb6a-0760c9c10586"
      },
      "execution_count": 13,
      "outputs": [
        {
          "output_type": "execute_result",
          "data": {
            "text/plain": [
              "3"
            ]
          },
          "metadata": {},
          "execution_count": 13
        }
      ]
    },
    {
      "cell_type": "markdown",
      "source": [
        "El tensor anterior tiene 3 dimensiones con un `shape` de `(3,2,3)`, es decir, de izquierda a derecha son `3` grupos, con `2 filas` cada uno, y `3` columnas.\n",
        "\n",
        "Observa el siguiente tensor para tener mayor claridad:"
      ],
      "metadata": {
        "id": "NWPs_2pQuZGc"
      }
    },
    {
      "cell_type": "code",
      "source": [
        "# Crear un nuevo tensor con un shape diferente\n",
        "tensor_b = tf.constant([\n",
        "                        [\n",
        "                         [1, 2, 3, 4],\n",
        "                         [5, 6, 7, 8]\n",
        "                         ],\n",
        "                      [\n",
        "                       [9, 10, 11, 12],\n",
        "                       [13, 14, 15, 16]\n",
        "                       ],\n",
        "                      [\n",
        "                       [17, 18, 19, 20],\n",
        "                       [21, 22, 23, 24]\n",
        "                       ]\n",
        "                        ])\n",
        "tensor_b"
      ],
      "metadata": {
        "colab": {
          "base_uri": "https://localhost:8080/"
        },
        "id": "wRIZhg7VuZKk",
        "outputId": "eb23348f-a39a-4402-9e0a-49c74742acc1"
      },
      "execution_count": 14,
      "outputs": [
        {
          "output_type": "execute_result",
          "data": {
            "text/plain": [
              "<tf.Tensor: shape=(3, 2, 4), dtype=int32, numpy=\n",
              "array([[[ 1,  2,  3,  4],\n",
              "        [ 5,  6,  7,  8]],\n",
              "\n",
              "       [[ 9, 10, 11, 12],\n",
              "        [13, 14, 15, 16]],\n",
              "\n",
              "       [[17, 18, 19, 20],\n",
              "        [21, 22, 23, 24]]], dtype=int32)>"
            ]
          },
          "metadata": {},
          "execution_count": 14
        }
      ]
    },
    {
      "cell_type": "markdown",
      "source": [
        "Nuevamente, podemos leer el shape como:\n",
        "`3` grupos, `2` filas en cada grupo, con `3` columnas.\n",
        "\n",
        "Ahora bien, observa qué pasa si copiamos la misma estructura de `tensor_b` y añadimos un 17 en el grupo dos, fila dos\n"
      ],
      "metadata": {
        "id": "CuU0VzLruZNV"
      }
    },
    {
      "cell_type": "code",
      "source": [
        "# Lo siguiente marcará error\n",
        "tensor_c = tf.constant([\n",
        "                        [\n",
        "                         [1, 2, 3, 4],\n",
        "                         [5, 6, 7, 8]\n",
        "                         ],\n",
        "                      [\n",
        "                       [9, 10, 11, 12],\n",
        "                       [13, 14, 15, 16, 17]\n",
        "                       ],\n",
        "                      [\n",
        "                       [18, 19, 20, 21],\n",
        "                       [22, 23, 24, 25]\n",
        "                       ]\n",
        "                        ])\n",
        "tensor_c"
      ],
      "metadata": {
        "colab": {
          "base_uri": "https://localhost:8080/",
          "height": 389
        },
        "id": "m2BxPfmBvqjd",
        "outputId": "4233efd3-df88-403c-cd64-9e2917a57543"
      },
      "execution_count": 15,
      "outputs": [
        {
          "output_type": "error",
          "ename": "ValueError",
          "evalue": "ignored",
          "traceback": [
            "\u001b[0;31m---------------------------------------------------------------------------\u001b[0m",
            "\u001b[0;31mValueError\u001b[0m                                Traceback (most recent call last)",
            "\u001b[0;32m<ipython-input-15-6809525eebe8>\u001b[0m in \u001b[0;36m<module>\u001b[0;34m()\u001b[0m\n\u001b[1;32m     11\u001b[0m                       [\n\u001b[1;32m     12\u001b[0m                        \u001b[0;34m[\u001b[0m\u001b[0;36m18\u001b[0m\u001b[0;34m,\u001b[0m \u001b[0;36m19\u001b[0m\u001b[0;34m,\u001b[0m \u001b[0;36m20\u001b[0m\u001b[0;34m,\u001b[0m \u001b[0;36m21\u001b[0m\u001b[0;34m]\u001b[0m\u001b[0;34m,\u001b[0m\u001b[0;34m\u001b[0m\u001b[0;34m\u001b[0m\u001b[0m\n\u001b[0;32m---> 13\u001b[0;31m                        \u001b[0;34m[\u001b[0m\u001b[0;36m22\u001b[0m\u001b[0;34m,\u001b[0m \u001b[0;36m23\u001b[0m\u001b[0;34m,\u001b[0m \u001b[0;36m24\u001b[0m\u001b[0;34m,\u001b[0m \u001b[0;36m25\u001b[0m\u001b[0;34m]\u001b[0m\u001b[0;34m\u001b[0m\u001b[0;34m\u001b[0m\u001b[0m\n\u001b[0m\u001b[1;32m     14\u001b[0m                        ]\n\u001b[1;32m     15\u001b[0m                         ])\n",
            "\u001b[0;32m/usr/local/lib/python3.7/dist-packages/tensorflow/python/framework/constant_op.py\u001b[0m in \u001b[0;36mconstant\u001b[0;34m(value, dtype, shape, name)\u001b[0m\n\u001b[1;32m    266\u001b[0m   \"\"\"\n\u001b[1;32m    267\u001b[0m   return _constant_impl(value, dtype, shape, name, verify_shape=False,\n\u001b[0;32m--> 268\u001b[0;31m                         allow_broadcast=True)\n\u001b[0m\u001b[1;32m    269\u001b[0m \u001b[0;34m\u001b[0m\u001b[0m\n\u001b[1;32m    270\u001b[0m \u001b[0;34m\u001b[0m\u001b[0m\n",
            "\u001b[0;32m/usr/local/lib/python3.7/dist-packages/tensorflow/python/framework/constant_op.py\u001b[0m in \u001b[0;36m_constant_impl\u001b[0;34m(value, dtype, shape, name, verify_shape, allow_broadcast)\u001b[0m\n\u001b[1;32m    277\u001b[0m       \u001b[0;32mwith\u001b[0m \u001b[0mtrace\u001b[0m\u001b[0;34m.\u001b[0m\u001b[0mTrace\u001b[0m\u001b[0;34m(\u001b[0m\u001b[0;34m\"tf.constant\"\u001b[0m\u001b[0;34m)\u001b[0m\u001b[0;34m:\u001b[0m\u001b[0;34m\u001b[0m\u001b[0;34m\u001b[0m\u001b[0m\n\u001b[1;32m    278\u001b[0m         \u001b[0;32mreturn\u001b[0m \u001b[0m_constant_eager_impl\u001b[0m\u001b[0;34m(\u001b[0m\u001b[0mctx\u001b[0m\u001b[0;34m,\u001b[0m \u001b[0mvalue\u001b[0m\u001b[0;34m,\u001b[0m \u001b[0mdtype\u001b[0m\u001b[0;34m,\u001b[0m \u001b[0mshape\u001b[0m\u001b[0;34m,\u001b[0m \u001b[0mverify_shape\u001b[0m\u001b[0;34m)\u001b[0m\u001b[0;34m\u001b[0m\u001b[0;34m\u001b[0m\u001b[0m\n\u001b[0;32m--> 279\u001b[0;31m     \u001b[0;32mreturn\u001b[0m \u001b[0m_constant_eager_impl\u001b[0m\u001b[0;34m(\u001b[0m\u001b[0mctx\u001b[0m\u001b[0;34m,\u001b[0m \u001b[0mvalue\u001b[0m\u001b[0;34m,\u001b[0m \u001b[0mdtype\u001b[0m\u001b[0;34m,\u001b[0m \u001b[0mshape\u001b[0m\u001b[0;34m,\u001b[0m \u001b[0mverify_shape\u001b[0m\u001b[0;34m)\u001b[0m\u001b[0;34m\u001b[0m\u001b[0;34m\u001b[0m\u001b[0m\n\u001b[0m\u001b[1;32m    280\u001b[0m \u001b[0;34m\u001b[0m\u001b[0m\n\u001b[1;32m    281\u001b[0m   \u001b[0mg\u001b[0m \u001b[0;34m=\u001b[0m \u001b[0mops\u001b[0m\u001b[0;34m.\u001b[0m\u001b[0mget_default_graph\u001b[0m\u001b[0;34m(\u001b[0m\u001b[0;34m)\u001b[0m\u001b[0;34m\u001b[0m\u001b[0;34m\u001b[0m\u001b[0m\n",
            "\u001b[0;32m/usr/local/lib/python3.7/dist-packages/tensorflow/python/framework/constant_op.py\u001b[0m in \u001b[0;36m_constant_eager_impl\u001b[0;34m(ctx, value, dtype, shape, verify_shape)\u001b[0m\n\u001b[1;32m    302\u001b[0m \u001b[0;32mdef\u001b[0m \u001b[0m_constant_eager_impl\u001b[0m\u001b[0;34m(\u001b[0m\u001b[0mctx\u001b[0m\u001b[0;34m,\u001b[0m \u001b[0mvalue\u001b[0m\u001b[0;34m,\u001b[0m \u001b[0mdtype\u001b[0m\u001b[0;34m,\u001b[0m \u001b[0mshape\u001b[0m\u001b[0;34m,\u001b[0m \u001b[0mverify_shape\u001b[0m\u001b[0;34m)\u001b[0m\u001b[0;34m:\u001b[0m\u001b[0;34m\u001b[0m\u001b[0;34m\u001b[0m\u001b[0m\n\u001b[1;32m    303\u001b[0m   \u001b[0;34m\"\"\"Creates a constant on the current device.\"\"\"\u001b[0m\u001b[0;34m\u001b[0m\u001b[0;34m\u001b[0m\u001b[0m\n\u001b[0;32m--> 304\u001b[0;31m   \u001b[0mt\u001b[0m \u001b[0;34m=\u001b[0m \u001b[0mconvert_to_eager_tensor\u001b[0m\u001b[0;34m(\u001b[0m\u001b[0mvalue\u001b[0m\u001b[0;34m,\u001b[0m \u001b[0mctx\u001b[0m\u001b[0;34m,\u001b[0m \u001b[0mdtype\u001b[0m\u001b[0;34m)\u001b[0m\u001b[0;34m\u001b[0m\u001b[0;34m\u001b[0m\u001b[0m\n\u001b[0m\u001b[1;32m    305\u001b[0m   \u001b[0;32mif\u001b[0m \u001b[0mshape\u001b[0m \u001b[0;32mis\u001b[0m \u001b[0;32mNone\u001b[0m\u001b[0;34m:\u001b[0m\u001b[0;34m\u001b[0m\u001b[0;34m\u001b[0m\u001b[0m\n\u001b[1;32m    306\u001b[0m     \u001b[0;32mreturn\u001b[0m \u001b[0mt\u001b[0m\u001b[0;34m\u001b[0m\u001b[0;34m\u001b[0m\u001b[0m\n",
            "\u001b[0;32m/usr/local/lib/python3.7/dist-packages/tensorflow/python/framework/constant_op.py\u001b[0m in \u001b[0;36mconvert_to_eager_tensor\u001b[0;34m(value, ctx, dtype)\u001b[0m\n\u001b[1;32m    100\u001b[0m       \u001b[0mdtype\u001b[0m \u001b[0;34m=\u001b[0m \u001b[0mdtypes\u001b[0m\u001b[0;34m.\u001b[0m\u001b[0mas_dtype\u001b[0m\u001b[0;34m(\u001b[0m\u001b[0mdtype\u001b[0m\u001b[0;34m)\u001b[0m\u001b[0;34m.\u001b[0m\u001b[0mas_datatype_enum\u001b[0m\u001b[0;34m\u001b[0m\u001b[0;34m\u001b[0m\u001b[0m\n\u001b[1;32m    101\u001b[0m   \u001b[0mctx\u001b[0m\u001b[0;34m.\u001b[0m\u001b[0mensure_initialized\u001b[0m\u001b[0;34m(\u001b[0m\u001b[0;34m)\u001b[0m\u001b[0;34m\u001b[0m\u001b[0;34m\u001b[0m\u001b[0m\n\u001b[0;32m--> 102\u001b[0;31m   \u001b[0;32mreturn\u001b[0m \u001b[0mops\u001b[0m\u001b[0;34m.\u001b[0m\u001b[0mEagerTensor\u001b[0m\u001b[0;34m(\u001b[0m\u001b[0mvalue\u001b[0m\u001b[0;34m,\u001b[0m \u001b[0mctx\u001b[0m\u001b[0;34m.\u001b[0m\u001b[0mdevice_name\u001b[0m\u001b[0;34m,\u001b[0m \u001b[0mdtype\u001b[0m\u001b[0;34m)\u001b[0m\u001b[0;34m\u001b[0m\u001b[0;34m\u001b[0m\u001b[0m\n\u001b[0m\u001b[1;32m    103\u001b[0m \u001b[0;34m\u001b[0m\u001b[0m\n\u001b[1;32m    104\u001b[0m \u001b[0;34m\u001b[0m\u001b[0m\n",
            "\u001b[0;31mValueError\u001b[0m: Can't convert non-rectangular Python sequence to Tensor."
          ]
        }
      ]
    },
    {
      "cell_type": "markdown",
      "source": [
        "Ocurre un `ValueError`, dado que TensorFlow reconoce al tensor como un arreglo no rectangular, es decir, debe de empatar el número de columnas y filas en todo el tensor.\n",
        "\n",
        "Ahora bien, si quisieramos conocer la cantidad de elementos en un tensor, basta con aplicar un `tf.size()` (si aplicamos un `len()` nos devolverá el número de dimensiones)."
      ],
      "metadata": {
        "id": "H6dATyfvvqoB"
      }
    },
    {
      "cell_type": "code",
      "source": [
        "# Numero de elementos en un tensor\n",
        "tf.size(tensor)"
      ],
      "metadata": {
        "colab": {
          "base_uri": "https://localhost:8080/"
        },
        "id": "bbd8IwfLuNKA",
        "outputId": "8f4afdc3-2c63-466f-e510-9a83f55c4d1b"
      },
      "execution_count": 16,
      "outputs": [
        {
          "output_type": "execute_result",
          "data": {
            "text/plain": [
              "<tf.Tensor: shape=(), dtype=int32, numpy=18>"
            ]
          },
          "metadata": {},
          "execution_count": 16
        }
      ]
    },
    {
      "cell_type": "code",
      "source": [
        "# Imprimir únicamente el número\n",
        "tf.size(tensor).numpy()"
      ],
      "metadata": {
        "colab": {
          "base_uri": "https://localhost:8080/"
        },
        "id": "94PKE5Gkyvlx",
        "outputId": "2d0dd02c-16a9-4f39-9952-f6277b9d5d8f"
      },
      "execution_count": 17,
      "outputs": [
        {
          "output_type": "execute_result",
          "data": {
            "text/plain": [
              "18"
            ]
          },
          "metadata": {},
          "execution_count": 17
        }
      ]
    },
    {
      "cell_type": "markdown",
      "source": [
        "Peron observemos algo intereante, si multiplicamos los elementos en el shape de un tensor, obtenemos la cantididad $n$ de elementos en el mismo"
      ],
      "metadata": {
        "id": "-niWnZCFy4yk"
      }
    },
    {
      "cell_type": "code",
      "source": [
        "# Conocer el shape de un tensor\n",
        "tensor.shape"
      ],
      "metadata": {
        "colab": {
          "base_uri": "https://localhost:8080/"
        },
        "id": "A1CmIVAqzIzR",
        "outputId": "62e63582-de7b-45bb-a050-7c545f37f962"
      },
      "execution_count": 18,
      "outputs": [
        {
          "output_type": "execute_result",
          "data": {
            "text/plain": [
              "TensorShape([3, 2, 3])"
            ]
          },
          "metadata": {},
          "execution_count": 18
        }
      ]
    },
    {
      "cell_type": "code",
      "source": [
        "3*2*3"
      ],
      "metadata": {
        "colab": {
          "base_uri": "https://localhost:8080/"
        },
        "id": "68rJAJjjzK9-",
        "outputId": "19ebefbd-9e54-4310-ec14-827e25f88ae9"
      },
      "execution_count": 19,
      "outputs": [
        {
          "output_type": "execute_result",
          "data": {
            "text/plain": [
              "18"
            ]
          },
          "metadata": {},
          "execution_count": 19
        }
      ]
    },
    {
      "cell_type": "code",
      "source": [
        "3*2*3 == tf.size(tensor).numpy()"
      ],
      "metadata": {
        "colab": {
          "base_uri": "https://localhost:8080/"
        },
        "id": "3L5DHlJrzbHh",
        "outputId": "4715f861-f460-4057-debd-d84681e53412"
      },
      "execution_count": 20,
      "outputs": [
        {
          "output_type": "execute_result",
          "data": {
            "text/plain": [
              "True"
            ]
          },
          "metadata": {},
          "execution_count": 20
        }
      ]
    },
    {
      "cell_type": "markdown",
      "source": [
        "La aplicación más usual de un tensor, es cuando tenemos una imagen, de `224 x 224` pixeles con tres colores `RGB` (Red, Green, Blue) el cual podemos representar con un shape de `(224,224,3)`. \n",
        "\n",
        "Sabiendo eso, tendriamos `150528` pixeles en cada imagen."
      ],
      "metadata": {
        "id": "SKhsIxiJzbgv"
      }
    },
    {
      "cell_type": "markdown",
      "source": [
        "# Creando tensores con `tf.Variable()`"
      ],
      "metadata": {
        "id": "4q-86eQezboT"
      }
    },
    {
      "cell_type": "markdown",
      "source": [
        "Similar a los objetos mutables e inmutables de Python (listas y tuplas, por ejemplo) tenemos un método previamente construido llamado `tf.Variable()`.\n",
        "\n",
        "La diferente entre `tf.Variable` y `tf.constant()` es que los últimos son inmutables (no pueden ser cambiados una vez dedclarados) mientras que aquellos con `tf.Variable()` sí pueden ser modificados."
      ],
      "metadata": {
        "id": "MTrHSrHI0hE9"
      }
    },
    {
      "cell_type": "code",
      "source": [
        "# Crear el mismo tensor con tf.Variable() y tf.constant()\n",
        "variable_tensor = tf.Variable([10, 7])\n",
        "constant_tensor = tf.constant([10, 7])"
      ],
      "metadata": {
        "id": "0unX3UwS0hIX"
      },
      "execution_count": 21,
      "outputs": []
    },
    {
      "cell_type": "code",
      "source": [
        "# Imprime el tensor mutable\n",
        "variable_tensor"
      ],
      "metadata": {
        "colab": {
          "base_uri": "https://localhost:8080/"
        },
        "id": "mm0B7B4K0hK-",
        "outputId": "4fc400da-892b-42e9-f557-2ac5ef2d6cb4"
      },
      "execution_count": 22,
      "outputs": [
        {
          "output_type": "execute_result",
          "data": {
            "text/plain": [
              "<tf.Variable 'Variable:0' shape=(2,) dtype=int32, numpy=array([10,  7], dtype=int32)>"
            ]
          },
          "metadata": {},
          "execution_count": 22
        }
      ]
    },
    {
      "cell_type": "code",
      "source": [
        "# Imprime el tensor inmutable\n",
        "constant_tensor"
      ],
      "metadata": {
        "colab": {
          "base_uri": "https://localhost:8080/"
        },
        "id": "YtKsTZJC1YoY",
        "outputId": "7fb74284-1fef-449b-bd8f-6d86833849f4"
      },
      "execution_count": 23,
      "outputs": [
        {
          "output_type": "execute_result",
          "data": {
            "text/plain": [
              "<tf.Tensor: shape=(2,), dtype=int32, numpy=array([10,  7], dtype=int32)>"
            ]
          },
          "metadata": {},
          "execution_count": 23
        }
      ]
    },
    {
      "cell_type": "code",
      "source": [
        "# La primer posición del tensor mutable\n",
        "variable_tensor[0]"
      ],
      "metadata": {
        "colab": {
          "base_uri": "https://localhost:8080/"
        },
        "id": "Tih2jRWz4pFU",
        "outputId": "e8c3e9e5-eba9-47ee-8b28-5af9ac4079a2"
      },
      "execution_count": 24,
      "outputs": [
        {
          "output_type": "execute_result",
          "data": {
            "text/plain": [
              "<tf.Tensor: shape=(), dtype=int32, numpy=10>"
            ]
          },
          "metadata": {},
          "execution_count": 24
        }
      ]
    },
    {
      "cell_type": "code",
      "source": [
        "# Cambia esa primer posición por un 7\n",
        "variable_tensor[0].assign(7)\n",
        "variable_tensor"
      ],
      "metadata": {
        "colab": {
          "base_uri": "https://localhost:8080/"
        },
        "id": "0RPRm34t1Ysv",
        "outputId": "45b3bd2b-39a3-4d8a-b3ca-4c8c06d608b4"
      },
      "execution_count": 25,
      "outputs": [
        {
          "output_type": "execute_result",
          "data": {
            "text/plain": [
              "<tf.Variable 'Variable:0' shape=(2,) dtype=int32, numpy=array([7, 7], dtype=int32)>"
            ]
          },
          "metadata": {},
          "execution_count": 25
        }
      ]
    },
    {
      "cell_type": "markdown",
      "source": [
        "Observa que no podemos asginar elementos como si fueran una lista. Ejemplo:\n",
        "\n",
        "``` \n",
        "x = [1,2,3,4]\n",
        "x [0] = 0\n",
        "```\n",
        "esto eventualmente imprimiría `x = [0,2,3,4]`.\n",
        "\n",
        "Si nosotros hacemos lo mismo con un tensor, produciría un error, por lo que tenemos que ocupar el método `assign()`"
      ],
      "metadata": {
        "id": "J4QkD3tv1cby"
      }
    },
    {
      "cell_type": "code",
      "source": [
        "# Ahora intenta cambiar un valor del tensor inmutable\n",
        "constant_tensor[0].assign(7)\n",
        "constant_tensor"
      ],
      "metadata": {
        "colab": {
          "base_uri": "https://localhost:8080/",
          "height": 329
        },
        "id": "pf2kT0321cfP",
        "outputId": "002cb67d-11c1-427a-cf43-8dc68af231ef"
      },
      "execution_count": 26,
      "outputs": [
        {
          "output_type": "error",
          "ename": "AttributeError",
          "evalue": "ignored",
          "traceback": [
            "\u001b[0;31m---------------------------------------------------------------------------\u001b[0m",
            "\u001b[0;31mAttributeError\u001b[0m                            Traceback (most recent call last)",
            "\u001b[0;32m<ipython-input-26-d1100161fa25>\u001b[0m in \u001b[0;36m<module>\u001b[0;34m()\u001b[0m\n\u001b[1;32m      1\u001b[0m \u001b[0;31m# Ahora intenta cambiar un valor del tensor inmutable\u001b[0m\u001b[0;34m\u001b[0m\u001b[0;34m\u001b[0m\u001b[0;34m\u001b[0m\u001b[0m\n\u001b[0;32m----> 2\u001b[0;31m \u001b[0mconstant_tensor\u001b[0m\u001b[0;34m[\u001b[0m\u001b[0;36m0\u001b[0m\u001b[0;34m]\u001b[0m\u001b[0;34m.\u001b[0m\u001b[0massign\u001b[0m\u001b[0;34m(\u001b[0m\u001b[0;36m7\u001b[0m\u001b[0;34m)\u001b[0m\u001b[0;34m\u001b[0m\u001b[0;34m\u001b[0m\u001b[0m\n\u001b[0m\u001b[1;32m      3\u001b[0m \u001b[0mconstant_tensor\u001b[0m\u001b[0;34m\u001b[0m\u001b[0;34m\u001b[0m\u001b[0m\n",
            "\u001b[0;32m/usr/local/lib/python3.7/dist-packages/tensorflow/python/framework/ops.py\u001b[0m in \u001b[0;36m__getattr__\u001b[0;34m(self, name)\u001b[0m\n\u001b[1;32m    511\u001b[0m         \u001b[0;32mfrom\u001b[0m \u001b[0mtensorflow\u001b[0m\u001b[0;34m.\u001b[0m\u001b[0mpython\u001b[0m\u001b[0;34m.\u001b[0m\u001b[0mops\u001b[0m\u001b[0;34m.\u001b[0m\u001b[0mnumpy_ops\u001b[0m \u001b[0;32mimport\u001b[0m \u001b[0mnp_config\u001b[0m\u001b[0;34m\u001b[0m\u001b[0;34m\u001b[0m\u001b[0m\n\u001b[1;32m    512\u001b[0m         np_config.enable_numpy_behavior()\"\"\".format(type(self).__name__, name))\n\u001b[0;32m--> 513\u001b[0;31m     \u001b[0mself\u001b[0m\u001b[0;34m.\u001b[0m\u001b[0m__getattribute__\u001b[0m\u001b[0;34m(\u001b[0m\u001b[0mname\u001b[0m\u001b[0;34m)\u001b[0m\u001b[0;34m\u001b[0m\u001b[0;34m\u001b[0m\u001b[0m\n\u001b[0m\u001b[1;32m    514\u001b[0m \u001b[0;34m\u001b[0m\u001b[0m\n\u001b[1;32m    515\u001b[0m   \u001b[0;34m@\u001b[0m\u001b[0mstaticmethod\u001b[0m\u001b[0;34m\u001b[0m\u001b[0;34m\u001b[0m\u001b[0m\n",
            "\u001b[0;31mAttributeError\u001b[0m: 'tensorflow.python.framework.ops.EagerTensor' object has no attribute 'assign'"
          ]
        }
      ]
    },
    {
      "cell_type": "markdown",
      "source": [
        "Por lo tanto, ¿Cuál deberia de usar? ¿`tf.constant()` o `tf.Variable`?\n",
        "\n",
        "Depende del problema a tratar, aunque la mayoría de las veces TensorFlow lo hará por nosotros de forma automática"
      ],
      "metadata": {
        "id": "QFKxGpDK4YCY"
      }
    },
    {
      "cell_type": "markdown",
      "source": [
        "## Creando tensores aleatorios"
      ],
      "metadata": {
        "id": "vDRydw4e4YGj"
      }
    },
    {
      "cell_type": "markdown",
      "source": [
        "Los tensores aleatorios son arreglos con tamaños arbitrarios que contienen número aleatorios. ¿Por qué usar numeros aleatorios? Esto se debe a que para inicializar los pesos (*weights*) de una red neuronal, tendremos que partir de números aleatorios que durante el entrenamiento se irán ajustando. \n",
        "\n",
        "Podrías pensar en que los números aleatorios como ruido o como estática que poco a poco se convierte en una imagen. "
      ],
      "metadata": {
        "id": "5_x1Mc5-1YwA"
      }
    },
    {
      "cell_type": "code",
      "source": [
        "# Crear dos tensores aleatorios\n",
        "random_1 = tf.random.Generator.from_seed(42)\n",
        "random_1 = random_1.normal(shape=(3,2))\n",
        "random_1"
      ],
      "metadata": {
        "colab": {
          "base_uri": "https://localhost:8080/"
        },
        "id": "qkA4LGgHVVzm",
        "outputId": "82110762-1ccb-41f4-c42e-3017482b20e2"
      },
      "execution_count": 27,
      "outputs": [
        {
          "output_type": "execute_result",
          "data": {
            "text/plain": [
              "<tf.Tensor: shape=(3, 2), dtype=float32, numpy=\n",
              "array([[-0.7565803 , -0.06854702],\n",
              "       [ 0.07595026, -1.2573844 ],\n",
              "       [-0.23193763, -1.8107855 ]], dtype=float32)>"
            ]
          },
          "metadata": {},
          "execution_count": 27
        }
      ]
    },
    {
      "cell_type": "code",
      "source": [
        "# Crear dos tensores aleatorios\n",
        "random_2 = tf.random.Generator.from_seed(42)\n",
        "random_2 = random_2.normal(shape=(3,2))\n",
        "random_2"
      ],
      "metadata": {
        "colab": {
          "base_uri": "https://localhost:8080/"
        },
        "id": "aEJE6pEVVV3p",
        "outputId": "a94aee91-9937-4829-bf6f-62d0e3f38c72"
      },
      "execution_count": 28,
      "outputs": [
        {
          "output_type": "execute_result",
          "data": {
            "text/plain": [
              "<tf.Tensor: shape=(3, 2), dtype=float32, numpy=\n",
              "array([[-0.7565803 , -0.06854702],\n",
              "       [ 0.07595026, -1.2573844 ],\n",
              "       [-0.23193763, -1.8107855 ]], dtype=float32)>"
            ]
          },
          "metadata": {},
          "execution_count": 28
        }
      ]
    },
    {
      "cell_type": "markdown",
      "source": [
        "Observa como creamos dos tensores aleatorios que contienen los mismos números. Esto se debe a que pusimos una semilla aleatoria. En computación, es imposible generar números aleatorios, ya que sólo los proveen la naturaleza. Es por ello que a este tipo de aleatoriedad en los tensores se le conoce como **pseudoaleatorio** o **pseudorandom**.\n",
        "\n",
        "La semilla que acabamos de colocar sirve para poder replicar los mismos tensores aquí y en cualquier parte y momento. Eso no significa que los números no sean aleatorios, pues se comportan como una distribución normal, sólo que son reproducibles. Ellos nos ayudará a poder replicar con exactitud las mismas arquitecturas entre todos, o por ejemplo, a hacer las mismas particiones aleatorias."
      ],
      "metadata": {
        "id": "vX36lackVW6_"
      }
    },
    {
      "cell_type": "code",
      "source": [
        "random_1 == random_2"
      ],
      "metadata": {
        "colab": {
          "base_uri": "https://localhost:8080/"
        },
        "id": "gmeN_47DWOem",
        "outputId": "485baaaa-9bf5-40a2-a911-ff25260a479e"
      },
      "execution_count": 29,
      "outputs": [
        {
          "output_type": "execute_result",
          "data": {
            "text/plain": [
              "<tf.Tensor: shape=(3, 2), dtype=bool, numpy=\n",
              "array([[ True,  True],\n",
              "       [ True,  True],\n",
              "       [ True,  True]])>"
            ]
          },
          "metadata": {},
          "execution_count": 29
        }
      ]
    },
    {
      "cell_type": "code",
      "source": [
        "# Crear dos tensores aleatorios diferentes\n",
        "random_3 = tf.random.Generator.from_seed(42)\n",
        "random_3 = random_3.normal(shape=(3, 2))\n",
        "random_3"
      ],
      "metadata": {
        "colab": {
          "base_uri": "https://localhost:8080/"
        },
        "id": "dRruxcKIWOj3",
        "outputId": "9b3bc996-48e0-4d46-a7c0-a4dd11bfc1a8"
      },
      "execution_count": 30,
      "outputs": [
        {
          "output_type": "execute_result",
          "data": {
            "text/plain": [
              "<tf.Tensor: shape=(3, 2), dtype=float32, numpy=\n",
              "array([[-0.7565803 , -0.06854702],\n",
              "       [ 0.07595026, -1.2573844 ],\n",
              "       [-0.23193763, -1.8107855 ]], dtype=float32)>"
            ]
          },
          "metadata": {},
          "execution_count": 30
        }
      ]
    },
    {
      "cell_type": "code",
      "source": [
        "random_4 = tf.random.Generator.from_seed(11)\n",
        "random_4 = random_4.normal(shape=(3, 2))\n",
        "random_4"
      ],
      "metadata": {
        "colab": {
          "base_uri": "https://localhost:8080/"
        },
        "id": "v7YDA6NVWOo2",
        "outputId": "65948a83-8a25-414d-f6db-23d8c7db543c"
      },
      "execution_count": 31,
      "outputs": [
        {
          "output_type": "execute_result",
          "data": {
            "text/plain": [
              "<tf.Tensor: shape=(3, 2), dtype=float32, numpy=\n",
              "array([[ 0.27305737, -0.29925638],\n",
              "       [-0.3652325 ,  0.61883307],\n",
              "       [-1.0130816 ,  0.28291714]], dtype=float32)>"
            ]
          },
          "metadata": {},
          "execution_count": 31
        }
      ]
    },
    {
      "cell_type": "code",
      "source": [
        "# El tensor 1 y 3 son identicos dada su semilla de 42\n",
        "random_1 == random_3"
      ],
      "metadata": {
        "colab": {
          "base_uri": "https://localhost:8080/"
        },
        "id": "SnmAiANWVW_I",
        "outputId": "17573cf2-28b3-4d8e-dd1b-bc7eb5089e57"
      },
      "execution_count": 32,
      "outputs": [
        {
          "output_type": "execute_result",
          "data": {
            "text/plain": [
              "<tf.Tensor: shape=(3, 2), dtype=bool, numpy=\n",
              "array([[ True,  True],\n",
              "       [ True,  True],\n",
              "       [ True,  True]])>"
            ]
          },
          "metadata": {},
          "execution_count": 32
        }
      ]
    },
    {
      "cell_type": "code",
      "source": [
        "# Mientras que el tensor 3 y 4 no, ya que tienen 42 y 11 como semilla respectivamente\n",
        "random_3 == random_4"
      ],
      "metadata": {
        "colab": {
          "base_uri": "https://localhost:8080/"
        },
        "id": "78e2KFwEVXDx",
        "outputId": "5af5fb70-7a8e-4edf-f008-51799e99b76e"
      },
      "execution_count": 33,
      "outputs": [
        {
          "output_type": "execute_result",
          "data": {
            "text/plain": [
              "<tf.Tensor: shape=(3, 2), dtype=bool, numpy=\n",
              "array([[False, False],\n",
              "       [False, False],\n",
              "       [False, False]])>"
            ]
          },
          "metadata": {},
          "execution_count": 33
        }
      ]
    },
    {
      "cell_type": "markdown",
      "source": [
        "## Barajeo de tensores "
      ],
      "metadata": {
        "id": "mANdQ6h1YTqp"
      }
    },
    {
      "cell_type": "markdown",
      "source": [
        "El barajeo o *shuffle*, será una de las pocas pero esenciales transformaciones que se deben de hacer en los datos. Imagina que queremos entrenar una red neuronal para que logre predecir si la foto que metemos es de un perro o un gato. Si tenemos 10,000 imágenes, y las primeras 5,000 son de gato y el resto de perro, la red neuronal se sesgará y le dará más peso a las de gato, ya que fueron esas con las que se entrenó incialmente. \n",
        "\n",
        "Por eso es importante barajear nuetro dataset antes de pasarlo como input de una red neuronal.\n"
      ],
      "metadata": {
        "id": "qCupVFwLY5uf"
      }
    },
    {
      "cell_type": "markdown",
      "source": [
        "Ejectua la siguiente celda cuantas veces necesites para observar cómo cambia."
      ],
      "metadata": {
        "id": "CCGzinCqcl-_"
      }
    },
    {
      "cell_type": "code",
      "source": [
        "# Crear un tensor que quieras barajear\n",
        "not_shuffled = tf.constant([[10,7],\n",
        "                            [3,4],\n",
        "                            [2,5]])\n",
        "\n",
        "tf.random.shuffle(not_shuffled)"
      ],
      "metadata": {
        "colab": {
          "base_uri": "https://localhost:8080/"
        },
        "id": "DCBoGwuLY50A",
        "outputId": "45c31a9d-a4c9-4108-f214-1215da2b7fc5"
      },
      "execution_count": 34,
      "outputs": [
        {
          "output_type": "execute_result",
          "data": {
            "text/plain": [
              "<tf.Tensor: shape=(3, 2), dtype=int32, numpy=\n",
              "array([[10,  7],\n",
              "       [ 2,  5],\n",
              "       [ 3,  4]], dtype=int32)>"
            ]
          },
          "metadata": {},
          "execution_count": 34
        }
      ]
    },
    {
      "cell_type": "markdown",
      "source": [
        "Ahora bien, ejecuta la siguiente celda que contiene un `seed=42`. Cambiará, pero lo hará en el mismo orden."
      ],
      "metadata": {
        "id": "9jLlWla6Y543"
      }
    },
    {
      "cell_type": "code",
      "source": [
        "# Barajeo en el mismo orden \n",
        "tf.random.shuffle(not_shuffled, seed=42)"
      ],
      "metadata": {
        "colab": {
          "base_uri": "https://localhost:8080/"
        },
        "id": "QDdnT25fYTvE",
        "outputId": "e231f753-3626-43c6-e9c1-00ad935674ac"
      },
      "execution_count": 35,
      "outputs": [
        {
          "output_type": "execute_result",
          "data": {
            "text/plain": [
              "<tf.Tensor: shape=(3, 2), dtype=int32, numpy=\n",
              "array([[ 2,  5],\n",
              "       [ 3,  4],\n",
              "       [10,  7]], dtype=int32)>"
            ]
          },
          "metadata": {},
          "execution_count": 35
        }
      ]
    },
    {
      "cell_type": "markdown",
      "source": [
        "La razón de que los números cambien a pesar de que ponemos un `seed` es dada la regla #4 de la documentación de [`tf.random.set_seed()`](https://www.tensorflow.org/api_docs/python/tf/random/set_seed)\n",
        "\n",
        "> 4. If both the global and the operation seed are set: Both seeds are used in conjunction to determine the random sequence.\n",
        "\n",
        "`tf.random.set_seed(42)` establece la semilla global y el parámetro `seed` en `tf.random.shuffle(seed=42)` establece la semilla de operación.\n",
        "\n",
        "\n"
      ],
      "metadata": {
        "id": "Lfq29VYeYTy4"
      }
    },
    {
      "cell_type": "code",
      "source": [
        "# Barajear en el mismo orden\n",
        "\n",
        "# Establece la semilla global\n",
        "tf.random.set_seed(42)\n",
        "\n",
        "# Establece la semilla de operación\n",
        "tf.random.shuffle(not_shuffled, seed=42)"
      ],
      "metadata": {
        "colab": {
          "base_uri": "https://localhost:8080/"
        },
        "id": "nEIFn2oTc61k",
        "outputId": "42dd3832-392c-4345-ec7d-8c5d1a190b32"
      },
      "execution_count": 36,
      "outputs": [
        {
          "output_type": "execute_result",
          "data": {
            "text/plain": [
              "<tf.Tensor: shape=(3, 2), dtype=int32, numpy=\n",
              "array([[10,  7],\n",
              "       [ 3,  4],\n",
              "       [ 2,  5]], dtype=int32)>"
            ]
          },
          "metadata": {},
          "execution_count": 36
        }
      ]
    },
    {
      "cell_type": "markdown",
      "source": [
        "Observa cómo no cambia los valores del tensor"
      ],
      "metadata": {
        "id": "JODOfHaVc66p"
      }
    },
    {
      "cell_type": "code",
      "source": [
        "# Establece semilla\n",
        "tf.random.set_seed(42) # Intenta correr la celda comentando esta linea\n",
        "\n",
        "# Establece la semilla de operación\n",
        "tf.random.shuffle(not_shuffled)"
      ],
      "metadata": {
        "colab": {
          "base_uri": "https://localhost:8080/"
        },
        "id": "Ut-LcOTcc6-8",
        "outputId": "5b1e9e56-88a6-4458-8f77-dd50561e16d9"
      },
      "execution_count": 37,
      "outputs": [
        {
          "output_type": "execute_result",
          "data": {
            "text/plain": [
              "<tf.Tensor: shape=(3, 2), dtype=int32, numpy=\n",
              "array([[ 3,  4],\n",
              "       [ 2,  5],\n",
              "       [10,  7]], dtype=int32)>"
            ]
          },
          "metadata": {},
          "execution_count": 37
        }
      ]
    },
    {
      "cell_type": "markdown",
      "source": [
        "## Tensores de unos y ceros"
      ],
      "metadata": {
        "id": "r6o4hscfc6Mx"
      }
    },
    {
      "cell_type": "code",
      "source": [
        "# Crear un tensor de unos\n",
        "tf.ones(shape=(3,2))"
      ],
      "metadata": {
        "colab": {
          "base_uri": "https://localhost:8080/"
        },
        "id": "UnZ-VppbfzyI",
        "outputId": "cb15f9e9-3bf9-433a-9ec3-f9da13e3aafd"
      },
      "execution_count": 38,
      "outputs": [
        {
          "output_type": "execute_result",
          "data": {
            "text/plain": [
              "<tf.Tensor: shape=(3, 2), dtype=float32, numpy=\n",
              "array([[1., 1.],\n",
              "       [1., 1.],\n",
              "       [1., 1.]], dtype=float32)>"
            ]
          },
          "metadata": {},
          "execution_count": 38
        }
      ]
    },
    {
      "cell_type": "code",
      "source": [
        "# Cambia el shape\n",
        "tf.ones(shape=(5,6,3))"
      ],
      "metadata": {
        "colab": {
          "base_uri": "https://localhost:8080/"
        },
        "id": "Bve5AvBrfz2V",
        "outputId": "c8e0264f-565f-46c4-92ad-3670f0c5def8"
      },
      "execution_count": 39,
      "outputs": [
        {
          "output_type": "execute_result",
          "data": {
            "text/plain": [
              "<tf.Tensor: shape=(5, 6, 3), dtype=float32, numpy=\n",
              "array([[[1., 1., 1.],\n",
              "        [1., 1., 1.],\n",
              "        [1., 1., 1.],\n",
              "        [1., 1., 1.],\n",
              "        [1., 1., 1.],\n",
              "        [1., 1., 1.]],\n",
              "\n",
              "       [[1., 1., 1.],\n",
              "        [1., 1., 1.],\n",
              "        [1., 1., 1.],\n",
              "        [1., 1., 1.],\n",
              "        [1., 1., 1.],\n",
              "        [1., 1., 1.]],\n",
              "\n",
              "       [[1., 1., 1.],\n",
              "        [1., 1., 1.],\n",
              "        [1., 1., 1.],\n",
              "        [1., 1., 1.],\n",
              "        [1., 1., 1.],\n",
              "        [1., 1., 1.]],\n",
              "\n",
              "       [[1., 1., 1.],\n",
              "        [1., 1., 1.],\n",
              "        [1., 1., 1.],\n",
              "        [1., 1., 1.],\n",
              "        [1., 1., 1.],\n",
              "        [1., 1., 1.]],\n",
              "\n",
              "       [[1., 1., 1.],\n",
              "        [1., 1., 1.],\n",
              "        [1., 1., 1.],\n",
              "        [1., 1., 1.],\n",
              "        [1., 1., 1.],\n",
              "        [1., 1., 1.]]], dtype=float32)>"
            ]
          },
          "metadata": {},
          "execution_count": 39
        }
      ]
    },
    {
      "cell_type": "code",
      "source": [
        "# Crea tensor de ceros\n",
        "tf.zeros(shape=(4, 5))"
      ],
      "metadata": {
        "colab": {
          "base_uri": "https://localhost:8080/"
        },
        "id": "10aDeuoXfz66",
        "outputId": "5ddf245a-6149-4368-b065-6fcea09237cb"
      },
      "execution_count": 40,
      "outputs": [
        {
          "output_type": "execute_result",
          "data": {
            "text/plain": [
              "<tf.Tensor: shape=(4, 5), dtype=float32, numpy=\n",
              "array([[0., 0., 0., 0., 0.],\n",
              "       [0., 0., 0., 0., 0.],\n",
              "       [0., 0., 0., 0., 0.],\n",
              "       [0., 0., 0., 0., 0.]], dtype=float32)>"
            ]
          },
          "metadata": {},
          "execution_count": 40
        }
      ]
    },
    {
      "cell_type": "markdown",
      "source": [
        "## NumPy y TensorFlow"
      ],
      "metadata": {
        "id": "xg2xxUlGfz_F"
      }
    },
    {
      "cell_type": "markdown",
      "source": [
        "También puede convertir arreglos de NumPy en tensores.\n",
        "\n",
        "Recuerda que la principal diferencia es que los tensores pueden ser utilizados con un GPUs\n",
        "\n",
        "🔑 **Nota:** una matriz o un tensor son usualmente representados por letras mayúsculas: `X` o `A`; mientras que los vectores son representados por letras minúsculas `y` o `b`"
      ],
      "metadata": {
        "id": "WoT-V2UQgviP"
      }
    },
    {
      "cell_type": "code",
      "source": [
        "import numpy as np\n",
        "numpy_A = np.arange(1, 25, dtype=np.int32)\n",
        "numpy_A"
      ],
      "metadata": {
        "colab": {
          "base_uri": "https://localhost:8080/"
        },
        "id": "B6DmK4_6gvmh",
        "outputId": "a849c725-f47a-4051-f654-a5dc01c66ca4"
      },
      "execution_count": 41,
      "outputs": [
        {
          "output_type": "execute_result",
          "data": {
            "text/plain": [
              "array([ 1,  2,  3,  4,  5,  6,  7,  8,  9, 10, 11, 12, 13, 14, 15, 16, 17,\n",
              "       18, 19, 20, 21, 22, 23, 24], dtype=int32)"
            ]
          },
          "metadata": {},
          "execution_count": 41
        }
      ]
    },
    {
      "cell_type": "code",
      "source": [
        "# Conviertelo en un tensor\n",
        "A = tf.constant(numpy_A, shape=[2,4,3])\n",
        "A"
      ],
      "metadata": {
        "colab": {
          "base_uri": "https://localhost:8080/"
        },
        "id": "zIuH8ubcgvqy",
        "outputId": "b66d894a-8259-4453-cd07-0f7875fd8a12"
      },
      "execution_count": 42,
      "outputs": [
        {
          "output_type": "execute_result",
          "data": {
            "text/plain": [
              "<tf.Tensor: shape=(2, 4, 3), dtype=int32, numpy=\n",
              "array([[[ 1,  2,  3],\n",
              "        [ 4,  5,  6],\n",
              "        [ 7,  8,  9],\n",
              "        [10, 11, 12]],\n",
              "\n",
              "       [[13, 14, 15],\n",
              "        [16, 17, 18],\n",
              "        [19, 20, 21],\n",
              "        [22, 23, 24]]], dtype=int32)>"
            ]
          },
          "metadata": {},
          "execution_count": 42
        }
      ]
    },
    {
      "cell_type": "markdown",
      "source": [
        "Recuerda que el size debe de empatar con el shape, intenta correr la siguiente celda"
      ],
      "metadata": {
        "id": "T2nZIDdDgvud"
      }
    },
    {
      "cell_type": "code",
      "source": [
        "B = tf.constant(numpy_A, shape=[2,4,5])\n",
        "B"
      ],
      "metadata": {
        "colab": {
          "base_uri": "https://localhost:8080/",
          "height": 353
        },
        "id": "_GDZ1jOtf0CG",
        "outputId": "94c00333-b44b-4f25-ee00-bf092fb0895b"
      },
      "execution_count": 43,
      "outputs": [
        {
          "output_type": "error",
          "ename": "TypeError",
          "evalue": "ignored",
          "traceback": [
            "\u001b[0;31m---------------------------------------------------------------------------\u001b[0m",
            "\u001b[0;31mTypeError\u001b[0m                                 Traceback (most recent call last)",
            "\u001b[0;32m<ipython-input-43-8d0ed0b4812f>\u001b[0m in \u001b[0;36m<module>\u001b[0;34m()\u001b[0m\n\u001b[0;32m----> 1\u001b[0;31m \u001b[0mB\u001b[0m \u001b[0;34m=\u001b[0m \u001b[0mtf\u001b[0m\u001b[0;34m.\u001b[0m\u001b[0mconstant\u001b[0m\u001b[0;34m(\u001b[0m\u001b[0mnumpy_A\u001b[0m\u001b[0;34m,\u001b[0m \u001b[0mshape\u001b[0m\u001b[0;34m=\u001b[0m\u001b[0;34m[\u001b[0m\u001b[0;36m2\u001b[0m\u001b[0;34m,\u001b[0m\u001b[0;36m4\u001b[0m\u001b[0;34m,\u001b[0m\u001b[0;36m5\u001b[0m\u001b[0;34m]\u001b[0m\u001b[0;34m)\u001b[0m\u001b[0;34m\u001b[0m\u001b[0;34m\u001b[0m\u001b[0m\n\u001b[0m\u001b[1;32m      2\u001b[0m \u001b[0mB\u001b[0m\u001b[0;34m\u001b[0m\u001b[0;34m\u001b[0m\u001b[0m\n",
            "\u001b[0;32m/usr/local/lib/python3.7/dist-packages/tensorflow/python/framework/constant_op.py\u001b[0m in \u001b[0;36mconstant\u001b[0;34m(value, dtype, shape, name)\u001b[0m\n\u001b[1;32m    266\u001b[0m   \"\"\"\n\u001b[1;32m    267\u001b[0m   return _constant_impl(value, dtype, shape, name, verify_shape=False,\n\u001b[0;32m--> 268\u001b[0;31m                         allow_broadcast=True)\n\u001b[0m\u001b[1;32m    269\u001b[0m \u001b[0;34m\u001b[0m\u001b[0m\n\u001b[1;32m    270\u001b[0m \u001b[0;34m\u001b[0m\u001b[0m\n",
            "\u001b[0;32m/usr/local/lib/python3.7/dist-packages/tensorflow/python/framework/constant_op.py\u001b[0m in \u001b[0;36m_constant_impl\u001b[0;34m(value, dtype, shape, name, verify_shape, allow_broadcast)\u001b[0m\n\u001b[1;32m    277\u001b[0m       \u001b[0;32mwith\u001b[0m \u001b[0mtrace\u001b[0m\u001b[0;34m.\u001b[0m\u001b[0mTrace\u001b[0m\u001b[0;34m(\u001b[0m\u001b[0;34m\"tf.constant\"\u001b[0m\u001b[0;34m)\u001b[0m\u001b[0;34m:\u001b[0m\u001b[0;34m\u001b[0m\u001b[0;34m\u001b[0m\u001b[0m\n\u001b[1;32m    278\u001b[0m         \u001b[0;32mreturn\u001b[0m \u001b[0m_constant_eager_impl\u001b[0m\u001b[0;34m(\u001b[0m\u001b[0mctx\u001b[0m\u001b[0;34m,\u001b[0m \u001b[0mvalue\u001b[0m\u001b[0;34m,\u001b[0m \u001b[0mdtype\u001b[0m\u001b[0;34m,\u001b[0m \u001b[0mshape\u001b[0m\u001b[0;34m,\u001b[0m \u001b[0mverify_shape\u001b[0m\u001b[0;34m)\u001b[0m\u001b[0;34m\u001b[0m\u001b[0;34m\u001b[0m\u001b[0m\n\u001b[0;32m--> 279\u001b[0;31m     \u001b[0;32mreturn\u001b[0m \u001b[0m_constant_eager_impl\u001b[0m\u001b[0;34m(\u001b[0m\u001b[0mctx\u001b[0m\u001b[0;34m,\u001b[0m \u001b[0mvalue\u001b[0m\u001b[0;34m,\u001b[0m \u001b[0mdtype\u001b[0m\u001b[0;34m,\u001b[0m \u001b[0mshape\u001b[0m\u001b[0;34m,\u001b[0m \u001b[0mverify_shape\u001b[0m\u001b[0;34m)\u001b[0m\u001b[0;34m\u001b[0m\u001b[0;34m\u001b[0m\u001b[0m\n\u001b[0m\u001b[1;32m    280\u001b[0m \u001b[0;34m\u001b[0m\u001b[0m\n\u001b[1;32m    281\u001b[0m   \u001b[0mg\u001b[0m \u001b[0;34m=\u001b[0m \u001b[0mops\u001b[0m\u001b[0;34m.\u001b[0m\u001b[0mget_default_graph\u001b[0m\u001b[0;34m(\u001b[0m\u001b[0;34m)\u001b[0m\u001b[0;34m\u001b[0m\u001b[0;34m\u001b[0m\u001b[0m\n",
            "\u001b[0;32m/usr/local/lib/python3.7/dist-packages/tensorflow/python/framework/constant_op.py\u001b[0m in \u001b[0;36m_constant_eager_impl\u001b[0;34m(ctx, value, dtype, shape, verify_shape)\u001b[0m\n\u001b[1;32m    324\u001b[0m     \u001b[0;32melse\u001b[0m\u001b[0;34m:\u001b[0m\u001b[0;34m\u001b[0m\u001b[0;34m\u001b[0m\u001b[0m\n\u001b[1;32m    325\u001b[0m       \u001b[0;32mreturn\u001b[0m \u001b[0m_eager_fill\u001b[0m\u001b[0;34m(\u001b[0m\u001b[0mshape\u001b[0m\u001b[0;34m.\u001b[0m\u001b[0mas_list\u001b[0m\u001b[0;34m(\u001b[0m\u001b[0;34m)\u001b[0m\u001b[0;34m,\u001b[0m \u001b[0mt\u001b[0m\u001b[0;34m,\u001b[0m \u001b[0mctx\u001b[0m\u001b[0;34m)\u001b[0m\u001b[0;34m\u001b[0m\u001b[0;34m\u001b[0m\u001b[0m\n\u001b[0;32m--> 326\u001b[0;31m   raise TypeError(\"Eager execution of tf.constant with unsupported shape. \"\n\u001b[0m\u001b[1;32m    327\u001b[0m                   \u001b[0;34mf\"Tensor {t} (converted from {value}) has {num_t:d} \"\u001b[0m\u001b[0;34m\u001b[0m\u001b[0;34m\u001b[0m\u001b[0m\n\u001b[1;32m    328\u001b[0m                   \u001b[0;34mf\"elements, but got `shape` {shape} with \"\u001b[0m\u001b[0;34m\u001b[0m\u001b[0;34m\u001b[0m\u001b[0m\n",
            "\u001b[0;31mTypeError\u001b[0m: Eager execution of tf.constant with unsupported shape. Tensor [ 1  2  3  4  5  6  7  8  9 10 11 12 13 14 15 16 17 18 19 20 21 22 23 24] (converted from [ 1  2  3  4  5  6  7  8  9 10 11 12 13 14 15 16 17 18 19 20 21 22 23 24]) has 24 elements, but got `shape` (2, 4, 5) with 40 elements)."
          ]
        }
      ]
    },
    {
      "cell_type": "markdown",
      "source": [
        "El error es bastante implícito, tratamos de meter en un tensor de `40` elementos un arreglo de `24`."
      ],
      "metadata": {
        "id": "IE7gbOXOhsE-"
      }
    },
    {
      "cell_type": "markdown",
      "source": [
        "## Obtener información de tensored (shape, rank, size)\n",
        "\n",
        "\n",
        "* **Shape**: La longitud (número de elementos) de cada dimensión en un tensor\n",
        "* **Rank**: El número de dimensiones del tensor. Un escalar tiene rank 0, un vector tiene rank 1, una matriz tiene rank 2 y un tensor tiene rank *n*.\n",
        "* **Axis** O **dimension**: una dimensión particular del tensor\n",
        "* **Size**: El número total de elementos en el tensor\n",
        "\n",
        "\n",
        "Además, tenemos algunos atributos adicionales, como `ndim`.\n",
        "\n",
        "\n"
      ],
      "metadata": {
        "id": "20yucT7Ec6QP"
      }
    },
    {
      "cell_type": "code",
      "source": [
        "# Crear un tensor con rank 4\n",
        "rank_4_tensor = tf.zeros([2,3,4,5])\n",
        "rank_4_tensor"
      ],
      "metadata": {
        "colab": {
          "base_uri": "https://localhost:8080/"
        },
        "id": "YZT4TyrSiNsy",
        "outputId": "50331e5c-704c-481a-874f-ecc8ce4ebcae"
      },
      "execution_count": 44,
      "outputs": [
        {
          "output_type": "execute_result",
          "data": {
            "text/plain": [
              "<tf.Tensor: shape=(2, 3, 4, 5), dtype=float32, numpy=\n",
              "array([[[[0., 0., 0., 0., 0.],\n",
              "         [0., 0., 0., 0., 0.],\n",
              "         [0., 0., 0., 0., 0.],\n",
              "         [0., 0., 0., 0., 0.]],\n",
              "\n",
              "        [[0., 0., 0., 0., 0.],\n",
              "         [0., 0., 0., 0., 0.],\n",
              "         [0., 0., 0., 0., 0.],\n",
              "         [0., 0., 0., 0., 0.]],\n",
              "\n",
              "        [[0., 0., 0., 0., 0.],\n",
              "         [0., 0., 0., 0., 0.],\n",
              "         [0., 0., 0., 0., 0.],\n",
              "         [0., 0., 0., 0., 0.]]],\n",
              "\n",
              "\n",
              "       [[[0., 0., 0., 0., 0.],\n",
              "         [0., 0., 0., 0., 0.],\n",
              "         [0., 0., 0., 0., 0.],\n",
              "         [0., 0., 0., 0., 0.]],\n",
              "\n",
              "        [[0., 0., 0., 0., 0.],\n",
              "         [0., 0., 0., 0., 0.],\n",
              "         [0., 0., 0., 0., 0.],\n",
              "         [0., 0., 0., 0., 0.]],\n",
              "\n",
              "        [[0., 0., 0., 0., 0.],\n",
              "         [0., 0., 0., 0., 0.],\n",
              "         [0., 0., 0., 0., 0.],\n",
              "         [0., 0., 0., 0., 0.]]]], dtype=float32)>"
            ]
          },
          "metadata": {},
          "execution_count": 44
        }
      ]
    },
    {
      "cell_type": "code",
      "source": [
        "# Get various attributes of tensor\n",
        "print(f\"Datatype de cada elemento: {rank_4_tensor.dtype}\")\n",
        "print(f\"Número de dimensiones (rank): {rank_4_tensor.ndim}\")\n",
        "print(f\"Shape del tensor: {rank_4_tensor.shape}\")\n",
        "print(f\"Número total de elementos (2*3*4*5): {tf.size(rank_4_tensor).numpy()}\") # .numpy() converts to NumPy array"
      ],
      "metadata": {
        "colab": {
          "base_uri": "https://localhost:8080/"
        },
        "id": "iW05XDp5jTiK",
        "outputId": "6a947019-c5ee-454c-c7c4-f71df65eacfe"
      },
      "execution_count": 45,
      "outputs": [
        {
          "output_type": "stream",
          "name": "stdout",
          "text": [
            "Datatype de cada elemento: <dtype: 'float32'>\n",
            "Número de dimensiones (rank): 4\n",
            "Shape del tensor: (2, 3, 4, 5)\n",
            "Número total de elementos (2*3*4*5): 120\n"
          ]
        }
      ]
    },
    {
      "cell_type": "markdown",
      "source": [
        "## Indexing"
      ],
      "metadata": {
        "id": "xvwvC-NSjT_M"
      }
    },
    {
      "cell_type": "code",
      "source": [
        "# Crear un arreglo de números aleatorios con size=(5,5)\n",
        "nump_E = np.arange(1, 61)\n",
        "nump_E"
      ],
      "metadata": {
        "colab": {
          "base_uri": "https://localhost:8080/"
        },
        "id": "vCiNKAggjUDI",
        "outputId": "d419262e-e085-423c-b577-99f50dcab2a8"
      },
      "execution_count": 46,
      "outputs": [
        {
          "output_type": "execute_result",
          "data": {
            "text/plain": [
              "array([ 1,  2,  3,  4,  5,  6,  7,  8,  9, 10, 11, 12, 13, 14, 15, 16, 17,\n",
              "       18, 19, 20, 21, 22, 23, 24, 25, 26, 27, 28, 29, 30, 31, 32, 33, 34,\n",
              "       35, 36, 37, 38, 39, 40, 41, 42, 43, 44, 45, 46, 47, 48, 49, 50, 51,\n",
              "       52, 53, 54, 55, 56, 57, 58, 59, 60])"
            ]
          },
          "metadata": {},
          "execution_count": 46
        }
      ]
    },
    {
      "cell_type": "code",
      "source": [
        "E = tf.constant(nump_E, shape=(3,4,5))\n",
        "E"
      ],
      "metadata": {
        "colab": {
          "base_uri": "https://localhost:8080/"
        },
        "id": "3yg9z5BSqnM-",
        "outputId": "70bb11f5-451c-4f8f-e37b-0caa1007824d"
      },
      "execution_count": 47,
      "outputs": [
        {
          "output_type": "execute_result",
          "data": {
            "text/plain": [
              "<tf.Tensor: shape=(3, 4, 5), dtype=int64, numpy=\n",
              "array([[[ 1,  2,  3,  4,  5],\n",
              "        [ 6,  7,  8,  9, 10],\n",
              "        [11, 12, 13, 14, 15],\n",
              "        [16, 17, 18, 19, 20]],\n",
              "\n",
              "       [[21, 22, 23, 24, 25],\n",
              "        [26, 27, 28, 29, 30],\n",
              "        [31, 32, 33, 34, 35],\n",
              "        [36, 37, 38, 39, 40]],\n",
              "\n",
              "       [[41, 42, 43, 44, 45],\n",
              "        [46, 47, 48, 49, 50],\n",
              "        [51, 52, 53, 54, 55],\n",
              "        [56, 57, 58, 59, 60]]])>"
            ]
          },
          "metadata": {},
          "execution_count": 47
        }
      ]
    },
    {
      "cell_type": "markdown",
      "source": [
        "Recuerda que para obtener un número, debemos de declarar el índice. Toda indexación comienza en `0`, y para obtener el último elemento se utiliza el `-1`"
      ],
      "metadata": {
        "id": "umf0mGDZkPoB"
      }
    },
    {
      "cell_type": "markdown",
      "source": [
        "El shape del tensor `E` se puede leer como `3` grandes grupos, `4` filas cada uno y `5` columnas"
      ],
      "metadata": {
        "id": "UPEB2LHyrBLv"
      }
    },
    {
      "cell_type": "code",
      "source": [
        "# Obtener los primeros dos grupos completos\n",
        "E[:2]"
      ],
      "metadata": {
        "colab": {
          "base_uri": "https://localhost:8080/"
        },
        "id": "vQT5qM5_kPr3",
        "outputId": "4e883e45-3d6f-469f-cb73-1288a7ae7e4e"
      },
      "execution_count": 48,
      "outputs": [
        {
          "output_type": "execute_result",
          "data": {
            "text/plain": [
              "<tf.Tensor: shape=(2, 4, 5), dtype=int64, numpy=\n",
              "array([[[ 1,  2,  3,  4,  5],\n",
              "        [ 6,  7,  8,  9, 10],\n",
              "        [11, 12, 13, 14, 15],\n",
              "        [16, 17, 18, 19, 20]],\n",
              "\n",
              "       [[21, 22, 23, 24, 25],\n",
              "        [26, 27, 28, 29, 30],\n",
              "        [31, 32, 33, 34, 35],\n",
              "        [36, 37, 38, 39, 40]]])>"
            ]
          },
          "metadata": {},
          "execution_count": 48
        }
      ]
    },
    {
      "cell_type": "code",
      "source": [
        "# Ahora obtener las primeras dos filas \n",
        "E[:2, :2]"
      ],
      "metadata": {
        "colab": {
          "base_uri": "https://localhost:8080/"
        },
        "id": "LHELRC2vkPup",
        "outputId": "99088102-1e48-4a92-952a-83fb7953e418"
      },
      "execution_count": 49,
      "outputs": [
        {
          "output_type": "execute_result",
          "data": {
            "text/plain": [
              "<tf.Tensor: shape=(2, 2, 5), dtype=int64, numpy=\n",
              "array([[[ 1,  2,  3,  4,  5],\n",
              "        [ 6,  7,  8,  9, 10]],\n",
              "\n",
              "       [[21, 22, 23, 24, 25],\n",
              "        [26, 27, 28, 29, 30]]])>"
            ]
          },
          "metadata": {},
          "execution_count": 49
        }
      ]
    },
    {
      "cell_type": "code",
      "source": [
        "# Obtenemos las primeras dos columnas\n",
        "E[:2, :2, :2]"
      ],
      "metadata": {
        "colab": {
          "base_uri": "https://localhost:8080/"
        },
        "id": "PIe9HaVTjUHE",
        "outputId": "cec92c13-7dcc-4a1c-f006-b2d95b5d616d"
      },
      "execution_count": 50,
      "outputs": [
        {
          "output_type": "execute_result",
          "data": {
            "text/plain": [
              "<tf.Tensor: shape=(2, 2, 2), dtype=int64, numpy=\n",
              "array([[[ 1,  2],\n",
              "        [ 6,  7]],\n",
              "\n",
              "       [[21, 22],\n",
              "        [26, 27]]])>"
            ]
          },
          "metadata": {},
          "execution_count": 50
        }
      ]
    },
    {
      "cell_type": "code",
      "source": [
        "# La siguiente celda dará un error\n",
        "E[:2, :2, :2, :2]"
      ],
      "metadata": {
        "colab": {
          "base_uri": "https://localhost:8080/",
          "height": 336
        },
        "id": "HDsleIziu4UR",
        "outputId": "7774fe92-d790-4480-f0ef-afddc849e2cf"
      },
      "execution_count": 51,
      "outputs": [
        {
          "output_type": "error",
          "ename": "InvalidArgumentError",
          "evalue": "ignored",
          "traceback": [
            "\u001b[0;31m---------------------------------------------------------------------------\u001b[0m",
            "\u001b[0;31mInvalidArgumentError\u001b[0m                      Traceback (most recent call last)",
            "\u001b[0;32m<ipython-input-51-3083ad342314>\u001b[0m in \u001b[0;36m<module>\u001b[0;34m()\u001b[0m\n\u001b[1;32m      1\u001b[0m \u001b[0;31m# La siguiente celda dará un error\u001b[0m\u001b[0;34m\u001b[0m\u001b[0;34m\u001b[0m\u001b[0;34m\u001b[0m\u001b[0m\n\u001b[0;32m----> 2\u001b[0;31m \u001b[0mE\u001b[0m\u001b[0;34m[\u001b[0m\u001b[0;34m:\u001b[0m\u001b[0;36m2\u001b[0m\u001b[0;34m,\u001b[0m \u001b[0;34m:\u001b[0m\u001b[0;36m2\u001b[0m\u001b[0;34m,\u001b[0m \u001b[0;34m:\u001b[0m\u001b[0;36m2\u001b[0m\u001b[0;34m,\u001b[0m \u001b[0;34m:\u001b[0m\u001b[0;36m2\u001b[0m\u001b[0;34m]\u001b[0m\u001b[0;34m\u001b[0m\u001b[0;34m\u001b[0m\u001b[0m\n\u001b[0m",
            "\u001b[0;32m/usr/local/lib/python3.7/dist-packages/tensorflow/python/util/traceback_utils.py\u001b[0m in \u001b[0;36merror_handler\u001b[0;34m(*args, **kwargs)\u001b[0m\n\u001b[1;32m    151\u001b[0m     \u001b[0;32mexcept\u001b[0m \u001b[0mException\u001b[0m \u001b[0;32mas\u001b[0m \u001b[0me\u001b[0m\u001b[0;34m:\u001b[0m\u001b[0;34m\u001b[0m\u001b[0;34m\u001b[0m\u001b[0m\n\u001b[1;32m    152\u001b[0m       \u001b[0mfiltered_tb\u001b[0m \u001b[0;34m=\u001b[0m \u001b[0m_process_traceback_frames\u001b[0m\u001b[0;34m(\u001b[0m\u001b[0me\u001b[0m\u001b[0;34m.\u001b[0m\u001b[0m__traceback__\u001b[0m\u001b[0;34m)\u001b[0m\u001b[0;34m\u001b[0m\u001b[0;34m\u001b[0m\u001b[0m\n\u001b[0;32m--> 153\u001b[0;31m       \u001b[0;32mraise\u001b[0m \u001b[0me\u001b[0m\u001b[0;34m.\u001b[0m\u001b[0mwith_traceback\u001b[0m\u001b[0;34m(\u001b[0m\u001b[0mfiltered_tb\u001b[0m\u001b[0;34m)\u001b[0m \u001b[0;32mfrom\u001b[0m \u001b[0;32mNone\u001b[0m\u001b[0;34m\u001b[0m\u001b[0;34m\u001b[0m\u001b[0m\n\u001b[0m\u001b[1;32m    154\u001b[0m     \u001b[0;32mfinally\u001b[0m\u001b[0;34m:\u001b[0m\u001b[0;34m\u001b[0m\u001b[0;34m\u001b[0m\u001b[0m\n\u001b[1;32m    155\u001b[0m       \u001b[0;32mdel\u001b[0m \u001b[0mfiltered_tb\u001b[0m\u001b[0;34m\u001b[0m\u001b[0;34m\u001b[0m\u001b[0m\n",
            "\u001b[0;32m/usr/local/lib/python3.7/dist-packages/tensorflow/python/framework/ops.py\u001b[0m in \u001b[0;36mraise_from_not_ok_status\u001b[0;34m(e, name)\u001b[0m\n\u001b[1;32m   7184\u001b[0m \u001b[0;32mdef\u001b[0m \u001b[0mraise_from_not_ok_status\u001b[0m\u001b[0;34m(\u001b[0m\u001b[0me\u001b[0m\u001b[0;34m,\u001b[0m \u001b[0mname\u001b[0m\u001b[0;34m)\u001b[0m\u001b[0;34m:\u001b[0m\u001b[0;34m\u001b[0m\u001b[0;34m\u001b[0m\u001b[0m\n\u001b[1;32m   7185\u001b[0m   \u001b[0me\u001b[0m\u001b[0;34m.\u001b[0m\u001b[0mmessage\u001b[0m \u001b[0;34m+=\u001b[0m \u001b[0;34m(\u001b[0m\u001b[0;34m\" name: \"\u001b[0m \u001b[0;34m+\u001b[0m \u001b[0mname\u001b[0m \u001b[0;32mif\u001b[0m \u001b[0mname\u001b[0m \u001b[0;32mis\u001b[0m \u001b[0;32mnot\u001b[0m \u001b[0;32mNone\u001b[0m \u001b[0;32melse\u001b[0m \u001b[0;34m\"\"\u001b[0m\u001b[0;34m)\u001b[0m\u001b[0;34m\u001b[0m\u001b[0;34m\u001b[0m\u001b[0m\n\u001b[0;32m-> 7186\u001b[0;31m   \u001b[0;32mraise\u001b[0m \u001b[0mcore\u001b[0m\u001b[0;34m.\u001b[0m\u001b[0m_status_to_exception\u001b[0m\u001b[0;34m(\u001b[0m\u001b[0me\u001b[0m\u001b[0;34m)\u001b[0m \u001b[0;32mfrom\u001b[0m \u001b[0;32mNone\u001b[0m  \u001b[0;31m# pylint: disable=protected-access\u001b[0m\u001b[0;34m\u001b[0m\u001b[0;34m\u001b[0m\u001b[0m\n\u001b[0m\u001b[1;32m   7187\u001b[0m \u001b[0;34m\u001b[0m\u001b[0m\n\u001b[1;32m   7188\u001b[0m \u001b[0;34m\u001b[0m\u001b[0m\n",
            "\u001b[0;31mInvalidArgumentError\u001b[0m: Index out of range using input dim 3; input has only 3 dims [Op:StridedSlice] name: strided_slice/"
          ]
        }
      ]
    },
    {
      "cell_type": "markdown",
      "source": [
        "Esto se debe a que sólo tenemos 3 números en el shape, por lo que solo podemos indexar 3 veces. \n",
        "\n",
        "Por lo tanto el primer índice es de **grupos**, el segundo es de **filas** y el tercero es de **columnas**.\n",
        "\n",
        "Observa los siguientes ejemplos:"
      ],
      "metadata": {
        "id": "Gde3KWfVvaXO"
      }
    },
    {
      "cell_type": "code",
      "source": [
        "E"
      ],
      "metadata": {
        "colab": {
          "base_uri": "https://localhost:8080/"
        },
        "id": "BuI8K-Dju43h",
        "outputId": "edb42a5c-6e38-4953-98a9-1d2c2bff33b1"
      },
      "execution_count": 52,
      "outputs": [
        {
          "output_type": "execute_result",
          "data": {
            "text/plain": [
              "<tf.Tensor: shape=(3, 4, 5), dtype=int64, numpy=\n",
              "array([[[ 1,  2,  3,  4,  5],\n",
              "        [ 6,  7,  8,  9, 10],\n",
              "        [11, 12, 13, 14, 15],\n",
              "        [16, 17, 18, 19, 20]],\n",
              "\n",
              "       [[21, 22, 23, 24, 25],\n",
              "        [26, 27, 28, 29, 30],\n",
              "        [31, 32, 33, 34, 35],\n",
              "        [36, 37, 38, 39, 40]],\n",
              "\n",
              "       [[41, 42, 43, 44, 45],\n",
              "        [46, 47, 48, 49, 50],\n",
              "        [51, 52, 53, 54, 55],\n",
              "        [56, 57, 58, 59, 60]]])>"
            ]
          },
          "metadata": {},
          "execution_count": 52
        }
      ]
    },
    {
      "cell_type": "markdown",
      "source": [
        "✏️ **Ejercicio:** Intenta imprimir el número 50"
      ],
      "metadata": {
        "id": "KtZ3g7A6yf1X"
      }
    },
    {
      "cell_type": "code",
      "source": [
        "# El 50 está en el grupo 3, pero como comenzamos en 0, lo declaramos como 2\n",
        "E[2]"
      ],
      "metadata": {
        "colab": {
          "base_uri": "https://localhost:8080/"
        },
        "id": "aMW_RdC-u48I",
        "outputId": "7c1fc514-3590-4434-8d97-ef96aa9cdf75"
      },
      "execution_count": 53,
      "outputs": [
        {
          "output_type": "execute_result",
          "data": {
            "text/plain": [
              "<tf.Tensor: shape=(4, 5), dtype=int64, numpy=\n",
              "array([[41, 42, 43, 44, 45],\n",
              "       [46, 47, 48, 49, 50],\n",
              "       [51, 52, 53, 54, 55],\n",
              "       [56, 57, 58, 59, 60]])>"
            ]
          },
          "metadata": {},
          "execution_count": 53
        }
      ]
    },
    {
      "cell_type": "code",
      "source": [
        "# Se encuentra en la fila 2, la cual declaramos como 1\n",
        "E[2, 1]"
      ],
      "metadata": {
        "colab": {
          "base_uri": "https://localhost:8080/"
        },
        "id": "2fywd-Ezu5Ay",
        "outputId": "dadf5983-e489-4b9e-c928-ac38f237c00c"
      },
      "execution_count": 54,
      "outputs": [
        {
          "output_type": "execute_result",
          "data": {
            "text/plain": [
              "<tf.Tensor: shape=(5,), dtype=int64, numpy=array([46, 47, 48, 49, 50])>"
            ]
          },
          "metadata": {},
          "execution_count": 54
        }
      ]
    },
    {
      "cell_type": "code",
      "source": [
        "# Finalmente, está en la última columna, la cual podemos declarar como -1\n",
        "E[2,1,-1]"
      ],
      "metadata": {
        "colab": {
          "base_uri": "https://localhost:8080/"
        },
        "id": "PCGLSP3Fu5F8",
        "outputId": "566d57c4-3faa-4e13-ecb2-d96f992be115"
      },
      "execution_count": 55,
      "outputs": [
        {
          "output_type": "execute_result",
          "data": {
            "text/plain": [
              "<tf.Tensor: shape=(), dtype=int64, numpy=50>"
            ]
          },
          "metadata": {},
          "execution_count": 55
        }
      ]
    },
    {
      "cell_type": "markdown",
      "source": [
        "Además, podemos traer más de un número, por ejemplo, por fila:"
      ],
      "metadata": {
        "id": "cNHPgNpNznaj"
      }
    },
    {
      "cell_type": "code",
      "source": [
        "# Obtener el último elemento de cada fila\n",
        "E[:, :, -1]"
      ],
      "metadata": {
        "colab": {
          "base_uri": "https://localhost:8080/"
        },
        "id": "fegKa4htzHl3",
        "outputId": "0d602691-7e1a-415e-8a40-59de20b168f0"
      },
      "execution_count": 56,
      "outputs": [
        {
          "output_type": "execute_result",
          "data": {
            "text/plain": [
              "<tf.Tensor: shape=(3, 4), dtype=int64, numpy=\n",
              "array([[ 5, 10, 15, 20],\n",
              "       [25, 30, 35, 40],\n",
              "       [45, 50, 55, 60]])>"
            ]
          },
          "metadata": {},
          "execution_count": 56
        }
      ]
    },
    {
      "cell_type": "markdown",
      "source": [
        "En la mayoría de las ocasiones tendremos que adecuar los tensores para poder tener dimensiones extras, pero sin modificar los valores que en él existen; similar a si metieramos dimensones sintéticas.\n",
        "\n",
        "El hecho de aumentar dimensiones o quitar, será recurrente, ya que no sólo será una cuestión técnica, sino de la teoría de las redes neuronales"
      ],
      "metadata": {
        "id": "guUzDpy-0s8n"
      }
    },
    {
      "cell_type": "code",
      "source": [
        "# Crear un tensor de rank 2 (2 dimensiones)\n",
        "rank_2_tensor = tf.constant([[10,7],\n",
        "                             [3,4]])\n",
        "\n",
        "rank_2_tensor"
      ],
      "metadata": {
        "colab": {
          "base_uri": "https://localhost:8080/"
        },
        "id": "qMt5NDGjaPkA",
        "outputId": "5344cfe0-2e50-46db-fb70-019e434f226b"
      },
      "execution_count": 57,
      "outputs": [
        {
          "output_type": "execute_result",
          "data": {
            "text/plain": [
              "<tf.Tensor: shape=(2, 2), dtype=int32, numpy=\n",
              "array([[10,  7],\n",
              "       [ 3,  4]], dtype=int32)>"
            ]
          },
          "metadata": {},
          "execution_count": 57
        }
      ]
    },
    {
      "cell_type": "code",
      "source": [
        "# Añadir una dimensión extra al tensor de rank 2 con ...\n",
        "rank_3_tensor = rank_2_tensor[..., tf.newaxis] # en python ... signfiica \"todas las dimensiones previas\"\n",
        "rank_3_tensor"
      ],
      "metadata": {
        "colab": {
          "base_uri": "https://localhost:8080/"
        },
        "id": "FlaQzMXwzZJc",
        "outputId": "ddad3488-4927-4582-8927-049ea8d745b7"
      },
      "execution_count": 58,
      "outputs": [
        {
          "output_type": "execute_result",
          "data": {
            "text/plain": [
              "<tf.Tensor: shape=(2, 2, 1), dtype=int32, numpy=\n",
              "array([[[10],\n",
              "        [ 7]],\n",
              "\n",
              "       [[ 3],\n",
              "        [ 4]]], dtype=int32)>"
            ]
          },
          "metadata": {},
          "execution_count": 58
        }
      ]
    },
    {
      "cell_type": "markdown",
      "source": [
        "Observa cómo añadimos una dimensión como columna en el `shape` sin afectar a nuestros valores.\n",
        "\n",
        "Ahora bien, también podemos utilizar `tf.expand_dims()` para aumentar dimensiones"
      ],
      "metadata": {
        "id": "-6wFXMLoZOP_"
      }
    },
    {
      "cell_type": "code",
      "source": [
        "tf.expand_dims(rank_2_tensor, axis=-1) # \"-1\" significa el último eje"
      ],
      "metadata": {
        "colab": {
          "base_uri": "https://localhost:8080/"
        },
        "id": "C5g7PtuUZOT7",
        "outputId": "3ef367ca-42de-4beb-a027-589559ae18e6"
      },
      "execution_count": 59,
      "outputs": [
        {
          "output_type": "execute_result",
          "data": {
            "text/plain": [
              "<tf.Tensor: shape=(2, 2, 1), dtype=int32, numpy=\n",
              "array([[[10],\n",
              "        [ 7]],\n",
              "\n",
              "       [[ 3],\n",
              "        [ 4]]], dtype=int32)>"
            ]
          },
          "metadata": {},
          "execution_count": 59
        }
      ]
    },
    {
      "cell_type": "markdown",
      "source": [
        "# Manipulación de tensores (operaciones)"
      ],
      "metadata": {
        "id": "bG7s69GEZOXZ"
      }
    },
    {
      "cell_type": "markdown",
      "source": [
        "Ahora que sabemos cómo crear tensores, comenzaremos a modificarlos a través de operaciones y técnicas que nos serán útiles cuando hagamos nuestras redes neuronales"
      ],
      "metadata": {
        "id": "C1QLwaZdZOai"
      }
    },
    {
      "cell_type": "markdown",
      "source": [
        "## Operaciones básicas\n",
        "\n",
        "Podemos realizar operaciones tales como `+`, `-` o `*`\n"
      ],
      "metadata": {
        "id": "1XdeME6tZOdG"
      }
    },
    {
      "cell_type": "code",
      "source": [
        "# Podemos añadir valores a los tensores\n",
        "tensor = tf.constant([[10, 7], [3,4]])\n",
        "tensor + 10"
      ],
      "metadata": {
        "colab": {
          "base_uri": "https://localhost:8080/"
        },
        "id": "XecqHjqSzHqT",
        "outputId": "0b45adda-b565-497a-de72-2c947a4c6aac"
      },
      "execution_count": 60,
      "outputs": [
        {
          "output_type": "execute_result",
          "data": {
            "text/plain": [
              "<tf.Tensor: shape=(2, 2), dtype=int32, numpy=\n",
              "array([[20, 17],\n",
              "       [13, 14]], dtype=int32)>"
            ]
          },
          "metadata": {},
          "execution_count": 60
        }
      ]
    },
    {
      "cell_type": "code",
      "source": [
        "# Igualmente multiplicar\n",
        "tensor * 10"
      ],
      "metadata": {
        "colab": {
          "base_uri": "https://localhost:8080/"
        },
        "id": "BToOz1QxzHuH",
        "outputId": "5f662b4e-a87e-4f88-9637-e65f58e961fd"
      },
      "execution_count": 61,
      "outputs": [
        {
          "output_type": "execute_result",
          "data": {
            "text/plain": [
              "<tf.Tensor: shape=(2, 2), dtype=int32, numpy=\n",
              "array([[100,  70],\n",
              "       [ 30,  40]], dtype=int32)>"
            ]
          },
          "metadata": {},
          "execution_count": 61
        }
      ]
    },
    {
      "cell_type": "code",
      "source": [
        "# Así como resta\n",
        "tensor - 10"
      ],
      "metadata": {
        "colab": {
          "base_uri": "https://localhost:8080/"
        },
        "id": "LdCe5cyMuwoi",
        "outputId": "835bc965-0bb2-44e7-c47f-fb08611fd1e4"
      },
      "execution_count": 62,
      "outputs": [
        {
          "output_type": "execute_result",
          "data": {
            "text/plain": [
              "<tf.Tensor: shape=(2, 2), dtype=int32, numpy=\n",
              "array([[ 0, -3],\n",
              "       [-7, -6]], dtype=int32)>"
            ]
          },
          "metadata": {},
          "execution_count": 62
        }
      ]
    },
    {
      "cell_type": "markdown",
      "source": [
        "Además, podemos utilizar funciones de TensorFlow integradas, las cuales tienen una ventaja dado que logran una computación más rápida. Por ejemplo, podemos multiplicar cada uno de los valores por `10`"
      ],
      "metadata": {
        "id": "1C1EyH4ruwsi"
      }
    },
    {
      "cell_type": "code",
      "source": [
        "# Usa multiply como equivalente de '*'\n",
        "tf.multiply(tensor, 10)"
      ],
      "metadata": {
        "colab": {
          "base_uri": "https://localhost:8080/"
        },
        "id": "crsHhxW7F_XS",
        "outputId": "92ca5773-a5bb-4f1c-c2c5-50a6786671f5"
      },
      "execution_count": 63,
      "outputs": [
        {
          "output_type": "execute_result",
          "data": {
            "text/plain": [
              "<tf.Tensor: shape=(2, 2), dtype=int32, numpy=\n",
              "array([[100,  70],\n",
              "       [ 30,  40]], dtype=int32)>"
            ]
          },
          "metadata": {},
          "execution_count": 63
        }
      ]
    },
    {
      "cell_type": "code",
      "source": [
        "# Tensor original\n",
        "tensor"
      ],
      "metadata": {
        "colab": {
          "base_uri": "https://localhost:8080/"
        },
        "id": "5k4y7nyHF_cj",
        "outputId": "1529d01d-0037-4355-be3f-b9915f0a6a6b"
      },
      "execution_count": 64,
      "outputs": [
        {
          "output_type": "execute_result",
          "data": {
            "text/plain": [
              "<tf.Tensor: shape=(2, 2), dtype=int32, numpy=\n",
              "array([[10,  7],\n",
              "       [ 3,  4]], dtype=int32)>"
            ]
          },
          "metadata": {},
          "execution_count": 64
        }
      ]
    },
    {
      "cell_type": "markdown",
      "source": [
        "Observa cómo cada valor es multiplicado por diez, lo cual es diferente a una multiplicación de matriz por escalar."
      ],
      "metadata": {
        "id": "jtY6eZuEF_hh"
      }
    },
    {
      "cell_type": "markdown",
      "source": [
        "## Multiplicación de matrices"
      ],
      "metadata": {
        "id": "6WMkwO7zF_lK"
      }
    },
    {
      "cell_type": "markdown",
      "source": [
        "Siendo una de las operaciones más comunes en Machine Learning, la multiplicación de matrices se puede llevar a cabo de dos formas\n",
        "\n",
        "* De forma nativa a python con operador `@`\n",
        "* Con la función integrada de TF `tf.matmul()`\n",
        "\n",
        "Existen dos reglas indispensables en la multiplicación de matrices:\n",
        "\n",
        "1. Las dimensiones internas deben de ser iguales:\n",
        "  * `(4,5) @ (5, 4)`\n",
        "\n",
        "2. La matríz resultante tiene `shape` de las dimensiones exteriores\n",
        "  * `(4,5) @ (5,4)` -> `(4,4)`"
      ],
      "metadata": {
        "id": "6RGHJbREG9j9"
      }
    },
    {
      "cell_type": "code",
      "source": [
        "# Recuerda el tensor previo\n",
        "tensor"
      ],
      "metadata": {
        "colab": {
          "base_uri": "https://localhost:8080/"
        },
        "id": "c1E0OB6uIL6R",
        "outputId": "c3793e8a-71ed-48cc-fb07-fde0ae3fbc09"
      },
      "execution_count": 65,
      "outputs": [
        {
          "output_type": "execute_result",
          "data": {
            "text/plain": [
              "<tf.Tensor: shape=(2, 2), dtype=int32, numpy=\n",
              "array([[10,  7],\n",
              "       [ 3,  4]], dtype=int32)>"
            ]
          },
          "metadata": {},
          "execution_count": 65
        }
      ]
    },
    {
      "cell_type": "code",
      "source": [
        "# Multiplicación de matrices con @\n",
        "tensor @ tensor"
      ],
      "metadata": {
        "colab": {
          "base_uri": "https://localhost:8080/"
        },
        "id": "M9oZHOtBHAy2",
        "outputId": "c4f3c870-df17-4635-a2f6-9e5962627c9c"
      },
      "execution_count": 66,
      "outputs": [
        {
          "output_type": "execute_result",
          "data": {
            "text/plain": [
              "<tf.Tensor: shape=(2, 2), dtype=int32, numpy=\n",
              "array([[121,  98],\n",
              "       [ 42,  37]], dtype=int32)>"
            ]
          },
          "metadata": {},
          "execution_count": 66
        }
      ]
    },
    {
      "cell_type": "code",
      "source": [
        "# Multiplicación de matrices en TensorFlow\n",
        "tf.matmul(tensor, tensor)"
      ],
      "metadata": {
        "colab": {
          "base_uri": "https://localhost:8080/"
        },
        "id": "iyNBfeNxF_ni",
        "outputId": "21ccd664-e0eb-48fe-d016-73f6aef11f08"
      },
      "execution_count": 67,
      "outputs": [
        {
          "output_type": "execute_result",
          "data": {
            "text/plain": [
              "<tf.Tensor: shape=(2, 2), dtype=int32, numpy=\n",
              "array([[121,  98],\n",
              "       [ 42,  37]], dtype=int32)>"
            ]
          },
          "metadata": {},
          "execution_count": 67
        }
      ]
    },
    {
      "cell_type": "markdown",
      "source": [
        "Ambas multiplicaciones resultaron en un tensor con `shape(2,2)`. Ahora bien, intentemos multiplicar dos matrices que rompan con la regla numero 1 establecida anteriormente."
      ],
      "metadata": {
        "id": "RkR4Kkz3G9cn"
      }
    },
    {
      "cell_type": "code",
      "source": [
        "# Tensor de (3,2) \n",
        "X = tf.constant([[1,2],\n",
        "                 [3,4],\n",
        "                 [5,6]])\n",
        "\n",
        "# Tensor de (3,2)\n",
        "Y = tf.constant([[7,8],\n",
        "                 [9,10],\n",
        "                 [11,12]])\n",
        "\n",
        "X, Y"
      ],
      "metadata": {
        "colab": {
          "base_uri": "https://localhost:8080/"
        },
        "id": "mo3OjTKSIWsH",
        "outputId": "cad41ebd-d901-402b-a3e3-7d087cf4fd35"
      },
      "execution_count": 68,
      "outputs": [
        {
          "output_type": "execute_result",
          "data": {
            "text/plain": [
              "(<tf.Tensor: shape=(3, 2), dtype=int32, numpy=\n",
              " array([[1, 2],\n",
              "        [3, 4],\n",
              "        [5, 6]], dtype=int32)>, <tf.Tensor: shape=(3, 2), dtype=int32, numpy=\n",
              " array([[ 7,  8],\n",
              "        [ 9, 10],\n",
              "        [11, 12]], dtype=int32)>)"
            ]
          },
          "metadata": {},
          "execution_count": 68
        }
      ]
    },
    {
      "cell_type": "code",
      "source": [
        "# Intenta multiplicar ambos tensores con @\n",
        "X @ Y"
      ],
      "metadata": {
        "colab": {
          "base_uri": "https://localhost:8080/",
          "height": 336
        },
        "id": "VpaLhFLRIWwM",
        "outputId": "8252c492-f540-43db-b7dc-e76b5de141d1"
      },
      "execution_count": 69,
      "outputs": [
        {
          "output_type": "error",
          "ename": "InvalidArgumentError",
          "evalue": "ignored",
          "traceback": [
            "\u001b[0;31m---------------------------------------------------------------------------\u001b[0m",
            "\u001b[0;31mInvalidArgumentError\u001b[0m                      Traceback (most recent call last)",
            "\u001b[0;32m<ipython-input-69-4f7319af9c22>\u001b[0m in \u001b[0;36m<module>\u001b[0;34m()\u001b[0m\n\u001b[1;32m      1\u001b[0m \u001b[0;31m# Intenta multiplicar ambos tensores con @\u001b[0m\u001b[0;34m\u001b[0m\u001b[0;34m\u001b[0m\u001b[0;34m\u001b[0m\u001b[0m\n\u001b[0;32m----> 2\u001b[0;31m \u001b[0mX\u001b[0m \u001b[0;34m@\u001b[0m \u001b[0mY\u001b[0m\u001b[0;34m\u001b[0m\u001b[0;34m\u001b[0m\u001b[0m\n\u001b[0m",
            "\u001b[0;32m/usr/local/lib/python3.7/dist-packages/tensorflow/python/util/traceback_utils.py\u001b[0m in \u001b[0;36merror_handler\u001b[0;34m(*args, **kwargs)\u001b[0m\n\u001b[1;32m    151\u001b[0m     \u001b[0;32mexcept\u001b[0m \u001b[0mException\u001b[0m \u001b[0;32mas\u001b[0m \u001b[0me\u001b[0m\u001b[0;34m:\u001b[0m\u001b[0;34m\u001b[0m\u001b[0;34m\u001b[0m\u001b[0m\n\u001b[1;32m    152\u001b[0m       \u001b[0mfiltered_tb\u001b[0m \u001b[0;34m=\u001b[0m \u001b[0m_process_traceback_frames\u001b[0m\u001b[0;34m(\u001b[0m\u001b[0me\u001b[0m\u001b[0;34m.\u001b[0m\u001b[0m__traceback__\u001b[0m\u001b[0;34m)\u001b[0m\u001b[0;34m\u001b[0m\u001b[0;34m\u001b[0m\u001b[0m\n\u001b[0;32m--> 153\u001b[0;31m       \u001b[0;32mraise\u001b[0m \u001b[0me\u001b[0m\u001b[0;34m.\u001b[0m\u001b[0mwith_traceback\u001b[0m\u001b[0;34m(\u001b[0m\u001b[0mfiltered_tb\u001b[0m\u001b[0;34m)\u001b[0m \u001b[0;32mfrom\u001b[0m \u001b[0;32mNone\u001b[0m\u001b[0;34m\u001b[0m\u001b[0;34m\u001b[0m\u001b[0m\n\u001b[0m\u001b[1;32m    154\u001b[0m     \u001b[0;32mfinally\u001b[0m\u001b[0;34m:\u001b[0m\u001b[0;34m\u001b[0m\u001b[0;34m\u001b[0m\u001b[0m\n\u001b[1;32m    155\u001b[0m       \u001b[0;32mdel\u001b[0m \u001b[0mfiltered_tb\u001b[0m\u001b[0;34m\u001b[0m\u001b[0;34m\u001b[0m\u001b[0m\n",
            "\u001b[0;32m/usr/local/lib/python3.7/dist-packages/tensorflow/python/framework/ops.py\u001b[0m in \u001b[0;36mraise_from_not_ok_status\u001b[0;34m(e, name)\u001b[0m\n\u001b[1;32m   7184\u001b[0m \u001b[0;32mdef\u001b[0m \u001b[0mraise_from_not_ok_status\u001b[0m\u001b[0;34m(\u001b[0m\u001b[0me\u001b[0m\u001b[0;34m,\u001b[0m \u001b[0mname\u001b[0m\u001b[0;34m)\u001b[0m\u001b[0;34m:\u001b[0m\u001b[0;34m\u001b[0m\u001b[0;34m\u001b[0m\u001b[0m\n\u001b[1;32m   7185\u001b[0m   \u001b[0me\u001b[0m\u001b[0;34m.\u001b[0m\u001b[0mmessage\u001b[0m \u001b[0;34m+=\u001b[0m \u001b[0;34m(\u001b[0m\u001b[0;34m\" name: \"\u001b[0m \u001b[0;34m+\u001b[0m \u001b[0mname\u001b[0m \u001b[0;32mif\u001b[0m \u001b[0mname\u001b[0m \u001b[0;32mis\u001b[0m \u001b[0;32mnot\u001b[0m \u001b[0;32mNone\u001b[0m \u001b[0;32melse\u001b[0m \u001b[0;34m\"\"\u001b[0m\u001b[0;34m)\u001b[0m\u001b[0;34m\u001b[0m\u001b[0;34m\u001b[0m\u001b[0m\n\u001b[0;32m-> 7186\u001b[0;31m   \u001b[0;32mraise\u001b[0m \u001b[0mcore\u001b[0m\u001b[0;34m.\u001b[0m\u001b[0m_status_to_exception\u001b[0m\u001b[0;34m(\u001b[0m\u001b[0me\u001b[0m\u001b[0;34m)\u001b[0m \u001b[0;32mfrom\u001b[0m \u001b[0;32mNone\u001b[0m  \u001b[0;31m# pylint: disable=protected-access\u001b[0m\u001b[0;34m\u001b[0m\u001b[0;34m\u001b[0m\u001b[0m\n\u001b[0m\u001b[1;32m   7187\u001b[0m \u001b[0;34m\u001b[0m\u001b[0m\n\u001b[1;32m   7188\u001b[0m \u001b[0;34m\u001b[0m\u001b[0m\n",
            "\u001b[0;31mInvalidArgumentError\u001b[0m: Matrix size-incompatible: In[0]: [3,2], In[1]: [3,2] [Op:MatMul]"
          ]
        }
      ]
    },
    {
      "cell_type": "markdown",
      "source": [
        "Esto se debe a que las dimensiones internas son diferentes.\n",
        "\n",
        "Tenemos dos opciones:\n",
        "  * Hacer un reshape de X a `(2,3)`\n",
        "  * Hacer un reshape de Y a `(3,2)`\n",
        "\n",
        "Esto se puede hacer, a su vez, de dos formas:\n",
        "  * `tf.reshape()`\n",
        "  * `tf.transpose()`"
      ],
      "metadata": {
        "id": "jMLYoWJpIWzC"
      }
    },
    {
      "cell_type": "code",
      "source": [
        "# Ejemplo de reshape (3,2) -> (2,3)\n",
        "tf.reshape(Y, shape=(2,3))"
      ],
      "metadata": {
        "colab": {
          "base_uri": "https://localhost:8080/"
        },
        "id": "HLHFQA2fMnkY",
        "outputId": "6eb6e64c-bcb4-4341-f57b-fc0d113a1fc7"
      },
      "execution_count": 70,
      "outputs": [
        {
          "output_type": "execute_result",
          "data": {
            "text/plain": [
              "<tf.Tensor: shape=(2, 3), dtype=int32, numpy=\n",
              "array([[ 7,  8,  9],\n",
              "       [10, 11, 12]], dtype=int32)>"
            ]
          },
          "metadata": {},
          "execution_count": 70
        }
      ]
    },
    {
      "cell_type": "code",
      "source": [
        "# Transpuesta de (3,2) -> (2,3)\n",
        "tf.transpose(X)"
      ],
      "metadata": {
        "colab": {
          "base_uri": "https://localhost:8080/"
        },
        "id": "3neUarUFMnq3",
        "outputId": "f624ea60-0fd0-4506-8da2-772e2bb218fb"
      },
      "execution_count": 71,
      "outputs": [
        {
          "output_type": "execute_result",
          "data": {
            "text/plain": [
              "<tf.Tensor: shape=(2, 3), dtype=int32, numpy=\n",
              "array([[1, 3, 5],\n",
              "       [2, 4, 6]], dtype=int32)>"
            ]
          },
          "metadata": {},
          "execution_count": 71
        }
      ]
    },
    {
      "cell_type": "code",
      "source": [
        "# Multiplicación con parámetros usando tf.matmul\n",
        "tf.matmul(a=X, b=Y, transpose_a=True, transpose_b=False)"
      ],
      "metadata": {
        "colab": {
          "base_uri": "https://localhost:8080/"
        },
        "id": "8G2rZ8Y6NyZq",
        "outputId": "191ed289-61cc-4e20-ca92-8cfc89794fa2"
      },
      "execution_count": 72,
      "outputs": [
        {
          "output_type": "execute_result",
          "data": {
            "text/plain": [
              "<tf.Tensor: shape=(2, 2), dtype=int32, numpy=\n",
              "array([[ 89,  98],\n",
              "       [116, 128]], dtype=int32)>"
            ]
          },
          "metadata": {},
          "execution_count": 72
        }
      ]
    },
    {
      "cell_type": "markdown",
      "source": [
        "Observa como existe una diferencia en shapes cuanto hacemos transpuesta de `X` o un reshape de `Y`.\n",
        "\n",
        "Esto se debe a la segunda regla, la cual dice que:\n",
        "\n",
        " * `(3, 2) @ (2, 3)` -> `(3, 3)` resulta de `X @ tf.reshape(Y, shape=(2, 3))` \n",
        " * `(2, 3) @ (3, 2)` -> `(2, 2)` resulta de `tf.matmul(tf.transpose(X), Y)`\n",
        "\n",
        "Ahora bien, observa el siguiente ejemplo y nota las diferencias:"
      ],
      "metadata": {
        "id": "uM7ucDG0NydO"
      }
    },
    {
      "cell_type": "code",
      "source": [
        "# Multiplicación con Y transpuesta\n",
        "tf.matmul(X, tf.transpose(Y))"
      ],
      "metadata": {
        "colab": {
          "base_uri": "https://localhost:8080/"
        },
        "id": "xhwzWCxHPdqO",
        "outputId": "5865313e-7abe-4db4-b20b-bf931f5fb0bb"
      },
      "execution_count": 73,
      "outputs": [
        {
          "output_type": "execute_result",
          "data": {
            "text/plain": [
              "<tf.Tensor: shape=(3, 3), dtype=int32, numpy=\n",
              "array([[ 23,  29,  35],\n",
              "       [ 53,  67,  81],\n",
              "       [ 83, 105, 127]], dtype=int32)>"
            ]
          },
          "metadata": {},
          "execution_count": 73
        }
      ]
    },
    {
      "cell_type": "code",
      "source": [
        "# Multiplicación con Y reshaped\n",
        "tf.matmul(X, tf.reshape(Y, (2, 3)))"
      ],
      "metadata": {
        "colab": {
          "base_uri": "https://localhost:8080/"
        },
        "id": "SC6KDknSyLRK",
        "outputId": "df351a02-12d9-464a-bede-706883876d25"
      },
      "execution_count": 74,
      "outputs": [
        {
          "output_type": "execute_result",
          "data": {
            "text/plain": [
              "<tf.Tensor: shape=(3, 3), dtype=int32, numpy=\n",
              "array([[ 27,  30,  33],\n",
              "       [ 61,  68,  75],\n",
              "       [ 95, 106, 117]], dtype=int32)>"
            ]
          },
          "metadata": {},
          "execution_count": 74
        }
      ]
    },
    {
      "cell_type": "code",
      "source": [
        "# Y inicial\n",
        "Y"
      ],
      "metadata": {
        "colab": {
          "base_uri": "https://localhost:8080/"
        },
        "id": "0gcMlafO0oPU",
        "outputId": "5e05929d-05a6-4d64-bcd7-5245f3b435d1"
      },
      "execution_count": 75,
      "outputs": [
        {
          "output_type": "execute_result",
          "data": {
            "text/plain": [
              "<tf.Tensor: shape=(3, 2), dtype=int32, numpy=\n",
              "array([[ 7,  8],\n",
              "       [ 9, 10],\n",
              "       [11, 12]], dtype=int32)>"
            ]
          },
          "metadata": {},
          "execution_count": 75
        }
      ]
    },
    {
      "cell_type": "code",
      "source": [
        "tf.transpose(Y), tf.reshape(Y, (2, 3))"
      ],
      "metadata": {
        "colab": {
          "base_uri": "https://localhost:8080/"
        },
        "id": "58Ddd64Z0FBV",
        "outputId": "0ae94420-a29e-461e-cd40-f2b79120ab51"
      },
      "execution_count": 76,
      "outputs": [
        {
          "output_type": "execute_result",
          "data": {
            "text/plain": [
              "(<tf.Tensor: shape=(2, 3), dtype=int32, numpy=\n",
              " array([[ 7,  9, 11],\n",
              "        [ 8, 10, 12]], dtype=int32)>,\n",
              " <tf.Tensor: shape=(2, 3), dtype=int32, numpy=\n",
              " array([[ 7,  8,  9],\n",
              "        [10, 11, 12]], dtype=int32)>)"
            ]
          },
          "metadata": {},
          "execution_count": 76
        }
      ]
    },
    {
      "cell_type": "markdown",
      "source": [
        "La tranpuesta simplemente es una *rotación* de filas a columnas, mientras que el `reshape` ajusta los datos a las columnas y filas señaladas"
      ],
      "metadata": {
        "id": "tj75xm9T0qze"
      }
    },
    {
      "cell_type": "markdown",
      "source": [
        "## Producto punto (dot product)"
      ],
      "metadata": {
        "id": "4KQ2WdO4G9gt"
      }
    },
    {
      "cell_type": "markdown",
      "source": [
        "A la multiplicación **entre** matrices se suele denominar como **producto punto** o ***dot product***. Esta operación tan recurrente en *deep learning* y *machine learning* se realiza con `tf.tensordot`."
      ],
      "metadata": {
        "id": "EXzC11Y8Pdcx"
      }
    },
    {
      "cell_type": "code",
      "source": [
        "# Producto punto de X y Y\n",
        "tf.tensordot(tf.transpose(X), Y, axes=1)"
      ],
      "metadata": {
        "colab": {
          "base_uri": "https://localhost:8080/"
        },
        "id": "IJWAXOK9y_lG",
        "outputId": "4adc636b-b85a-402c-c2fc-c2a26bf347c0"
      },
      "execution_count": 77,
      "outputs": [
        {
          "output_type": "execute_result",
          "data": {
            "text/plain": [
              "<tf.Tensor: shape=(2, 2), dtype=int32, numpy=\n",
              "array([[ 89,  98],\n",
              "       [116, 128]], dtype=int32)>"
            ]
          },
          "metadata": {},
          "execution_count": 77
        }
      ]
    },
    {
      "cell_type": "markdown",
      "source": [
        "Esto nos dió de resultado una multipliación igual a \n",
        "```\n",
        "tf.matmul(a=X, b=Y, transpose_a=True, transpose_b=False)\n",
        "```\n",
        "\n",
        "Ya que establecimos `axes=1`, y como se menciona en la [documentación](https://www.tensorflow.org/api_docs/python/tf/tensordot?authuser=1) de TF\n",
        "\n",
        "> When `a` and `b` are matrices (order 2), the case `axes=1` is equivalent to matrix multiplication.\n",
        "\n"
      ],
      "metadata": {
        "id": "jczT2HQUzlFB"
      }
    },
    {
      "cell_type": "markdown",
      "source": [
        "## Cambiar el `datatype` de un tensor (`tf.cast`)"
      ],
      "metadata": {
        "id": "pvtVnZl5xoom"
      }
    },
    {
      "cell_type": "markdown",
      "source": [
        "Dependiendo de la precisión que uno desee tener en los datos, se puede cambiar arbitrariamente el tipo de dato. Si se quiere tener poca precisión, se puede usar un `16 bit` de punto flotante frente uno de `32 bit`.\n",
        "\n",
        "Cambiar el tipo de dato se lleva a cabo con `tf.cast()`"
      ],
      "metadata": {
        "id": "qFIXCafWxot1"
      }
    },
    {
      "cell_type": "code",
      "source": [
        "# Crear un nuevo tensor con float32 por default\n",
        "C = tf.constant([1.7, 7.4])\n",
        "C"
      ],
      "metadata": {
        "colab": {
          "base_uri": "https://localhost:8080/"
        },
        "id": "FEbnE5ZVxoyo",
        "outputId": "99ccf2a5-4c73-454d-fe5d-c37f7947da2c"
      },
      "execution_count": 78,
      "outputs": [
        {
          "output_type": "execute_result",
          "data": {
            "text/plain": [
              "<tf.Tensor: shape=(2,), dtype=float32, numpy=array([1.7, 7.4], dtype=float32)>"
            ]
          },
          "metadata": {},
          "execution_count": 78
        }
      ]
    },
    {
      "cell_type": "code",
      "source": [
        "# Crear un nuevo tensor con int32 por default\n",
        "D = tf.constant([1,7])\n",
        "D"
      ],
      "metadata": {
        "colab": {
          "base_uri": "https://localhost:8080/"
        },
        "id": "9POq2IExxo21",
        "outputId": "4c1866d9-accd-414f-91a5-7e9cc6c57e24"
      },
      "execution_count": 79,
      "outputs": [
        {
          "output_type": "execute_result",
          "data": {
            "text/plain": [
              "<tf.Tensor: shape=(2,), dtype=int32, numpy=array([1, 7], dtype=int32)>"
            ]
          },
          "metadata": {},
          "execution_count": 79
        }
      ]
    },
    {
      "cell_type": "code",
      "source": [
        "# Cambiar de float32 a float16\n",
        "C = tf.cast(C, dtype=tf.float16)\n",
        "C"
      ],
      "metadata": {
        "colab": {
          "base_uri": "https://localhost:8080/"
        },
        "id": "9AQMGQbn40UJ",
        "outputId": "91d81e33-d422-41fb-e5b3-61f14192fd49"
      },
      "execution_count": 80,
      "outputs": [
        {
          "output_type": "execute_result",
          "data": {
            "text/plain": [
              "<tf.Tensor: shape=(2,), dtype=float16, numpy=array([1.7, 7.4], dtype=float16)>"
            ]
          },
          "metadata": {},
          "execution_count": 80
        }
      ]
    },
    {
      "cell_type": "code",
      "source": [
        "# Cambiar de int32 a float32\n",
        "D = tf.cast(D, dtype=tf.float32)\n",
        "D"
      ],
      "metadata": {
        "colab": {
          "base_uri": "https://localhost:8080/"
        },
        "id": "fQ_woTiX40YN",
        "outputId": "c4eb770c-f962-4a0d-b2b6-5eff07879e21"
      },
      "execution_count": 81,
      "outputs": [
        {
          "output_type": "execute_result",
          "data": {
            "text/plain": [
              "<tf.Tensor: shape=(2,), dtype=float32, numpy=array([1., 7.], dtype=float32)>"
            ]
          },
          "metadata": {},
          "execution_count": 81
        }
      ]
    },
    {
      "cell_type": "markdown",
      "source": [
        "## Obtener valor absoluto\n",
        "\n",
        "La operación de obtener valor absoluto es con `tf.abs()`"
      ],
      "metadata": {
        "id": "oPtDG_tI40cP"
      }
    },
    {
      "cell_type": "code",
      "source": [
        "# Crear un tensor con valores negativos\n",
        "F = tf.constant([-7, -10])\n",
        "F"
      ],
      "metadata": {
        "colab": {
          "base_uri": "https://localhost:8080/"
        },
        "id": "clnvltYr5KmS",
        "outputId": "5f914af1-74fe-4269-c2d3-282cca841834"
      },
      "execution_count": 82,
      "outputs": [
        {
          "output_type": "execute_result",
          "data": {
            "text/plain": [
              "<tf.Tensor: shape=(2,), dtype=int32, numpy=array([ -7, -10], dtype=int32)>"
            ]
          },
          "metadata": {},
          "execution_count": 82
        }
      ]
    },
    {
      "cell_type": "code",
      "source": [
        "# Obtener el valor absoluto\n",
        "tf.abs(F)"
      ],
      "metadata": {
        "colab": {
          "base_uri": "https://localhost:8080/"
        },
        "id": "muZFf82K5Kpp",
        "outputId": "b29773a1-a19c-41b9-8265-093ff10c0a6e"
      },
      "execution_count": 83,
      "outputs": [
        {
          "output_type": "execute_result",
          "data": {
            "text/plain": [
              "<tf.Tensor: shape=(2,), dtype=int32, numpy=array([ 7, 10], dtype=int32)>"
            ]
          },
          "metadata": {},
          "execution_count": 83
        }
      ]
    },
    {
      "cell_type": "markdown",
      "source": [
        "## Encontrar Mínimo, Máximo, Promedio y Sum"
      ],
      "metadata": {
        "id": "d2E8OqpD40f8"
      }
    },
    {
      "cell_type": "markdown",
      "source": [
        "Las cuatro funciones de esta subsección nos serán de gran utilidad cuando obtengamos las probabilidades de una predicción, así como las propias predicciones. \n",
        "\n",
        "En una red neuronal, se obtiene inicialmente una probabilidad, que despúes se transforma a una etiqueta `0` o `1` en el caso binario, dado un umbral de decisión, por ejemplo. Esto es algo que veremos en futuros notebooks, por el momento, es útil saber para qué se utiliza cada funcionalidad.\n",
        "\n",
        "Por lo tanto, tenemos que:\n",
        "* `tf.reduce_max()`- encuentra el mínimo valor de un tensor\n",
        "* `tf.reduce_min()`- encuentra el máximo valor de un tensor\n",
        "* `tf.reduce_mean()`- obtiene el promedio de todos los elementos en un tensor\n",
        "* `tf.reduce_sum()`- obtiene la suma de todos los elementos en un tensor\n",
        "\n",
        "🚨 **Atención:** en algunos casos, se tendrá que utilizar ``tf.math` para invocar cada uno de los métodos anteriores."
      ],
      "metadata": {
        "id": "JGY5G9FY5yZC"
      }
    },
    {
      "cell_type": "code",
      "source": [
        "# Crear un tensor con 50 valores aleatorios entre 0 y 100\n",
        "G = tf.constant(np.random.randint(low=0, high=100, size=50))\n",
        "G"
      ],
      "metadata": {
        "colab": {
          "base_uri": "https://localhost:8080/"
        },
        "id": "GaroBYuM5ydI",
        "outputId": "88e876b6-c07f-44b4-cf97-2dce70665fbc"
      },
      "execution_count": 84,
      "outputs": [
        {
          "output_type": "execute_result",
          "data": {
            "text/plain": [
              "<tf.Tensor: shape=(50,), dtype=int64, numpy=\n",
              "array([75, 45, 73, 53,  7, 32, 14, 67, 44, 79, 66, 21, 48, 36, 47, 19, 69,\n",
              "       63, 32, 93, 14, 12, 48, 60, 59, 27, 53, 54, 56, 54, 86, 66, 57, 55,\n",
              "       62, 88, 89, 90, 23, 41, 90, 56, 11, 15, 29, 19, 59, 98, 62, 19])>"
            ]
          },
          "metadata": {},
          "execution_count": 84
        }
      ]
    },
    {
      "cell_type": "code",
      "source": [
        "# Encuentra el mínimo\n",
        "tf.reduce_min(G)"
      ],
      "metadata": {
        "colab": {
          "base_uri": "https://localhost:8080/"
        },
        "id": "9dd93Ugb5ygX",
        "outputId": "e932127a-b908-40fa-93cf-221773317699"
      },
      "execution_count": 85,
      "outputs": [
        {
          "output_type": "execute_result",
          "data": {
            "text/plain": [
              "<tf.Tensor: shape=(), dtype=int64, numpy=7>"
            ]
          },
          "metadata": {},
          "execution_count": 85
        }
      ]
    },
    {
      "cell_type": "code",
      "source": [
        "# Encuentra el máximo\n",
        "tf.reduce_max(G)"
      ],
      "metadata": {
        "colab": {
          "base_uri": "https://localhost:8080/"
        },
        "id": "x7BHF6998V-d",
        "outputId": "86ecf399-5b1f-45f6-f02e-a106c98d5999"
      },
      "execution_count": 86,
      "outputs": [
        {
          "output_type": "execute_result",
          "data": {
            "text/plain": [
              "<tf.Tensor: shape=(), dtype=int64, numpy=98>"
            ]
          },
          "metadata": {},
          "execution_count": 86
        }
      ]
    },
    {
      "cell_type": "code",
      "source": [
        "# Promedio del tensor\n",
        "tf.reduce_mean(G)"
      ],
      "metadata": {
        "colab": {
          "base_uri": "https://localhost:8080/"
        },
        "id": "PpDMfGit8WDj",
        "outputId": "f1d5737f-e943-43a5-a207-3d34bad8105e"
      },
      "execution_count": 87,
      "outputs": [
        {
          "output_type": "execute_result",
          "data": {
            "text/plain": [
              "<tf.Tensor: shape=(), dtype=int64, numpy=50>"
            ]
          },
          "metadata": {},
          "execution_count": 87
        }
      ]
    },
    {
      "cell_type": "code",
      "source": [
        "# Suma de todos los elementos\n",
        "tf.reduce_sum(G)"
      ],
      "metadata": {
        "colab": {
          "base_uri": "https://localhost:8080/"
        },
        "id": "ckxZXE4-8WId",
        "outputId": "79df5a65-93be-4fec-d288-5b505c345c01"
      },
      "execution_count": 88,
      "outputs": [
        {
          "output_type": "execute_result",
          "data": {
            "text/plain": [
              "<tf.Tensor: shape=(), dtype=int64, numpy=2535>"
            ]
          },
          "metadata": {},
          "execution_count": 88
        }
      ]
    },
    {
      "cell_type": "markdown",
      "source": [
        "🔑 **Nota:** Cuando ocupamos cualquiera de las funciones de arriba, no regresa un número exactamente, sino una *lista* con características. Para obtener únicamente el número, se ocupa el `.numpy()` como en el siguiente ejemplo:"
      ],
      "metadata": {
        "id": "S6muEEcO8WNh"
      }
    },
    {
      "cell_type": "code",
      "source": [
        "# Obtener únicamente el valor numerico\n",
        "tf.reduce_sum(G).numpy()"
      ],
      "metadata": {
        "colab": {
          "base_uri": "https://localhost:8080/"
        },
        "id": "IXNkWYhs8WTC",
        "outputId": "54a9b66d-f272-4218-d1c7-35ab7ad80b62"
      },
      "execution_count": 89,
      "outputs": [
        {
          "output_type": "execute_result",
          "data": {
            "text/plain": [
              "2535"
            ]
          },
          "metadata": {},
          "execution_count": 89
        }
      ]
    },
    {
      "cell_type": "markdown",
      "source": [
        "## Encontrar las posiciones de máximo y mínimo"
      ],
      "metadata": {
        "id": "dEsEQJpx8WYn"
      }
    },
    {
      "cell_type": "markdown",
      "source": [
        "A diferencia de obtener los valores mínimos y máximos, ahora queremos saber en qué posición se encuentran esos mínimos y máximos. Esto nos será útil para obtener las predicciones finales de un modelo. Imagina lo siguiente:\n",
        "\n",
        "> Estamos entrenando una red neuronal para que coches con conducción automática detecten cuando la luz en el semáforo es verde, amarilla o roja, por lo que tenemos una lista `[verde, amarillo, rojo]`. Una vez entrenada, le pasamos una foto a nuestra red neuronal de un semaforo en rojo, lo que arroja es lo siguiente:\n",
        "```\n",
        "pred = [0.87, 0.04, 0.09]\n",
        "```\n",
        "el modelo indíca a través de una lista, la probabilidad de que sea una u otra clase o color del semáforo. Observa que todas suman `1`, y que no hay un *es verde* absoluto por parte del modelo. La forma de interpretar ese resultado es decir:\n",
        "* El modelo está seguro en un 87% de que el semáforo de la foto está en verde\n",
        "* El modelo está seguro en un 4% de que el semáforo de la foto está en amarillo\n",
        "* El modelo está seguro en un 9% de que el semáforo de la foto está en rojo\n",
        "Por lo tanto, necesitamos obtener la posición de la probabilidad más alta (`0`, `1` o `2`) lo cual se traduce en `[verde, amarillo, rojo]`\n",
        "\n",
        "No te preocupes si suele ser confuso este primer ejemplo, cuando lleguemos a hacer redes neuronales quedará más claro. Por el momento, es importante saber que con\n",
        "* `tf.argmax()` - se obtiene la posición con el valor más alto\n",
        "* `tf.argmin()` - se obtiene la posición con el valor más pequeño\n"
      ],
      "metadata": {
        "id": "Xl5ZUTqg40jK"
      }
    },
    {
      "cell_type": "code",
      "source": [
        "# Crear un tendor con valores aleatorios entre 0 y 1\n",
        "H = tf.constant(np.random.random(50))\n",
        "H"
      ],
      "metadata": {
        "colab": {
          "base_uri": "https://localhost:8080/"
        },
        "id": "6j5l18gaAYPP",
        "outputId": "c196bd1a-bf08-4d2c-8b68-99393ac334ad"
      },
      "execution_count": 90,
      "outputs": [
        {
          "output_type": "execute_result",
          "data": {
            "text/plain": [
              "<tf.Tensor: shape=(50,), dtype=float64, numpy=\n",
              "array([0.96071459, 0.93735593, 0.85954832, 0.64024403, 0.80671284,\n",
              "       0.52868906, 0.66588031, 0.46208913, 0.37617716, 0.39118624,\n",
              "       0.3444997 , 0.7920389 , 0.28004918, 0.6937414 , 0.26821675,\n",
              "       0.18436266, 0.60768091, 0.01482213, 0.73167306, 0.51188624,\n",
              "       0.07600976, 0.93895115, 0.02388617, 0.26849527, 0.78201686,\n",
              "       0.0331136 , 0.77922306, 0.12435941, 0.66707178, 0.70800804,\n",
              "       0.87132563, 0.31389398, 0.3915568 , 0.89395192, 0.67177172,\n",
              "       0.56682935, 0.00166986, 0.25360397, 0.52658956, 0.61383487,\n",
              "       0.42977605, 0.92763494, 0.81806015, 0.05381016, 0.90292059,\n",
              "       0.06788478, 0.81419274, 0.84544355, 0.8107088 , 0.58189791])>"
            ]
          },
          "metadata": {},
          "execution_count": 90
        }
      ]
    },
    {
      "cell_type": "code",
      "source": [
        "# Posición con el valor más alto\n",
        "tf.argmax(H)"
      ],
      "metadata": {
        "colab": {
          "base_uri": "https://localhost:8080/"
        },
        "id": "xu8u02dwAYS7",
        "outputId": "ca7ae43a-f199-4998-a20a-cf439708bb13"
      },
      "execution_count": 91,
      "outputs": [
        {
          "output_type": "execute_result",
          "data": {
            "text/plain": [
              "<tf.Tensor: shape=(), dtype=int64, numpy=0>"
            ]
          },
          "metadata": {},
          "execution_count": 91
        }
      ]
    },
    {
      "cell_type": "code",
      "source": [
        "# Posición con el valor más bajo\n",
        "tf.argmin(H)"
      ],
      "metadata": {
        "colab": {
          "base_uri": "https://localhost:8080/"
        },
        "id": "O_PctqsmAYWf",
        "outputId": "fc53c27e-3256-4dbd-cb05-8fb064cd9688"
      },
      "execution_count": 92,
      "outputs": [
        {
          "output_type": "execute_result",
          "data": {
            "text/plain": [
              "<tf.Tensor: shape=(), dtype=int64, numpy=36>"
            ]
          },
          "metadata": {},
          "execution_count": 92
        }
      ]
    },
    {
      "cell_type": "code",
      "source": [
        "# Obtener valor más alto (similar a tf.reduce_max())\n",
        "H[tf.argmax(H)].numpy()"
      ],
      "metadata": {
        "colab": {
          "base_uri": "https://localhost:8080/"
        },
        "id": "JOwQUun-AYaP",
        "outputId": "c600c485-ff86-49cb-fea9-60b58bdec8de"
      },
      "execution_count": 93,
      "outputs": [
        {
          "output_type": "execute_result",
          "data": {
            "text/plain": [
              "0.9607145857054568"
            ]
          },
          "metadata": {},
          "execution_count": 93
        }
      ]
    },
    {
      "cell_type": "code",
      "source": [
        "# Obtener valor más bajo (similar a tf.reduce_min())\n",
        "H[tf.argmin(H)].numpy()"
      ],
      "metadata": {
        "colab": {
          "base_uri": "https://localhost:8080/"
        },
        "id": "b3QmiTU440l2",
        "outputId": "8f60fd7b-edb6-4ef4-fbbe-57cca92e914c"
      },
      "execution_count": 94,
      "outputs": [
        {
          "output_type": "execute_result",
          "data": {
            "text/plain": [
              "0.0016698610277204873"
            ]
          },
          "metadata": {},
          "execution_count": 94
        }
      ]
    },
    {
      "cell_type": "markdown",
      "source": [
        "## Squeezing (remover dimensiones de un tensor)\n"
      ],
      "metadata": {
        "id": "vL7OqFZxGbdR"
      }
    },
    {
      "cell_type": "markdown",
      "source": [
        "Un par de líneas arriba veiamos que podíamos añadir dimension con `tf.expand_dims()` sin modificar el propio contenido de un tensor. Ahora bien, imagina que tenemos:\n",
        "\n",
        "```\n",
        "x = [[0.9, 0.8, 0.5]]\n",
        "```\n",
        "\n",
        "Si nosotros quisieramos acceder al valor `0.9`, no bastaría con indexar una vez, sino dos\n",
        "```\n",
        "x[0][0]\n",
        "```\n",
        "\n",
        "ya que tenemos una lista dentro de otra lista. Para quitar esa dimensión extra, o encapsulado *extra* que tenemos de la lista más incrustada, ocupamos `tf.squeeze()`. \n",
        "\n",
        "Teóricamente, en Deep Learning veremos que añadir dimensiones será útil cuando nuestro clasificador no es tan bueno (por ejemplo [**the kernel trick**](https://medium.com/@zxr.nju/what-is-the-kernel-trick-why-is-it-important-98a98db0961d)), y en otras ocasiones, estará tan saturado de dimensiones que lo mejor será ayudarlo quitando un poco de peso."
      ],
      "metadata": {
        "id": "lAUvLQw1GbiQ"
      }
    },
    {
      "cell_type": "code",
      "source": [
        "# Crea un tensor de rank 5 con numeros entre 0 y 100\n",
        "I = tf.constant(np.random.randint(0, 100, 50), shape=(1, 1, 1, 1, 50))\n",
        "I"
      ],
      "metadata": {
        "colab": {
          "base_uri": "https://localhost:8080/"
        },
        "id": "vg3rH9MqGbm7",
        "outputId": "768a8391-1403-4c87-cb1c-cbe99d077690"
      },
      "execution_count": 95,
      "outputs": [
        {
          "output_type": "execute_result",
          "data": {
            "text/plain": [
              "<tf.Tensor: shape=(1, 1, 1, 1, 50), dtype=int64, numpy=\n",
              "array([[[[[36, 85,  2, 61, 70, 70, 36, 65,  7,  5, 67, 18, 64, 64,  9,\n",
              "           24, 93, 80, 18, 75, 63, 61, 10, 77, 59, 29, 19, 61, 96, 44,\n",
              "           89, 86, 15, 50, 47, 16, 62, 28, 44, 38, 28, 24, 21, 21, 38,\n",
              "           20, 15, 57, 96, 81]]]]])>"
            ]
          },
          "metadata": {},
          "execution_count": 95
        }
      ]
    },
    {
      "cell_type": "code",
      "source": [
        "# Obten shape y numero de dimensionses\n",
        "I.shape, I.ndim"
      ],
      "metadata": {
        "colab": {
          "base_uri": "https://localhost:8080/"
        },
        "id": "BFWk_2mDGbq0",
        "outputId": "38ed8011-617e-4b9a-f00a-60de850f7050"
      },
      "execution_count": 96,
      "outputs": [
        {
          "output_type": "execute_result",
          "data": {
            "text/plain": [
              "(TensorShape([1, 1, 1, 1, 50]), 5)"
            ]
          },
          "metadata": {},
          "execution_count": 96
        }
      ]
    },
    {
      "cell_type": "markdown",
      "source": [
        "Tenemos varias dimensiones extra, o lo que es igual a tener una lista, dentro de otra lista, dentro de otra lista, dentro de otra lista, dentro de toda una lista final."
      ],
      "metadata": {
        "id": "boeu43yaICAj"
      }
    },
    {
      "cell_type": "code",
      "source": [
        "# Aplica squeeze y observa cómo ha cambiado el shape\n",
        "I_sq = tf.squeeze(I)\n",
        "I_sq"
      ],
      "metadata": {
        "colab": {
          "base_uri": "https://localhost:8080/"
        },
        "id": "AMEOTigmICEj",
        "outputId": "dc118d6d-d90a-445b-8ba5-86c08e8949e3"
      },
      "execution_count": 97,
      "outputs": [
        {
          "output_type": "execute_result",
          "data": {
            "text/plain": [
              "<tf.Tensor: shape=(50,), dtype=int64, numpy=\n",
              "array([36, 85,  2, 61, 70, 70, 36, 65,  7,  5, 67, 18, 64, 64,  9, 24, 93,\n",
              "       80, 18, 75, 63, 61, 10, 77, 59, 29, 19, 61, 96, 44, 89, 86, 15, 50,\n",
              "       47, 16, 62, 28, 44, 38, 28, 24, 21, 21, 38, 20, 15, 57, 96, 81])>"
            ]
          },
          "metadata": {},
          "execution_count": 97
        }
      ]
    },
    {
      "cell_type": "markdown",
      "source": [
        "## Raíces y logaritmos"
      ],
      "metadata": {
        "id": "9w1fj9p43Nfp"
      }
    },
    {
      "cell_type": "code",
      "source": [
        "# Crear un nuevo tensor\n",
        "K = tf.constant(np.arange(1,10))\n",
        "K"
      ],
      "metadata": {
        "colab": {
          "base_uri": "https://localhost:8080/"
        },
        "id": "UDKds0rnCgHt",
        "outputId": "58dac4b3-e596-4e70-d27c-9f4fffa7368e"
      },
      "execution_count": 128,
      "outputs": [
        {
          "output_type": "execute_result",
          "data": {
            "text/plain": [
              "<tf.Tensor: shape=(9,), dtype=int64, numpy=array([1, 2, 3, 4, 5, 6, 7, 8, 9])>"
            ]
          },
          "metadata": {},
          "execution_count": 128
        }
      ]
    },
    {
      "cell_type": "code",
      "source": [
        "# Eleva al cuadrado cada elemento\n",
        "tf.square(K)"
      ],
      "metadata": {
        "colab": {
          "base_uri": "https://localhost:8080/"
        },
        "id": "OxZSDOCHCgJk",
        "outputId": "f44804c8-8867-4c5d-e6de-323537d6ff81"
      },
      "execution_count": 129,
      "outputs": [
        {
          "output_type": "execute_result",
          "data": {
            "text/plain": [
              "<tf.Tensor: shape=(9,), dtype=int64, numpy=array([ 1,  4,  9, 16, 25, 36, 49, 64, 81])>"
            ]
          },
          "metadata": {},
          "execution_count": 129
        }
      ]
    },
    {
      "cell_type": "code",
      "source": [
        "# Encuentra la raíz cuadrada \n",
        "tf.sqrt(tf.cast(K, dtype=tf.float32)) # necesitamos cambiar el tipo de dato a float 32"
      ],
      "metadata": {
        "colab": {
          "base_uri": "https://localhost:8080/"
        },
        "id": "Zg9Zwv0cCqyH",
        "outputId": "eda06fba-5305-4a96-eef9-b53bca697b75"
      },
      "execution_count": 132,
      "outputs": [
        {
          "output_type": "execute_result",
          "data": {
            "text/plain": [
              "<tf.Tensor: shape=(9,), dtype=float32, numpy=\n",
              "array([0.99999994, 1.4142134 , 1.7320508 , 1.9999999 , 2.236068  ,\n",
              "       2.4494896 , 2.6457512 , 2.8284268 , 3.        ], dtype=float32)>"
            ]
          },
          "metadata": {},
          "execution_count": 132
        }
      ]
    },
    {
      "cell_type": "code",
      "source": [
        "# Log\n",
        "tf.math.log(tf.cast(K, dtype=tf.float32))"
      ],
      "metadata": {
        "colab": {
          "base_uri": "https://localhost:8080/"
        },
        "id": "lcthhFUeCq2C",
        "outputId": "66f463d6-cf69-47da-8fc6-5ff6ce338271"
      },
      "execution_count": 134,
      "outputs": [
        {
          "output_type": "execute_result",
          "data": {
            "text/plain": [
              "<tf.Tensor: shape=(9,), dtype=float32, numpy=\n",
              "array([0.       , 0.6931472, 1.0986123, 1.3862944, 1.609438 , 1.7917595,\n",
              "       1.9459102, 2.0794415, 2.1972246], dtype=float32)>"
            ]
          },
          "metadata": {},
          "execution_count": 134
        }
      ]
    },
    {
      "cell_type": "markdown",
      "source": [
        "## Categorical encoding: One hot y LabelEncoder"
      ],
      "metadata": {
        "id": "Xv-ysvHhIsV9"
      }
    },
    {
      "cell_type": "code",
      "source": [
        ""
      ],
      "metadata": {
        "id": "yn72o5eOD7N3"
      },
      "execution_count": null,
      "outputs": []
    },
    {
      "cell_type": "markdown",
      "source": [
        "Hasta ahora hemos visto cómo trabar con datos puramente numéricos. En la realidad, no es así, ya que debemos de poder trabajar con variables categóricas. Para ello, necesitamos transformas auqellas categorias en tipo numérico. Por ejemplo, imagina que tenemos el siguiente arrego:\n",
        "```\n",
        "y = [\"perro\", \"gato\", \"caballo\"]\n",
        "```\n",
        "\n",
        "Si ocupamos un `tf.one_hot()` aplicado a `y`, obtendriamos lo siquiente: \n",
        "```\n",
        "perro = [1,0,0]\n",
        "gato = [0,1,0]\n",
        "caballo = [0,0,1]\n",
        "```\n"
      ],
      "metadata": {
        "id": "ErSTZGs1u1Ep"
      }
    },
    {
      "cell_type": "code",
      "source": [
        "# Crea un tensor de índices\n",
        "lista = [0,1,2,3,4]\n",
        "\n",
        "# One hot encode\n",
        "tf.one_hot(lista, depth=5) # depth extiende hacia la derecha"
      ],
      "metadata": {
        "id": "-uqo_LwZIsZy",
        "colab": {
          "base_uri": "https://localhost:8080/"
        },
        "outputId": "ddbc1fc5-701e-406e-b8c8-ce4d07b66b1a"
      },
      "execution_count": 110,
      "outputs": [
        {
          "output_type": "execute_result",
          "data": {
            "text/plain": [
              "<tf.Tensor: shape=(5, 5), dtype=float32, numpy=\n",
              "array([[1., 0., 0., 0., 0.],\n",
              "       [0., 1., 0., 0., 0.],\n",
              "       [0., 0., 1., 0., 0.],\n",
              "       [0., 0., 0., 1., 0.],\n",
              "       [0., 0., 0., 0., 1.]], dtype=float32)>"
            ]
          },
          "metadata": {},
          "execution_count": 110
        }
      ]
    },
    {
      "cell_type": "markdown",
      "source": [
        "🔑 **Nota:** Tenemos dos aspectos. El primero, es que un *one-hot encoding* sirve para **evitar** que el modelo piense que $0 < 1 < 2 < 3 < 4$; por ejemplo, si $0$ hiciera referencia a *región 0*, $1$ a *región 1*, y así sucesivamente, el modelo **no entendería** que una región es menos o más que la otra. \n",
        "\n",
        "El segundo aspecto, es que TensorFlow no permite codificar variables categóricas. Para ello ocuparemos [`scikit learn`](https://scikit-learn.org/stable/) la cual es una librería para Machine Learning (así como existe Keras, TensorFlow o Pytorch para Deep Learning, Scikit learn sirve para crear modelos tales como árboles de decisión en alto nivel)\n"
      ],
      "metadata": {
        "id": "IGLaH5Hv4Pnu"
      }
    },
    {
      "cell_type": "code",
      "source": [
        "# Importa de scikit learn Label Encder y One hot encoder\n",
        "from sklearn.preprocessing import LabelEncoder, OneHotEncoder"
      ],
      "metadata": {
        "id": "48f-kQtx4Psa"
      },
      "execution_count": 111,
      "outputs": []
    },
    {
      "cell_type": "code",
      "source": [
        "# Declara el encoder con una excepeción\n",
        "enc = OneHotEncoder(handle_unknown='ignore')"
      ],
      "metadata": {
        "id": "0CxewtiJ-cfE"
      },
      "execution_count": 118,
      "outputs": []
    },
    {
      "cell_type": "code",
      "source": [
        "# Arreglo x con categorias\n",
        "x = np.array([[\"Rojo\"], [\"Verde\"], [\"Azul\"]])"
      ],
      "metadata": {
        "id": "8nNSApwj4Pwp"
      },
      "execution_count": 116,
      "outputs": []
    },
    {
      "cell_type": "code",
      "source": [
        "# Ajusta las categorias al encoder\n",
        "enc.fit(x)\n",
        "\n",
        "# Transformalo en arreglo\n",
        "enc.transform(x).toarray()"
      ],
      "metadata": {
        "colab": {
          "base_uri": "https://localhost:8080/"
        },
        "id": "pmp0VHnS-eUD",
        "outputId": "ea4b3ddb-051c-444f-f3d8-13add9b91be3"
      },
      "execution_count": 121,
      "outputs": [
        {
          "output_type": "execute_result",
          "data": {
            "text/plain": [
              "array([[0., 1., 0.],\n",
              "       [0., 0., 1.],\n",
              "       [1., 0., 0.]])"
            ]
          },
          "metadata": {},
          "execution_count": 121
        }
      ]
    },
    {
      "cell_type": "code",
      "source": [
        "# Inversión del codificador \n",
        "enc.inverse_transform([[0., 1., 0.],[0., 0., 1.],[1., 0., 0.]])"
      ],
      "metadata": {
        "colab": {
          "base_uri": "https://localhost:8080/"
        },
        "id": "jaOPMyxD9eXK",
        "outputId": "d234fbf4-3114-4878-f9ae-ce1d3372a720"
      },
      "execution_count": 122,
      "outputs": [
        {
          "output_type": "execute_result",
          "data": {
            "text/plain": [
              "array([['Rojo'],\n",
              "       ['Verde'],\n",
              "       ['Azul']], dtype='<U5')"
            ]
          },
          "metadata": {},
          "execution_count": 122
        }
      ]
    },
    {
      "cell_type": "markdown",
      "source": [
        "Ahora bien, si necesitamos codificar valores que si son cardinales, es decir, que $0 < 1 < 2 < 3$, por ejemplo, usamos `LabelEncoder`"
      ],
      "metadata": {
        "id": "nMEU2_MI9d3Z"
      }
    },
    {
      "cell_type": "code",
      "source": [
        "# Declaramos el codificador\n",
        "le = LabelEncoder()"
      ],
      "metadata": {
        "id": "EBVtvBSRAFuZ"
      },
      "execution_count": 123,
      "outputs": []
    },
    {
      "cell_type": "code",
      "source": [
        "# Lista con paises\n",
        "y = [\"USA\", \"Japan\", \"Vietnam\", \"tokyo\"]\n",
        "\n",
        "# Ajusta codificador a lista\n",
        "le.fit(y)\n",
        "\n",
        "# Transforma en arreglo\n",
        "le.transform(y)"
      ],
      "metadata": {
        "colab": {
          "base_uri": "https://localhost:8080/"
        },
        "id": "-7K-0jUdAkMn",
        "outputId": "549add6d-43e0-45a2-865f-4ae655d205f7"
      },
      "execution_count": 126,
      "outputs": [
        {
          "output_type": "execute_result",
          "data": {
            "text/plain": [
              "array([1, 0, 2, 3])"
            ]
          },
          "metadata": {},
          "execution_count": 126
        }
      ]
    },
    {
      "cell_type": "code",
      "source": [
        "# Inversa de valores\n",
        "le.inverse_transform([1, 0, 2, 3])"
      ],
      "metadata": {
        "colab": {
          "base_uri": "https://localhost:8080/"
        },
        "id": "IluLnM8PAFyN",
        "outputId": "6c2f77f5-d6b5-4536-92de-261cb3152dd5"
      },
      "execution_count": 127,
      "outputs": [
        {
          "output_type": "execute_result",
          "data": {
            "text/plain": [
              "array(['USA', 'Japan', 'Vietnam', 'tokyo'], dtype='<U7')"
            ]
          },
          "metadata": {},
          "execution_count": 127
        }
      ]
    },
    {
      "cell_type": "markdown",
      "source": [
        "En resúmen, si el orden no importa ya que las observaciones son independientes, se usa `One-hot encoding`, pero si existe cardinalidad, se usa `LabelEncoder`"
      ],
      "metadata": {
        "id": "aicyGtxaAF1r"
      }
    },
    {
      "cell_type": "markdown",
      "source": [
        "# Resumen del notebook"
      ],
      "metadata": {
        "id": "CZMvyjYrAF4L"
      }
    },
    {
      "cell_type": "code",
      "source": [
        ""
      ],
      "metadata": {
        "id": "2l9IJgjxAF6e"
      },
      "execution_count": null,
      "outputs": []
    },
    {
      "cell_type": "code",
      "source": [
        ""
      ],
      "metadata": {
        "id": "FS6zN3CgCcoi"
      },
      "execution_count": null,
      "outputs": []
    },
    {
      "cell_type": "code",
      "source": [
        ""
      ],
      "metadata": {
        "id": "lGuMKsA0CcsW"
      },
      "execution_count": null,
      "outputs": []
    },
    {
      "cell_type": "code",
      "source": [
        ""
      ],
      "metadata": {
        "id": "m2avEJgfCcvr"
      },
      "execution_count": null,
      "outputs": []
    },
    {
      "cell_type": "code",
      "source": [
        ""
      ],
      "metadata": {
        "id": "ehVGlDo1Ccxy"
      },
      "execution_count": null,
      "outputs": []
    }
  ]
}