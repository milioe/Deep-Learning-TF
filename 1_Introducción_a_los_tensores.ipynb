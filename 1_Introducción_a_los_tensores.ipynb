{
  "nbformat": 4,
  "nbformat_minor": 0,
  "metadata": {
    "colab": {
      "name": "1. Introducción a los tensores.ipynb",
      "provenance": [],
      "collapsed_sections": [],
      "authorship_tag": "ABX9TyPtjQ+xe9/eyy118/DNvgUN",
      "include_colab_link": true
    },
    "kernelspec": {
      "name": "python3",
      "display_name": "Python 3"
    },
    "language_info": {
      "name": "python"
    }
  },
  "cells": [
    {
      "cell_type": "markdown",
      "metadata": {
        "id": "view-in-github",
        "colab_type": "text"
      },
      "source": [
        "<a href=\"https://colab.research.google.com/github/milioe/Deep-Learning-TF/blob/main/1_Introducci%C3%B3n_a_los_tensores.ipynb\" target=\"_parent\"><img src=\"https://colab.research.google.com/assets/colab-badge.svg\" alt=\"Open In Colab\"/></a>"
      ]
    },
    {
      "cell_type": "markdown",
      "source": [
        "# Deep Learning: Redes Neuronales Artificiales con TensorFlow\n",
        "\n"
      ],
      "metadata": {
        "id": "M1O0D4yn-80Q"
      }
    },
    {
      "cell_type": "markdown",
      "source": [
        "# Introducción a los tensores\n",
        "## Índice:\n",
        "1. Creación de tensores\n",
        "2. Atributos de tensores\n",
        "3. Manipulación de tensores\n",
        "4. Tensores y NumPy\n",
        "5. `@tf.function`\n",
        "6. Uso de GPU con TensorFlow\n",
        "7. Ejercicios"
      ],
      "metadata": {
        "id": "xKc08fMokbhU"
      }
    },
    {
      "cell_type": "markdown",
      "source": [
        "## Creación de tensores"
      ],
      "metadata": {
        "id": "MMDKQjdy_o8G"
      }
    },
    {
      "cell_type": "markdown",
      "source": [
        "Lo primero que tendremos que hacer, es importar la librería de TensorFlow y revisar qué versión tenemos. Google Colab ya lo tiene resuelto para nosotros, incluso con las últimas versiones de cada librería.\n",
        "\n",
        "🔑 **Nota**: La versión de TF 1.x y 2.x son totalmente diferentes.\n"
      ],
      "metadata": {
        "id": "W5oIp2Qgk3bX"
      }
    },
    {
      "cell_type": "code",
      "source": [
        "import tensorflow as tf\n",
        "print(tf.__version__) # conocer la versión"
      ],
      "metadata": {
        "colab": {
          "base_uri": "https://localhost:8080/"
        },
        "id": "OTMsAz9XBB0u",
        "outputId": "b69a64f1-55b9-44ca-8e43-022ba1e9fc06"
      },
      "execution_count": 2,
      "outputs": [
        {
          "output_type": "stream",
          "name": "stdout",
          "text": [
            "2.8.2\n"
          ]
        }
      ]
    },
    {
      "cell_type": "markdown",
      "source": [
        "Si alguna vez has usado la librería de NumPy, debes de saber que los tensores son tipos de arrays de NumPy.\n",
        "\n",
        "Como se ha visto en las diapositivas, los tensores se pueden entender como representaciones numéricas multidimensionales (o *n-dimensional* en inglés).\n",
        "\n",
        "Algunos ejemplos de lo que podemos representar como tensores son:\n",
        "* Precios de casas\n",
        "* Pixeles de una imagen\n",
        "* Texto\n",
        "* Otros tipos de datos\n",
        "\n",
        "La **principal** diferencia entre **tensores** de TensorFlow y **arrays** de NumPy es que los tensores pueden ser usados con GPUs (Graphical Processing Units) y TPUs (Tensors Processing Units), lo que significa que tendremos mayor velocidad de computación."
      ],
      "metadata": {
        "id": "z6aO5Q5Ent8R"
      }
    },
    {
      "cell_type": "markdown",
      "source": [
        "## Creación de tensores con `tf.constant`"
      ],
      "metadata": {
        "id": "0sfuc_L2BB6P"
      }
    },
    {
      "cell_type": "markdown",
      "source": [
        "El método `.constant()` es un modulo construido para convertir cualquier dato numérico en tensores y de esta forma, alimentar a nuestra red neuronal. "
      ],
      "metadata": {
        "id": "4amYlWQoou0d"
      }
    },
    {
      "cell_type": "code",
      "source": [
        "# Crear un scalar\n",
        "scalar = tf.constant(7)\n",
        "scalar"
      ],
      "metadata": {
        "colab": {
          "base_uri": "https://localhost:8080/"
        },
        "id": "n81uEIowBB_w",
        "outputId": "fa5540e8-458e-4256-bffc-e0569c68a268"
      },
      "execution_count": 3,
      "outputs": [
        {
          "output_type": "execute_result",
          "data": {
            "text/plain": [
              "<tf.Tensor: shape=(), dtype=int32, numpy=7>"
            ]
          },
          "metadata": {},
          "execution_count": 3
        }
      ]
    },
    {
      "cell_type": "markdown",
      "source": [
        "Un escalar es un tensor con rank 0, dado que no tiene dimensiones (es sólo un número)."
      ],
      "metadata": {
        "id": "0jDdoB3T_pAv"
      }
    },
    {
      "cell_type": "code",
      "source": [
        "# Revisar el numero de dimensiones con .ndim\n",
        "scalar.ndim"
      ],
      "metadata": {
        "colab": {
          "base_uri": "https://localhost:8080/"
        },
        "id": "Qq8RnSJN_pFA",
        "outputId": "404a082a-56cb-42f6-c703-d9e32125a9fb"
      },
      "execution_count": 4,
      "outputs": [
        {
          "output_type": "execute_result",
          "data": {
            "text/plain": [
              "0"
            ]
          },
          "metadata": {},
          "execution_count": 4
        }
      ]
    },
    {
      "cell_type": "code",
      "source": [
        "# Crear un vector (más de 0 dimensiones)\n",
        "vector = tf.constant([10,10])\n",
        "vector"
      ],
      "metadata": {
        "colab": {
          "base_uri": "https://localhost:8080/"
        },
        "id": "HaHMjhAl_pJb",
        "outputId": "37637b05-2558-4fce-b504-1a833caeeb05"
      },
      "execution_count": 5,
      "outputs": [
        {
          "output_type": "execute_result",
          "data": {
            "text/plain": [
              "<tf.Tensor: shape=(2,), dtype=int32, numpy=array([10, 10], dtype=int32)>"
            ]
          },
          "metadata": {},
          "execution_count": 5
        }
      ]
    },
    {
      "cell_type": "code",
      "source": [
        "# Revisar el numero de dimensiones\n",
        "vector.ndim"
      ],
      "metadata": {
        "colab": {
          "base_uri": "https://localhost:8080/"
        },
        "id": "DECHeg3Xqp5u",
        "outputId": "eca48657-560d-4202-a214-6bcc4a9ef929"
      },
      "execution_count": 8,
      "outputs": [
        {
          "output_type": "execute_result",
          "data": {
            "text/plain": [
              "1"
            ]
          },
          "metadata": {},
          "execution_count": 8
        }
      ]
    },
    {
      "cell_type": "markdown",
      "source": [
        "Observa cómo, a diferencia de un *scalar*, debemos de poner los valores de un vector entre corchetes, ya que de lo contrario, TF tomará el segundo `10` como un argumento, más no como un valor. Inténtalo en la siguiente celda."
      ],
      "metadata": {
        "id": "d0ixo2k6pN4U"
      }
    },
    {
      "cell_type": "code",
      "source": [
        "vector_2 = tf.constant(10, 10)\n",
        "vector_2"
      ],
      "metadata": {
        "colab": {
          "base_uri": "https://localhost:8080/",
          "height": 353
        },
        "id": "EA3pdj2npN8c",
        "outputId": "4e51f9af-ec0a-48b1-b240-c46bf70233d1"
      },
      "execution_count": 6,
      "outputs": [
        {
          "output_type": "error",
          "ename": "TypeError",
          "evalue": "ignored",
          "traceback": [
            "\u001b[0;31m---------------------------------------------------------------------------\u001b[0m",
            "\u001b[0;31mTypeError\u001b[0m                                 Traceback (most recent call last)",
            "\u001b[0;32m<ipython-input-6-96b98d44462c>\u001b[0m in \u001b[0;36m<module>\u001b[0;34m()\u001b[0m\n\u001b[0;32m----> 1\u001b[0;31m \u001b[0mvector_2\u001b[0m \u001b[0;34m=\u001b[0m \u001b[0mtf\u001b[0m\u001b[0;34m.\u001b[0m\u001b[0mconstant\u001b[0m\u001b[0;34m(\u001b[0m\u001b[0;36m10\u001b[0m\u001b[0;34m,\u001b[0m \u001b[0;36m10\u001b[0m\u001b[0;34m)\u001b[0m\u001b[0;34m\u001b[0m\u001b[0;34m\u001b[0m\u001b[0m\n\u001b[0m\u001b[1;32m      2\u001b[0m \u001b[0mvector_2\u001b[0m\u001b[0;34m\u001b[0m\u001b[0;34m\u001b[0m\u001b[0m\n",
            "\u001b[0;32m/usr/local/lib/python3.7/dist-packages/tensorflow/python/framework/constant_op.py\u001b[0m in \u001b[0;36mconstant\u001b[0;34m(value, dtype, shape, name)\u001b[0m\n\u001b[1;32m    266\u001b[0m   \"\"\"\n\u001b[1;32m    267\u001b[0m   return _constant_impl(value, dtype, shape, name, verify_shape=False,\n\u001b[0;32m--> 268\u001b[0;31m                         allow_broadcast=True)\n\u001b[0m\u001b[1;32m    269\u001b[0m \u001b[0;34m\u001b[0m\u001b[0m\n\u001b[1;32m    270\u001b[0m \u001b[0;34m\u001b[0m\u001b[0m\n",
            "\u001b[0;32m/usr/local/lib/python3.7/dist-packages/tensorflow/python/framework/constant_op.py\u001b[0m in \u001b[0;36m_constant_impl\u001b[0;34m(value, dtype, shape, name, verify_shape, allow_broadcast)\u001b[0m\n\u001b[1;32m    277\u001b[0m       \u001b[0;32mwith\u001b[0m \u001b[0mtrace\u001b[0m\u001b[0;34m.\u001b[0m\u001b[0mTrace\u001b[0m\u001b[0;34m(\u001b[0m\u001b[0;34m\"tf.constant\"\u001b[0m\u001b[0;34m)\u001b[0m\u001b[0;34m:\u001b[0m\u001b[0;34m\u001b[0m\u001b[0;34m\u001b[0m\u001b[0m\n\u001b[1;32m    278\u001b[0m         \u001b[0;32mreturn\u001b[0m \u001b[0m_constant_eager_impl\u001b[0m\u001b[0;34m(\u001b[0m\u001b[0mctx\u001b[0m\u001b[0;34m,\u001b[0m \u001b[0mvalue\u001b[0m\u001b[0;34m,\u001b[0m \u001b[0mdtype\u001b[0m\u001b[0;34m,\u001b[0m \u001b[0mshape\u001b[0m\u001b[0;34m,\u001b[0m \u001b[0mverify_shape\u001b[0m\u001b[0;34m)\u001b[0m\u001b[0;34m\u001b[0m\u001b[0;34m\u001b[0m\u001b[0m\n\u001b[0;32m--> 279\u001b[0;31m     \u001b[0;32mreturn\u001b[0m \u001b[0m_constant_eager_impl\u001b[0m\u001b[0;34m(\u001b[0m\u001b[0mctx\u001b[0m\u001b[0;34m,\u001b[0m \u001b[0mvalue\u001b[0m\u001b[0;34m,\u001b[0m \u001b[0mdtype\u001b[0m\u001b[0;34m,\u001b[0m \u001b[0mshape\u001b[0m\u001b[0;34m,\u001b[0m \u001b[0mverify_shape\u001b[0m\u001b[0;34m)\u001b[0m\u001b[0;34m\u001b[0m\u001b[0;34m\u001b[0m\u001b[0m\n\u001b[0m\u001b[1;32m    280\u001b[0m \u001b[0;34m\u001b[0m\u001b[0m\n\u001b[1;32m    281\u001b[0m   \u001b[0mg\u001b[0m \u001b[0;34m=\u001b[0m \u001b[0mops\u001b[0m\u001b[0;34m.\u001b[0m\u001b[0mget_default_graph\u001b[0m\u001b[0;34m(\u001b[0m\u001b[0;34m)\u001b[0m\u001b[0;34m\u001b[0m\u001b[0;34m\u001b[0m\u001b[0m\n",
            "\u001b[0;32m/usr/local/lib/python3.7/dist-packages/tensorflow/python/framework/constant_op.py\u001b[0m in \u001b[0;36m_constant_eager_impl\u001b[0;34m(ctx, value, dtype, shape, verify_shape)\u001b[0m\n\u001b[1;32m    302\u001b[0m \u001b[0;32mdef\u001b[0m \u001b[0m_constant_eager_impl\u001b[0m\u001b[0;34m(\u001b[0m\u001b[0mctx\u001b[0m\u001b[0;34m,\u001b[0m \u001b[0mvalue\u001b[0m\u001b[0;34m,\u001b[0m \u001b[0mdtype\u001b[0m\u001b[0;34m,\u001b[0m \u001b[0mshape\u001b[0m\u001b[0;34m,\u001b[0m \u001b[0mverify_shape\u001b[0m\u001b[0;34m)\u001b[0m\u001b[0;34m:\u001b[0m\u001b[0;34m\u001b[0m\u001b[0;34m\u001b[0m\u001b[0m\n\u001b[1;32m    303\u001b[0m   \u001b[0;34m\"\"\"Creates a constant on the current device.\"\"\"\u001b[0m\u001b[0;34m\u001b[0m\u001b[0;34m\u001b[0m\u001b[0m\n\u001b[0;32m--> 304\u001b[0;31m   \u001b[0mt\u001b[0m \u001b[0;34m=\u001b[0m \u001b[0mconvert_to_eager_tensor\u001b[0m\u001b[0;34m(\u001b[0m\u001b[0mvalue\u001b[0m\u001b[0;34m,\u001b[0m \u001b[0mctx\u001b[0m\u001b[0;34m,\u001b[0m \u001b[0mdtype\u001b[0m\u001b[0;34m)\u001b[0m\u001b[0;34m\u001b[0m\u001b[0;34m\u001b[0m\u001b[0m\n\u001b[0m\u001b[1;32m    305\u001b[0m   \u001b[0;32mif\u001b[0m \u001b[0mshape\u001b[0m \u001b[0;32mis\u001b[0m \u001b[0;32mNone\u001b[0m\u001b[0;34m:\u001b[0m\u001b[0;34m\u001b[0m\u001b[0;34m\u001b[0m\u001b[0m\n\u001b[1;32m    306\u001b[0m     \u001b[0;32mreturn\u001b[0m \u001b[0mt\u001b[0m\u001b[0;34m\u001b[0m\u001b[0;34m\u001b[0m\u001b[0m\n",
            "\u001b[0;32m/usr/local/lib/python3.7/dist-packages/tensorflow/python/framework/constant_op.py\u001b[0m in \u001b[0;36mconvert_to_eager_tensor\u001b[0;34m(value, ctx, dtype)\u001b[0m\n\u001b[1;32m    100\u001b[0m       \u001b[0mdtype\u001b[0m \u001b[0;34m=\u001b[0m \u001b[0mdtypes\u001b[0m\u001b[0;34m.\u001b[0m\u001b[0mas_dtype\u001b[0m\u001b[0;34m(\u001b[0m\u001b[0mdtype\u001b[0m\u001b[0;34m)\u001b[0m\u001b[0;34m.\u001b[0m\u001b[0mas_datatype_enum\u001b[0m\u001b[0;34m\u001b[0m\u001b[0;34m\u001b[0m\u001b[0m\n\u001b[1;32m    101\u001b[0m   \u001b[0mctx\u001b[0m\u001b[0;34m.\u001b[0m\u001b[0mensure_initialized\u001b[0m\u001b[0;34m(\u001b[0m\u001b[0;34m)\u001b[0m\u001b[0;34m\u001b[0m\u001b[0;34m\u001b[0m\u001b[0m\n\u001b[0;32m--> 102\u001b[0;31m   \u001b[0;32mreturn\u001b[0m \u001b[0mops\u001b[0m\u001b[0;34m.\u001b[0m\u001b[0mEagerTensor\u001b[0m\u001b[0;34m(\u001b[0m\u001b[0mvalue\u001b[0m\u001b[0;34m,\u001b[0m \u001b[0mctx\u001b[0m\u001b[0;34m.\u001b[0m\u001b[0mdevice_name\u001b[0m\u001b[0;34m,\u001b[0m \u001b[0mdtype\u001b[0m\u001b[0;34m)\u001b[0m\u001b[0;34m\u001b[0m\u001b[0;34m\u001b[0m\u001b[0m\n\u001b[0m\u001b[1;32m    103\u001b[0m \u001b[0;34m\u001b[0m\u001b[0m\n\u001b[1;32m    104\u001b[0m \u001b[0;34m\u001b[0m\u001b[0m\n",
            "\u001b[0;31mTypeError\u001b[0m: Cannot convert 10 to EagerTensor of dtype bool"
          ]
        }
      ]
    },
    {
      "cell_type": "markdown",
      "source": [
        "Esto se debe a que la [documentación](https://www.tensorflow.org/api_docs/python/tf/constant?authuser=1) de TF en cuanto a `tf.constant()` nos dice que:\n",
        "\n",
        "```\n",
        "tf.constant(\n",
        "    value, dtype=None, shape=None, name='Const'\n",
        ")\n",
        "```\n",
        "\n",
        "por lo que el segundo `10` lo toma como un `dtype`"
      ],
      "metadata": {
        "id": "zRIQItO6pOAF"
      }
    },
    {
      "cell_type": "code",
      "source": [
        "# Crear una matriz (más de 1 dimensión)\n",
        "matrix = tf.constant([[10, 7],\n",
        "                      [7, 10]])\n",
        "matrix"
      ],
      "metadata": {
        "colab": {
          "base_uri": "https://localhost:8080/"
        },
        "id": "O6n8Dczyqb86",
        "outputId": "7c0cd428-149b-4861-a762-99c8e2aa7a7f"
      },
      "execution_count": 7,
      "outputs": [
        {
          "output_type": "execute_result",
          "data": {
            "text/plain": [
              "<tf.Tensor: shape=(2, 2), dtype=int32, numpy=\n",
              "array([[10,  7],\n",
              "       [ 7, 10]], dtype=int32)>"
            ]
          },
          "metadata": {},
          "execution_count": 7
        }
      ]
    },
    {
      "cell_type": "code",
      "source": [
        "matrix.ndim"
      ],
      "metadata": {
        "colab": {
          "base_uri": "https://localhost:8080/"
        },
        "id": "U2nC83uqqcBU",
        "outputId": "d3f142e0-6ada-4411-e1bb-a1a5a01807fe"
      },
      "execution_count": 9,
      "outputs": [
        {
          "output_type": "execute_result",
          "data": {
            "text/plain": [
              "2"
            ]
          },
          "metadata": {},
          "execution_count": 9
        }
      ]
    },
    {
      "cell_type": "markdown",
      "source": [
        "Observa que ahora tenemos un `shape` distinto a los dos anteriores objetos.\n",
        "\n",
        "* Scalar -> `shape()`\n",
        "* Vector -> `shape(2,)`\n",
        "* Matrix -> `shape(2,2)`\n",
        "\n",
        "🔑 **Nota:** Por lo tanto, podemos saber que el primer dos (de izquierda a derecha) hace referencia al numero de **filas**, mientras que el segundo al número de **columnas**.\n",
        "\n",
        "Además, tenemos un `dtype=int32` indicando el tipo de dato (entero de 32 bits) del cual se compone el tensor. Eso lo podemos cambiar como se muestra en la siguiente celda:\n",
        "\n"
      ],
      "metadata": {
        "id": "Qa9_EaEnqoNY"
      }
    },
    {
      "cell_type": "code",
      "source": [
        "# Define el tipo de \n",
        "matrix_b = tf.constant"
      ],
      "metadata": {
        "id": "Xa827RNNqoR6"
      },
      "execution_count": null,
      "outputs": []
    },
    {
      "cell_type": "code",
      "source": [
        ""
      ],
      "metadata": {
        "id": "ExBa8mV0rpSu"
      },
      "execution_count": null,
      "outputs": []
    },
    {
      "cell_type": "markdown",
      "source": [
        "🧠 **Recuerda:** un tensor de dimensión 0 es un escalar, de dimension 1 es un vector y de dimensión 2 es una matriz. Por eso llamábamos a un tensor un arreglo de *n-dimensiones*."
      ],
      "metadata": {
        "id": "D7ovHrIFrpXB"
      }
    },
    {
      "cell_type": "code",
      "source": [
        ""
      ],
      "metadata": {
        "id": "gUjJ7nFfrpbY"
      },
      "execution_count": null,
      "outputs": []
    }
  ]
}