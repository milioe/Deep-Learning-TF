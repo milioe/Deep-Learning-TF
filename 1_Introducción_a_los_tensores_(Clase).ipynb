{
  "nbformat": 4,
  "nbformat_minor": 0,
  "metadata": {
    "colab": {
      "name": "1_Introducción a los tensores_(Clase).ipynb",
      "provenance": [],
      "collapsed_sections": [],
      "authorship_tag": "ABX9TyP41sgTMJx8Vh1tt+2P6W8S",
      "include_colab_link": true
    },
    "kernelspec": {
      "name": "python3",
      "display_name": "Python 3"
    },
    "language_info": {
      "name": "python"
    }
  },
  "cells": [
    {
      "cell_type": "markdown",
      "metadata": {
        "id": "view-in-github",
        "colab_type": "text"
      },
      "source": [
        "<a href=\"https://colab.research.google.com/github/milioe/Deep-Learning-TF/blob/main/1_Introducci%C3%B3n_a_los_tensores_(Clase).ipynb\" target=\"_parent\"><img src=\"https://colab.research.google.com/assets/colab-badge.svg\" alt=\"Open In Colab\"/></a>"
      ]
    },
    {
      "cell_type": "markdown",
      "source": [
        "# Deep Learning: Redes Neuronales Artificiales con TensorFlow\n",
        "\n"
      ],
      "metadata": {
        "id": "M1O0D4yn-80Q"
      }
    },
    {
      "cell_type": "markdown",
      "source": [
        "# Introducción a los tensores\n",
        "## Índice:\n",
        "1. Creación de tensores\n",
        "2. Atributos de tensores\n",
        "3. Manipulación de tensores\n",
        "4. Tensores y NumPy\n",
        "5. `@tf.function`\n",
        "6. Uso de GPU con TensorFlow\n",
        "7. Ejercicios"
      ],
      "metadata": {
        "id": "xKc08fMokbhU"
      }
    },
    {
      "cell_type": "markdown",
      "source": [
        "## Creación de tensores"
      ],
      "metadata": {
        "id": "MMDKQjdy_o8G"
      }
    },
    {
      "cell_type": "markdown",
      "source": [
        "Lo primero que tendremos que hacer, es importar la librería de TensorFlow y revisar qué versión tenemos. Google Colab ya lo tiene resuelto para nosotros, incluso con las últimas versiones de cada librería.\n",
        "\n",
        "🔑 **Nota**: La versión de TF 1.x y 2.x son totalmente diferentes.\n"
      ],
      "metadata": {
        "id": "W5oIp2Qgk3bX"
      }
    },
    {
      "cell_type": "code",
      "source": [
        "# Importar tensorflow\n",
        "\n",
        "# conocer la versión"
      ],
      "metadata": {
        "id": "OTMsAz9XBB0u"
      },
      "execution_count": 1,
      "outputs": []
    },
    {
      "cell_type": "markdown",
      "source": [
        "Si alguna vez has usado la librería de NumPy, debes de saber que los tensores son tipos de arrays de NumPy.\n",
        "\n",
        "Como se ha visto en las diapositivas, los tensores se pueden entender como representaciones numéricas multidimensionales (o *n-dimensional* en inglés).\n",
        "\n",
        "Algunos ejemplos de lo que podemos representar como tensores son:\n",
        "* Precios de casas\n",
        "* Pixeles de una imagen\n",
        "* Texto\n",
        "* Otros tipos de datos\n",
        "\n",
        "La **principal** diferencia entre **tensores** de TensorFlow y **arrays** de NumPy es que los tensores pueden ser usados con GPUs (Graphical Processing Units) y TPUs (Tensors Processing Units), lo que significa que tendremos mayor velocidad de computación."
      ],
      "metadata": {
        "id": "z6aO5Q5Ent8R"
      }
    },
    {
      "cell_type": "markdown",
      "source": [
        "## Creación de tensores con `tf.constant`"
      ],
      "metadata": {
        "id": "0sfuc_L2BB6P"
      }
    },
    {
      "cell_type": "markdown",
      "source": [
        "El método `.constant()` es un modulo construido para convertir cualquier dato numérico en tensores y de esta forma, alimentar a nuestra red neuronal. "
      ],
      "metadata": {
        "id": "4amYlWQoou0d"
      }
    },
    {
      "cell_type": "code",
      "source": [
        "# Crear un scalar\n"
      ],
      "metadata": {
        "id": "n81uEIowBB_w"
      },
      "execution_count": 2,
      "outputs": []
    },
    {
      "cell_type": "markdown",
      "source": [
        "Un escalar es un tensor con rank 0, dado que no tiene dimensiones (es sólo un número)."
      ],
      "metadata": {
        "id": "0jDdoB3T_pAv"
      }
    },
    {
      "cell_type": "code",
      "source": [
        "# Revisar el numero de dimensiones con .ndim\n"
      ],
      "metadata": {
        "id": "Qq8RnSJN_pFA"
      },
      "execution_count": 3,
      "outputs": []
    },
    {
      "cell_type": "code",
      "source": [
        "# Crear un vector (más de 0 dimensiones)\n"
      ],
      "metadata": {
        "id": "HaHMjhAl_pJb"
      },
      "execution_count": 4,
      "outputs": []
    },
    {
      "cell_type": "code",
      "source": [
        "# Revisar el numero de dimensiones\n"
      ],
      "metadata": {
        "id": "DECHeg3Xqp5u"
      },
      "execution_count": 5,
      "outputs": []
    },
    {
      "cell_type": "markdown",
      "source": [
        "Observa cómo, a diferencia de un *scalar*, debemos de poner los valores de un vector entre corchetes, ya que de lo contrario, TF tomará el segundo `10` como un argumento, más no como un valor. Inténtalo en la siguiente celda."
      ],
      "metadata": {
        "id": "d0ixo2k6pN4U"
      }
    },
    {
      "cell_type": "code",
      "source": [
        ""
      ],
      "metadata": {
        "id": "EA3pdj2npN8c"
      },
      "execution_count": 5,
      "outputs": []
    },
    {
      "cell_type": "markdown",
      "source": [
        "Esto se debe a que la [documentación](https://www.tensorflow.org/api_docs/python/tf/constant?authuser=1) de TF en cuanto a `tf.constant()` nos dice que:\n",
        "\n",
        "```\n",
        "tf.constant(\n",
        "    value, dtype=None, shape=None, name='Const'\n",
        ")\n",
        "```\n",
        "\n",
        "por lo que el segundo `10` lo toma como un `dtype`"
      ],
      "metadata": {
        "id": "zRIQItO6pOAF"
      }
    },
    {
      "cell_type": "code",
      "source": [
        "# Crear una matriz (más de 1 dimensión)\n"
      ],
      "metadata": {
        "id": "O6n8Dczyqb86"
      },
      "execution_count": 6,
      "outputs": []
    },
    {
      "cell_type": "code",
      "source": [
        "# Checar dimensión\n"
      ],
      "metadata": {
        "id": "U2nC83uqqcBU"
      },
      "execution_count": 7,
      "outputs": []
    },
    {
      "cell_type": "markdown",
      "source": [
        "Observa que ahora tenemos un `shape` distinto a los dos anteriores objetos.\n",
        "\n",
        "* Scalar -> `shape()`\n",
        "* Vector -> `shape(2,)`\n",
        "* Matrix -> `shape(2,2)`\n",
        "\n",
        "🔑 **Nota:** Por lo tanto, podemos saber que el primer dos (de izquierda a derecha) hace referencia al numero de **filas**, mientras que el segundo al número de **columnas**.\n",
        "\n",
        "Además, tenemos un `dtype=int32` indicando el tipo de dato (entero de 32 bits) del cual se compone el tensor. Eso lo podemos cambiar como se muestra en la siguiente celda:\n",
        "\n"
      ],
      "metadata": {
        "id": "Qa9_EaEnqoNY"
      }
    },
    {
      "cell_type": "code",
      "source": [
        "# Define el tipo de \n"
      ],
      "metadata": {
        "id": "Xa827RNNqoR6"
      },
      "execution_count": 8,
      "outputs": []
    },
    {
      "cell_type": "code",
      "source": [
        "# Checar dimensión\n"
      ],
      "metadata": {
        "id": "DrhJbNjuuF7I"
      },
      "execution_count": 9,
      "outputs": []
    },
    {
      "cell_type": "markdown",
      "source": [
        "Observa cómo debemos de incluir varios `[]` cada que aumentamos de dimensión. \n",
        "\n",
        "🧠 **Recuerda:** un tensor de dimensión 0 es un escalar, de dimension 1 es un vector y de dimensión 2 es una matriz. Por eso llamábamos a un tensor un arreglo de *n-dimensiones*."
      ],
      "metadata": {
        "id": "D7ovHrIFrpXB"
      }
    },
    {
      "cell_type": "code",
      "source": [
        "# Crear un tensor (más de dos dimensiones, por el momento)\n"
      ],
      "metadata": {
        "id": "gUjJ7nFfrpbY"
      },
      "execution_count": 10,
      "outputs": []
    },
    {
      "cell_type": "code",
      "source": [
        "# Revisa la dimension del tensor\n"
      ],
      "metadata": {
        "id": "AwR1vP2MuNF5"
      },
      "execution_count": 11,
      "outputs": []
    },
    {
      "cell_type": "markdown",
      "source": [
        "El tensor anterior tiene 3 dimensiones con un `shape` de `(3,2,3)`, es decir, de izquierda a derecha son `3` grupos, con `2 filas` cada uno, y `3` columnas.\n",
        "\n",
        "Observa el siguiente tensor para tener mayor claridad:"
      ],
      "metadata": {
        "id": "NWPs_2pQuZGc"
      }
    },
    {
      "cell_type": "code",
      "source": [
        "# Crear un nuevo tensor con un shape diferente\n"
      ],
      "metadata": {
        "id": "wRIZhg7VuZKk"
      },
      "execution_count": 12,
      "outputs": []
    },
    {
      "cell_type": "markdown",
      "source": [
        "Nuevamente, podemos leer el shape como:\n",
        "`3` grupos, `2` filas en cada grupo, con `3` columnas.\n",
        "\n",
        "Ahora bien, observa qué pasa si copiamos la misma estructura de `tensor_b` y añadimos un 17 en el grupo dos, fila dos\n"
      ],
      "metadata": {
        "id": "CuU0VzLruZNV"
      }
    },
    {
      "cell_type": "code",
      "source": [
        "# Lo siguiente marcará error\n"
      ],
      "metadata": {
        "id": "m2BxPfmBvqjd"
      },
      "execution_count": 13,
      "outputs": []
    },
    {
      "cell_type": "markdown",
      "source": [
        "Ocurre un `ValueError`, dado que TensorFlow reconoce al tensor como un arreglo no rectangular, es decir, debe de empatar el número de columnas y filas en todo el tensor.\n",
        "\n",
        "Ahora bien, si quisieramos conocer la cantidad de elementos en un tensor, basta con aplicar un `tf.size()` (si aplicamos un `len()` nos devolverá el número de dimensiones)."
      ],
      "metadata": {
        "id": "H6dATyfvvqoB"
      }
    },
    {
      "cell_type": "code",
      "source": [
        "# Numero de elementos en un tensor\n"
      ],
      "metadata": {
        "id": "bbd8IwfLuNKA"
      },
      "execution_count": 14,
      "outputs": []
    },
    {
      "cell_type": "code",
      "source": [
        "# Imprimir únicamente el número\n"
      ],
      "metadata": {
        "id": "94PKE5Gkyvlx"
      },
      "execution_count": 15,
      "outputs": []
    },
    {
      "cell_type": "markdown",
      "source": [
        "Peron observemos algo intereante, si multiplicamos los elementos en el shape de un tensor, obtenemos la cantididad $n$ de elementos en el mismo"
      ],
      "metadata": {
        "id": "-niWnZCFy4yk"
      }
    },
    {
      "cell_type": "code",
      "source": [
        "# Conocer el shape de un tensor\n"
      ],
      "metadata": {
        "id": "A1CmIVAqzIzR"
      },
      "execution_count": 16,
      "outputs": []
    },
    {
      "cell_type": "code",
      "source": [
        ""
      ],
      "metadata": {
        "id": "68rJAJjjzK9-"
      },
      "execution_count": 16,
      "outputs": []
    },
    {
      "cell_type": "code",
      "source": [
        ""
      ],
      "metadata": {
        "id": "3L5DHlJrzbHh"
      },
      "execution_count": 16,
      "outputs": []
    },
    {
      "cell_type": "markdown",
      "source": [
        "La aplicación más usual de un tensor, es cuando tenemos una imagen, de `224 x 224` pixeles con tres colores `RGB` (Red, Green, Blue) el cual podemos representar con un shape de `(224,224,3)`. \n",
        "\n",
        "Sabiendo eso, tendriamos `150528` pixeles en cada imagen."
      ],
      "metadata": {
        "id": "SKhsIxiJzbgv"
      }
    },
    {
      "cell_type": "markdown",
      "source": [
        "# Creando tensores con `tf.Variable()`"
      ],
      "metadata": {
        "id": "4q-86eQezboT"
      }
    },
    {
      "cell_type": "markdown",
      "source": [
        "Similar a los objetos mutables e inmutables de Python (listas y tuplas, por ejemplo) tenemos un método previamente construido llamado `tf.Variable()`.\n",
        "\n",
        "La diferente entre `tf.Variable` y `tf.constant()` es que los últimos son inmutables (no pueden ser cambiados una vez dedclarados) mientras que aquellos con `tf.Variable()` sí pueden ser modificados."
      ],
      "metadata": {
        "id": "MTrHSrHI0hE9"
      }
    },
    {
      "cell_type": "code",
      "source": [
        "# Crear el mismo tensor con tf.Variable() y tf.constant()\n"
      ],
      "metadata": {
        "id": "0unX3UwS0hIX"
      },
      "execution_count": 17,
      "outputs": []
    },
    {
      "cell_type": "code",
      "source": [
        "# Imprime el tensor mutable\n"
      ],
      "metadata": {
        "id": "mm0B7B4K0hK-"
      },
      "execution_count": 18,
      "outputs": []
    },
    {
      "cell_type": "code",
      "source": [
        "# Imprime el tensor inmutable\n"
      ],
      "metadata": {
        "id": "YtKsTZJC1YoY"
      },
      "execution_count": 19,
      "outputs": []
    },
    {
      "cell_type": "code",
      "source": [
        "# La primer posición del tensor mutable\n"
      ],
      "metadata": {
        "id": "Tih2jRWz4pFU"
      },
      "execution_count": 20,
      "outputs": []
    },
    {
      "cell_type": "code",
      "source": [
        "# Cambia esa primer posición por un 7\n"
      ],
      "metadata": {
        "id": "0RPRm34t1Ysv"
      },
      "execution_count": 21,
      "outputs": []
    },
    {
      "cell_type": "markdown",
      "source": [
        "Observa que no podemos asginar elementos como si fueran una lista. Ejemplo:\n",
        "\n",
        "``` \n",
        "x = [1,2,3,4]\n",
        "x [0] = 0\n",
        "```\n",
        "esto eventualmente imprimiría `x = [0,2,3,4]`.\n",
        "\n",
        "Si nosotros hacemos lo mismo con un tensor, produciría un error, por lo que tenemos que ocupar el método `assign()`"
      ],
      "metadata": {
        "id": "J4QkD3tv1cby"
      }
    },
    {
      "cell_type": "code",
      "source": [
        "# Ahora intenta cambiar un valor del tensor inmutable\n"
      ],
      "metadata": {
        "id": "pf2kT0321cfP"
      },
      "execution_count": 22,
      "outputs": []
    },
    {
      "cell_type": "markdown",
      "source": [
        "Por lo tanto, ¿Cuál deberia de usar? ¿`tf.constant()` o `tf.Variable`?\n",
        "\n",
        "Depende del problema a tratar, aunque la mayoría de las veces TensorFlow lo hará por nosotros de forma automática"
      ],
      "metadata": {
        "id": "QFKxGpDK4YCY"
      }
    },
    {
      "cell_type": "markdown",
      "source": [
        "## Creando tensores aleatorios"
      ],
      "metadata": {
        "id": "vDRydw4e4YGj"
      }
    },
    {
      "cell_type": "markdown",
      "source": [
        "Los tensores aleatorios son arreglos con tamaños arbitrarios que contienen número aleatorios. ¿Por qué usar numeros aleatorios? Esto se debe a que para inicializar los pesos (*weights*) de una red neuronal, tendremos que partir de números aleatorios que durante el entrenamiento se irán ajustando. \n",
        "\n",
        "Podrías pensar en que los números aleatorios como ruido o como estática que poco a poco se convierte en una imagen. "
      ],
      "metadata": {
        "id": "5_x1Mc5-1YwA"
      }
    },
    {
      "cell_type": "code",
      "source": [
        "# Crear dos tensores aleatorios\n"
      ],
      "metadata": {
        "id": "qkA4LGgHVVzm"
      },
      "execution_count": 23,
      "outputs": []
    },
    {
      "cell_type": "code",
      "source": [
        "# Crear dos tensores aleatorios\n"
      ],
      "metadata": {
        "id": "aEJE6pEVVV3p"
      },
      "execution_count": 24,
      "outputs": []
    },
    {
      "cell_type": "markdown",
      "source": [
        "Observa como creamos dos tensores aleatorios que contienen los mismos números. Esto se debe a que pusimos una semilla aleatoria. En computación, es imposible generar números aleatorios, ya que sólo los proveen la naturaleza. Es por ello que a este tipo de aleatoriedad en los tensores se le conoce como **pseudoaleatorio** o **pseudorandom**.\n",
        "\n",
        "La semilla que acabamos de colocar sirve para poder replicar los mismos tensores aquí y en cualquier parte y momento. Eso no significa que los números no sean aleatorios, pues se comportan como una distribución normal, sólo que son reproducibles. Ellos nos ayudará a poder replicar con exactitud las mismas arquitecturas entre todos, o por ejemplo, a hacer las mismas particiones aleatorias."
      ],
      "metadata": {
        "id": "vX36lackVW6_"
      }
    },
    {
      "cell_type": "code",
      "source": [
        ""
      ],
      "metadata": {
        "id": "gmeN_47DWOem"
      },
      "execution_count": 24,
      "outputs": []
    },
    {
      "cell_type": "code",
      "source": [
        "# Crear dos tensores aleatorios diferentes\n"
      ],
      "metadata": {
        "id": "dRruxcKIWOj3"
      },
      "execution_count": 25,
      "outputs": []
    },
    {
      "cell_type": "code",
      "source": [
        ""
      ],
      "metadata": {
        "id": "v7YDA6NVWOo2"
      },
      "execution_count": 25,
      "outputs": []
    },
    {
      "cell_type": "code",
      "source": [
        "# El tensor 1 y 3 son identicos dada su semilla de 42\n"
      ],
      "metadata": {
        "id": "SnmAiANWVW_I"
      },
      "execution_count": 26,
      "outputs": []
    },
    {
      "cell_type": "code",
      "source": [
        "# Mientras que el tensor 3 y 4 no, ya que tienen 42 y 11 como semilla respectivamente\n"
      ],
      "metadata": {
        "id": "78e2KFwEVXDx"
      },
      "execution_count": 27,
      "outputs": []
    },
    {
      "cell_type": "markdown",
      "source": [
        "## Barajeo de tensores "
      ],
      "metadata": {
        "id": "mANdQ6h1YTqp"
      }
    },
    {
      "cell_type": "markdown",
      "source": [
        "El barajeo o *shuffle*, será una de las pocas pero esenciales transformaciones que se deben de hacer en los datos. Imagina que queremos entrenar una red neuronal para que logre predecir si la foto que metemos es de un perro o un gato. Si tenemos 10,000 imágenes, y las primeras 5,000 son de gato y el resto de perro, la red neuronal se sesgará y le dará más peso a las de gato, ya que fueron esas con las que se entrenó incialmente. \n",
        "\n",
        "Por eso es importante barajear nuetro dataset antes de pasarlo como input de una red neuronal.\n"
      ],
      "metadata": {
        "id": "qCupVFwLY5uf"
      }
    },
    {
      "cell_type": "markdown",
      "source": [
        "Ejectua la siguiente celda cuantas veces necesites para observar cómo cambia."
      ],
      "metadata": {
        "id": "CCGzinCqcl-_"
      }
    },
    {
      "cell_type": "code",
      "source": [
        "# Crear un tensor que quieras barajear\n"
      ],
      "metadata": {
        "id": "DCBoGwuLY50A"
      },
      "execution_count": 28,
      "outputs": []
    },
    {
      "cell_type": "markdown",
      "source": [
        "Ahora bien, ejecuta la siguiente celda que contiene un `seed=42`. Cambiará, pero lo hará en el mismo orden."
      ],
      "metadata": {
        "id": "9jLlWla6Y543"
      }
    },
    {
      "cell_type": "code",
      "source": [
        "# Barajeo en el mismo orden \n"
      ],
      "metadata": {
        "id": "QDdnT25fYTvE"
      },
      "execution_count": 29,
      "outputs": []
    },
    {
      "cell_type": "markdown",
      "source": [
        "La razón de que los números cambien a pesar de que ponemos un `seed` es dada la regla #4 de la documentación de [`tf.random.set_seed()`](https://www.tensorflow.org/api_docs/python/tf/random/set_seed)\n",
        "\n",
        "> 4. If both the global and the operation seed are set: Both seeds are used in conjunction to determine the random sequence.\n",
        "\n",
        "`tf.random.set_seed(42)` establece la semilla global y el parámetro `seed` en `tf.random.shuffle(seed=42)` establece la semilla de operación.\n",
        "\n",
        "\n"
      ],
      "metadata": {
        "id": "Lfq29VYeYTy4"
      }
    },
    {
      "cell_type": "code",
      "source": [
        "# Barajear en el mismo orden\n",
        "\n",
        "# Establece la semilla global\n",
        "\n",
        "\n",
        "# Establece la semilla de operación\n"
      ],
      "metadata": {
        "id": "nEIFn2oTc61k"
      },
      "execution_count": 30,
      "outputs": []
    },
    {
      "cell_type": "markdown",
      "source": [
        "Observa cómo no cambia los valores del tensor"
      ],
      "metadata": {
        "id": "JODOfHaVc66p"
      }
    },
    {
      "cell_type": "code",
      "source": [
        "# Establece semilla\n",
        "# Intenta correr la celda comentando esta linea\n",
        "\n",
        "# Establece la semilla de operación\n"
      ],
      "metadata": {
        "id": "Ut-LcOTcc6-8"
      },
      "execution_count": 31,
      "outputs": []
    },
    {
      "cell_type": "markdown",
      "source": [
        "## Tensores de unos y ceros"
      ],
      "metadata": {
        "id": "r6o4hscfc6Mx"
      }
    },
    {
      "cell_type": "code",
      "source": [
        "# Crear un tensor de unos\n"
      ],
      "metadata": {
        "id": "UnZ-VppbfzyI"
      },
      "execution_count": 32,
      "outputs": []
    },
    {
      "cell_type": "code",
      "source": [
        "# Cambia el shape\n"
      ],
      "metadata": {
        "id": "Bve5AvBrfz2V"
      },
      "execution_count": 33,
      "outputs": []
    },
    {
      "cell_type": "code",
      "source": [
        "# Crea tensor de ceros\n"
      ],
      "metadata": {
        "id": "10aDeuoXfz66"
      },
      "execution_count": 34,
      "outputs": []
    },
    {
      "cell_type": "markdown",
      "source": [
        "## NumPy y TensorFlow"
      ],
      "metadata": {
        "id": "xg2xxUlGfz_F"
      }
    },
    {
      "cell_type": "markdown",
      "source": [
        "También puede convertir arreglos de NumPy en tensores.\n",
        "\n",
        "Recuerda que la principal diferencia es que los tensores pueden ser utilizados con un GPUs\n",
        "\n",
        "🔑 **Nota:** una matriz o un tensor son usualmente representados por letras mayúsculas: `X` o `A`; mientras que los vectores son representados por letras minúsculas `y` o `b`"
      ],
      "metadata": {
        "id": "WoT-V2UQgviP"
      }
    },
    {
      "cell_type": "code",
      "source": [
        "# Importar numpy\n"
      ],
      "metadata": {
        "id": "B6DmK4_6gvmh"
      },
      "execution_count": 35,
      "outputs": []
    },
    {
      "cell_type": "code",
      "source": [
        "# Conviertelo en un tensor\n"
      ],
      "metadata": {
        "id": "zIuH8ubcgvqy"
      },
      "execution_count": 36,
      "outputs": []
    },
    {
      "cell_type": "markdown",
      "source": [
        "Recuerda que el size debe de empatar con el shape, intenta correr la siguiente celda"
      ],
      "metadata": {
        "id": "T2nZIDdDgvud"
      }
    },
    {
      "cell_type": "code",
      "source": [
        ""
      ],
      "metadata": {
        "id": "_GDZ1jOtf0CG"
      },
      "execution_count": 36,
      "outputs": []
    },
    {
      "cell_type": "markdown",
      "source": [
        "El error es bastante implícito, tratamos de meter en un tensor de `40` elementos un arreglo de `24`."
      ],
      "metadata": {
        "id": "IE7gbOXOhsE-"
      }
    },
    {
      "cell_type": "markdown",
      "source": [
        "## Obtener información de tensored (shape, rank, size)\n",
        "\n",
        "\n",
        "* **Shape**: La longitud (número de elementos) de cada dimensión en un tensor\n",
        "* **Rank**: El número de dimensiones del tensor. Un escalar tiene rank 0, un vector tiene rank 1, una matriz tiene rank 2 y un tensor tiene rank *n*.\n",
        "* **Axis** O **dimension**: una dimensión particular del tensor\n",
        "* **Size**: El número total de elementos en el tensor\n",
        "\n",
        "\n",
        "Además, tenemos algunos atributos adicionales, como `ndim`.\n",
        "\n",
        "\n"
      ],
      "metadata": {
        "id": "20yucT7Ec6QP"
      }
    },
    {
      "cell_type": "code",
      "source": [
        "# Crear un tensor con rank 4\n"
      ],
      "metadata": {
        "id": "YZT4TyrSiNsy"
      },
      "execution_count": 37,
      "outputs": []
    },
    {
      "cell_type": "code",
      "source": [
        "# Get various attributes of tensor\n",
        "\n",
        "# .numpy() converts to NumPy array"
      ],
      "metadata": {
        "id": "iW05XDp5jTiK"
      },
      "execution_count": 38,
      "outputs": []
    },
    {
      "cell_type": "markdown",
      "source": [
        "## Indexing"
      ],
      "metadata": {
        "id": "xvwvC-NSjT_M"
      }
    },
    {
      "cell_type": "code",
      "source": [
        "# Crear un arreglo de números aleatorios con size=(5,5)\n"
      ],
      "metadata": {
        "id": "vCiNKAggjUDI"
      },
      "execution_count": 39,
      "outputs": []
    },
    {
      "cell_type": "code",
      "source": [
        ""
      ],
      "metadata": {
        "id": "3yg9z5BSqnM-"
      },
      "execution_count": 39,
      "outputs": []
    },
    {
      "cell_type": "markdown",
      "source": [
        "Recuerda que para obtener un número, debemos de declarar el índice. Toda indexación comienza en `0`, y para obtener el último elemento se utiliza el `-1`"
      ],
      "metadata": {
        "id": "umf0mGDZkPoB"
      }
    },
    {
      "cell_type": "markdown",
      "source": [
        "El shape del tensor `E` se puede leer como `3` grandes grupos, `4` filas cada uno y `5` columnas"
      ],
      "metadata": {
        "id": "UPEB2LHyrBLv"
      }
    },
    {
      "cell_type": "code",
      "source": [
        "# Obtener los primeros dos grupos completos\n"
      ],
      "metadata": {
        "id": "vQT5qM5_kPr3"
      },
      "execution_count": 40,
      "outputs": []
    },
    {
      "cell_type": "code",
      "source": [
        "# Ahora obtener las primeras dos filas \n"
      ],
      "metadata": {
        "id": "LHELRC2vkPup"
      },
      "execution_count": 41,
      "outputs": []
    },
    {
      "cell_type": "code",
      "source": [
        "# Obtenemos las primeras dos columnas\n"
      ],
      "metadata": {
        "id": "PIe9HaVTjUHE"
      },
      "execution_count": 42,
      "outputs": []
    },
    {
      "cell_type": "code",
      "source": [
        "# La siguiente celda dará un error\n"
      ],
      "metadata": {
        "id": "HDsleIziu4UR"
      },
      "execution_count": 43,
      "outputs": []
    },
    {
      "cell_type": "markdown",
      "source": [
        "Esto se debe a que sólo tenemos 3 números en el shape, por lo que solo podemos indexar 3 veces. \n",
        "\n",
        "Por lo tanto el primer índice es de **grupos**, el segundo es de **filas** y el tercero es de **columnas**.\n",
        "\n",
        "Observa los siguientes ejemplos:"
      ],
      "metadata": {
        "id": "Gde3KWfVvaXO"
      }
    },
    {
      "cell_type": "code",
      "source": [
        ""
      ],
      "metadata": {
        "id": "BuI8K-Dju43h"
      },
      "execution_count": 43,
      "outputs": []
    },
    {
      "cell_type": "markdown",
      "source": [
        "✏️ **Ejercicio:** Intenta imprimir el número 50"
      ],
      "metadata": {
        "id": "KtZ3g7A6yf1X"
      }
    },
    {
      "cell_type": "code",
      "source": [
        "# El 50 está en el grupo 3, pero como comenzamos en 0, lo declaramos como 2\n"
      ],
      "metadata": {
        "id": "aMW_RdC-u48I"
      },
      "execution_count": 44,
      "outputs": []
    },
    {
      "cell_type": "code",
      "source": [
        "# Se encuentra en la fila 2, la cual declaramos como 1\n"
      ],
      "metadata": {
        "id": "2fywd-Ezu5Ay"
      },
      "execution_count": 45,
      "outputs": []
    },
    {
      "cell_type": "code",
      "source": [
        "# Finalmente, está en la última columna, la cual podemos declarar como -1\n"
      ],
      "metadata": {
        "id": "PCGLSP3Fu5F8"
      },
      "execution_count": 46,
      "outputs": []
    },
    {
      "cell_type": "markdown",
      "source": [
        "Además, podemos traer más de un número, por ejemplo, por fila:"
      ],
      "metadata": {
        "id": "cNHPgNpNznaj"
      }
    },
    {
      "cell_type": "code",
      "source": [
        "# Obtener el último elemento de cada fila\n"
      ],
      "metadata": {
        "id": "fegKa4htzHl3"
      },
      "execution_count": 47,
      "outputs": []
    },
    {
      "cell_type": "markdown",
      "source": [
        "En la mayoría de las ocasiones tendremos que adecuar los tensores para poder tener dimensiones extras, pero sin modificar los valores que en él existen; similar a si metieramos dimensones sintéticas.\n",
        "\n",
        "El hecho de aumentar dimensiones o quitar, será recurrente, ya que no sólo será una cuestión técnica, sino de la teoría de las redes neuronales"
      ],
      "metadata": {
        "id": "guUzDpy-0s8n"
      }
    },
    {
      "cell_type": "code",
      "source": [
        "# Crear un tensor de rank 2 (2 dimensiones)\n"
      ],
      "metadata": {
        "id": "qMt5NDGjaPkA"
      },
      "execution_count": 48,
      "outputs": []
    },
    {
      "cell_type": "code",
      "source": [
        "# Añadir una dimensión extra al tensor de rank 2 con ...\n",
        "# en python ... signfiica \"todas las dimensiones previas\"\n"
      ],
      "metadata": {
        "id": "FlaQzMXwzZJc"
      },
      "execution_count": 49,
      "outputs": []
    },
    {
      "cell_type": "markdown",
      "source": [
        "Observa cómo añadimos una dimensión como columna en el `shape` sin afectar a nuestros valores.\n",
        "\n",
        "Ahora bien, también podemos utilizar `tf.expand_dims()` para aumentar dimensiones"
      ],
      "metadata": {
        "id": "-6wFXMLoZOP_"
      }
    },
    {
      "cell_type": "code",
      "source": [
        "# \"-1\" significa el último eje"
      ],
      "metadata": {
        "id": "C5g7PtuUZOT7"
      },
      "execution_count": 50,
      "outputs": []
    },
    {
      "cell_type": "markdown",
      "source": [
        "# Manipulación de tensores (operaciones)"
      ],
      "metadata": {
        "id": "bG7s69GEZOXZ"
      }
    },
    {
      "cell_type": "markdown",
      "source": [
        "Ahora que sabemos cómo crear tensores, comenzaremos a modificarlos a través de operaciones y técnicas que nos serán útiles cuando hagamos nuestras redes neuronales"
      ],
      "metadata": {
        "id": "C1QLwaZdZOai"
      }
    },
    {
      "cell_type": "markdown",
      "source": [
        "## Operaciones básicas\n",
        "\n",
        "Podemos realizar operaciones tales como `+`, `-` o `*`\n"
      ],
      "metadata": {
        "id": "1XdeME6tZOdG"
      }
    },
    {
      "cell_type": "code",
      "source": [
        "# Podemos añadir valores a los tensores\n"
      ],
      "metadata": {
        "id": "XecqHjqSzHqT"
      },
      "execution_count": 51,
      "outputs": []
    },
    {
      "cell_type": "code",
      "source": [
        "# Igualmente multiplicar\n"
      ],
      "metadata": {
        "id": "BToOz1QxzHuH"
      },
      "execution_count": 52,
      "outputs": []
    },
    {
      "cell_type": "code",
      "source": [
        "# Así como resta\n"
      ],
      "metadata": {
        "id": "LdCe5cyMuwoi"
      },
      "execution_count": 53,
      "outputs": []
    },
    {
      "cell_type": "markdown",
      "source": [
        "Además, podemos utilizar funciones de TensorFlow integradas, las cuales tienen una ventaja dado que logran una computación más rápida. Por ejemplo, podemos multiplicar cada uno de los valores por `10`"
      ],
      "metadata": {
        "id": "1C1EyH4ruwsi"
      }
    },
    {
      "cell_type": "code",
      "source": [
        "# Usa multiply como equivalente de '*'\n"
      ],
      "metadata": {
        "id": "crsHhxW7F_XS"
      },
      "execution_count": 54,
      "outputs": []
    },
    {
      "cell_type": "code",
      "source": [
        "# Tensor original\n"
      ],
      "metadata": {
        "id": "5k4y7nyHF_cj"
      },
      "execution_count": 55,
      "outputs": []
    },
    {
      "cell_type": "markdown",
      "source": [
        "Observa cómo cada valor es multiplicado por diez, lo cual es diferente a una multiplicación de matriz por escalar."
      ],
      "metadata": {
        "id": "jtY6eZuEF_hh"
      }
    },
    {
      "cell_type": "markdown",
      "source": [
        "## Multiplicación de matrices"
      ],
      "metadata": {
        "id": "6WMkwO7zF_lK"
      }
    },
    {
      "cell_type": "markdown",
      "source": [
        "Siendo una de las operaciones más comunes en Machine Learning, la multiplicación de matrices se puede llevar a cabo de dos formas\n",
        "\n",
        "* De forma nativa a python con operador `@`\n",
        "* Con la función integrada de TF `tf.matmul()`\n",
        "\n",
        "Existen dos reglas indispensables en la multiplicación de matrices:\n",
        "\n",
        "1. Las dimensiones internas deben de ser iguales:\n",
        "  * `(4,5) @ (5, 4)`\n",
        "\n",
        "2. La matríz resultante tiene `shape` de las dimensiones exteriores\n",
        "  * `(4,5) @ (5,4)` -> `(4,4)`"
      ],
      "metadata": {
        "id": "6RGHJbREG9j9"
      }
    },
    {
      "cell_type": "code",
      "source": [
        "# Recuerda el tensor previo\n"
      ],
      "metadata": {
        "id": "c1E0OB6uIL6R"
      },
      "execution_count": 56,
      "outputs": []
    },
    {
      "cell_type": "code",
      "source": [
        "# Multiplicación de matrices con @\n"
      ],
      "metadata": {
        "id": "M9oZHOtBHAy2"
      },
      "execution_count": 57,
      "outputs": []
    },
    {
      "cell_type": "code",
      "source": [
        "# Multiplicación de matrices en TensorFlow\n"
      ],
      "metadata": {
        "id": "iyNBfeNxF_ni"
      },
      "execution_count": 58,
      "outputs": []
    },
    {
      "cell_type": "markdown",
      "source": [
        "Ambas multiplicaciones resultaron en un tensor con `shape(2,2)`. Ahora bien, intentemos multiplicar dos matrices que rompan con la regla numero 1 establecida anteriormente."
      ],
      "metadata": {
        "id": "RkR4Kkz3G9cn"
      }
    },
    {
      "cell_type": "code",
      "source": [
        "# Tensor de (3,2) \n",
        "\n",
        "\n",
        "# Tensor de (3,2)\n"
      ],
      "metadata": {
        "id": "mo3OjTKSIWsH"
      },
      "execution_count": 59,
      "outputs": []
    },
    {
      "cell_type": "code",
      "source": [
        "# Intenta multiplicar ambos tensores con @\n"
      ],
      "metadata": {
        "id": "VpaLhFLRIWwM"
      },
      "execution_count": 60,
      "outputs": []
    },
    {
      "cell_type": "markdown",
      "source": [
        "Esto se debe a que las dimensiones internas son diferentes.\n",
        "\n",
        "Tenemos dos opciones:\n",
        "  * Hacer un reshape de X a `(2,3)`\n",
        "  * Hacer un reshape de Y a `(3,2)`\n",
        "\n",
        "Esto se puede hacer, a su vez, de dos formas:\n",
        "  * `tf.reshape()`\n",
        "  * `tf.transpose()`"
      ],
      "metadata": {
        "id": "jMLYoWJpIWzC"
      }
    },
    {
      "cell_type": "code",
      "source": [
        "# Ejemplo de reshape (3,2) -> (2,3)\n"
      ],
      "metadata": {
        "id": "HLHFQA2fMnkY"
      },
      "execution_count": 61,
      "outputs": []
    },
    {
      "cell_type": "code",
      "source": [
        "# Transpuesta de (3,2) -> (2,3)\n"
      ],
      "metadata": {
        "id": "3neUarUFMnq3"
      },
      "execution_count": 62,
      "outputs": []
    },
    {
      "cell_type": "code",
      "source": [
        "# Multiplicación con parámetros usando tf.matmul\n"
      ],
      "metadata": {
        "id": "8G2rZ8Y6NyZq"
      },
      "execution_count": 63,
      "outputs": []
    },
    {
      "cell_type": "markdown",
      "source": [
        "Observa como existe una diferencia en shapes cuanto hacemos transpuesta de `X` o un reshape de `Y`.\n",
        "\n",
        "Esto se debe a la segunda regla, la cual dice que:\n",
        "\n",
        " * `(3, 2) @ (2, 3)` -> `(3, 3)` resulta de `X @ tf.reshape(Y, shape=(2, 3))` \n",
        " * `(2, 3) @ (3, 2)` -> `(2, 2)` resulta de `tf.matmul(tf.transpose(X), Y)`\n",
        "\n",
        "Ahora bien, observa el siguiente ejemplo y nota las diferencias:"
      ],
      "metadata": {
        "id": "uM7ucDG0NydO"
      }
    },
    {
      "cell_type": "code",
      "source": [
        "# Multiplicación con Y transpuesta\n"
      ],
      "metadata": {
        "id": "xhwzWCxHPdqO"
      },
      "execution_count": 64,
      "outputs": []
    },
    {
      "cell_type": "code",
      "source": [
        "# Multiplicación con Y reshaped\n"
      ],
      "metadata": {
        "id": "SC6KDknSyLRK"
      },
      "execution_count": 65,
      "outputs": []
    },
    {
      "cell_type": "code",
      "source": [
        "# Y inicial\n"
      ],
      "metadata": {
        "id": "0gcMlafO0oPU"
      },
      "execution_count": 66,
      "outputs": []
    },
    {
      "cell_type": "code",
      "source": [
        ""
      ],
      "metadata": {
        "id": "58Ddd64Z0FBV"
      },
      "execution_count": 66,
      "outputs": []
    },
    {
      "cell_type": "markdown",
      "source": [
        "La tranpuesta simplemente es una *rotación* de filas a columnas, mientras que el `reshape` ajusta los datos a las columnas y filas señaladas"
      ],
      "metadata": {
        "id": "tj75xm9T0qze"
      }
    },
    {
      "cell_type": "markdown",
      "source": [
        "## Producto punto (dot product)"
      ],
      "metadata": {
        "id": "4KQ2WdO4G9gt"
      }
    },
    {
      "cell_type": "markdown",
      "source": [
        "A la multiplicación **entre** matrices se suele denominar como **producto punto** o ***dot product***. Esta operación tan recurrente en *deep learning* y *machine learning* se realiza con `tf.tensordot`."
      ],
      "metadata": {
        "id": "EXzC11Y8Pdcx"
      }
    },
    {
      "cell_type": "code",
      "source": [
        "# Producto punto de X y Y\n"
      ],
      "metadata": {
        "id": "IJWAXOK9y_lG"
      },
      "execution_count": 67,
      "outputs": []
    },
    {
      "cell_type": "markdown",
      "source": [
        "Esto nos dió de resultado una multipliación igual a \n",
        "```\n",
        "tf.matmul(a=X, b=Y, transpose_a=True, transpose_b=False)\n",
        "```\n",
        "\n",
        "Ya que establecimos `axes=1`, y como se menciona en la [documentación](https://www.tensorflow.org/api_docs/python/tf/tensordot?authuser=1) de TF\n",
        "\n",
        "> When `a` and `b` are matrices (order 2), the case `axes=1` is equivalent to matrix multiplication.\n",
        "\n"
      ],
      "metadata": {
        "id": "jczT2HQUzlFB"
      }
    },
    {
      "cell_type": "markdown",
      "source": [
        "## Cambiar el `datatype` de un tensor (`tf.cast`)"
      ],
      "metadata": {
        "id": "pvtVnZl5xoom"
      }
    },
    {
      "cell_type": "markdown",
      "source": [
        "Dependiendo de la precisión que uno desee tener en los datos, se puede cambiar arbitrariamente el tipo de dato. Si se quiere tener poca precisión, se puede usar un `16 bit` de punto flotante frente uno de `32 bit`.\n",
        "\n",
        "Cambiar el tipo de dato se lleva a cabo con `tf.cast()`"
      ],
      "metadata": {
        "id": "qFIXCafWxot1"
      }
    },
    {
      "cell_type": "code",
      "source": [
        "# Crear un nuevo tensor con float32 por default\n"
      ],
      "metadata": {
        "id": "FEbnE5ZVxoyo"
      },
      "execution_count": 68,
      "outputs": []
    },
    {
      "cell_type": "code",
      "source": [
        "# Crear un nuevo tensor con int32 por default\n"
      ],
      "metadata": {
        "id": "9POq2IExxo21"
      },
      "execution_count": 69,
      "outputs": []
    },
    {
      "cell_type": "code",
      "source": [
        "# Cambiar de float32 a float16\n"
      ],
      "metadata": {
        "id": "9AQMGQbn40UJ"
      },
      "execution_count": 70,
      "outputs": []
    },
    {
      "cell_type": "code",
      "source": [
        "# Cambiar de int32 a float32\n"
      ],
      "metadata": {
        "id": "fQ_woTiX40YN"
      },
      "execution_count": 71,
      "outputs": []
    },
    {
      "cell_type": "markdown",
      "source": [
        "## Obtener valor absoluto\n",
        "\n",
        "La operación de obtener valor absoluto es con `tf.abs()`"
      ],
      "metadata": {
        "id": "oPtDG_tI40cP"
      }
    },
    {
      "cell_type": "code",
      "source": [
        "# Crear un tensor con valores negativos\n"
      ],
      "metadata": {
        "id": "clnvltYr5KmS"
      },
      "execution_count": 72,
      "outputs": []
    },
    {
      "cell_type": "code",
      "source": [
        "# Obtener el valor absoluto\n"
      ],
      "metadata": {
        "id": "muZFf82K5Kpp"
      },
      "execution_count": 73,
      "outputs": []
    },
    {
      "cell_type": "markdown",
      "source": [
        "## Encontrar Mínimo, Máximo, Promedio y Sum"
      ],
      "metadata": {
        "id": "d2E8OqpD40f8"
      }
    },
    {
      "cell_type": "markdown",
      "source": [
        "Las cuatro funciones de esta subsección nos serán de gran utilidad cuando obtengamos las probabilidades de una predicción, así como las propias predicciones. \n",
        "\n",
        "En una red neuronal, se obtiene inicialmente una probabilidad, que despúes se transforma a una etiqueta `0` o `1` en el caso binario, dado un umbral de decisión, por ejemplo. Esto es algo que veremos en futuros notebooks, por el momento, es útil saber para qué se utiliza cada funcionalidad.\n",
        "\n",
        "Por lo tanto, tenemos que:\n",
        "* `tf.reduce_max()`- encuentra el mínimo valor de un tensor\n",
        "* `tf.reduce_min()`- encuentra el máximo valor de un tensor\n",
        "* `tf.reduce_mean()`- obtiene el promedio de todos los elementos en un tensor\n",
        "* `tf.reduce_sum()`- obtiene la suma de todos los elementos en un tensor\n",
        "\n",
        "🚨 **Atención:** en algunos casos, se tendrá que utilizar ``tf.math` para invocar cada uno de los métodos anteriores."
      ],
      "metadata": {
        "id": "JGY5G9FY5yZC"
      }
    },
    {
      "cell_type": "code",
      "source": [
        "# Crear un tensor con 50 valores aleatorios entre 0 y 100\n"
      ],
      "metadata": {
        "id": "GaroBYuM5ydI"
      },
      "execution_count": 74,
      "outputs": []
    },
    {
      "cell_type": "code",
      "source": [
        "# Encuentra el mínimo\n"
      ],
      "metadata": {
        "id": "9dd93Ugb5ygX"
      },
      "execution_count": 75,
      "outputs": []
    },
    {
      "cell_type": "code",
      "source": [
        "# Encuentra el máximo\n"
      ],
      "metadata": {
        "id": "x7BHF6998V-d"
      },
      "execution_count": 76,
      "outputs": []
    },
    {
      "cell_type": "code",
      "source": [
        "# Promedio del tensor\n"
      ],
      "metadata": {
        "id": "PpDMfGit8WDj"
      },
      "execution_count": 77,
      "outputs": []
    },
    {
      "cell_type": "code",
      "source": [
        "# Suma de todos los elementos\n"
      ],
      "metadata": {
        "id": "ckxZXE4-8WId"
      },
      "execution_count": 78,
      "outputs": []
    },
    {
      "cell_type": "markdown",
      "source": [
        "🔑 **Nota:** Cuando ocupamos cualquiera de las funciones de arriba, no regresa un número exactamente, sino una *lista* con características. Para obtener únicamente el número, se ocupa el `.numpy()` como en el siguiente ejemplo:"
      ],
      "metadata": {
        "id": "S6muEEcO8WNh"
      }
    },
    {
      "cell_type": "code",
      "source": [
        "# Obtener únicamente el valor numerico\n"
      ],
      "metadata": {
        "id": "IXNkWYhs8WTC"
      },
      "execution_count": 79,
      "outputs": []
    },
    {
      "cell_type": "markdown",
      "source": [
        "## Encontrar las posiciones de máximo y mínimo"
      ],
      "metadata": {
        "id": "dEsEQJpx8WYn"
      }
    },
    {
      "cell_type": "markdown",
      "source": [
        "A diferencia de obtener los valores mínimos y máximos, ahora queremos saber en qué posición se encuentran esos mínimos y máximos. Esto nos será útil para obtener las predicciones finales de un modelo. Imagina lo siguiente:\n",
        "\n",
        "> Estamos entrenando una red neuronal para que coches con conducción automática detecten cuando la luz en el semáforo es verde, amarilla o roja, por lo que tenemos una lista `[verde, amarillo, rojo]`. Una vez entrenada, le pasamos una foto a nuestra red neuronal de un semaforo en rojo, lo que arroja es lo siguiente:\n",
        "```\n",
        "pred = [0.87, 0.04, 0.09]\n",
        "```\n",
        "el modelo indíca a través de una lista, la probabilidad de que sea una u otra clase o color del semáforo. Observa que todas suman `1`, y que no hay un *es verde* absoluto por parte del modelo. La forma de interpretar ese resultado es decir:\n",
        "* El modelo está seguro en un 87% de que el semáforo de la foto está en verde\n",
        "* El modelo está seguro en un 4% de que el semáforo de la foto está en amarillo\n",
        "* El modelo está seguro en un 9% de que el semáforo de la foto está en rojo\n",
        "Por lo tanto, necesitamos obtener la posición de la probabilidad más alta (`0`, `1` o `2`) lo cual se traduce en `[verde, amarillo, rojo]`\n",
        "\n",
        "No te preocupes si suele ser confuso este primer ejemplo, cuando lleguemos a hacer redes neuronales quedará más claro. Por el momento, es importante saber que con\n",
        "* `tf.argmax()` - se obtiene la posición con el valor más alto\n",
        "* `tf.argmin()` - se obtiene la posición con el valor más pequeño\n"
      ],
      "metadata": {
        "id": "Xl5ZUTqg40jK"
      }
    },
    {
      "cell_type": "code",
      "source": [
        "# Crear un tendor con valores aleatorios entre 0 y 1\n"
      ],
      "metadata": {
        "id": "6j5l18gaAYPP"
      },
      "execution_count": 80,
      "outputs": []
    },
    {
      "cell_type": "code",
      "source": [
        "# Posición con el valor más alto\n"
      ],
      "metadata": {
        "id": "xu8u02dwAYS7"
      },
      "execution_count": 81,
      "outputs": []
    },
    {
      "cell_type": "code",
      "source": [
        "# Posición con el valor más bajo\n"
      ],
      "metadata": {
        "id": "O_PctqsmAYWf"
      },
      "execution_count": 82,
      "outputs": []
    },
    {
      "cell_type": "code",
      "source": [
        "# Obtener valor más alto (similar a tf.reduce_max())\n"
      ],
      "metadata": {
        "id": "JOwQUun-AYaP"
      },
      "execution_count": 83,
      "outputs": []
    },
    {
      "cell_type": "code",
      "source": [
        "# Obtener valor más bajo (similar a tf.reduce_min())\n"
      ],
      "metadata": {
        "id": "b3QmiTU440l2"
      },
      "execution_count": 84,
      "outputs": []
    },
    {
      "cell_type": "markdown",
      "source": [
        "## Squeezing (remover dimensiones de un tensor)\n"
      ],
      "metadata": {
        "id": "vL7OqFZxGbdR"
      }
    },
    {
      "cell_type": "markdown",
      "source": [
        "Un par de líneas arriba veiamos que podíamos añadir dimension con `tf.expand_dims()` sin modificar el propio contenido de un tensor. Ahora bien, imagina que tenemos:\n",
        "\n",
        "```\n",
        "x = [[0.9, 0.8, 0.5]]\n",
        "```\n",
        "\n",
        "Si nosotros quisieramos acceder al valor `0.9`, no bastaría con indexar una vez, sino dos\n",
        "```\n",
        "x[0][0]\n",
        "```\n",
        "\n",
        "ya que tenemos una lista dentro de otra lista. Para quitar esa dimensión extra, o encapsulado *extra* que tenemos de la lista más incrustada, ocupamos `tf.squeeze()`. \n",
        "\n",
        "Teóricamente, en Deep Learning veremos que añadir dimensiones será útil cuando nuestro clasificador no es tan bueno (por ejemplo [**the kernel trick**](https://medium.com/@zxr.nju/what-is-the-kernel-trick-why-is-it-important-98a98db0961d)), y en otras ocasiones, estará tan saturado de dimensiones que lo mejor será ayudarlo quitando un poco de peso."
      ],
      "metadata": {
        "id": "lAUvLQw1GbiQ"
      }
    },
    {
      "cell_type": "code",
      "source": [
        "# Crea un tensor de rank 5 con numeros entre 0 y 100\n"
      ],
      "metadata": {
        "id": "vg3rH9MqGbm7"
      },
      "execution_count": 85,
      "outputs": []
    },
    {
      "cell_type": "code",
      "source": [
        "# Obten shape y numero de dimensionses\n"
      ],
      "metadata": {
        "id": "BFWk_2mDGbq0"
      },
      "execution_count": 86,
      "outputs": []
    },
    {
      "cell_type": "markdown",
      "source": [
        "Tenemos varias dimensiones extra, o lo que es igual a tener una lista, dentro de otra lista, dentro de otra lista, dentro de otra lista, dentro de toda una lista final."
      ],
      "metadata": {
        "id": "boeu43yaICAj"
      }
    },
    {
      "cell_type": "code",
      "source": [
        "# Aplica squeeze y observa cómo ha cambiado el shape\n"
      ],
      "metadata": {
        "id": "AMEOTigmICEj"
      },
      "execution_count": 87,
      "outputs": []
    },
    {
      "cell_type": "markdown",
      "source": [
        "## Raíces y logaritmos"
      ],
      "metadata": {
        "id": "9w1fj9p43Nfp"
      }
    },
    {
      "cell_type": "code",
      "source": [
        "# Crear un nuevo tensor\n"
      ],
      "metadata": {
        "id": "UDKds0rnCgHt"
      },
      "execution_count": 88,
      "outputs": []
    },
    {
      "cell_type": "code",
      "source": [
        "# Eleva al cuadrado cada elemento\n"
      ],
      "metadata": {
        "id": "OxZSDOCHCgJk"
      },
      "execution_count": 89,
      "outputs": []
    },
    {
      "cell_type": "code",
      "source": [
        "# Encuentra la raíz cuadrada \n",
        "# necesitamos cambiar el tipo de dato a float 32"
      ],
      "metadata": {
        "id": "Zg9Zwv0cCqyH"
      },
      "execution_count": 90,
      "outputs": []
    },
    {
      "cell_type": "code",
      "source": [
        "# Log\n"
      ],
      "metadata": {
        "id": "lcthhFUeCq2C"
      },
      "execution_count": 91,
      "outputs": []
    },
    {
      "cell_type": "markdown",
      "source": [
        "## Categorical encoding: One hot y LabelEncoder"
      ],
      "metadata": {
        "id": "Xv-ysvHhIsV9"
      }
    },
    {
      "cell_type": "code",
      "source": [
        ""
      ],
      "metadata": {
        "id": "yn72o5eOD7N3"
      },
      "execution_count": 91,
      "outputs": []
    },
    {
      "cell_type": "markdown",
      "source": [
        "Hasta ahora hemos visto cómo trabar con datos puramente numéricos. En la realidad, no es así, ya que debemos de poder trabajar con variables categóricas. Para ello, necesitamos transformas auqellas categorias en tipo numérico. Por ejemplo, imagina que tenemos el siguiente arrego:\n",
        "```\n",
        "y = [\"perro\", \"gato\", \"caballo\"]\n",
        "```\n",
        "\n",
        "Si ocupamos un `tf.one_hot()` aplicado a `y`, obtendriamos lo siquiente: \n",
        "```\n",
        "perro = [1,0,0]\n",
        "gato = [0,1,0]\n",
        "caballo = [0,0,1]\n",
        "```\n"
      ],
      "metadata": {
        "id": "ErSTZGs1u1Ep"
      }
    },
    {
      "cell_type": "code",
      "source": [
        "# Crea un tensor de índices\n",
        "\n",
        "\n",
        "# One hot encode\n",
        "# depth extiende hacia la derecha"
      ],
      "metadata": {
        "id": "-uqo_LwZIsZy"
      },
      "execution_count": 92,
      "outputs": []
    },
    {
      "cell_type": "markdown",
      "source": [
        "🔑 **Nota:** Tenemos dos aspectos. El primero, es que un *one-hot encoding* sirve para **evitar** que el modelo piense que $0 < 1 < 2 < 3 < 4$; por ejemplo, si $0$ hiciera referencia a *región 0*, $1$ a *región 1*, y así sucesivamente, el modelo **no entendería** que una región es menos o más que la otra. \n",
        "\n",
        "El segundo aspecto, es que TensorFlow no permite codificar variables categóricas. Para ello ocuparemos [`scikit learn`](https://scikit-learn.org/stable/) la cual es una librería para Machine Learning (así como existe Keras, TensorFlow o Pytorch para Deep Learning, Scikit learn sirve para crear modelos tales como árboles de decisión en alto nivel)\n"
      ],
      "metadata": {
        "id": "IGLaH5Hv4Pnu"
      }
    },
    {
      "cell_type": "code",
      "source": [
        "# Importa de scikit learn Label Encder y One hot encoder\n"
      ],
      "metadata": {
        "id": "48f-kQtx4Psa"
      },
      "execution_count": 93,
      "outputs": []
    },
    {
      "cell_type": "code",
      "source": [
        "# Declara el encoder con una excepeción\n"
      ],
      "metadata": {
        "id": "0CxewtiJ-cfE"
      },
      "execution_count": 94,
      "outputs": []
    },
    {
      "cell_type": "code",
      "source": [
        "# Arreglo x con categorias\n"
      ],
      "metadata": {
        "id": "8nNSApwj4Pwp"
      },
      "execution_count": 95,
      "outputs": []
    },
    {
      "cell_type": "code",
      "source": [
        "# Ajusta las categorias al encoder\n",
        "\n",
        "\n",
        "# Transformalo en arreglo\n"
      ],
      "metadata": {
        "id": "pmp0VHnS-eUD"
      },
      "execution_count": 96,
      "outputs": []
    },
    {
      "cell_type": "code",
      "source": [
        "# Inversión del codificador \n"
      ],
      "metadata": {
        "id": "jaOPMyxD9eXK"
      },
      "execution_count": 97,
      "outputs": []
    },
    {
      "cell_type": "markdown",
      "source": [
        "Ahora bien, si necesitamos codificar valores que si son cardinales, es decir, que $0 < 1 < 2 < 3$, por ejemplo, usamos `LabelEncoder`"
      ],
      "metadata": {
        "id": "nMEU2_MI9d3Z"
      }
    },
    {
      "cell_type": "code",
      "source": [
        "# Declaramos el codificador\n"
      ],
      "metadata": {
        "id": "EBVtvBSRAFuZ"
      },
      "execution_count": 98,
      "outputs": []
    },
    {
      "cell_type": "code",
      "source": [
        "# Lista con paises\n",
        "\n",
        "\n",
        "# Ajusta codificador a lista\n",
        "\n",
        "\n",
        "# Transforma en arreglo\n"
      ],
      "metadata": {
        "id": "-7K-0jUdAkMn"
      },
      "execution_count": 99,
      "outputs": []
    },
    {
      "cell_type": "code",
      "source": [
        "# Inversa de valores\n"
      ],
      "metadata": {
        "id": "IluLnM8PAFyN"
      },
      "execution_count": 100,
      "outputs": []
    },
    {
      "cell_type": "markdown",
      "source": [
        "En resúmen, si el orden no importa ya que las observaciones son independientes, se usa `One-hot encoding`, pero si existe cardinalidad, se usa `LabelEncoder`"
      ],
      "metadata": {
        "id": "aicyGtxaAF1r"
      }
    },
    {
      "cell_type": "markdown",
      "source": [
        "# Resumen del notebook"
      ],
      "metadata": {
        "id": "CZMvyjYrAF4L"
      }
    },
    {
      "cell_type": "markdown",
      "source": [
        "Durante este notebook hemos visto "
      ],
      "metadata": {
        "id": "2l9IJgjxAF6e"
      }
    },
    {
      "cell_type": "code",
      "source": [
        ""
      ],
      "metadata": {
        "id": "FS6zN3CgCcoi"
      },
      "execution_count": 100,
      "outputs": []
    },
    {
      "cell_type": "code",
      "source": [
        ""
      ],
      "metadata": {
        "id": "6I9W32z335D_"
      },
      "execution_count": null,
      "outputs": []
    },
    {
      "cell_type": "code",
      "source": [
        ""
      ],
      "metadata": {
        "id": "lGuMKsA0CcsW"
      },
      "execution_count": 100,
      "outputs": []
    },
    {
      "cell_type": "code",
      "source": [
        ""
      ],
      "metadata": {
        "id": "m2avEJgfCcvr"
      },
      "execution_count": 100,
      "outputs": []
    },
    {
      "cell_type": "code",
      "source": [
        ""
      ],
      "metadata": {
        "id": "ehVGlDo1Ccxy"
      },
      "execution_count": 100,
      "outputs": []
    }
  ]
}