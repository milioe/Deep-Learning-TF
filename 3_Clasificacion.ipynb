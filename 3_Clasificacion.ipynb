{
  "nbformat": 4,
  "nbformat_minor": 0,
  "metadata": {
    "colab": {
      "name": "3_Clasificacion.ipynb",
      "provenance": [],
      "collapsed_sections": [],
      "authorship_tag": "ABX9TyNzgBuxcgykQY6ivG2M6ZLi",
      "include_colab_link": true
    },
    "kernelspec": {
      "name": "python3",
      "display_name": "Python 3"
    },
    "language_info": {
      "name": "python"
    }
  },
  "cells": [
    {
      "cell_type": "markdown",
      "metadata": {
        "id": "view-in-github",
        "colab_type": "text"
      },
      "source": [
        "<a href=\"https://colab.research.google.com/github/milioe/Deep-Learning-TF/blob/main/3_Clasificacion.ipynb\" target=\"_parent\"><img src=\"https://colab.research.google.com/assets/colab-badge.svg\" alt=\"Open In Colab\"/></a>"
      ]
    },
    {
      "cell_type": "markdown",
      "source": [
        "# Deep Learning: Redes Neuronales Artificiales con TensorFlow\n"
      ],
      "metadata": {
        "id": "o2Puk33Ybnhw"
      }
    },
    {
      "cell_type": "markdown",
      "source": [
        "# Introducción a los tensores\n",
        "## Índice:\n",
        "1. Creación de tensores\n",
        "2. Atributos de tensores\n",
        "3. Manipulación de tensores\n",
        "4. Tensores y NumPy\n",
        "5. `@tf.function`\n",
        "6. Uso de GPU con TensorFlow\n",
        "7. Ejercicios\n",
        "\n",
        "En este notebooks, trabajaremos nuetro primer problema de clasificación. \n",
        "\n",
        "El objetivo de este notebook es ir trabajando problemas fáciles, donde la clasificación es extremadamente fácil para nosotros y para la red neuronal, para poder llegar a problemas que sólo se resuelven a través de la no linealidad."
      ],
      "metadata": {
        "id": "FFLh6cyabsQD"
      }
    },
    {
      "cell_type": "markdown",
      "source": [
        "Alguno de los hiperparámetros que usaremos serán:\n",
        "\n",
        "| Hiperparámetro | Clasificación binaria |  Clasificación multiclass|\n",
        "|---|---|---|\n",
        "| Input layer shape |"
      ],
      "metadata": {
        "id": "xm-MekQsbsT0"
      }
    },
    {
      "cell_type": "markdown",
      "source": [
        "* Arquitectura de una red neuronal artificial enfocada a clasificación binaria\n",
        "  * Input y Output shapes\n",
        "  * Hiperparámetros\n",
        "    * `Binary_Cross Entropy`\n",
        "  * Optimizadores\n",
        "    * Stochastic Gradient Descent\n",
        "    * Adam\n",
        "  * Funciones de activación\n",
        "    * Sigmoide\n",
        "    * Softmax\n",
        "  * Epochs\n",
        "  * Métricas de evaluación\n",
        "    * Loss / Pérdida\n",
        "    * Learning Rate\n",
        "    * Matriz de confusión\n",
        "  * Corrección de modelos\n",
        "    * Datos de validación\n",
        "\n",
        "* Arquitectura de una red neuronal artificial enfocada a clasificación múltiple"
      ],
      "metadata": {
        "id": "i1gmXZS-bsYN"
      }
    },
    {
      "cell_type": "code",
      "source": [
        "# Lo primero que necesitamos hacer es importar tensorflow\n",
        "import tensorflow as tf"
      ],
      "metadata": {
        "id": "EklppknVf_fD"
      },
      "execution_count": 1,
      "outputs": []
    },
    {
      "cell_type": "markdown",
      "source": [
        "# Datos"
      ],
      "metadata": {
        "id": "AhvE250Kbsb2"
      }
    },
    {
      "cell_type": "markdown",
      "source": [
        "Antes de pasar a datasets complicados, necesitamos entrenar un poco con datasets que nosotros fácilmente crearemos. \n",
        "\n",
        "Piensa lo siguiente, ¿Cuál es distribución más fácil de clasificar? seguro hay muchas, pero nosotros proponermos lo siguiente\n",
        "\\begin{equation}\n",
        "f(x) = \n",
        "\\end{equation}\n",
        "\n",
        "\n",
        "Por lo tanto, pasemos a código el siguiente problema binario"
      ],
      "metadata": {
        "id": "DkFmYefkgC4Q"
      }
    },
    {
      "cell_type": "markdown",
      "source": [
        "# Modelo 1"
      ],
      "metadata": {
        "id": "YfY22iHrEgtu"
      }
    },
    {
      "cell_type": "markdown",
      "source": [
        "Este primer dataset será sencillo para nuestra red neuronal. Lo único que necesita aprender, es que la línea que divide unos a otros parte de $x=0$. Los datos ya están en nuestro repositorio, lo unico que tenemos que hacer es traerlo con el comando de linux `!wget`"
      ],
      "metadata": {
        "id": "iCwM3wAEEiBr"
      }
    },
    {
      "cell_type": "code",
      "source": [
        "!wget https://raw.githubusercontent.com/milioe/Deep-Learning-TF/main/datasets/redblue100.csv"
      ],
      "metadata": {
        "id": "kAEciMtwlizT",
        "colab": {
          "base_uri": "https://localhost:8080/"
        },
        "outputId": "2a1b8635-7418-413e-b696-7fde3e443bcd"
      },
      "execution_count": 6,
      "outputs": [
        {
          "output_type": "stream",
          "name": "stdout",
          "text": [
            "--2022-08-01 20:19:12--  https://raw.githubusercontent.com/milioe/Deep-Learning-TF/main/datasets/redblue100.csv\n",
            "Resolving raw.githubusercontent.com (raw.githubusercontent.com)... 185.199.108.133, 185.199.109.133, 185.199.110.133, ...\n",
            "Connecting to raw.githubusercontent.com (raw.githubusercontent.com)|185.199.108.133|:443... connected.\n",
            "HTTP request sent, awaiting response... 200 OK\n",
            "Length: 5472 (5.3K) [text/plain]\n",
            "Saving to: ‘redblue100.csv’\n",
            "\n",
            "\rredblue100.csv        0%[                    ]       0  --.-KB/s               \rredblue100.csv      100%[===================>]   5.34K  --.-KB/s    in 0s      \n",
            "\n",
            "2022-08-01 20:19:12 (53.1 MB/s) - ‘redblue100.csv’ saved [5472/5472]\n",
            "\n"
          ]
        }
      ]
    },
    {
      "cell_type": "code",
      "source": [
        "# Importamos pandas y declaramos df_100 como el dataset binario con 100 puntos\n",
        "import pandas as pd\n",
        "df_100 = pd.read_csv(\"redblue100.csv\")"
      ],
      "metadata": {
        "id": "Eqnv5LqHuDC0"
      },
      "execution_count": 7,
      "outputs": []
    },
    {
      "cell_type": "code",
      "source": [
        "# Visualiza las primeras cinco observaciones\n",
        "df_100.head()"
      ],
      "metadata": {
        "colab": {
          "base_uri": "https://localhost:8080/",
          "height": 206
        },
        "id": "GNvMk2GoCVde",
        "outputId": "55a65324-125a-4d83-8491-0b9a6ba97b1e"
      },
      "execution_count": 15,
      "outputs": [
        {
          "output_type": "execute_result",
          "data": {
            "text/plain": [
              "         X0        X1  Label\n",
              "0  0.195351  0.523404      1\n",
              "1 -0.521873  0.408261      0\n",
              "2  0.753059  0.191093      1\n",
              "3 -0.710660  0.974574      0\n",
              "4  0.124942  0.450524      1"
            ],
            "text/html": [
              "\n",
              "  <div id=\"df-82ef94a0-7419-4f11-8acc-99e53cfb888f\">\n",
              "    <div class=\"colab-df-container\">\n",
              "      <div>\n",
              "<style scoped>\n",
              "    .dataframe tbody tr th:only-of-type {\n",
              "        vertical-align: middle;\n",
              "    }\n",
              "\n",
              "    .dataframe tbody tr th {\n",
              "        vertical-align: top;\n",
              "    }\n",
              "\n",
              "    .dataframe thead th {\n",
              "        text-align: right;\n",
              "    }\n",
              "</style>\n",
              "<table border=\"1\" class=\"dataframe\">\n",
              "  <thead>\n",
              "    <tr style=\"text-align: right;\">\n",
              "      <th></th>\n",
              "      <th>X0</th>\n",
              "      <th>X1</th>\n",
              "      <th>Label</th>\n",
              "    </tr>\n",
              "  </thead>\n",
              "  <tbody>\n",
              "    <tr>\n",
              "      <th>0</th>\n",
              "      <td>0.195351</td>\n",
              "      <td>0.523404</td>\n",
              "      <td>1</td>\n",
              "    </tr>\n",
              "    <tr>\n",
              "      <th>1</th>\n",
              "      <td>-0.521873</td>\n",
              "      <td>0.408261</td>\n",
              "      <td>0</td>\n",
              "    </tr>\n",
              "    <tr>\n",
              "      <th>2</th>\n",
              "      <td>0.753059</td>\n",
              "      <td>0.191093</td>\n",
              "      <td>1</td>\n",
              "    </tr>\n",
              "    <tr>\n",
              "      <th>3</th>\n",
              "      <td>-0.710660</td>\n",
              "      <td>0.974574</td>\n",
              "      <td>0</td>\n",
              "    </tr>\n",
              "    <tr>\n",
              "      <th>4</th>\n",
              "      <td>0.124942</td>\n",
              "      <td>0.450524</td>\n",
              "      <td>1</td>\n",
              "    </tr>\n",
              "  </tbody>\n",
              "</table>\n",
              "</div>\n",
              "      <button class=\"colab-df-convert\" onclick=\"convertToInteractive('df-82ef94a0-7419-4f11-8acc-99e53cfb888f')\"\n",
              "              title=\"Convert this dataframe to an interactive table.\"\n",
              "              style=\"display:none;\">\n",
              "        \n",
              "  <svg xmlns=\"http://www.w3.org/2000/svg\" height=\"24px\"viewBox=\"0 0 24 24\"\n",
              "       width=\"24px\">\n",
              "    <path d=\"M0 0h24v24H0V0z\" fill=\"none\"/>\n",
              "    <path d=\"M18.56 5.44l.94 2.06.94-2.06 2.06-.94-2.06-.94-.94-2.06-.94 2.06-2.06.94zm-11 1L8.5 8.5l.94-2.06 2.06-.94-2.06-.94L8.5 2.5l-.94 2.06-2.06.94zm10 10l.94 2.06.94-2.06 2.06-.94-2.06-.94-.94-2.06-.94 2.06-2.06.94z\"/><path d=\"M17.41 7.96l-1.37-1.37c-.4-.4-.92-.59-1.43-.59-.52 0-1.04.2-1.43.59L10.3 9.45l-7.72 7.72c-.78.78-.78 2.05 0 2.83L4 21.41c.39.39.9.59 1.41.59.51 0 1.02-.2 1.41-.59l7.78-7.78 2.81-2.81c.8-.78.8-2.07 0-2.86zM5.41 20L4 18.59l7.72-7.72 1.47 1.35L5.41 20z\"/>\n",
              "  </svg>\n",
              "      </button>\n",
              "      \n",
              "  <style>\n",
              "    .colab-df-container {\n",
              "      display:flex;\n",
              "      flex-wrap:wrap;\n",
              "      gap: 12px;\n",
              "    }\n",
              "\n",
              "    .colab-df-convert {\n",
              "      background-color: #E8F0FE;\n",
              "      border: none;\n",
              "      border-radius: 50%;\n",
              "      cursor: pointer;\n",
              "      display: none;\n",
              "      fill: #1967D2;\n",
              "      height: 32px;\n",
              "      padding: 0 0 0 0;\n",
              "      width: 32px;\n",
              "    }\n",
              "\n",
              "    .colab-df-convert:hover {\n",
              "      background-color: #E2EBFA;\n",
              "      box-shadow: 0px 1px 2px rgba(60, 64, 67, 0.3), 0px 1px 3px 1px rgba(60, 64, 67, 0.15);\n",
              "      fill: #174EA6;\n",
              "    }\n",
              "\n",
              "    [theme=dark] .colab-df-convert {\n",
              "      background-color: #3B4455;\n",
              "      fill: #D2E3FC;\n",
              "    }\n",
              "\n",
              "    [theme=dark] .colab-df-convert:hover {\n",
              "      background-color: #434B5C;\n",
              "      box-shadow: 0px 1px 3px 1px rgba(0, 0, 0, 0.15);\n",
              "      filter: drop-shadow(0px 1px 2px rgba(0, 0, 0, 0.3));\n",
              "      fill: #FFFFFF;\n",
              "    }\n",
              "  </style>\n",
              "\n",
              "      <script>\n",
              "        const buttonEl =\n",
              "          document.querySelector('#df-82ef94a0-7419-4f11-8acc-99e53cfb888f button.colab-df-convert');\n",
              "        buttonEl.style.display =\n",
              "          google.colab.kernel.accessAllowed ? 'block' : 'none';\n",
              "\n",
              "        async function convertToInteractive(key) {\n",
              "          const element = document.querySelector('#df-82ef94a0-7419-4f11-8acc-99e53cfb888f');\n",
              "          const dataTable =\n",
              "            await google.colab.kernel.invokeFunction('convertToInteractive',\n",
              "                                                     [key], {});\n",
              "          if (!dataTable) return;\n",
              "\n",
              "          const docLinkHtml = 'Like what you see? Visit the ' +\n",
              "            '<a target=\"_blank\" href=https://colab.research.google.com/notebooks/data_table.ipynb>data table notebook</a>'\n",
              "            + ' to learn more about interactive tables.';\n",
              "          element.innerHTML = '';\n",
              "          dataTable['output_type'] = 'display_data';\n",
              "          await google.colab.output.renderOutput(dataTable, element);\n",
              "          const docLink = document.createElement('div');\n",
              "          docLink.innerHTML = docLinkHtml;\n",
              "          element.appendChild(docLink);\n",
              "        }\n",
              "      </script>\n",
              "    </div>\n",
              "  </div>\n",
              "  "
            ]
          },
          "metadata": {},
          "execution_count": 15
        }
      ]
    },
    {
      "cell_type": "code",
      "source": [
        "# Imprimir plot de clasificación\n",
        "import matplotlib.pyplot as plt\n",
        "plt.scatter(df_100[\"X0\"], df_100[\"X1\"], c=df_100[\"Label\"], cmap=plt.cm.RdYlBu);"
      ],
      "metadata": {
        "id": "TXs07jqruDI4",
        "colab": {
          "base_uri": "https://localhost:8080/",
          "height": 265
        },
        "outputId": "9b6288d1-6e6e-41e6-ab40-3d41fa2c8538"
      },
      "execution_count": 14,
      "outputs": [
        {
          "output_type": "display_data",
          "data": {
            "text/plain": [
              "<Figure size 432x288 with 1 Axes>"
            ],
            "image/png": "[encoded data removed]"
          },
          "metadata": {
            "needs_background": "light"
          }
        }
      ]
    },
    {
      "cell_type": "code",
      "source": [
        "# Checar cuántas etiquetas tenemos por cada color\n",
        "df_100.Label.value_counts()"
      ],
      "metadata": {
        "id": "T9hM3n_ruDOq",
        "colab": {
          "base_uri": "https://localhost:8080/"
        },
        "outputId": "787dc914-eb2d-44cf-cb0c-61db000352d0"
      },
      "execution_count": 11,
      "outputs": [
        {
          "output_type": "execute_result",
          "data": {
            "text/plain": [
              "1    100\n",
              "0    100\n",
              "Name: Label, dtype: int64"
            ]
          },
          "metadata": {},
          "execution_count": 11
        }
      ]
    },
    {
      "cell_type": "markdown",
      "source": [
        "## Partición de dataset"
      ],
      "metadata": {
        "id": "9l3oN29h9Bnr"
      }
    },
    {
      "cell_type": "markdown",
      "source": [
        "Observa cómo tenemos conformado nuestro dataset: tenemos dos columnas `X0` y `X1`, los cuales dan la posición `X` y `y` en el plano. Por el otro lado, tenemos la columna `Label`, la cual dice si la observación o fila es **roja** o **azul**, es decir `0` o `1`.\n",
        "\n",
        "Por lo tanto, necesitamos guardar a nuestras columnas `X0` y `X1` en una variable `X`, y a nuestras etiquetas en una `y`, como se hace en la siguiente celda:"
      ],
      "metadata": {
        "id": "2h14f31c9Br-"
      }
    },
    {
      "cell_type": "code",
      "source": [
        "# Guardar variables en X\n",
        "X = df_100[[\"X0\", \"X1\"]]\n",
        "X"
      ],
      "metadata": {
        "id": "0XWjmE3C9Bvz",
        "colab": {
          "base_uri": "https://localhost:8080/",
          "height": 424
        },
        "outputId": "77f994bc-77f0-404d-f7ee-0b2b5ff292c7"
      },
      "execution_count": 16,
      "outputs": [
        {
          "output_type": "execute_result",
          "data": {
            "text/plain": [
              "           X0        X1\n",
              "0    0.195351  0.523404\n",
              "1   -0.521873  0.408261\n",
              "2    0.753059  0.191093\n",
              "3   -0.710660  0.974574\n",
              "4    0.124942  0.450524\n",
              "..        ...       ...\n",
              "195 -0.945288  0.823771\n",
              "196 -0.920050  0.572626\n",
              "197  0.651922  0.900130\n",
              "198 -0.718059  0.508319\n",
              "199 -0.414115  0.727659\n",
              "\n",
              "[200 rows x 2 columns]"
            ],
            "text/html": [
              "\n",
              "  <div id=\"df-6692272d-07e3-4e83-a4bd-0f6d9ac4bdae\">\n",
              "    <div class=\"colab-df-container\">\n",
              "      <div>\n",
              "<style scoped>\n",
              "    .dataframe tbody tr th:only-of-type {\n",
              "        vertical-align: middle;\n",
              "    }\n",
              "\n",
              "    .dataframe tbody tr th {\n",
              "        vertical-align: top;\n",
              "    }\n",
              "\n",
              "    .dataframe thead th {\n",
              "        text-align: right;\n",
              "    }\n",
              "</style>\n",
              "<table border=\"1\" class=\"dataframe\">\n",
              "  <thead>\n",
              "    <tr style=\"text-align: right;\">\n",
              "      <th></th>\n",
              "      <th>X0</th>\n",
              "      <th>X1</th>\n",
              "    </tr>\n",
              "  </thead>\n",
              "  <tbody>\n",
              "    <tr>\n",
              "      <th>0</th>\n",
              "      <td>0.195351</td>\n",
              "      <td>0.523404</td>\n",
              "    </tr>\n",
              "    <tr>\n",
              "      <th>1</th>\n",
              "      <td>-0.521873</td>\n",
              "      <td>0.408261</td>\n",
              "    </tr>\n",
              "    <tr>\n",
              "      <th>2</th>\n",
              "      <td>0.753059</td>\n",
              "      <td>0.191093</td>\n",
              "    </tr>\n",
              "    <tr>\n",
              "      <th>3</th>\n",
              "      <td>-0.710660</td>\n",
              "      <td>0.974574</td>\n",
              "    </tr>\n",
              "    <tr>\n",
              "      <th>4</th>\n",
              "      <td>0.124942</td>\n",
              "      <td>0.450524</td>\n",
              "    </tr>\n",
              "    <tr>\n",
              "      <th>...</th>\n",
              "      <td>...</td>\n",
              "      <td>...</td>\n",
              "    </tr>\n",
              "    <tr>\n",
              "      <th>195</th>\n",
              "      <td>-0.945288</td>\n",
              "      <td>0.823771</td>\n",
              "    </tr>\n",
              "    <tr>\n",
              "      <th>196</th>\n",
              "      <td>-0.920050</td>\n",
              "      <td>0.572626</td>\n",
              "    </tr>\n",
              "    <tr>\n",
              "      <th>197</th>\n",
              "      <td>0.651922</td>\n",
              "      <td>0.900130</td>\n",
              "    </tr>\n",
              "    <tr>\n",
              "      <th>198</th>\n",
              "      <td>-0.718059</td>\n",
              "      <td>0.508319</td>\n",
              "    </tr>\n",
              "    <tr>\n",
              "      <th>199</th>\n",
              "      <td>-0.414115</td>\n",
              "      <td>0.727659</td>\n",
              "    </tr>\n",
              "  </tbody>\n",
              "</table>\n",
              "<p>200 rows × 2 columns</p>\n",
              "</div>\n",
              "      <button class=\"colab-df-convert\" onclick=\"convertToInteractive('df-6692272d-07e3-4e83-a4bd-0f6d9ac4bdae')\"\n",
              "              title=\"Convert this dataframe to an interactive table.\"\n",
              "              style=\"display:none;\">\n",
              "        \n",
              "  <svg xmlns=\"http://www.w3.org/2000/svg\" height=\"24px\"viewBox=\"0 0 24 24\"\n",
              "       width=\"24px\">\n",
              "    <path d=\"M0 0h24v24H0V0z\" fill=\"none\"/>\n",
              "    <path d=\"M18.56 5.44l.94 2.06.94-2.06 2.06-.94-2.06-.94-.94-2.06-.94 2.06-2.06.94zm-11 1L8.5 8.5l.94-2.06 2.06-.94-2.06-.94L8.5 2.5l-.94 2.06-2.06.94zm10 10l.94 2.06.94-2.06 2.06-.94-2.06-.94-.94-2.06-.94 2.06-2.06.94z\"/><path d=\"M17.41 7.96l-1.37-1.37c-.4-.4-.92-.59-1.43-.59-.52 0-1.04.2-1.43.59L10.3 9.45l-7.72 7.72c-.78.78-.78 2.05 0 2.83L4 21.41c.39.39.9.59 1.41.59.51 0 1.02-.2 1.41-.59l7.78-7.78 2.81-2.81c.8-.78.8-2.07 0-2.86zM5.41 20L4 18.59l7.72-7.72 1.47 1.35L5.41 20z\"/>\n",
              "  </svg>\n",
              "      </button>\n",
              "      \n",
              "  <style>\n",
              "    .colab-df-container {\n",
              "      display:flex;\n",
              "      flex-wrap:wrap;\n",
              "      gap: 12px;\n",
              "    }\n",
              "\n",
              "    .colab-df-convert {\n",
              "      background-color: #E8F0FE;\n",
              "      border: none;\n",
              "      border-radius: 50%;\n",
              "      cursor: pointer;\n",
              "      display: none;\n",
              "      fill: #1967D2;\n",
              "      height: 32px;\n",
              "      padding: 0 0 0 0;\n",
              "      width: 32px;\n",
              "    }\n",
              "\n",
              "    .colab-df-convert:hover {\n",
              "      background-color: #E2EBFA;\n",
              "      box-shadow: 0px 1px 2px rgba(60, 64, 67, 0.3), 0px 1px 3px 1px rgba(60, 64, 67, 0.15);\n",
              "      fill: #174EA6;\n",
              "    }\n",
              "\n",
              "    [theme=dark] .colab-df-convert {\n",
              "      background-color: #3B4455;\n",
              "      fill: #D2E3FC;\n",
              "    }\n",
              "\n",
              "    [theme=dark] .colab-df-convert:hover {\n",
              "      background-color: #434B5C;\n",
              "      box-shadow: 0px 1px 3px 1px rgba(0, 0, 0, 0.15);\n",
              "      filter: drop-shadow(0px 1px 2px rgba(0, 0, 0, 0.3));\n",
              "      fill: #FFFFFF;\n",
              "    }\n",
              "  </style>\n",
              "\n",
              "      <script>\n",
              "        const buttonEl =\n",
              "          document.querySelector('#df-6692272d-07e3-4e83-a4bd-0f6d9ac4bdae button.colab-df-convert');\n",
              "        buttonEl.style.display =\n",
              "          google.colab.kernel.accessAllowed ? 'block' : 'none';\n",
              "\n",
              "        async function convertToInteractive(key) {\n",
              "          const element = document.querySelector('#df-6692272d-07e3-4e83-a4bd-0f6d9ac4bdae');\n",
              "          const dataTable =\n",
              "            await google.colab.kernel.invokeFunction('convertToInteractive',\n",
              "                                                     [key], {});\n",
              "          if (!dataTable) return;\n",
              "\n",
              "          const docLinkHtml = 'Like what you see? Visit the ' +\n",
              "            '<a target=\"_blank\" href=https://colab.research.google.com/notebooks/data_table.ipynb>data table notebook</a>'\n",
              "            + ' to learn more about interactive tables.';\n",
              "          element.innerHTML = '';\n",
              "          dataTable['output_type'] = 'display_data';\n",
              "          await google.colab.output.renderOutput(dataTable, element);\n",
              "          const docLink = document.createElement('div');\n",
              "          docLink.innerHTML = docLinkHtml;\n",
              "          element.appendChild(docLink);\n",
              "        }\n",
              "      </script>\n",
              "    </div>\n",
              "  </div>\n",
              "  "
            ]
          },
          "metadata": {},
          "execution_count": 16
        }
      ]
    },
    {
      "cell_type": "code",
      "source": [
        "# Guardar etiquetas en y\n",
        "y = df_100[\"Label\"]\n",
        "y"
      ],
      "metadata": {
        "colab": {
          "base_uri": "https://localhost:8080/"
        },
        "id": "SoMujROuHpmu",
        "outputId": "dad019e6-71ed-46dd-a3e7-429816ddf342"
      },
      "execution_count": 17,
      "outputs": [
        {
          "output_type": "execute_result",
          "data": {
            "text/plain": [
              "0      1\n",
              "1      0\n",
              "2      1\n",
              "3      0\n",
              "4      1\n",
              "      ..\n",
              "195    0\n",
              "196    0\n",
              "197    1\n",
              "198    0\n",
              "199    0\n",
              "Name: Label, Length: 200, dtype: int64"
            ]
          },
          "metadata": {},
          "execution_count": 17
        }
      ]
    },
    {
      "cell_type": "markdown",
      "source": [
        "🔑 **Nota**: Observa cómo para guardar dos columnas, ocupamos doble corchete `[[[]]`, y para guardar una sola columna ocupamos uno `[]`\n",
        "\n",
        "Ahora que tenemos a `X` y `y`, podemos hacer nuestra partición, ya sea \n",
        "* `60/40`\n",
        "* `70/30`\n",
        "* `80/20`\n",
        "\n",
        "Puedes experimentar por tu cuenta con diferentes particiones, nosotros por el momento mantendremos `80/20`. Usaremos el modulo de sci-kit learn `train_test_split`\n"
      ],
      "metadata": {
        "id": "6iZyN-kuHpqT"
      }
    },
    {
      "cell_type": "code",
      "source": [
        "# importar modulo de sci kit learn\n",
        "from sklearn.model_selection import train_test_split"
      ],
      "metadata": {
        "id": "ipvbRmDEHptE"
      },
      "execution_count": 18,
      "outputs": []
    },
    {
      "cell_type": "markdown",
      "source": [
        "Recuerda que debemos de pasar 4 argumentos, porque son 4 particiones. el `test_size` es `0.2`, por lo que el train será nuestro complemento, es decir, el 80%. También pondremos un `seed=42`, para que se pueda reproducir la misma partición en cualquier momento y cualquier lugar. Finalmente, ponemos `shuffle=True` ya que queremos que se barajee el dataset."
      ],
      "metadata": {
        "id": "8k3LUKGAIsvE"
      }
    },
    {
      "cell_type": "code",
      "source": [
        "# Crear partición\n",
        "X_train, X_test, y_train, y_test = train_test_split(X, y, test_size=0.2, random_state=42, shuffle=True)"
      ],
      "metadata": {
        "id": "93Sa440AIn1_"
      },
      "execution_count": 19,
      "outputs": []
    },
    {
      "cell_type": "code",
      "source": [
        "# Checar shape de X, y\n",
        "X.shape, y.shape"
      ],
      "metadata": {
        "colab": {
          "base_uri": "https://localhost:8080/"
        },
        "id": "GViJTmgYIrdf",
        "outputId": "1a0ef0f4-5b82-4201-93b5-606876140a7e"
      },
      "execution_count": 21,
      "outputs": [
        {
          "output_type": "execute_result",
          "data": {
            "text/plain": [
              "((200, 2), (200,))"
            ]
          },
          "metadata": {},
          "execution_count": 21
        }
      ]
    },
    {
      "cell_type": "code",
      "source": [
        "# Checar shape de particiones\n",
        "X_train.shape, X_test.shape"
      ],
      "metadata": {
        "colab": {
          "base_uri": "https://localhost:8080/"
        },
        "id": "HJM-qOryIoFD",
        "outputId": "2f1b70a0-bd37-44c1-ccac-047cf0c6f603"
      },
      "execution_count": 22,
      "outputs": [
        {
          "output_type": "execute_result",
          "data": {
            "text/plain": [
              "((160, 2), (40, 2))"
            ]
          },
          "metadata": {},
          "execution_count": 22
        }
      ]
    },
    {
      "cell_type": "code",
      "source": [
        "# Checar shape de particiones\n",
        "y_train.shape, y_test.shape"
      ],
      "metadata": {
        "colab": {
          "base_uri": "https://localhost:8080/"
        },
        "id": "RjB84qSPIoJQ",
        "outputId": "7d1b975a-c8a2-4ca9-9912-53003240e6a1"
      },
      "execution_count": 23,
      "outputs": [
        {
          "output_type": "execute_result",
          "data": {
            "text/plain": [
              "((160,), (40,))"
            ]
          },
          "metadata": {},
          "execution_count": 23
        }
      ]
    },
    {
      "cell_type": "code",
      "source": [
        "# Revisar la primer observación \n",
        "X_train.loc[0], y_train[0]"
      ],
      "metadata": {
        "colab": {
          "base_uri": "https://localhost:8080/"
        },
        "id": "HB6KAhF_JxuP",
        "outputId": "9e3dbafa-c9ac-471f-abab-f4c87bff2566"
      },
      "execution_count": 25,
      "outputs": [
        {
          "output_type": "execute_result",
          "data": {
            "text/plain": [
              "(X0    0.195351\n",
              " X1    0.523404\n",
              " Name: 0, dtype: float64, 1)"
            ]
          },
          "metadata": {},
          "execution_count": 25
        }
      ]
    },
    {
      "cell_type": "markdown",
      "source": [
        "## Pasos para el modelado"
      ],
      "metadata": {
        "id": "PmwkyMMKJxyR"
      }
    },
    {
      "cell_type": "markdown",
      "source": [
        "Comom habíamos revisado en el notebook anterior de regresión, existen tres principales pasos al momento de modelación, los cuales son:\n",
        "\n",
        "1. **Crear modelo**: Es aquí donde declararemos la tubería o arquitectura del modelo. Recuerda que AUN NO pasamos los datos, simplemente estamos declarando el cascarón\n",
        "2. **Compilar modelo**: Aquí se nos piden tres cosas para realizar el backpropagation y la evaluación del modelo:\n",
        "  * Pérdida\n",
        "  * Optimizador\n",
        "  * Métrica\n",
        "3. **Ajustar modelo**: Finalmente, se le pasan los datos a los pasos previos, y se declaran ciertos hiperparámetros de ajuste."
      ],
      "metadata": {
        "id": "A9VMq5IiJx1k"
      }
    },
    {
      "cell_type": "code",
      "source": [
        "# CREAR PRIMER MODELO\n",
        "\n",
        "# 0. random seed\n",
        "tf.random.set_seed(42)\n",
        "\n",
        "# 1. crear modelo\n",
        "model_1 = tf.keras.Sequential([\n",
        "    tf.keras.layers.Dense(1)\n",
        "])\n",
        "\n",
        "# 2. Compilar modelo\n",
        "model_1.compile(loss=tf.keras.losses.BinaryCrossentropy(),\n",
        "                optimizer=tf.keras.optimizers.SGD(),\n",
        "                metrics=[\"accuracy\"])\n",
        "\n",
        "# 3 Fit the model\n",
        "model_1.fit(X_train, y_train, epochs=10)"
      ],
      "metadata": {
        "colab": {
          "base_uri": "https://localhost:8080/"
        },
        "id": "ydWzZsl5Jx4D",
        "outputId": "d39530ad-4551-4c9c-b369-024b63aaadd5"
      },
      "execution_count": 26,
      "outputs": [
        {
          "output_type": "stream",
          "name": "stdout",
          "text": [
            "Epoch 1/10\n",
            "5/5 [==============================] - 1s 7ms/step - loss: 0.9044 - accuracy: 0.5375\n",
            "Epoch 2/10\n",
            "5/5 [==============================] - 0s 7ms/step - loss: 0.4529 - accuracy: 0.7375\n",
            "Epoch 3/10\n",
            "5/5 [==============================] - 0s 5ms/step - loss: 0.3620 - accuracy: 0.8000\n",
            "Epoch 4/10\n",
            "5/5 [==============================] - 0s 5ms/step - loss: 0.3051 - accuracy: 0.8500\n",
            "Epoch 5/10\n",
            "5/5 [==============================] - 0s 6ms/step - loss: 0.2650 - accuracy: 0.8750\n",
            "Epoch 6/10\n",
            "5/5 [==============================] - 0s 5ms/step - loss: 0.2339 - accuracy: 0.8938\n",
            "Epoch 7/10\n",
            "5/5 [==============================] - 0s 5ms/step - loss: 0.2093 - accuracy: 0.9312\n",
            "Epoch 8/10\n",
            "5/5 [==============================] - 0s 6ms/step - loss: 0.1927 - accuracy: 0.9500\n",
            "Epoch 9/10\n",
            "5/5 [==============================] - 0s 6ms/step - loss: 0.1813 - accuracy: 0.9750\n",
            "Epoch 10/10\n",
            "5/5 [==============================] - 0s 5ms/step - loss: 0.1721 - accuracy: 0.9937\n"
          ]
        },
        {
          "output_type": "execute_result",
          "data": {
            "text/plain": [
              "<keras.callbacks.History at 0x7f75353d1b50>"
            ]
          },
          "metadata": {},
          "execution_count": 26
        }
      ]
    },
    {
      "cell_type": "code",
      "source": [
        "# Evaluamos el modelo en datos que JAMAS ha visto, es decir, el test\n",
        "model_1.evaluate(X_test, y_test)"
      ],
      "metadata": {
        "colab": {
          "base_uri": "https://localhost:8080/"
        },
        "id": "ok6azFtLIoMN",
        "outputId": "c90fdcd3-79b0-42bf-d175-0ef2a5aebe4a"
      },
      "execution_count": 27,
      "outputs": [
        {
          "output_type": "stream",
          "name": "stdout",
          "text": [
            "2/2 [==============================] - 0s 14ms/step - loss: 0.1751 - accuracy: 1.0000\n"
          ]
        },
        {
          "output_type": "execute_result",
          "data": {
            "text/plain": [
              "[0.17506304383277893, 1.0]"
            ]
          },
          "metadata": {},
          "execution_count": 27
        }
      ]
    },
    {
      "cell_type": "markdown",
      "source": [
        "Al parecer nuestro modelo ha logrado captar con facilidad el límite, ya que tuvimos un `accuracy` del `100%` en los datos de evaluación."
      ],
      "metadata": {
        "id": "E1m2DEt9IoOn"
      }
    },
    {
      "cell_type": "code",
      "source": [
        "x_min, x_max = np.array(X).min()- 0.1, np.array(X).max() + 0.1\n",
        "y_min, y_max = np.array(X).min() - 0.1, np.array(X).max() + 0.1\n",
        "\n",
        "\n",
        "x_min, x_max, y_min, y_max"
      ],
      "metadata": {
        "colab": {
          "base_uri": "https://localhost:8080/"
        },
        "id": "Yzx8tZezNjTG",
        "outputId": "7a9a6684-fe6b-4048-e5f1-064f142ee7a1"
      },
      "execution_count": 84,
      "outputs": [
        {
          "output_type": "execute_result",
          "data": {
            "text/plain": [
              "(-1.098588447, 1.0982848170000001, -1.098588447, 1.0982848170000001)"
            ]
          },
          "metadata": {},
          "execution_count": 84
        }
      ]
    },
    {
      "cell_type": "code",
      "source": [
        "import numpy as np\n",
        "\n",
        "def plot_decision_boundary(model, X, y):\n",
        "  \"\"\"\n",
        "  Plots the decision boundary created by a model predicting on X.\n",
        "  This function has been adapted from two phenomenal resources:\n",
        "   1. CS231n - https://cs231n.github.io/neural-networks-case-study/\n",
        "   2. Made with ML basics - https://github.com/GokuMohandas/MadeWithML/blob/main/notebooks/08_Neural_Networks.ipynb\n",
        "  \"\"\"\n",
        "  # Define the axis boundaries of the plot and create a meshgrid\n",
        "  x_min, x_max = np.array(X).min() - 0.1, 1\n",
        "  y_min, y_max = 0, np.array(X).max() + 0.1\n",
        "  xx, yy = np.meshgrid(np.linspace(x_min, x_max, 100),\n",
        "                       np.linspace(y_min, y_max, 100))\n",
        "  \n",
        "  # Create X values (we're going to predict on all of these)\n",
        "  x_in = np.c_[xx.ravel(), yy.ravel()] # stack 2D arrays together: https://numpy.org/devdocs/reference/generated/numpy.c_.html\n",
        "  \n",
        "  # Make predictions using the trained model\n",
        "  y_pred = model.predict(x_in)\n",
        "\n",
        "  # Check for multi-class\n",
        "  if model.output_shape[-1] > 1: # checks the final dimension of the model's output shape, if this is > (greater than) 1, it's multi-class \n",
        "    print(\"doing multiclass classification...\")\n",
        "    # We have to reshape our predictions to get them ready for plotting\n",
        "    y_pred = np.argmax(y_pred, axis=1).reshape(xx.shape)\n",
        "  else:\n",
        "    print(\"doing binary classifcation...\")\n",
        "    y_pred = np.round(np.max(y_pred, axis=1)).reshape(xx.shape)\n",
        "  \n",
        "  # Plot decision boundary\n",
        "  plt.contourf(xx, yy, y_pred, cmap=plt.cm.RdYlBu, alpha=0.7)\n",
        "  plt.scatter(np.array(X)[:, 0], np.array(X)[:, 1], c=y, s=40, cmap=plt.cm.RdYlBu)\n",
        "  plt.xlim(xx.min(), xx.max())\n",
        "  plt.ylim(yy.min(), yy.max())"
      ],
      "metadata": {
        "id": "dXX9gt04MHZ-"
      },
      "execution_count": 88,
      "outputs": []
    },
    {
      "cell_type": "code",
      "source": [
        "def plot_boundaries(model, X_train, y_train, X_test, y_test):\n",
        "  plt.figure(figsize=(12, 6))\n",
        "  plt.subplot(1, 2, 1)\n",
        "  plt.title(\"Train\")\n",
        "  plot_decision_boundary(model, X=X_train, y=y_train)\n",
        "  plt.subplot(1, 2, 2)\n",
        "  plt.title(\"Test\")\n",
        "  plot_decision_boundary(model, X=X_test, y=y_test)\n",
        "  plt.show()"
      ],
      "metadata": {
        "id": "H1Q7i6o8IoRB"
      },
      "execution_count": 89,
      "outputs": []
    },
    {
      "cell_type": "code",
      "source": [
        "plot_boundaries(model_1, X_train, y_train, X_test, y_test)"
      ],
      "metadata": {
        "colab": {
          "base_uri": "https://localhost:8080/",
          "height": 426
        },
        "id": "OOCZIY8uLxTX",
        "outputId": "a34c15c0-b013-492b-fe44-8abd70a9a220"
      },
      "execution_count": 90,
      "outputs": [
        {
          "output_type": "stream",
          "name": "stdout",
          "text": [
            "doing binary classifcation...\n",
            "doing binary classifcation...\n"
          ]
        },
        {
          "output_type": "display_data",
          "data": {
            "text/plain": [
              "<Figure size 864x432 with 2 Axes>"
            ],
            "image/png": "[encoded data removed]"
          },
          "metadata": {
            "needs_background": "light"
          }
        }
      ]
    },
    {
      "cell_type": "markdown",
      "source": [
        "# Modelo 2"
      ],
      "metadata": {
        "id": "D4Cu_TlrLxXS"
      }
    },
    {
      "cell_type": "markdown",
      "source": [
        "Ahora cambiaremos de dataset"
      ],
      "metadata": {
        "id": "oHF5F1SWLxaO"
      }
    },
    {
      "cell_type": "code",
      "source": [
        "!wget https://raw.githubusercontent.com/milioe/Deep-Learning-TF/main/datasets/redblue.csv"
      ],
      "metadata": {
        "colab": {
          "base_uri": "https://localhost:8080/"
        },
        "id": "on8A1g_mUddx",
        "outputId": "c3c0e218-ec3f-4322-f883-a0a068a1f9ee"
      },
      "execution_count": 95,
      "outputs": [
        {
          "output_type": "stream",
          "name": "stdout",
          "text": [
            "--2022-08-01 21:32:20--  https://raw.githubusercontent.com/milioe/Deep-Learning-TF/main/datasets/redblue.csv\n",
            "Resolving raw.githubusercontent.com (raw.githubusercontent.com)... 185.199.108.133, 185.199.109.133, 185.199.110.133, ...\n",
            "Connecting to raw.githubusercontent.com (raw.githubusercontent.com)|185.199.108.133|:443... connected.\n",
            "HTTP request sent, awaiting response... 200 OK\n",
            "Length: 10919 (11K) [text/plain]\n",
            "Saving to: ‘redblue.csv’\n",
            "\n",
            "\rredblue.csv           0%[                    ]       0  --.-KB/s               \rredblue.csv         100%[===================>]  10.66K  --.-KB/s    in 0.001s  \n",
            "\n",
            "2022-08-01 21:32:20 (18.2 MB/s) - ‘redblue.csv’ saved [10919/10919]\n",
            "\n"
          ]
        }
      ]
    },
    {
      "cell_type": "code",
      "source": [
        "# Importamos pandas y declaramos df_100 como el dataset binario con 100 puntos\n",
        "import pandas as pd\n",
        "df_rb = pd.read_csv(\"redblue.csv\")"
      ],
      "metadata": {
        "id": "NcCTD9xbLxcD"
      },
      "execution_count": 98,
      "outputs": []
    },
    {
      "cell_type": "code",
      "source": [
        "# Imprimir plot de clasificación\n",
        "import matplotlib.pyplot as plt\n",
        "plt.scatter(df_rb[\"X0\"], df_rb[\"X1\"], c=df_rb[\"Label\"], cmap=plt.cm.RdYlBu);"
      ],
      "metadata": {
        "colab": {
          "base_uri": "https://localhost:8080/",
          "height": 265
        },
        "id": "mxAc0JiPSRpU",
        "outputId": "e21a6861-8a94-4431-8744-021eac5e7fcf"
      },
      "execution_count": 99,
      "outputs": [
        {
          "output_type": "display_data",
          "data": {
            "text/plain": [
              "<Figure size 432x288 with 1 Axes>"
            ],
            "image/png": "[encoded data removed]"
          },
          "metadata": {
            "needs_background": "light"
          }
        }
      ]
    },
    {
      "cell_type": "code",
      "source": [
        ""
      ],
      "metadata": {
        "id": "6C2BhW8xSRsu"
      },
      "execution_count": null,
      "outputs": []
    },
    {
      "cell_type": "code",
      "source": [
        ""
      ],
      "metadata": {
        "id": "0YHUtyAqSRvW"
      },
      "execution_count": null,
      "outputs": []
    },
    {
      "cell_type": "code",
      "source": [
        ""
      ],
      "metadata": {
        "id": "jFcWiuKvSRxN"
      },
      "execution_count": null,
      "outputs": []
    }
  ]
}